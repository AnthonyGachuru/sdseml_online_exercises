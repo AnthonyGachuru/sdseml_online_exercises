{
 "cells": [
  {
   "cell_type": "markdown",
   "metadata": {},
   "source": [
    "## Exercise set 4: the generalized random forest\n",
    "\n",
    "In this exercise set we will be working with the [generalized random forest](https://github.com/grf-labs/grf) by Athey et al. The package is written for the R programming language, and while there is a R-to-python interface in [rpy2](https://rpy2.bitbucket.io/) it can be tricky to get working. If you run into trouble, you can consider saving your data to a csv file and work directly in [R](https://www.r-project.org/) through [Rstudio](https://rstudio.com/products/rstudio/download/). "
   ]
  },
  {
   "cell_type": "code",
   "execution_count": 2,
   "metadata": {},
   "outputs": [],
   "source": [
    "import requests\n",
    "import pandas as pd \n",
    "import numpy as np \n",
    "import matplotlib.pyplot as plt\n",
    "from sklearn.datasets import make_classification"
   ]
  },
  {
   "cell_type": "markdown",
   "metadata": {},
   "source": [
    "To highlight the usefulness of GRF we will be working with synthetic data in this exercise. In particular we will synthetically add a treatment effect to a dataset in which there otherwise is none. Furthermore we will make this effect heterogeneous by adding noise, and by making it depend on a single continuous variable as well as a categorical variable. \n",
    "\n",
    ">**Ex. 4.1.1:** Complete the code below to simulate data according to\n",
    "$$\n",
    "T = U(0,1) > 0.5 \\\\ \n",
    "Y(T=0) = X\\beta + \\epsilon \\\\ \n",
    "\\tau(X) =  \\begin{cases}\n",
    "        \\frac{10}{1 + e^{-\\gamma X_0}} + \\nu & D = 0\\\\ \n",
    "        \\nu & D = 1\n",
    "        \\end{cases}\\\\ \n",
    "Y(T=1) = Y(0) + \\tau(X) \\\\ \n",
    "$$\n",
    "where $\\epsilon, \\nu$ are simply noise terms distributed according to $\\mathcal{N}(0,1)$ and $\\beta$ is an `N_FEATURES` vector of random parameters. $\\gamma$ is a scalar parameter.\n"
   ]
  },
  {
   "cell_type": "code",
   "execution_count": 3,
   "metadata": {},
   "outputs": [],
   "source": [
    "N_SAMPLES = 10000\n",
    "N_FEATURES = 5\n",
    "GAMMA = 3\n",
    "BETA = np.random.uniform(0,1, size = N_FEATURES)\n",
    "\n",
    "X = np.random.normal(size = (N_SAMPLES, N_FEATURES))\n",
    "D = np.random.choice([0,1], size = N_SAMPLES)\n",
    "\n",
    "epsilon = np.random.normal(0,1,size=N_SAMPLES)\n",
    "v       = np.random.normal(0,1,size=N_SAMPLES)\n",
    "\n",
    "Y0  = X @ BETA + epsilon\n",
    "Tau = v\n",
    "Tau[D==0] = Tau[D==0] + 10/(1+np.exp(-GAMMA*X[D==0,0]))\n",
    "Y1 = Y0 + Tau\n",
    "y = Y0\n",
    "y[D==1] = Y1[D==1] "
   ]
  },
  {
   "cell_type": "markdown",
   "metadata": {},
   "source": [
    "**Ex. 4.1.2:** Create a two-subplot figure, and plot $Y(0)$ and $Y(1)$ in one subplot against $X_0$. Plot $\\tau(x)$ against $X_0$ in the other subplot. What do you see? Why do we observe $\\tau=0$ in many cases?"
   ]
  },
  {
   "cell_type": "code",
   "execution_count": 4,
   "metadata": {},
   "outputs": [
    {
     "data": {
      "text/plain": [
       "Text(0.5, 0, 'tau')"
      ]
     },
     "execution_count": 4,
     "metadata": {},
     "output_type": "execute_result"
    },
    {
     "data": {
      "image/png": "[encoded data removed]",
      "text/plain": [
       "<Figure size 432x288 with 2 Axes>"
      ]
     },
     "metadata": {
      "needs_background": "light"
     },
     "output_type": "display_data"
    }
   ],
   "source": [
    "# Your answer here\n",
    "fig,ax = plt.subplots(1,2)\n",
    "ax[0].scatter(X[:,0],y,marker = '.')\n",
    "ax[0].set_title('y vs x0')\n",
    "ax[0].set_xlabel('y')\n",
    "ax[0].set_ylabel('x0')\n",
    "#ax[0].set_xlim(-5,5)\n",
    "ax[1].scatter(X[:,0],Tau,marker = '.')\n",
    "ax[1].set_title('tau vs x0')\n",
    "ax[1].set_xlabel('tau')"
   ]
  },
  {
   "cell_type": "markdown",
   "metadata": {},
   "source": [
    "##### text answer\n",
    "*The left figure shows that x0 seems to be weakly positively correlated with y (my guess is that it should be because of tau and the treatment). The noise makes it rather difficult to spot the positive correlation. The right figure shows a lot of tau equal to zero values because whenever the treatment is 0, tau equals v. Recall, that v is standard normal around 0. Hence, the zero values.*"
   ]
  },
  {
   "cell_type": "markdown",
   "metadata": {},
   "source": [
    ">**Ex 4.1.3.** Import `statsmodels` and estimate a simple linear regression\n",
    "$$\n",
    "y = \\alpha + \\delta_0 T + \\sum_k \\beta_k X_k + \\epsilon\n",
    "$$\n",
    ">What is your estimate of $\\hat{\\delta}_0$? How does this number fit with the figures you drew in the previous exercise? Do you have any suggestions for improving the estimate of the model, comment on whether your improvements would provide unbiased estimates of $\\tau$? \n",
    ">\n",
    "> **Bonus:** fit your improved model, and relate the parameters you estimate to the figure you plotted in the previous question."
   ]
  },
  {
   "cell_type": "code",
   "execution_count": 5,
   "metadata": {},
   "outputs": [
    {
     "data": {
      "text/plain": [
       "array([-1.73079612e-02,  4.81240202e-04,  7.88011438e-01,  7.76316173e-01,\n",
       "        2.71339489e-02,  4.12639654e-01,  4.45637850e-01])"
      ]
     },
     "execution_count": 5,
     "metadata": {},
     "output_type": "execute_result"
    }
   ],
   "source": [
    "# Your answer here\n",
    "import statsmodels.api as sm\n",
    "\n",
    "## Combine all explanatory variables\n",
    "X_ols = np.concatenate((D.reshape(-1,1),X),axis=1)\n",
    "\n",
    "## Add a constant (alpha)\n",
    "X_ols  = sm.add_constant(X_ols)\n",
    "\n",
    "## Initiate a OLS model\n",
    "model   = sm.OLS(y,X_ols)\n",
    "results = model.fit()\n",
    "results.params"
   ]
  },
  {
   "cell_type": "markdown",
   "metadata": {},
   "source": [
    ">**Ex. 4.1.4:** For this question we will need to move into R (or use rpy2). If you are working in python you can skip this step, otherwise do the following. \n",
    ">\n",
    "> Save a dataframe, containing $X$, $y$, $T$, and $D$ as a csv file on your computer."
   ]
  },
  {
   "cell_type": "code",
   "execution_count": 122,
   "metadata": {},
   "outputs": [],
   "source": [
    "# Your answer here\n",
    "df_out = pd.DataFrame(np.concatenate((y.reshape(-1,1),X_ols),axis=1),columns=['y','alpha','D','X0','X1','X2','X3','X4'])\n",
    "df_out.to_csv('reg_data.csv',index=False)"
   ]
  },
  {
   "cell_type": "markdown",
   "metadata": {},
   "source": [
    ">**Ex. 4.1.5:** Open up R and read the data you just saved into a dataframe(or work in rpy2). Install and load the two libraries `tidyverse` and `grf`.\n",
    ">\n",
    "> _Hint:_ to install the required packages. run this:\n",
    "> ```R\n",
    "> install.packages(\"tidyverse\")\n",
    "> install.packages(\"grf\")\n",
    "> ```"
   ]
  },
  {
   "cell_type": "code",
   "execution_count": null,
   "metadata": {},
   "outputs": [],
   "source": [
    "# Your answer either here, or in R\n",
    "# ANSWER AVAILABLE IN R-SCRIPT"
   ]
  },
  {
   "cell_type": "markdown",
   "metadata": {},
   "source": [
    ">**Ex. 4.1.5:** Copy the following code into R to split your dataframe into two matrices, `X`, and `y`. Implement the exact same procedure to create a third matrix `W` which contains the treatment indicator (**Note** `T` is a reserved name in R, so name your third matrix `W`).\n",
    ">```R\n",
    ">X <- df %>%\n",
    "  select(X0, X1, X2, X3, X4, D) %>% \n",
    "  as.matrix()\n",
    ">\n",
    ">y <- df %>%\n",
    "  select(y) %>% \n",
    "  as.matrix()\n",
    ">```\n",
    "> Finally spend some time poking around the [GRF documentation](https://github.com/grf-labs/grf). See if you can figure out how to estimate a GRF model, once you have the three matrices you need (this is way simpler than you might expect)."
   ]
  },
  {
   "cell_type": "code",
   "execution_count": null,
   "metadata": {},
   "outputs": [],
   "source": [
    "# Your answer either here, or in R\n",
    "# ANSWER AVAILABLE IN R-SCRIPT"
   ]
  },
  {
   "cell_type": "markdown",
   "metadata": {},
   "source": [
    ">**Ex.4.1.6:** Estimate a causal forest model using the GRF package, and store the result in a new variable `cf`. Then use the following line to create a dataframe of predicted treatment effects on the same data that you trained the model on. \n",
    ">```R\n",
    ">cf <- # Estimate a generalized RF model aimed at treatment effects.\n",
    ">tau <- predict(cf, X)\n",
    ">```\n",
    "> Once you have your individual treatment effects, run the following line, to save them in a csv file. \n",
    "> ```R\n",
    "> write.csv(tau, \"individual_treatment_effects.csv\")\n",
    "> ```"
   ]
  },
  {
   "cell_type": "code",
   "execution_count": null,
   "metadata": {},
   "outputs": [],
   "source": [
    "# Your answer either here, or in R\n",
    "# ANSWER AVAILABLE IN R-SCRIPT"
   ]
  },
  {
   "cell_type": "markdown",
   "metadata": {},
   "source": [
    ">**Ex.4.1.6:** This concludes our venture into R. Now load the treatment effects into a pandas dataframe, and plot a scatterplot of the estimated individual treatment effects against the simulated \"true\" ITE's `Tau` that you produced in the beginning of this exercise set."
   ]
  },
  {
   "cell_type": "code",
   "execution_count": 23,
   "metadata": {},
   "outputs": [
    {
     "data": {
      "text/html": [
       "<div>\n",
       "<style scoped>\n",
       "    .dataframe tbody tr th:only-of-type {\n",
       "        vertical-align: middle;\n",
       "    }\n",
       "\n",
       "    .dataframe tbody tr th {\n",
       "        vertical-align: top;\n",
       "    }\n",
       "\n",
       "    .dataframe thead th {\n",
       "        text-align: right;\n",
       "    }\n",
       "</style>\n",
       "<table border=\"1\" class=\"dataframe\">\n",
       "  <thead>\n",
       "    <tr style=\"text-align: right;\">\n",
       "      <th></th>\n",
       "      <th>y</th>\n",
       "      <th>alpha</th>\n",
       "      <th>D</th>\n",
       "      <th>X0</th>\n",
       "      <th>X1</th>\n",
       "      <th>X2</th>\n",
       "      <th>X3</th>\n",
       "      <th>X4</th>\n",
       "      <th>tau_pred_grf</th>\n",
       "    </tr>\n",
       "  </thead>\n",
       "  <tbody>\n",
       "    <tr>\n",
       "      <th>1</th>\n",
       "      <td>-0.258755</td>\n",
       "      <td>1</td>\n",
       "      <td>0</td>\n",
       "      <td>1.287958</td>\n",
       "      <td>-1.877951</td>\n",
       "      <td>0.733562</td>\n",
       "      <td>-0.282766</td>\n",
       "      <td>-0.922150</td>\n",
       "      <td>109.953380</td>\n",
       "    </tr>\n",
       "    <tr>\n",
       "      <th>2</th>\n",
       "      <td>-1.054456</td>\n",
       "      <td>1</td>\n",
       "      <td>0</td>\n",
       "      <td>-0.712379</td>\n",
       "      <td>1.418760</td>\n",
       "      <td>-0.257261</td>\n",
       "      <td>0.001928</td>\n",
       "      <td>-1.017698</td>\n",
       "      <td>107.544433</td>\n",
       "    </tr>\n",
       "    <tr>\n",
       "      <th>3</th>\n",
       "      <td>-1.389612</td>\n",
       "      <td>1</td>\n",
       "      <td>0</td>\n",
       "      <td>-0.111508</td>\n",
       "      <td>-0.002319</td>\n",
       "      <td>-1.620501</td>\n",
       "      <td>0.332710</td>\n",
       "      <td>-1.537310</td>\n",
       "      <td>111.678938</td>\n",
       "    </tr>\n",
       "    <tr>\n",
       "      <th>4</th>\n",
       "      <td>0.329344</td>\n",
       "      <td>1</td>\n",
       "      <td>0</td>\n",
       "      <td>1.086801</td>\n",
       "      <td>-0.797793</td>\n",
       "      <td>0.584683</td>\n",
       "      <td>-1.780470</td>\n",
       "      <td>-0.613916</td>\n",
       "      <td>110.317731</td>\n",
       "    </tr>\n",
       "    <tr>\n",
       "      <th>5</th>\n",
       "      <td>0.036137</td>\n",
       "      <td>1</td>\n",
       "      <td>1</td>\n",
       "      <td>1.540060</td>\n",
       "      <td>1.795132</td>\n",
       "      <td>0.422174</td>\n",
       "      <td>0.087243</td>\n",
       "      <td>-2.160791</td>\n",
       "      <td>44.108645</td>\n",
       "    </tr>\n",
       "  </tbody>\n",
       "</table>\n",
       "</div>"
      ],
      "text/plain": [
       "          y  alpha  D        X0        X1        X2        X3        X4  \\\n",
       "1 -0.258755      1  0  1.287958 -1.877951  0.733562 -0.282766 -0.922150   \n",
       "2 -1.054456      1  0 -0.712379  1.418760 -0.257261  0.001928 -1.017698   \n",
       "3 -1.389612      1  0 -0.111508 -0.002319 -1.620501  0.332710 -1.537310   \n",
       "4  0.329344      1  0  1.086801 -0.797793  0.584683 -1.780470 -0.613916   \n",
       "5  0.036137      1  1  1.540060  1.795132  0.422174  0.087243 -2.160791   \n",
       "\n",
       "   tau_pred_grf  \n",
       "1    109.953380  \n",
       "2    107.544433  \n",
       "3    111.678938  \n",
       "4    110.317731  \n",
       "5     44.108645  "
      ]
     },
     "execution_count": 23,
     "metadata": {},
     "output_type": "execute_result"
    }
   ],
   "source": [
    "# Your answer either here\n",
    "df_in = pd.read_csv('individual_treatment_effects.csv',index_col=0)\n",
    "df_in.head(5)"
   ]
  },
  {
   "cell_type": "code",
   "execution_count": 27,
   "metadata": {},
   "outputs": [
    {
     "data": {
      "text/plain": [
       "Text(0.5, 1.0, 'Predicted vs actual tau')"
      ]
     },
     "execution_count": 27,
     "metadata": {},
     "output_type": "execute_result"
    },
    {
     "data": {
      "image/png": "[encoded data removed]",
      "text/plain": [
       "<Figure size 432x288 with 1 Axes>"
      ]
     },
     "metadata": {
      "needs_background": "light"
     },
     "output_type": "display_data"
    }
   ],
   "source": [
    "plt.scatter(df_in.tau_pred_grf,Tau)\n",
    "plt.xlabel('predicted tau using grf')\n",
    "plt.ylabel('actual tau')\n",
    "plt.title('Predicted vs actual tau')"
   ]
  }
 ],
 "metadata": {
  "kernelspec": {
   "display_name": "Python 3",
   "language": "python",
   "name": "python3"
  },
  "language_info": {
   "codemirror_mode": {
    "name": "ipython",
    "version": 3
   },
   "file_extension": ".py",
   "mimetype": "text/x-python",
   "name": "python",
   "nbconvert_exporter": "python",
   "pygments_lexer": "ipython3",
   "version": "3.6.9"
  }
 },
 "nbformat": 4,
 "nbformat_minor": 4
}
