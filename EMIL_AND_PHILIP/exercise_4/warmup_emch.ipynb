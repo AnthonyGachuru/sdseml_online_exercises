{
 "cells": [
  {
   "cell_type": "markdown",
   "metadata": {},
   "source": [
    "# This is Emil's notebook for warmup exercise\n",
    "*I prefer to have a specific file for myself instead of using different branches for the same file*"
   ]
  },
  {
   "cell_type": "code",
   "execution_count": 31,
   "metadata": {},
   "outputs": [],
   "source": [
    "class Clock:\n",
    "    \n",
    "    def __init__(self,hour=0):\n",
    "        self.hour   = hour\n",
    "        self.cycles = 0\n",
    "    \n",
    "    def tick(self):\n",
    "        if (self.hour<24):\n",
    "            self.hour   += 1\n",
    "        else: \n",
    "            self.hour = 0\n",
    "        self.cycles += 1\n",
    "        \n",
    "    def __eq__(self,other):\n",
    "        if isinstance(other,Clock):\n",
    "            if other.cycles == self.cycles:\n",
    "                return True\n",
    "        return False"
   ]
  },
  {
   "cell_type": "code",
   "execution_count": 34,
   "metadata": {},
   "outputs": [
    {
     "name": "stdout",
     "output_type": "stream",
     "text": [
      "Do the two clocks have the same cycles initially? True\n",
      "Current time (hour) is 1 after 1 cycles\n",
      "Current time (hour) is 2 after 2 cycles\n",
      "Current time (hour) is 3 after 3 cycles\n",
      "Current time (hour) is 4 after 4 cycles\n",
      "Current time (hour) is 5 after 5 cycles\n",
      "Current time (hour) is 6 after 6 cycles\n",
      "Current time (hour) is 7 after 7 cycles\n",
      "Current time (hour) is 8 after 8 cycles\n",
      "Current time (hour) is 9 after 9 cycles\n",
      "Current time (hour) is 10 after 10 cycles\n",
      "Current time (hour) is 11 after 11 cycles\n",
      "Current time (hour) is 12 after 12 cycles\n",
      "Current time (hour) is 13 after 13 cycles\n",
      "Current time (hour) is 14 after 14 cycles\n",
      "Current time (hour) is 15 after 15 cycles\n",
      "Current time (hour) is 16 after 16 cycles\n",
      "Current time (hour) is 17 after 17 cycles\n",
      "Current time (hour) is 18 after 18 cycles\n",
      "Current time (hour) is 19 after 19 cycles\n",
      "Current time (hour) is 20 after 20 cycles\n",
      "Current time (hour) is 21 after 21 cycles\n",
      "Current time (hour) is 22 after 22 cycles\n",
      "Current time (hour) is 23 after 23 cycles\n",
      "Current time (hour) is 24 after 24 cycles\n",
      "Current time (hour) is 0 after 25 cycles\n",
      "Current time (hour) is 1 after 26 cycles\n",
      "Current time (hour) is 2 after 27 cycles\n",
      "Current time (hour) is 3 after 28 cycles\n",
      "Current time (hour) is 4 after 29 cycles\n",
      "Current time (hour) is 5 after 30 cycles\n",
      "Do the two clocks have the same cycles after clock a ran ticks? False\n"
     ]
    }
   ],
   "source": [
    "clock_a = Clock()\n",
    "clock_b = Clock()\n",
    "print(f'Do the two clocks have the same cycles initially? {clock_a.cycles==clock_b.cycles}')\n",
    "for another_hour in range(30):\n",
    "    clock_a.tick()\n",
    "    print(f'Current time (hour) is {clock_a.hour} after {clock_a.cycles} cycles')\n",
    "print(f'Do the two clocks have the same cycles after clock a ran ticks? {clock_a.cycles==clock_b.cycles}')    "
   ]
  },
  {
   "cell_type": "markdown",
   "metadata": {},
   "source": [
    "### The code below is for my own purpose to understand how to solve the quick warmup task"
   ]
  },
  {
   "cell_type": "code",
   "execution_count": 25,
   "metadata": {},
   "outputs": [
    {
     "name": "stdout",
     "output_type": "stream",
     "text": [
      "True\n",
      "False\n",
      "False\n"
     ]
    }
   ],
   "source": [
    "## Tutorial on __eq__ in python (https://www.youtube.com/watch?v=4ethYataA2o)\n",
    "\n",
    "class Dog:\n",
    "    def __init__(self,name):\n",
    "        self.name = name        \n",
    "        \n",
    "    def __eq__(self, other):\n",
    "        if isinstance(other, Dog): ## Ensures that other is in fact a Dog an instance of the Dog class\n",
    "            if other.name == self.name:\n",
    "                return True     \n",
    "        return False\n",
    "\n",
    "tim = Dog('Tim')\n",
    "jim = Dog('Jim')\n",
    "x = [1,2]\n",
    "y = [1,2]\n",
    "\n",
    "print (x == y) ## Compare values stored\n",
    "print (x is y) ## Compares objects\n",
    "print (tim == jim) ## Returns false unless we specifically tells the Dog class how to make equal comparisons"
   ]
  },
  {
   "cell_type": "code",
   "execution_count": 19,
   "metadata": {},
   "outputs": [
    {
     "name": "stdout",
     "output_type": "stream",
     "text": [
      "Peter.Jackson@company.com\n",
      "test.user@company.com\n",
      "Peter Jackson\n"
     ]
    }
   ],
   "source": [
    "## Tutorial on classes in python (https://www.youtube.com/watch?v=ZDa-Z5JzLYM)\n",
    "\n",
    "class Employee:\n",
    "    \n",
    "    def __init__(self,first='test',last='user',pay=5000):\n",
    "        self.first = first\n",
    "        self.last  = last\n",
    "        self.pay   = pay\n",
    "        self.email = f'{self.first}.{self.last}@company.com'\n",
    "        \n",
    "    def fullname(self):\n",
    "        return f'{self.first} {self.last}'\n",
    "    \n",
    "    \n",
    "## Automatic initiations of class\n",
    "emp_auto = Employee(first='Peter',last='Jackson',pay=6000)\n",
    "print(emp_auto.email)\n",
    "print(Employee().email)\n",
    "print(emp_auto.fullname())\n",
    "## Manually setting attributes\n",
    "\n",
    "#emp_1 = Employee()\n",
    "#emp_2 = Employee()\n",
    "\n",
    "#emp_1.first = 'Corey'\n",
    "#emp_1.last  = 'Schafer'\n",
    "#emp_1.email = f'{emp_1.first}.{emp_1.last}@gmail.com'\n",
    "#emp_1.pay   = 5000\n",
    "\n",
    "#emp_2.first = 'test'\n",
    "#emp_2.last  = 'user'\n",
    "#emp_2.email = f'{emp_1.first}.{emp_1.last}@gmail.com'\n",
    "#emp_2.pay   = 9999\n",
    "\n"
   ]
  }
 ],
 "metadata": {
  "kernelspec": {
   "display_name": "Python 3",
   "language": "python",
   "name": "python3"
  },
  "language_info": {
   "codemirror_mode": {
    "name": "ipython",
    "version": 3
   },
   "file_extension": ".py",
   "mimetype": "text/x-python",
   "name": "python",
   "nbconvert_exporter": "python",
   "pygments_lexer": "ipython3",
   "version": "3.6.9"
  }
 },
 "nbformat": 4,
 "nbformat_minor": 4
}
