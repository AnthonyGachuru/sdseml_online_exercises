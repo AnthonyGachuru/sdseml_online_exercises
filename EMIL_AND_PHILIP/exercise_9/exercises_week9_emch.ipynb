{
 "cells": [
  {
   "cell_type": "markdown",
   "metadata": {},
   "source": [
    "# Week 9: Networks 1\n"
   ]
  },
  {
   "cell_type": "markdown",
   "metadata": {
    "ExecuteTime": {
     "end_time": "2017-08-23T15:30:03.634114Z",
     "start_time": "2017-08-23T15:30:03.629294Z"
    }
   },
   "source": [
    "A network is a way to represent a system of things that interact or are interrelated in some fashion. It could just be your facebook network, that's obvious, but a network can also represent the interaction patterns of proteins in the human body, who votes what on whose bill in the US Senate, the mutually attractive forces between galaxies in the universe or just about anything else that you can possibly imagine. This week we will get started on some of the fundamental concepts, and then look closer at some Facebook data. In the exercises today you will:\n",
    "\n",
    "* Get warmed up to thinking about systems as networks\n",
    "* Learn to use the `NetworkX` library\n",
    "* Explore a Facebook network"
   ]
  },
  {
   "cell_type": "markdown",
   "metadata": {},
   "source": [
    "# Lecture"
   ]
  },
  {
   "cell_type": "code",
   "execution_count": null,
   "metadata": {},
   "outputs": [],
   "source": [
    "# ----------------- !\n",
    "# Execute this cell !\n",
    "# ----------------- !\n",
    "\n",
    "from IPython.display import HTML\n",
    "\n",
    "def video_html(url):\n",
    "    return f\"\"\"\n",
    "    <div align=\"middle\">\n",
    "    <video width=\"50%\" controls>\n",
    "      <source src=\"{url}\" type=\"video/mp4\">\n",
    "    </video></div>\"\"\"\n",
    "\n",
    "HTML(video_html('https://www.dropbox.com/s/43ya0a9jmaa6exk/slides_week9_mov.m4v?raw=1'))"
   ]
  },
  {
   "cell_type": "markdown",
   "metadata": {},
   "source": [
    "## Imports"
   ]
  },
  {
   "cell_type": "code",
   "execution_count": 3,
   "metadata": {
    "ExecuteTime": {
     "end_time": "2019-03-04T09:34:30.600550Z",
     "start_time": "2019-03-04T09:34:29.054864Z"
    }
   },
   "outputs": [],
   "source": [
    "%matplotlib inline\n",
    "import matplotlib.pylab as plt\n",
    "import numpy as np\n",
    "import networkx as nx           # pip install networkx\n",
    "import pandas as pd\n",
    "import seaborn as sns\n",
    "from collections import Counter\n",
    "from netwulf import visualize   # pip install netwulf"
   ]
  },
  {
   "cell_type": "markdown",
   "metadata": {},
   "source": [
    "## Exercises"
   ]
  },
  {
   "cell_type": "markdown",
   "metadata": {},
   "source": [
    "### Part 0: Networks"
   ]
  },
  {
   "cell_type": "markdown",
   "metadata": {},
   "source": [
    "Questions for chapter 1 and 2 of [Network Science](http://barabasi.com/networksciencebook/)."
   ]
  },
  {
   "cell_type": "markdown",
   "metadata": {},
   "source": [
    "> **Ex. 9.0.1**: List three different real networks and state the nodes and links for each of them."
   ]
  },
  {
   "cell_type": "markdown",
   "metadata": {},
   "source": [
    "##### Answer Ex. 9.0.1:\n",
    "| Network                 | Nodes          | Links       |\n",
    "|-------------------------|----------------|-------------|\n",
    "| Foodweb                 | Ingredients    | Recipes     |\n",
    "| Railroad transportation | Train stations | Railroad    |\n",
    "| Twitter Hashtags        | Hashtags       | Tweets      |"
   ]
  },
  {
   "cell_type": "markdown",
   "metadata": {},
   "source": [
    "> **Ex. 9.0.2**: What networks are you personally most interested in. Address the following questions:\n",
    ">   * What are its nodes and links? \n",
    ">   * How large is it? \n",
    ">   * Can be mapped out? \n",
    ">   * Why do you care about it? "
   ]
  },
  {
   "cell_type": "markdown",
   "metadata": {},
   "source": [
    "##### Answer to Ex 9.0.2.:\n",
    "*Personally I am mostly interested in non-trivial networks. That is, a system which is not traditionally considered a network with nodes and links. A silly example could be the food recipes in 'Nak & Æd'. The nodes are the recipes and the links are all the ingredients. This is not a comprehensive network, which make it feasible for mapping. The mapping of the network reveaæs that butter and oil is a very central element (node if you will) in Nikolajs recipes. I care about it because its a silly example and I enjoy the TV show.* "
   ]
  },
  {
   "cell_type": "markdown",
   "metadata": {},
   "source": [
    "> **Ex. 9.0.3**: In your view what would be the area where network science could have the biggest impact in the next decade? Explain your answer - and base it on the text in the book. "
   ]
  },
  {
   "cell_type": "markdown",
   "metadata": {},
   "source": [
    "##### Answer to Ex.9.0.3:\n",
    "*An obvious candidate would be social networks and online behavior in general. For one, we have an exponential growing digital record of social connections and our improving computitional power allows us to empirically apply network theory on these data sources. One simply needs to open any homepage on the www to see how google applies network theory to customize user-specific ads. For example, they show ads of products that people with similar browser history have purchased (or at least visited the webshop).*"
   ]
  },
  {
   "cell_type": "markdown",
   "metadata": {},
   "source": [
    "> **Ex. 9.0.4**: Section 2.5 states that real networks are sparse. Can you think of a real network where each node has *many* connections? Is that network still sparse? If yes, can you explain why?"
   ]
  },
  {
   "cell_type": "markdown",
   "metadata": {},
   "source": [
    "##### Answer to Ex. 9.0.4:\n",
    "*Honestly, I have trouble thinking of a sparse real network. In regards to a real network with many connections, the network is not necessarily a necessarily a spare network. The spacity relates to the relative number of connections compared to the total nodes (the potential number of nodes) in the network. For example, most Facebook users have more than 100+ connections on Facebook. However, considering the fact that Facebook has +2 billion users, 100 connections is a very small number.*"
   ]
  },
  {
   "cell_type": "markdown",
   "metadata": {},
   "source": [
    "### Part 1: The `NetworkX` library"
   ]
  },
  {
   "cell_type": "markdown",
   "metadata": {},
   "source": [
    "`NetworkX` is the Python library we will be using for working with networks. It should come installed with your Anaconda distribution, but you wont know how to use it yet. The best way to get familiar is to work through a tutorial. That's what the following exercises are about."
   ]
  },
  {
   "cell_type": "markdown",
   "metadata": {},
   "source": [
    "> **Ex. 9.1.1**: Go to the `NetworkX` project's [tutorial page](https://networkx.github.io/documentation/stable/tutorial.html). Read the first few sections about nodes, edges and attributes. Write an example below where you create a graph, `G`, and then:\n",
    "1. add some nodes and edges to,\n",
    "2. print its nodes and edges\n",
    "3. delete a node, and\n",
    "4. plot it."
   ]
  },
  {
   "cell_type": "code",
   "execution_count": null,
   "metadata": {},
   "outputs": [],
   "source": [
    "# Answer to Ex 9.1.1.:\n",
    "import networkx as nx\n",
    "\n",
    "# Create a graph (network):\n",
    "G = nx.Graph()\n",
    "\n",
    "# Add 3 nodes to graph with id 1,2,3\n",
    "G.add_nodes_from([1,2,3])\n",
    "\n",
    "## Add edges between the three nodes\n",
    "G.add_edges_from([(1,2),(1,3)])\n",
    "\n",
    "## Remove node 2\n",
    "G.remove_node(2)\n",
    "\n",
    "## Draw graph\n",
    "nx.draw(G,with_labels=True,font_weight='bold')"
   ]
  },
  {
   "cell_type": "markdown",
   "metadata": {},
   "source": [
    "> **Ex. 9.1.2**: `NetworkX` has lots of functions to generate synthetic networks. One of the most famous types of synthetic networks is called an Erdős–Rényi (ER) network.\n",
    "1. Describe what an ER network is and how to create one.\n",
    "2. On the [`NetworkX` documentations site](https://networkx.github.io/documentation/networkx-1.10/reference/generators.html), find a method you can use for generating an ER network. Create one with $N=100$ nodes and probability of edge creation $p=0.1$.\n",
    "3. Plot the network\n",
    "4. Visualize the [degree distribution](https://en.wikipedia.org/wiki/Degree_distribution) of your newly created ER graph.\n",
    "    * A node's *degree* is the number of other nodes it is connected to.\n",
    "    * The *degree distribution* is a histogram which shows the distribution of node degrees."
   ]
  },
  {
   "cell_type": "markdown",
   "metadata": {},
   "source": [
    "##### Answer Ex. 9.1.2.:\n",
    "An ER network is a randomized network with N nodes. The edges between each node has a fixed probability of occuring. Moreover, these edge probabilities are independent of each other, meaning that the creation of edge B won't affect the probability of edge C to exists. If the network is unweighted, that is binary edges, it's simply a question of making draws from a benioulli distribution among all possible edges. "
   ]
  },
  {
   "cell_type": "code",
   "execution_count": null,
   "metadata": {},
   "outputs": [],
   "source": [
    "# Create ER network\n",
    "G_ER = nx.fast_gnp_random_graph(n=100,p=0.1,seed=1337)\n",
    "\n",
    "# Draw graph\n",
    "nx.draw(G_ER,with_labels=False)\n",
    "plt.title('Random generation of an ER network')"
   ]
  },
  {
   "cell_type": "code",
   "execution_count": null,
   "metadata": {},
   "outputs": [],
   "source": [
    "# Draw histogram of degrees in ER graph\n",
    "y = nx.degree_histogram(G_ER)\n",
    "x = list(range(len(y)))\n",
    "fig,ax = plt.subplots()\n",
    "plt.bar(x,y)\n",
    "ax.set_xticks(x)\n",
    "ax.set_xlabel('Degrees')\n",
    "ax.set_ylabel('# of nodes')\n",
    "ax.set_title('Degree distribution in a randomized ER network')\n",
    "plt.show()"
   ]
  },
  {
   "cell_type": "markdown",
   "metadata": {},
   "source": [
    "> **Ex. 9.1.3**: Another very famous type of synthetic network is the Barabási–Albert (BA) network.\n",
    "1. Describe what a BA network is and how to create one.\n",
    "2. On the [`NetworkX` documentations site](https://networkx.github.io/documentation/networkx-1.10/reference/generators.html), find a method you can use for generating a BA network. Create one with $N=100$ nodes and number of new edges from each new node $m=2$.\n",
    "3. Plot the network\n",
    "4. Visualize the [degree distribution](https://en.wikipedia.org/wiki/Degree_distribution) of your newly created BA graph.\n",
    "5. Explain the main difference(s) you observe, when comparing to the ER network.\n",
    "6. Are there other measures we could have used to describe the ER and BA networks further?"
   ]
  },
  {
   "cell_type": "markdown",
   "metadata": {},
   "source": [
    "##### Answer to Ex. 9.1.3.:\n",
    "According to the documentation in NetworkX, a BA graph is a graph of n nodes is grown by attaching new nodes each with m edges that are preferentially attached to existing nodes with high degree. Hence, the network will have more simularities to observed social networks with cluster nodes which have a high degree (think influencers on Instagram). The degree distibutions of a BA is heavy tailed. In comparision the degree distribution of a ER converges to a normal distribution with the $\\mu$ being $N*p$. We may have described the two networks by other network features such as cluster coefficients, avg. degrees, etc. "
   ]
  },
  {
   "cell_type": "code",
   "execution_count": null,
   "metadata": {},
   "outputs": [],
   "source": [
    "## create BA network\n",
    "G_BA = nx.barabasi_albert_graph(n=100,m=2,seed=1337)\n",
    "\n",
    "# Draw histogram of degrees in BA graph\n",
    "y = nx.degree_histogram(G_BA)\n",
    "x = list(range(len(y)))\n",
    "fig,ax = plt.subplots()\n",
    "plt.bar(x,y)\n",
    "ax.set_xticks(x)\n",
    "ax.set_xlabel('Degrees')\n",
    "ax.set_ylabel('# of nodes')\n",
    "ax.set_title('Degree distribution in a randomized BA network')\n",
    "plt.show()"
   ]
  },
  {
   "cell_type": "markdown",
   "metadata": {},
   "source": [
    "### Part 2: Facebook network"
   ]
  },
  {
   "cell_type": "markdown",
   "metadata": {},
   "source": [
    "Now that you know how to build a network in `NetworkX`, visualize it and plot some statistics, you are ready to analyze today's dataset. We will be using [this facebook dataset](http://socialnetworks.mpi-sws.org/data-wosn2009.html) collected by the researchers at the Max Planck Institute. Go ahead and download the list of wall posts. Put the file in the same directory as this notebook and load it like:"
   ]
  },
  {
   "cell_type": "code",
   "execution_count": null,
   "metadata": {
    "ExecuteTime": {
     "end_time": "2019-03-04T09:34:34.371875Z",
     "start_time": "2019-03-04T09:34:33.941825Z"
    }
   },
   "outputs": [],
   "source": [
    "data = pd.read_csv(\n",
    "    \"facebook-wall.txt.gz\",\n",
    "    delimiter=\"\\t\",\n",
    "    header=None,\n",
    "    names=['user1', 'user2', 'timestamp']\n",
    ")\n",
    "\n",
    "data.head(10)"
   ]
  },
  {
   "cell_type": "markdown",
   "metadata": {},
   "source": [
    "As you can see this is a *temporal network* (in that edges are timestamped). Time is given in UNIX timestamps. Though there are ways to model such\n",
    "a network in its entire complexity, we'll start simple and just take a slice of it out and treat that as a static\n",
    "network. You can create a `nx.DiGraph` from a slice of time like:"
   ]
  },
  {
   "cell_type": "code",
   "execution_count": null,
   "metadata": {
    "ExecuteTime": {
     "end_time": "2019-03-04T09:34:35.302765Z",
     "start_time": "2019-03-04T09:34:35.191046Z"
    }
   },
   "outputs": [],
   "source": [
    "t0 = data.timestamp.max() - 86400 * 7  # Lower bound of time-slice (here: 7 days before last wall post)\n",
    "t1 = data.timestamp.max()              # Upper bound of time-slice\n",
    "\n",
    "# Subset of the pandas dataframe\n",
    "data_t = data.loc[data.timestamp.between(t0, t1)]\n",
    "\n",
    "# Count the number of times each link occurs and store that in a new 'weight' column\n",
    "data_t = data_t.groupby(['user1', 'user2']).size().reset_index(name='weight')\n",
    "\n",
    "# Create a `nx.DiGraph` from this dataframe\n",
    "G_t = nx.from_pandas_edgelist(data_t, 'user1', 'user2', 'weight', create_using=nx.DiGraph)"
   ]
  },
  {
   "cell_type": "markdown",
   "metadata": {},
   "source": [
    "> **Ex: 9.2.1**: Convert the above sample code into a function where you can easily input `t0` and `t1` of the slice, and get a `nx.DiGraph` in return. Create the aggregated network for the last 365 days of the data. Print the number of nodes and edges."
   ]
  },
  {
   "cell_type": "code",
   "execution_count": null,
   "metadata": {},
   "outputs": [],
   "source": [
    "def ans_ex_9_2_1(df_wall_posts,lag_days):\n",
    "    \"\"\"\n",
    "    arguments:\n",
    "    df_wall_posts: pandas df\n",
    "    - contains user1, user2 and unix timestamp\n",
    "    \n",
    "    lag_days: int\n",
    "    - the lag of days to include in the nx graph\n",
    "    \n",
    "    returns:\n",
    "    G_t: nx.DiGraph\n",
    "    - a graph with weights within the specified time range\n",
    "    \"\"\"\n",
    "    t0 = data.timestamp.max() - 86400 * lag_days  # Lower bound of time-slice (here: 7 days before last wall post)\n",
    "    t1 = data.timestamp.max()                     # Upper bound of time-slice\n",
    "\n",
    "    # Subset of the pandas dataframe\n",
    "    data_t = data.loc[data.timestamp.between(t0, t1)]\n",
    "\n",
    "    # Count the number of times each link occurs and store that in a new 'weight' column\n",
    "    data_t = data_t.groupby(['user1', 'user2']).size().reset_index(name='weight')\n",
    "\n",
    "    # Create a `nx.DiGraph` from this dataframe\n",
    "    G_t = nx.from_pandas_edgelist(data_t, 'user1', 'user2', 'weight', create_using=nx.DiGraph)\n",
    "    \n",
    "    return G_t    "
   ]
  },
  {
   "cell_type": "code",
   "execution_count": null,
   "metadata": {},
   "outputs": [],
   "source": [
    "G_t_365 = ans_ex_9_2_1(df_wall_posts=data,lag_days=365)\n",
    "print(f'Number of nodes in 365 days network: {G_t_365.number_of_nodes()}')\n",
    "print(f'Number of edges in 365 days network: {G_t_365.number_of_edges()}')"
   ]
  },
  {
   "cell_type": "markdown",
   "metadata": {},
   "source": [
    "> **Ex: 9.2.2**: Since it's a directed network, there are two degree distributions we can plot: one for the\n",
    "in-degrees and another for the out-degrees. Plot them both in the same figure (remember to add a legend).\n",
    "The distribution is very heavy-tailed, so you may want to log-scale both axes. Comment on the result. Does\n",
    "it resemble any of the network models you know?\n",
    ">\n",
    "> *Hint: use `Counter` to count how many times each degree-value occurs and then scatter plot the degree-values\n",
    "against counts. When you log-scale the axes, zero values cause trouble, so you should remove the data point for\n",
    "degree 0.*"
   ]
  },
  {
   "cell_type": "code",
   "execution_count": null,
   "metadata": {},
   "outputs": [],
   "source": [
    "df_in_degrees = pd.DataFrame({'node_id':[n for n,d in G_t_365.in_degree()],\n",
    "                          'in_degrees':[d for n,d in G_t_365.in_degree()]\n",
    "                          })\n",
    "df_out_degrees = pd.DataFrame({'node_id':[n for n,d in G_t_365.out_degree()],\n",
    "                          'out_degrees':[d for n,d in G_t_365.out_degree()]\n",
    "                          })\n",
    "\n",
    "df_degrees  = df_in_degrees\\\n",
    ".merge(df_out_degrees,on='node_id',how='left')\\\n",
    ".set_index('node_id')\\\n",
    ".stack()\\\n",
    ".reset_index()\\\n",
    ".sort_values(by='node_id')\\\n",
    ".set_index('node_id')\\\n",
    ".rename(columns={'level_1':'degree_type',0:'degrees'})\\\n",
    ".assign(no_of_nodes = 1)\\\n",
    ".groupby(['degree_type','degrees']).count()\\\n",
    ".reset_index()\\\n",
    ".assign(log_no_of_obs = lambda df:np.log(df.no_of_nodes))\\\n",
    ".assign(log_degrees = lambda df:np.log(df.degrees))\n",
    "\n",
    "\n",
    "ax = sns.scatterplot(x='degrees',y='no_of_nodes',hue='degree_type',data=df_degrees)\n",
    "plt.title('Degree distribution')\n",
    "plt.ylabel('# of nodes')\n",
    "plt.show()"
   ]
  },
  {
   "cell_type": "code",
   "execution_count": null,
   "metadata": {},
   "outputs": [],
   "source": [
    "ax = sns.scatterplot(x='log_degrees',y='log_no_of_obs',hue='degree_type',data=df_degrees)\n",
    "plt.title('Degree distribution\\n(log transformed)')\n",
    "plt.ylabel('# of nodes')\n",
    "plt.show()"
   ]
  },
  {
   "cell_type": "markdown",
   "metadata": {},
   "source": [
    "> **Ex: 9.2.3**: Using a histogram plot the distribution of (weighted) local clustering coefficients ([docs](https://networkx.github.io/documentation/stable/reference/algorithms/generated/networkx.algorithms.cluster.clustering.html#networkx.algorithms.cluster.clustering)). Which distribution does it appear to follow?\n",
    ">\n",
    "> *Hint: figure out how to plot a histogram with logarithmic bins.*"
   ]
  },
  {
   "cell_type": "markdown",
   "metadata": {},
   "source": [
    "##### Answer to Ex 9.2.3.:"
   ]
  },
  {
   "cell_type": "code",
   "execution_count": null,
   "metadata": {},
   "outputs": [],
   "source": [
    "## Calculate cluster bins with weights\n",
    "cluster_coefs        = nx.clustering(G_t_365,weight='weight')\n",
    "\n",
    "## Create hist plot with log bins\n",
    "min_value, max_value = sorted(set(cluster_coefs.values()))[1], sorted(set(cluster_coefs.values()))[-1]\n",
    "bins                 = np.logspace(np.log10(min_value), np.log10(max_value), 100)\n",
    "plt.hist(cluster_coefs.values(), bins = bins)\n",
    "plt.xscale(\"log\")\n",
    "plt.title('Log distribution of weighted local clustering coefs')\n",
    "plt.show()"
   ]
  },
  {
   "cell_type": "markdown",
   "metadata": {},
   "source": [
    "We want to plot the network so we can visually get a feeling for how people are connected. `networkx`'s `nx.draw` method won't cut it here, it's too slow and has bad layout support for large networks, so instead we'll use `netwulf` ([docs](https://netwulf.readthedocs.io/)) to visualize networks in a browser-app I made (still in beta, bugs may occur). But even with this tool, the network of one year is still too big to make nice visualizations, so we have to reduce the number of links and nodes by some heuristic. This could for example be to threshold link weight to reduce the number of links, thresholding weighted node degree (or other relevant metrics)."
   ]
  },
  {
   "cell_type": "markdown",
   "metadata": {},
   "source": [
    "> **Ex: 9.2.4**: Threshold the network by some meaningful heuristic so it has around 5000 nodes and 20000 edges. Then launch a visualization of it using `netwulf`, style the network so it looks nice and download (or screenshot) the figure and put it into the cell below. State explicitly what thresholds you apply and why you think they make sense. Comment on the result. Do you see anything interesting in this network or is it just a big hairball?\n",
    ">\n",
    "> *Hint: The longer you let the nodes **wiggle** the nicer the network will look.*"
   ]
  },
  {
   "cell_type": "markdown",
   "metadata": {},
   "source": [
    "##### Answer to Ex 9.2.4:\n",
    "I only examine the FB wallpost network from the past 4 days and exclude all isolated nodes (degrees less than 1). I played around in netwulf - it's a really cool tool ! A screenshot from my \"*piece of art*\" is shown below. "
   ]
  },
  {
   "cell_type": "code",
   "execution_count": null,
   "metadata": {},
   "outputs": [],
   "source": [
    "import netwulf as nw\n",
    "from IPython.display import Image\n",
    "G_final_plot = ans_ex_9_2_1(df_wall_posts=data,lag_days=4)\n",
    "erase_nodes = [n for n,d in G_final_plot.in_degree() if d<1]\n",
    "G_final_plot.remove_nodes_from(erase_nodes)\n",
    "print(f'Number of nodes in network: {G_final_plot.number_of_nodes()}')\n",
    "print(f'Number of edges in network: {G_final_plot.number_of_edges()}')\n",
    "#nw.visualize(G_final_plot)\n",
    "Image(\"fb_wall_post_network.png\")\n"
   ]
  }
 ],
 "metadata": {
  "kernelspec": {
   "display_name": "Python 3",
   "language": "python",
   "name": "python3"
  },
  "language_info": {
   "codemirror_mode": {
    "name": "ipython",
    "version": 3
   },
   "file_extension": ".py",
   "mimetype": "text/x-python",
   "name": "python",
   "nbconvert_exporter": "python",
   "pygments_lexer": "ipython3",
   "version": "3.6.9"
  },
  "nav_menu": {},
  "toc": {
   "base_numbering": 1,
   "nav_menu": {},
   "number_sections": false,
   "sideBar": true,
   "skip_h1_title": false,
   "title_cell": "Table of Contents",
   "title_sidebar": "Contents",
   "toc_cell": false,
   "toc_position": {},
   "toc_section_display": "block",
   "toc_window_display": true
  },
  "varInspector": {
   "cols": {
    "lenName": 16,
    "lenType": 16,
    "lenVar": 40
   },
   "kernels_config": {
    "python": {
     "delete_cmd_postfix": "",
     "delete_cmd_prefix": "del ",
     "library": "var_list.py",
     "varRefreshCmd": "print(var_dic_list())"
    },
    "r": {
     "delete_cmd_postfix": ") ",
     "delete_cmd_prefix": "rm(",
     "library": "var_list.r",
     "varRefreshCmd": "cat(var_dic_list()) "
    }
   },
   "types_to_exclude": [
    "module",
    "function",
    "builtin_function_or_method",
    "instance",
    "_Feature"
   ],
   "window_display": false
  }
 },
 "nbformat": 4,
 "nbformat_minor": 4
}
