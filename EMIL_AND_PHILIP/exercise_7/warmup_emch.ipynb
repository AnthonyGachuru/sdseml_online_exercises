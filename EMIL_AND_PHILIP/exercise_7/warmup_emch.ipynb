{
 "cells": [
  {
   "cell_type": "markdown",
   "metadata": {},
   "source": [
    "*Q:* Write a decorator retry(n) that when applied to a function (e.g. a scraper) retries a failed function call up to n times."
   ]
  },
  {
   "cell_type": "markdown",
   "metadata": {},
   "source": [
    "*A*: I wasn't sure how to interpret the question. I try to solve the task using a decorator with an in-built wrapper. It wasn't specified whether the decorator should return the value from this_might_fail() after success. This would often be the case in an url request - for this reason I built the decorator such that it returns the value from this_might_fail() after success. "
   ]
  },
  {
   "cell_type": "code",
   "execution_count": 109,
   "metadata": {},
   "outputs": [],
   "source": [
    "from random import uniform\n",
    "\n",
    "def this_might_fail():\n",
    "    c = uniform(0,1) > 0.8\n",
    "    if c: return 'Success'\n",
    "    raise ValueError('c to small')"
   ]
  },
  {
   "cell_type": "code",
   "execution_count": 112,
   "metadata": {},
   "outputs": [],
   "source": [
    "def retry(func,n=5):\n",
    "    def wrapper():\n",
    "        n_iter = 0\n",
    "        got_an_error = True\n",
    "        while got_an_error & (n_iter < n):            \n",
    "            try:\n",
    "                got_an_error = False\n",
    "                call_function = func()\n",
    "            except:\n",
    "                got_an_error = True\n",
    "                n_iter +=1\n",
    "            if got_an_error:\n",
    "                print('Got an error after calling the function. Retries calling the function.')\n",
    "            else:\n",
    "                print(f'The function was called succesfully.')\n",
    "                return call_function\n",
    "    return wrapper"
   ]
  },
  {
   "cell_type": "code",
   "execution_count": 114,
   "metadata": {},
   "outputs": [
    {
     "name": "stdout",
     "output_type": "stream",
     "text": [
      "Got an error after calling the function. Retries calling the function.\n",
      "Got an error after calling the function. Retries calling the function.\n",
      "Got an error after calling the function. Retries calling the function.\n",
      "Got an error after calling the function. Retries calling the function.\n",
      "Got an error after calling the function. Retries calling the function.\n",
      "Got an error after calling the function. Retries calling the function.\n",
      "Got an error after calling the function. Retries calling the function.\n",
      "Got an error after calling the function. Retries calling the function.\n",
      "Got an error after calling the function. Retries calling the function.\n",
      "The function was called succesfully.\n"
     ]
    },
    {
     "data": {
      "text/plain": [
       "'Success'"
      ]
     },
     "execution_count": 114,
     "metadata": {},
     "output_type": "execute_result"
    }
   ],
   "source": [
    "warmup_week_7 = retry(this_might_fail,n=100)\n",
    "warmup_week_7()"
   ]
  }
 ],
 "metadata": {
  "kernelspec": {
   "display_name": "Python 3",
   "language": "python",
   "name": "python3"
  },
  "language_info": {
   "codemirror_mode": {
    "name": "ipython",
    "version": 3
   },
   "file_extension": ".py",
   "mimetype": "text/x-python",
   "name": "python",
   "nbconvert_exporter": "python",
   "pygments_lexer": "ipython3",
   "version": "3.6.9"
  }
 },
 "nbformat": 4,
 "nbformat_minor": 4
}
