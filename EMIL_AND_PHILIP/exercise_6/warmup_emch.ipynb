{
 "cells": [
  {
   "cell_type": "markdown",
   "metadata": {},
   "source": [
    "# WARMUP, WEEK 6\n",
    "*This notebook contains the warmup exercise for week 6*"
   ]
  },
  {
   "cell_type": "markdown",
   "metadata": {},
   "source": [
    "#### Task 1: Summation function\n",
    "*This function adds an abritary n numbers together.*"
   ]
  },
  {
   "cell_type": "code",
   "execution_count": 17,
   "metadata": {},
   "outputs": [],
   "source": [
    "import numpy as np\n",
    "\n",
    "def add(*argv):\n",
    "    \"\"\"\n",
    "    This function takes an abritary n numbers and sum them. \n",
    "    \n",
    "    Arguments:\n",
    "    \n",
    "    - A: Float or Int\n",
    "    \n",
    "    Return:\n",
    "    \n",
    "    - sum_output: Float or Int\n",
    "    \n",
    "    \"\"\"\n",
    "    \n",
    "    sum_output = np.sum(argv) \n",
    "    return sum_output"
   ]
  },
  {
   "cell_type": "code",
   "execution_count": 22,
   "metadata": {},
   "outputs": [
    {
     "data": {
      "text/plain": [
       "2"
      ]
     },
     "execution_count": 22,
     "metadata": {},
     "output_type": "execute_result"
    }
   ],
   "source": [
    "add(1,1)"
   ]
  },
  {
   "cell_type": "code",
   "execution_count": 23,
   "metadata": {},
   "outputs": [
    {
     "data": {
      "text/plain": [
       "4"
      ]
     },
     "execution_count": 23,
     "metadata": {},
     "output_type": "execute_result"
    }
   ],
   "source": [
    "add(1,1,1,1)"
   ]
  },
  {
   "cell_type": "code",
   "execution_count": 24,
   "metadata": {},
   "outputs": [
    {
     "data": {
      "text/plain": [
       "30"
      ]
     },
     "execution_count": 24,
     "metadata": {},
     "output_type": "execute_result"
    }
   ],
   "source": [
    "add(1,1,1,1,1, 1,1,1,1,1, 1,1,1,1,1,1,1,1,1,1, 1,1,1,1,1, 1,1,1,1,1)"
   ]
  },
  {
   "cell_type": "markdown",
   "metadata": {},
   "source": [
    "#### Task 1: Summation function\n",
    "*This function that greets people with custom greetings*"
   ]
  },
  {
   "cell_type": "code",
   "execution_count": 19,
   "metadata": {},
   "outputs": [],
   "source": [
    "def greet(**kwargs):\n",
    "    greeting = \"\"\n",
    "    counter  = 0\n",
    "    for greet_title, name in kwargs.items():\n",
    "        if counter > 0:\n",
    "            greeting += ' and '\n",
    "        greeting += f'{greet_title} {name}'\n",
    "        counter  += 1\n",
    "        \n",
    "    print(greeting) "
   ]
  },
  {
   "cell_type": "code",
   "execution_count": 21,
   "metadata": {},
   "outputs": [
    {
     "name": "stdout",
     "output_type": "stream",
     "text": [
      "hello Kristian\n"
     ]
    }
   ],
   "source": [
    "greet(hello='Kristian')"
   ]
  },
  {
   "cell_type": "code",
   "execution_count": 20,
   "metadata": {},
   "outputs": [
    {
     "name": "stdout",
     "output_type": "stream",
     "text": [
      "hello Kristian and hi Peter\n"
     ]
    }
   ],
   "source": [
    "greet(hello='Kristian', hi='Peter')"
   ]
  }
 ],
 "metadata": {
  "kernelspec": {
   "display_name": "Python 3",
   "language": "python",
   "name": "python3"
  },
  "language_info": {
   "codemirror_mode": {
    "name": "ipython",
    "version": 3
   },
   "file_extension": ".py",
   "mimetype": "text/x-python",
   "name": "python",
   "nbconvert_exporter": "python",
   "pygments_lexer": "ipython3",
   "version": "3.6.9"
  }
 },
 "nbformat": 4,
 "nbformat_minor": 4
}
