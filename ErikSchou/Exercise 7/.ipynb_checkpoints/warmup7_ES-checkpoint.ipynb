{
 "cells": [
  {
   "cell_type": "code",
   "execution_count": 10,
   "metadata": {},
   "outputs": [],
   "source": [
    "from random import uniform"
   ]
  },
  {
   "cell_type": "code",
   "execution_count": 36,
   "metadata": {},
   "outputs": [],
   "source": [
    "def retry(n):\n",
    "    def decorator(func):\n",
    "        def wrap():\n",
    "            attempts = 0\n",
    "            while attempts < n:\n",
    "                try:\n",
    "                    func()\n",
    "                    print('success')\n",
    "                    break\n",
    "                except Exception as e:\n",
    "                    attempts += 1\n",
    "                    print(e)\n",
    "        return wrap\n",
    "    return decorator"
   ]
  },
  {
   "cell_type": "code",
   "execution_count": 37,
   "metadata": {},
   "outputs": [],
   "source": [
    "@retry(5)\n",
    "def this_might_fail():\n",
    "    c = uniform(0,1) > 0.8\n",
    "    if c: return 'Success'\n",
    "    raise ValueError('c to small')"
   ]
  },
  {
   "cell_type": "code",
   "execution_count": 39,
   "metadata": {
    "scrolled": true
   },
   "outputs": [
    {
     "name": "stdout",
     "output_type": "stream",
     "text": [
      "c to small\n",
      "c to small\n",
      "c to small\n",
      "c to small\n",
      "c to small\n"
     ]
    }
   ],
   "source": [
    "this_might_fail()"
   ]
  }
 ],
 "metadata": {
  "kernelspec": {
   "display_name": "Python 3",
   "language": "python",
   "name": "python3"
  },
  "language_info": {
   "codemirror_mode": {
    "name": "ipython",
    "version": 3
   },
   "file_extension": ".py",
   "mimetype": "text/x-python",
   "name": "python",
   "nbconvert_exporter": "python",
   "pygments_lexer": "ipython3",
   "version": "3.7.3"
  }
 },
 "nbformat": 4,
 "nbformat_minor": 2
}
