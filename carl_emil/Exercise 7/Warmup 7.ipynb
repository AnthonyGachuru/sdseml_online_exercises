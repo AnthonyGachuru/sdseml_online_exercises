{
 "cells": [
  {
   "cell_type": "markdown",
   "metadata": {},
   "source": [
    "### Exercise 7: Warmup "
   ]
  },
  {
   "cell_type": "markdown",
   "metadata": {},
   "source": [
    "**Q:** Write a *decorator* `retry(n)` that when applied to a function (e.g. a scraper) retries a failed function call up to *n* times. "
   ]
  },
  {
   "cell_type": "code",
   "execution_count": 98,
   "metadata": {},
   "outputs": [],
   "source": [
    "def retry(n):\n",
    "    def _decorator(fnc):\n",
    "        def _wrapped(*args, **kwargs):\n",
    "            tries = 0\n",
    "            while tries > 0:\n",
    "                try:\n",
    "                    return _wrapped(*args, **kwargs)\n",
    "                except:\n",
    "                    print('Succes')\n",
    "                raise lastcheck\n",
    "            return fnc(*args, **kwargs)\n",
    "        return _wrapped\n",
    "    return _decorator"
   ]
  },
  {
   "cell_type": "markdown",
   "metadata": {},
   "source": [
    "> We apply it to the supplied code:"
   ]
  },
  {
   "cell_type": "code",
   "execution_count": 109,
   "metadata": {},
   "outputs": [],
   "source": [
    "from random import uniform\n",
    "\n",
    "@retry(1000)\n",
    "def this_might_fail():\n",
    "    c = uniform(0,1) > 0.8\n",
    "    if c: return 'Succes'\n",
    "    raise ValueError('c to small')"
   ]
  },
  {
   "cell_type": "code",
   "execution_count": 110,
   "metadata": {},
   "outputs": [
    {
     "data": {
      "text/plain": [
       "'Succes'"
      ]
     },
     "execution_count": 110,
     "metadata": {},
     "output_type": "execute_result"
    }
   ],
   "source": [
    "this_might_fail()"
   ]
  },
  {
   "cell_type": "markdown",
   "metadata": {},
   "source": [
    "And I think it works? I'm a bit unsure to be completely honest. Found a little help here: 'https://wiki.python.org/moin/PythonDecoratorLibrary#Retry'"
   ]
  }
 ],
 "metadata": {
  "kernelspec": {
   "display_name": "Python 3",
   "language": "python",
   "name": "python3"
  },
  "language_info": {
   "codemirror_mode": {
    "name": "ipython",
    "version": 3
   },
   "file_extension": ".py",
   "mimetype": "text/x-python",
   "name": "python",
   "nbconvert_exporter": "python",
   "pygments_lexer": "ipython3",
   "version": "3.7.7"
  }
 },
 "nbformat": 4,
 "nbformat_minor": 4
}
