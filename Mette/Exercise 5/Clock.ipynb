{
 "cells": [
  {
   "cell_type": "code",
   "execution_count": 9,
   "metadata": {},
   "outputs": [],
   "source": [
    "class clock(object):\n",
    "    def _init_self(self, hours, cycles):\n",
    "        self.hours=hours\n",
    "        self.cycles=cycles    \n",
    "    \n",
    "    def tick(self):\n",
    "        self.hours += 1\n",
    "        if self.hourss == 24:\n",
    "            self.seconds = 0\n",
    "            self.cycles += 1\n",
    "        \n",
    "        if self.cycles==1:\n",
    "            self.cycles = 0\n",
    "            \n",
    "    def output(self):\n",
    "        return \"Hours, cycles:\".format(self.hours, self.cycles)"
   ]
  },
  {
   "cell_type": "code",
   "execution_count": null,
   "metadata": {},
   "outputs": [],
   "source": []
  }
 ],
 "metadata": {
  "kernelspec": {
   "display_name": "Python 3",
   "language": "python",
   "name": "python3"
  },
  "language_info": {
   "codemirror_mode": {
    "name": "ipython",
    "version": 3
   },
   "file_extension": ".py",
   "mimetype": "text/x-python",
   "name": "python",
   "nbconvert_exporter": "python",
   "pygments_lexer": "ipython3",
   "version": "3.7.4"
  }
 },
 "nbformat": 4,
 "nbformat_minor": 2
}
