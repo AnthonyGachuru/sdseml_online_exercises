{
 "cells": [
  {
   "cell_type": "markdown",
   "metadata": {},
   "source": [
    "# Warm up"
   ]
  },
  {
   "cell_type": "code",
   "execution_count": 61,
   "metadata": {},
   "outputs": [],
   "source": [
    "from scipy import integrate\n",
    "from numpy import log, linspace\n",
    "import matplotlib.pyplot as plt\n",
    "import numpy as np\n",
    "\n",
    "def f(t):\n",
    "    f=log(t)\n",
    "    return f\n",
    "\n",
    "def Integrate(f, a, b):\n",
    "    I, _=integrate.quad(f, a, b)\n",
    "    return I"
   ]
  },
  {
   "cell_type": "code",
   "execution_count": 62,
   "metadata": {},
   "outputs": [
    {
     "data": {
      "text/plain": [
       "0.38629436111989063"
      ]
     },
     "execution_count": 62,
     "metadata": {},
     "output_type": "execute_result"
    }
   ],
   "source": [
    "# Test:\n",
    "Integrate(f, 1, 2)"
   ]
  },
  {
   "cell_type": "code",
   "execution_count": 137,
   "metadata": {},
   "outputs": [],
   "source": [
    "# Coding up loop to return n values\n",
    "Li, n=[], []\n",
    "a=2\n",
    "for c in np.arange(1, 11, 0.1):\n",
    "    b=10**c\n",
    "    Li.append(Integrate(f, a, b))\n",
    "    n.append(10**c)\n",
    "\n",
    "Li, n = np.array(Li), np.array(n)\n",
    "#return 100 values in interval    "
   ]
  },
  {
   "cell_type": "code",
   "execution_count": 140,
   "metadata": {},
   "outputs": [
    {
     "data": {
      "image/png": "[encoded data removed]",
      "text/plain": [
       "<Figure size 432x288 with 1 Axes>"
      ]
     },
     "metadata": {
      "needs_background": "light"
     },
     "output_type": "display_data"
    }
   ],
   "source": [
    "# Plotting\n",
    "plt.figure()\n",
    "plt.plot(n, Li)\n",
    "plt.ylabel(\"Li(n)\")\n",
    "plt.xlabel(\"n\")\n",
    "plt.xscale(\"log\")\n",
    "plt.title(\"Approximation of primes less than n\")\n",
    "plt.show()"
   ]
  }
 ],
 "metadata": {
  "kernelspec": {
   "display_name": "Python 3",
   "language": "python",
   "name": "python3"
  },
  "language_info": {
   "codemirror_mode": {
    "name": "ipython",
    "version": 3
   },
   "file_extension": ".py",
   "mimetype": "text/x-python",
   "name": "python",
   "nbconvert_exporter": "python",
   "pygments_lexer": "ipython3",
   "version": "3.7.4"
  }
 },
 "nbformat": 4,
 "nbformat_minor": 2
}
