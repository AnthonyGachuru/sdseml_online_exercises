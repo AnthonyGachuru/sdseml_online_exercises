{
 "cells": [
  {
   "cell_type": "markdown",
   "metadata": {},
   "source": [
    "# Warm-up"
   ]
  },
  {
   "cell_type": "code",
   "execution_count": 277,
   "metadata": {},
   "outputs": [
    {
     "name": "stdout",
     "output_type": "stream",
     "text": [
      "1\n",
      "Trying again\n",
      "2\n",
      "Trying again\n",
      "3\n",
      "Trying again\n",
      "4\n",
      "Trying again\n",
      "5\n",
      "Success!!\n"
     ]
    }
   ],
   "source": [
    "from random import uniform\n",
    "\n",
    "n=15\n",
    "\n",
    "def this_might_fail(func): \n",
    "    c=uniform(0,1)>0.8   \n",
    "    if c:return \"Success!\"\n",
    "    else:\n",
    "        func()\n",
    "\n",
    "def retry():\n",
    "    i=0\n",
    "    while i<n:\n",
    "        print(i+1)\n",
    "        c=uniform(0,1)>0.8   \n",
    "        if c:\n",
    "            print(\"Success!!\")\n",
    "            break\n",
    "        else:\n",
    "            print(\"Trying again\")\n",
    "        i+=1\n",
    "    else:\n",
    "        print(\"No more retries\")\n",
    "        raise ValueError('c too small')\n",
    "    \n",
    "retry=this_might_fail(retry)\n",
    "\n",
    "retry"
   ]
  },
  {
   "cell_type": "code",
   "execution_count": null,
   "metadata": {},
   "outputs": [],
   "source": []
  }
 ],
 "metadata": {
  "kernelspec": {
   "display_name": "Python 3",
   "language": "python",
   "name": "python3"
  },
  "language_info": {
   "codemirror_mode": {
    "name": "ipython",
    "version": 3
   },
   "file_extension": ".py",
   "mimetype": "text/x-python",
   "name": "python",
   "nbconvert_exporter": "python",
   "pygments_lexer": "ipython3",
   "version": "3.7.4"
  }
 },
 "nbformat": 4,
 "nbformat_minor": 2
}
