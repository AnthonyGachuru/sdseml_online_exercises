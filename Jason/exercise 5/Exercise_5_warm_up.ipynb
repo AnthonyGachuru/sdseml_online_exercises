{
 "cells": [
  {
   "cell_type": "code",
   "execution_count": 57,
   "metadata": {},
   "outputs": [],
   "source": [
    "class Clock:\n",
    "    \n",
    "    def __init__(self, hours, n):\n",
    "        self.hours = hours\n",
    "        self.cycles = 0\n",
    "        self.time = 0\n",
    "        self.n_hour = n\n",
    "        \n",
    "    def __str__(self): # called when printed\n",
    "        \n",
    "        lines = 'n-hour Clock =' f'{self.n_hour} \\n' \n",
    "        lines += 'Hour =' f'{self.hours}\\n'\n",
    "        lines += 'Number of Cycles =' f'{self.cycles}\\n'\n",
    "        \n",
    "        return lines\n",
    "        \n",
    "    def tick(self):\n",
    "        self.hours = self.hours + 1\n",
    "        if self.hours % self.n_hour == 0:\n",
    "            self.cycles = self.cycles + 1\n",
    "            "
   ]
  },
  {
   "cell_type": "code",
   "execution_count": 70,
   "metadata": {},
   "outputs": [],
   "source": [
    "x = Clock(hours=0,n=2)"
   ]
  },
  {
   "cell_type": "code",
   "execution_count": 71,
   "metadata": {},
   "outputs": [
    {
     "name": "stdout",
     "output_type": "stream",
     "text": [
      "n-hour Clock =2 \n",
      "Hour =0\n",
      "Number of Cycles =0\n",
      "\n"
     ]
    }
   ],
   "source": [
    "print(x)"
   ]
  },
  {
   "cell_type": "code",
   "execution_count": 76,
   "metadata": {},
   "outputs": [],
   "source": [
    "x.tick()"
   ]
  },
  {
   "cell_type": "code",
   "execution_count": 77,
   "metadata": {},
   "outputs": [
    {
     "name": "stdout",
     "output_type": "stream",
     "text": [
      "n-hour Clock =2 \n",
      "Hour =3\n",
      "Number of Cycles =1\n",
      "\n"
     ]
    }
   ],
   "source": [
    "print(x)"
   ]
  },
  {
   "cell_type": "code",
   "execution_count": null,
   "metadata": {},
   "outputs": [],
   "source": []
  }
 ],
 "metadata": {
  "kernelspec": {
   "display_name": "Python 3",
   "language": "python",
   "name": "python3"
  },
  "language_info": {
   "codemirror_mode": {
    "name": "ipython",
    "version": 3
   },
   "file_extension": ".py",
   "mimetype": "text/x-python",
   "name": "python",
   "nbconvert_exporter": "python",
   "pygments_lexer": "ipython3",
   "version": "3.7.3"
  }
 },
 "nbformat": 4,
 "nbformat_minor": 2
}
