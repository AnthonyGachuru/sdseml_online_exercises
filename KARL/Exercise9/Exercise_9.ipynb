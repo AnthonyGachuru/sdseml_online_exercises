{
 "cells": [
  {
   "cell_type": "markdown",
   "metadata": {},
   "source": [
    "# Exercise set 9: Network 1"
   ]
  },
  {
   "cell_type": "code",
   "execution_count": 1,
   "metadata": {},
   "outputs": [],
   "source": [
    "import matplotlib.pylab as plt\n",
    "import networkx as nx # library for working with networks\n",
    "import pandas as pd\n",
    "from collections import Counter\n",
    "from netwulf import visualize\n",
    "import matplotlib.pyplot as plt\n",
    "import numpy as np"
   ]
  },
  {
   "cell_type": "markdown",
   "metadata": {},
   "source": [
    "Ex. 9.0.1: List three different real networks and state the nodes and links for each of them.\n",
    "\n",
    "1) Social network on Facebook. Nodes are individuals, links are friendships.\n",
    "2) The spread of a disease. Nodes are individuals, links are contagion.\n",
    "3) Shipping map. Nodes are harbors, links are shipping routes.\n",
    "\n",
    "Ex. 9.0.2: What networks are you personally most interested in. Address the following questions:\n",
    "\n",
    "1) What are its nodes and links?\n",
    "\n",
    "Corporations' organisational networks. Nodes are individuals, links are different forms of communication, e.g. e-mails, meetings, phone calls etc.\n",
    "\n",
    "2) How large is it?\n",
    "\n",
    "N = number of employees - can be both large and small, but never extremely large compared to e.g. the network of neurons in the human body.\n",
    "\n",
    "3) Can be mapped out?\n",
    "\n",
    "Yes\n",
    "\n",
    "4) Why do you care about it?\n",
    "\n",
    "I think the example of Maven 7's work is really interesting, because the interpretation of the hubs is so straight forward and meaningful to the company.\n",
    "The hubs indicate individuals with a broad contact to other employees, and in the case from the text, they showed, that the individuals\n",
    "with widest contact actually wasn't the top management but rather employees of lower ranks.\n",
    "\n",
    "\n",
    "Ex. 9.0.3: In your view what would be the area where network science could have the biggest impact in the\n",
    "next decade? Explain your answer - and base it on the text in the book.\n",
    "\n",
    "The estimation of the way highly contagious diseases spread. I think, that with the current pandemic in mind, the demand for even better methods of estimating the spread of diseases will increase in the next decade. As the text exemplifies with the case of H1N1, it is actually possible to successfully predict the spread of a pandemic in real-time, but I think that society will benefit from better and more robust methods of doing so.\n",
    "\n",
    "Ex. 9.0.4: Section 2.5 states that real networks are sparse. Can you think of a real network where each\n",
    "node has many connections? Is that network still sparse? If yes, can you explain why?\n",
    "\n",
    "The human brain. Each neuron can have up to 10.000 links, but the network is still sparse, because the total number of links is way smaller than the maximal number of links (if all neurons were connected)."
   ]
  },
  {
   "cell_type": "markdown",
   "metadata": {},
   "source": [
    "# Part 1: The NetworkX library"
   ]
  },
  {
   "cell_type": "markdown",
   "metadata": {},
   "source": [
    "Ex. 9.1.1:"
   ]
  },
  {
   "cell_type": "code",
   "execution_count": 3,
   "metadata": {},
   "outputs": [
    {
     "data": {
      "image/png": "[encoded data removed]",
      "text/plain": [
       "<Figure size 432x288 with 1 Axes>"
      ]
     },
     "metadata": {},
     "output_type": "display_data"
    }
   ],
   "source": [
    "G = nx.Graph()\n",
    "\n",
    "### 1) add some nodes and edges to\n",
    "\n",
    "G.add_node('Hello')\n",
    "G.add_nodes_from([1,2,3])\n",
    "\n",
    "H = nx.path_graph(10)\n",
    "G.add_nodes_from(H)\n",
    "\n",
    "G.add_edge(1, 2)\n",
    "G.add_edges_from([(1, 2), (1, 3)])\n",
    "\n",
    "### 2) print its nodes and edges\n",
    "\n",
    "G.nodes\n",
    "G.edges\n",
    "\n",
    "G.number_of_edges()\n",
    "G.number_of_nodes()\n",
    "\n",
    "### 3) delete a node\n",
    "\n",
    "G.remove_node(2)\n",
    "G.nodes\n",
    "\n",
    "### 4) plot it.\n",
    "\n",
    "nx.draw(G, with_labels=True, font_weight='bold')"
   ]
  },
  {
   "cell_type": "markdown",
   "metadata": {},
   "source": [
    "Ex. 9.1.2:"
   ]
  },
  {
   "cell_type": "code",
   "execution_count": 5,
   "metadata": {},
   "outputs": [
    {
     "data": {
      "text/plain": [
       "(array([ 2., 13., 16., 16., 11., 21., 11.,  6.,  3.,  1.]),\n",
       " array([ 5. ,  6.4,  7.8,  9.2, 10.6, 12. , 13.4, 14.8, 16.2, 17.6, 19. ]),\n",
       " <a list of 10 Patch objects>)"
      ]
     },
     "execution_count": 5,
     "metadata": {},
     "output_type": "execute_result"
    },
    {
     "data": {
      "image/png": "[encoded data removed]",
      "text/plain": [
       "<Figure size 432x288 with 1 Axes>"
      ]
     },
     "metadata": {},
     "output_type": "display_data"
    }
   ],
   "source": [
    "### 1) Describe what an ER network is and how to create one.\n",
    "\n",
    "# The ER network is a binomial graph, that has n nodes and for each possible edge the edge is created with \n",
    "# possibility p.\n",
    "\n",
    "### 2) On the NetworkX documentations site, find a method you can use for generating an ER network. Create one with\n",
    "### 𝑁=100  nodes and probability of edge creation  𝑝=0.1 .\n",
    "\n",
    "n = 100\n",
    "p = 0.1\n",
    "\n",
    "ER_graph = nx.binomial_graph(n=n,p=p)\n",
    "\n",
    "### 3) Plot the network.\n",
    "nx.draw(ER_graph, with_labels=True)\n",
    "\n",
    "### 4) Visualize the degree distribution of your newly created ER graph.\n",
    "\n",
    "degrees = [ER_graph.degree[i] for i in range(len(ER_graph))]\n",
    "plt.hist(degrees)"
   ]
  },
  {
   "cell_type": "markdown",
   "metadata": {},
   "source": [
    "Ex. 9.1.3:"
   ]
  },
  {
   "cell_type": "code",
   "execution_count": 6,
   "metadata": {},
   "outputs": [
    {
     "data": {
      "text/plain": [
       "(array([67., 10.,  7.,  4.,  6.,  1.,  1.,  0.,  3.,  1.]),\n",
       " array([ 2. ,  3.5,  5. ,  6.5,  8. ,  9.5, 11. , 12.5, 14. , 15.5, 17. ]),\n",
       " <a list of 10 Patch objects>)"
      ]
     },
     "execution_count": 6,
     "metadata": {},
     "output_type": "execute_result"
    },
    {
     "data": {
      "image/png": "[encoded data removed]",
      "text/plain": [
       "<Figure size 432x288 with 1 Axes>"
      ]
     },
     "metadata": {},
     "output_type": "display_data"
    }
   ],
   "source": [
    "### 1) Describe what a BA network is and how to create one.\n",
    "\n",
    "# The BA network is created sequentially by adding one node at a time. Each new node has m edges, and these edges are\n",
    "# attached to the existing nodes with the highest degree, i.e. with the highest number of edges.\n",
    "\n",
    "### 2) On the NetworkX documentations site, find a method you can use for generating a BA network. Create one with\n",
    "### 𝑁=100 nodes and number of new edges from each new node  𝑚=2 .\n",
    "\n",
    "n = 100\n",
    "m = 2\n",
    "\n",
    "BA_graph = nx.barabasi_albert_graph(n=n, m=m)\n",
    "\n",
    "### 3) Plot the network.\n",
    "\n",
    "nx.draw(BA_graph, with_labels=True)\n",
    "\n",
    "### 4) Visualize the degree distribution of your newly created BA graph.\n",
    "\n",
    "degrees = [BA_graph.degree[i] for i in range(len(ER_graph))]\n",
    "plt.hist(degrees)\n",
    "\n",
    "### 5) Explain the main difference(s) you observe, when comparing to the ER network.\n",
    "\n",
    "# The degree distribution of the BA graph is very right skewed. This is because the edges of the new nodes are attahced to the\n",
    "# nodes with the highest degree. Thus, the new edges keep being attached to the same nodes, and network ends up having a large\n",
    "# number of nodes with low degree and a small number og nodes with high degree.\n",
    "\n",
    "### 6) Are there other measures we could have used to describe the ER and BA networks further?"
   ]
  },
  {
   "cell_type": "markdown",
   "metadata": {},
   "source": [
    "# Part 2: Facebook network"
   ]
  },
  {
   "cell_type": "code",
   "execution_count": 8,
   "metadata": {},
   "outputs": [
    {
     "data": {
      "text/html": [
       "<div>\n",
       "<style scoped>\n",
       "    .dataframe tbody tr th:only-of-type {\n",
       "        vertical-align: middle;\n",
       "    }\n",
       "\n",
       "    .dataframe tbody tr th {\n",
       "        vertical-align: top;\n",
       "    }\n",
       "\n",
       "    .dataframe thead th {\n",
       "        text-align: right;\n",
       "    }\n",
       "</style>\n",
       "<table border=\"1\" class=\"dataframe\">\n",
       "  <thead>\n",
       "    <tr style=\"text-align: right;\">\n",
       "      <th></th>\n",
       "      <th>user1</th>\n",
       "      <th>user2</th>\n",
       "      <th>timestamp</th>\n",
       "    </tr>\n",
       "  </thead>\n",
       "  <tbody>\n",
       "    <tr>\n",
       "      <th>0</th>\n",
       "      <td>28</td>\n",
       "      <td>28</td>\n",
       "      <td>1095135831</td>\n",
       "    </tr>\n",
       "    <tr>\n",
       "      <th>1</th>\n",
       "      <td>1015</td>\n",
       "      <td>1017</td>\n",
       "      <td>1097725406</td>\n",
       "    </tr>\n",
       "    <tr>\n",
       "      <th>2</th>\n",
       "      <td>959</td>\n",
       "      <td>959</td>\n",
       "      <td>1098387569</td>\n",
       "    </tr>\n",
       "    <tr>\n",
       "      <th>3</th>\n",
       "      <td>991</td>\n",
       "      <td>991</td>\n",
       "      <td>1098425204</td>\n",
       "    </tr>\n",
       "    <tr>\n",
       "      <th>4</th>\n",
       "      <td>1015</td>\n",
       "      <td>1017</td>\n",
       "      <td>1098489762</td>\n",
       "    </tr>\n",
       "    <tr>\n",
       "      <th>5</th>\n",
       "      <td>1015</td>\n",
       "      <td>1017</td>\n",
       "      <td>1098673897</td>\n",
       "    </tr>\n",
       "    <tr>\n",
       "      <th>6</th>\n",
       "      <td>3368</td>\n",
       "      <td>3368</td>\n",
       "      <td>1098755376</td>\n",
       "    </tr>\n",
       "    <tr>\n",
       "      <th>7</th>\n",
       "      <td>14752</td>\n",
       "      <td>14736</td>\n",
       "      <td>1099526971</td>\n",
       "    </tr>\n",
       "    <tr>\n",
       "      <th>8</th>\n",
       "      <td>1015</td>\n",
       "      <td>1017</td>\n",
       "      <td>1099602800</td>\n",
       "    </tr>\n",
       "    <tr>\n",
       "      <th>9</th>\n",
       "      <td>1531</td>\n",
       "      <td>1080</td>\n",
       "      <td>1099889279</td>\n",
       "    </tr>\n",
       "  </tbody>\n",
       "</table>\n",
       "</div>"
      ],
      "text/plain": [
       "   user1  user2   timestamp\n",
       "0     28     28  1095135831\n",
       "1   1015   1017  1097725406\n",
       "2    959    959  1098387569\n",
       "3    991    991  1098425204\n",
       "4   1015   1017  1098489762\n",
       "5   1015   1017  1098673897\n",
       "6   3368   3368  1098755376\n",
       "7  14752  14736  1099526971\n",
       "8   1015   1017  1099602800\n",
       "9   1531   1080  1099889279"
      ]
     },
     "execution_count": 8,
     "metadata": {},
     "output_type": "execute_result"
    }
   ],
   "source": [
    "# load data:\n",
    "data = pd.read_csv(\n",
    "    \"facebook-wall.txt\",\n",
    "    delimiter=\"\\t\",\n",
    "    header=None,\n",
    "    names=['user1', 'user2', 'timestamp']\n",
    ")\n",
    "\n",
    "data.head(10)"
   ]
  },
  {
   "cell_type": "markdown",
   "metadata": {},
   "source": [
    "Ex. 9.2.1:"
   ]
  },
  {
   "cell_type": "code",
   "execution_count": 9,
   "metadata": {},
   "outputs": [
    {
     "data": {
      "text/plain": [
       "44397"
      ]
     },
     "execution_count": 9,
     "metadata": {},
     "output_type": "execute_result"
    }
   ],
   "source": [
    "# we'll only use a subset of the dataset - last 365 days\n",
    "t0 = data.timestamp.max() - 86400 * 365  # Lower bound of time-slice (here: 365 days before last wall post)\n",
    "t1 = data.timestamp.max()              # Upper bound of time-slice\n",
    "\n",
    "def slicer(t0, t1):\n",
    "    # Subset of the pandas dataframe\n",
    "    data_t = data.loc[data.timestamp.between(t0, t1)]\n",
    "\n",
    "    # Count the number of times each link occurs and store that in a new 'weight' column\n",
    "    data_t = data_t.groupby(['user1', 'user2']).size().reset_index(name='weight')\n",
    "\n",
    "    # Create a `nx.DiGraph` from this dataframe\n",
    "    return nx.from_pandas_edgelist(data_t, 'user1', 'user2', 'weight', create_using=nx.DiGraph) # Directed graph\n",
    "\n",
    "G_t = slicer(t0=t0, t1=t1)\n",
    "\n",
    "G_t.number_of_edges() # 201.632 edges\n",
    "G_t.number_of_nodes() # 44.397 nodes"
   ]
  },
  {
   "cell_type": "markdown",
   "metadata": {},
   "source": [
    "Ex. 9.2.2:"
   ]
  },
  {
   "cell_type": "code",
   "execution_count": 10,
   "metadata": {},
   "outputs": [
    {
     "data": {
      "text/plain": [
       "<matplotlib.legend.Legend at 0x1168ee9d0>"
      ]
     },
     "execution_count": 10,
     "metadata": {},
     "output_type": "execute_result"
    },
    {
     "data": {
      "image/png": "[encoded data removed]",
      "text/plain": [
       "<Figure size 432x288 with 1 Axes>"
      ]
     },
     "metadata": {
      "needs_background": "light"
     },
     "output_type": "display_data"
    }
   ],
   "source": [
    "def degree_count(degrees):\n",
    "    degree_count = Counter([degree for n,degree in degrees])\n",
    "    degrees, count = zip(*degree_count.items())\n",
    "    return degrees, count\n",
    "\n",
    "\n",
    "degrees_in, count_in = degree_count(G_t.in_degree)\n",
    "degrees_out, count_out = degree_count(G_t.out_degree)\n",
    "\n",
    "plt.plot(degrees_in, count_in, 'bo', label = 'Degree (in)')\n",
    "plt.plot(degrees_out, count_out, 'ro', label = 'Degree (out)')\n",
    "plt.yscale('log')\n",
    "plt.xscale('log')\n",
    "plt.xlabel('Degrees')\n",
    "plt.ylabel('Density')\n",
    "plt.legend()"
   ]
  },
  {
   "cell_type": "markdown",
   "metadata": {},
   "source": [
    "It looks a lot like the BA network - it's very right skewed."
   ]
  },
  {
   "cell_type": "markdown",
   "metadata": {},
   "source": [
    "Ex. 9.2.3:"
   ]
  },
  {
   "cell_type": "code",
   "execution_count": 11,
   "metadata": {},
   "outputs": [
    {
     "data": {
      "text/plain": [
       "(array([535., 347., 463., 312., 398., 262., 231., 283., 269., 327., 748.,\n",
       "        161., 177., 232., 434., 150., 364., 127., 158., 341., 132., 138.,\n",
       "        101., 154.,  93., 483.,  56.,  53.,  98., 220.,  61.,  57.,  46.,\n",
       "         28., 769.,  22.,  32.,  16.,  74.,   3.,  72.,  20.,  41.,   9.,\n",
       "         12.,  24.,   9.,   2., 767.]),\n",
       " array([0.1       , 0.10481131, 0.10985411, 0.11513954, 0.12067926,\n",
       "        0.12648552, 0.13257114, 0.13894955, 0.14563485, 0.1526418 ,\n",
       "        0.15998587, 0.16768329, 0.17575106, 0.184207  , 0.19306977,\n",
       "        0.20235896, 0.21209509, 0.22229965, 0.23299518, 0.24420531,\n",
       "        0.25595479, 0.26826958, 0.28117687, 0.29470517, 0.30888436,\n",
       "        0.32374575, 0.33932218, 0.35564803, 0.37275937, 0.39069399,\n",
       "        0.40949151, 0.42919343, 0.44984327, 0.47148664, 0.49417134,\n",
       "        0.51794747, 0.54286754, 0.5689866 , 0.59636233, 0.62505519,\n",
       "        0.65512856, 0.68664885, 0.71968567, 0.75431201, 0.79060432,\n",
       "        0.82864277, 0.86851137, 0.91029818, 0.95409548, 1.        ]),\n",
       " <a list of 49 Patch objects>)"
      ]
     },
     "execution_count": 11,
     "metadata": {},
     "output_type": "execute_result"
    },
    {
     "data": {
      "image/png": "[encoded data removed]",
      "text/plain": [
       "<Figure size 432x288 with 1 Axes>"
      ]
     },
     "metadata": {
      "needs_background": "light"
     },
     "output_type": "display_data"
    }
   ],
   "source": [
    "cluster = nx.clustering(G_t)\n",
    "\n",
    "plt.hist(sorted(cluster.values()), bins=np.logspace(np.log10(0.1),np.log10(1.0), 50))"
   ]
  },
  {
   "cell_type": "markdown",
   "metadata": {},
   "source": [
    "Ex. 9.2.4:"
   ]
  },
  {
   "cell_type": "code",
   "execution_count": null,
   "metadata": {},
   "outputs": [],
   "source": []
  },
  {
   "cell_type": "code",
   "execution_count": null,
   "metadata": {},
   "outputs": [],
   "source": []
  }
 ],
 "metadata": {
  "kernelspec": {
   "display_name": "Python 3",
   "language": "python",
   "name": "python3"
  },
  "language_info": {
   "codemirror_mode": {
    "name": "ipython",
    "version": 3
   },
   "file_extension": ".py",
   "mimetype": "text/x-python",
   "name": "python",
   "nbconvert_exporter": "python",
   "pygments_lexer": "ipython3",
   "version": "3.7.6"
  }
 },
 "nbformat": 4,
 "nbformat_minor": 4
}
