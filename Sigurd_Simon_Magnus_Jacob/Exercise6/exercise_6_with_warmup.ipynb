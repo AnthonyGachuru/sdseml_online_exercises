{
  "nbformat": 4,
  "nbformat_minor": 0,
  "metadata": {
    "kernelspec": {
      "display_name": "Python 3",
      "language": "python",
      "name": "python3"
    },
    "language_info": {
      "codemirror_mode": {
        "name": "ipython",
        "version": 3
      },
      "file_extension": ".py",
      "mimetype": "text/x-python",
      "name": "python",
      "nbconvert_exporter": "python",
      "pygments_lexer": "ipython3",
      "version": "3.7.4"
    },
    "colab": {
      "name": "exercise_6.ipynb",
      "provenance": [],
      "collapsed_sections": []
    }
  },
  "cells": [
    {
      "cell_type": "markdown",
      "metadata": {
        "id": "qv-crpy0iQd_",
        "colab_type": "text"
      },
      "source": [
        "# Exercise 6 - linear ML for econometrics. \n",
        "\n",
        "In this exercise set we will work with linear ML methods that can give unbiased estimates when the number of covariates is large. We will once again set up simulated data to clearly see any issues with the methods we apply. The exercises follow the approach laid out in [Chernozhukov et al](https://arxiv.org/pdf/1501.03185.pdf)."
      ]
    },
    {
      "cell_type": "code",
      "metadata": {
        "id": "bPM_qdSLMVH3",
        "colab_type": "code",
        "colab": {
          "base_uri": "https://localhost:8080/",
          "height": 34
        },
        "outputId": "d558a726-c737-441d-c2ae-0d6b73de79bd"
      },
      "source": [
        "# Warm-up:\n",
        "def minSum(*args):\n",
        "    min_sum = 0\n",
        "    for digit in args:\n",
        "        min_sum += digit\n",
        "    return min_sum\n",
        "\n",
        "minSum(1,1,1,1,1)"
      ],
      "execution_count": 118,
      "outputs": [
        {
          "output_type": "execute_result",
          "data": {
            "text/plain": [
              "5"
            ]
          },
          "metadata": {
            "tags": []
          },
          "execution_count": 118
        }
      ]
    },
    {
      "cell_type": "code",
      "metadata": {
        "id": "PjjOSxSYiQeD",
        "colab_type": "code",
        "colab": {}
      },
      "source": [
        "import numpy as np \n",
        "import pandas as pd \n",
        "import matplotlib.pyplot as plt \n",
        "import seaborn as sns \n",
        "\n",
        "from sklearn.preprocessing import PolynomialFeatures"
      ],
      "execution_count": 0,
      "outputs": []
    },
    {
      "cell_type": "markdown",
      "metadata": {
        "id": "-S1c-FwUiQeI",
        "colab_type": "text"
      },
      "source": [
        "> The following code simulates two datasets, one to use with the auxilliary regression \n",
        ">$$ \\tag{aux}\n",
        "d_i = x_i'\\gamma_0 + z_i' \\delta_0 + u_i\n",
        "$$\n",
        ">and one to use in the main equation\n",
        ">$$ \\tag{main}\n",
        "y_i = \\alpha_0 d_i + x_i' \\beta_0 + \\nu_i\n",
        "$$\n",
        "Unlike in the paper, we include covariates in the main equation. We will handle them in a later question. In this setup $u_i$ and $\\nu_i$ are correlated, meaning the relation between $d_i$ and $y_i$ is not identified via OLS. Instead we will use $z_i$ to induce exogenous variation in $d_i$, which is unrelated to the error terms. This variation can be used to identify $\\alpha_0$.\n",
        ">\n",
        "> **Ex 6.1.1.**  Rewrite the below code to define a function `simulate(n, m, k, plot)`, where plot is a boolean indicating whether the density plot should be drawn or not. Your function should return all the matrices and vectors required in the regression equations, including parameters and errors."
      ]
    },
    {
      "cell_type": "code",
      "metadata": {
        "id": "yk0zZtLgiQeJ",
        "colab_type": "code",
        "colab": {
          "base_uri": "https://localhost:8080/",
          "height": 460
        },
        "outputId": "5746d39e-cc8d-4a77-bead-17b524bf785b"
      },
      "source": [
        "n = 1000  # Number of observations\n",
        "m = 1500    # Number of potential instruments\n",
        "k = 10    # Number of covariates\n",
        "cov = 5\n",
        "errors = np.random.multivariate_normal(mean = [0,0], cov = [[cov, cov], [cov, cov]], size = n)\n",
        "h = sns.jointplot(errors[:,0], errors[:,1], kind = 'kde')\n",
        "h.set_axis_labels('$\\\\nu$', '$\\epsilon$', fontsize=16)\n",
        "\n",
        "z = np.random.normal(size = (n,m))\n",
        "x = np.random.normal(size = (n,k))\n",
        "\n",
        "# Auxilliary equation\n",
        "nu = errors[:,0]\n",
        "Pi = np.array([5] + [x if np.random.uniform() > 0.9 else 0 for x in np.random.uniform(low = -2, high = 5, size = m - 1)])\n",
        "gamma = np.array([5] + [x if np.random.uniform() > 0.9 else 0 for x in np.random.uniform(low = -2, high = 5, size = k - 1)])\n",
        "\n",
        "d = z @ Pi + x @ gamma + nu\n",
        "\n",
        "# Main equation\n",
        "u = errors[:,1]\n",
        "delta = np.array([5] + [x  if np.random.uniform() > 0.9 else 0 for x in np.random.uniform(low = -2, high = 5, size = k - 1)])\n",
        "alpha = np.random.uniform(1,2)\n",
        "\n",
        "y = alpha * d  + x @ delta + u"
      ],
      "execution_count": 2,
      "outputs": [
        {
          "output_type": "display_data",
          "data": {
            "image/png": "[encoded data removed]",
            "text/plain": [
              "<Figure size 432x432 with 3 Axes>"
            ]
          },
          "metadata": {
            "tags": []
          }
        }
      ]
    },
    {
      "cell_type": "code",
      "metadata": {
        "id": "2CN0zojtiQeQ",
        "colab_type": "code",
        "colab": {}
      },
      "source": [
        "# [Your solution here]\n",
        "#n = 1000  # Number of observations\n",
        "#m = 1500    # Number of potential instruments\n",
        "#k = 10    # Number of covariates\n",
        "#\n",
        "\n",
        "def simulate(n, m, k, plot = True):\n",
        "  cov = 5\n",
        "  errors = np.random.multivariate_normal(mean = [0,0], cov = [[cov, cov], [cov, cov]], size = n)\n",
        "  if plot == True:\n",
        "    h = sns.jointplot(errors[:,0], errors[:,1], kind = 'kde')\n",
        "    h.set_axis_labels('$\\\\nu$', '$\\epsilon$', fontsize=16)\n",
        "\n",
        "  z = np.random.normal(size = (n,m))\n",
        "  x = np.random.normal(size = (n,k))\n",
        "\n",
        "  # Auxilliary equation\n",
        "  nu = errors[:,0]\n",
        "  Pi = np.array([5] + [x if np.random.uniform() > 0.9 else 0 for x in np.random.uniform(low = -2, high = 5, size = m - 1)])\n",
        "  gamma = np.array([5] + [x if np.random.uniform() > 0.9 else 0 for x in np.random.uniform(low = -2, high = 5, size = k - 1)])\n",
        "\n",
        "  d = z @ Pi + x @ gamma + nu\n",
        "\n",
        "  # Main equation\n",
        "  u = errors[:,1]\n",
        "  delta = np.array([5] + [x  if np.random.uniform() > 0.9 else 0 for x in np.random.uniform(low = -2, high = 5, size = k - 1)])\n",
        "  alpha = np.random.uniform(1,2)\n",
        "\n",
        "  y = alpha * d  + x @ delta + u\n",
        "\n",
        "  return z, x, d, y, Pi, gamma, alpha, delta, nu, u"
      ],
      "execution_count": 0,
      "outputs": []
    },
    {
      "cell_type": "code",
      "metadata": {
        "id": "IRgzgFtEkXLl",
        "colab_type": "code",
        "colab": {
          "base_uri": "https://localhost:8080/",
          "height": 460
        },
        "outputId": "3c66ce75-c146-4418-8f8c-51f5ac9b3303"
      },
      "source": [
        "#Testing \n",
        "z, x, d, y, Pi, gamma, alpha, delta, nu, u = simulate(n = 1000, m = 1500, k = 10, plot=True)"
      ],
      "execution_count": 11,
      "outputs": [
        {
          "output_type": "display_data",
          "data": {
            "image/png": "[encoded data removed]",
            "text/plain": [
              "<Figure size 432x432 with 3 Axes>"
            ]
          },
          "metadata": {
            "tags": []
          }
        }
      ]
    },
    {
      "cell_type": "markdown",
      "metadata": {
        "id": "SJ5G6HagiQeT",
        "colab_type": "text"
      },
      "source": [
        "> **Ex. 6.1.2:** Use your function to simulate a new dataset and regress the following OLS regression\n",
        ">$$\n",
        "y_i \\sim \\pi_0 + \\pi_1 d_i + \\gamma_i\n",
        "$$\n",
        "> where $\\gamma_i$ is a noise term. \n",
        ">\n",
        "> Repeat this procedure 1000 times in a for loop and store the true $\\alpha_0$ as well as the estimate $\\pi_1$ in two lists. Plot a histogram of the differences $\\alpha_0 - \\pi_1$. What does this tell you about the regression you just ran?"
      ]
    },
    {
      "cell_type": "code",
      "metadata": {
        "id": "5RDgNxgViQeU",
        "colab_type": "code",
        "colab": {}
      },
      "source": [
        "from statsmodels.api import OLS, add_constant\n",
        "from statsmodels.tools import add_constant"
      ],
      "execution_count": 0,
      "outputs": []
    },
    {
      "cell_type": "code",
      "metadata": {
        "id": "2sWEUVtyiQeb",
        "colab_type": "code",
        "colab": {
          "base_uri": "https://localhost:8080/",
          "height": 68
        },
        "outputId": "d5c3e619-500f-460c-ccf2-7177bf77641c"
      },
      "source": [
        "# [Your solution here]\n",
        "\n",
        "param1List, param2List, alphaList = [], [], []\n",
        "for i in range(1000):\n",
        "  if i in [250, 500, 750]:\n",
        "    print(\"Iteration\", i)\n",
        "  z, x, d, y, Pi, gamma, alpha, delta, nu, u  = simulate(n = 1000, m = 1500, k = 10, plot=False)\n",
        "\n",
        "  model_constant  = add_constant(d)\n",
        "  ols_model = OLS(y,model_constant)\n",
        "  ols_model_fitted = ols_model.fit()\n",
        "  param_1, param_2 = ols_model_fitted.params[0], ols_model_fitted.params[1]\n",
        "\n",
        "  param1List.append(param_1)\n",
        "  param2List.append(param_2)\n",
        "  alphaList.append(alpha)\n",
        "\n",
        "\n",
        "    "
      ],
      "execution_count": 19,
      "outputs": [
        {
          "output_type": "stream",
          "text": [
            "Iteration 250\n",
            "Iteration 500\n",
            "Iteration 750\n"
          ],
          "name": "stdout"
        }
      ]
    },
    {
      "cell_type": "code",
      "metadata": {
        "id": "YUplFCc-sleS",
        "colab_type": "code",
        "colab": {
          "base_uri": "https://localhost:8080/",
          "height": 401
        },
        "outputId": "38548a3b-921a-4f8c-8d11-d2331e01962f"
      },
      "source": [
        "\n",
        "diff = np.array(alphaList) - np.array(param2List)\n",
        "import matplotlib.pyplot as plt\n",
        "plt.hist(diff, bins = 20)\n",
        "# Looking at the plot below. The negative difference indicates, we've overestimated the values of alpha_0 as compared to the true values of alpha.\n",
        "# Shows a clear bias in our estimation procedure."
      ],
      "execution_count": 33,
      "outputs": [
        {
          "output_type": "execute_result",
          "data": {
            "text/plain": [
              "(array([  1.,   0.,   0.,   2.,   4.,   3.,   8.,  26.,  38.,  75., 132.,\n",
              "        134., 185., 160., 113.,  71.,  30.,  13.,   3.,   2.]),\n",
              " array([-0.06619215, -0.06326389, -0.06033563, -0.05740737, -0.05447911,\n",
              "        -0.05155085, -0.04862259, -0.04569433, -0.04276606, -0.0398378 ,\n",
              "        -0.03690954, -0.03398128, -0.03105302, -0.02812476, -0.0251965 ,\n",
              "        -0.02226824, -0.01933998, -0.01641172, -0.01348346, -0.0105552 ,\n",
              "        -0.00762694]),\n",
              " <a list of 20 Patch objects>)"
            ]
          },
          "metadata": {
            "tags": []
          },
          "execution_count": 33
        },
        {
          "output_type": "display_data",
          "data": {
            "image/png": "[encoded data removed]",
            "text/plain": [
              "<Figure size 432x288 with 1 Axes>"
            ]
          },
          "metadata": {
            "tags": []
          }
        }
      ]
    },
    {
      "cell_type": "markdown",
      "metadata": {
        "id": "HDylhu1eiQef",
        "colab_type": "text"
      },
      "source": [
        "> **Ex. 6.1.3:** Knowing the DGP an obvious solution would be to run an IV regression, instrumenting $d_i$ with $z_i$. Unfortunately there are $m=1500$ columns in $z_i$ and only $n=1000$ observations. Luckily, the way we have simulated our data only a small subset of the $z_i$'s actually influence $d_i$. The tricky part will be to pick out the right $z_i$'s.\n",
        ">\n",
        "> To begin with simulate a new dataset and count the number of non-zero element in $\\Pi$ to verify that indeed only very few $z$'s matter for $d$."
      ]
    },
    {
      "cell_type": "code",
      "metadata": {
        "id": "KDHsvfUUiQeg",
        "colab_type": "code",
        "colab": {}
      },
      "source": [
        "# [Your solution here]\n",
        "# New simulation \n",
        "np.random.seed(100)\n",
        "z, x, d, y, Pi, gamma, alpha, delta, nu, u = simulate(n = 1000, m = 1500, k = 10, plot=False)"
      ],
      "execution_count": 0,
      "outputs": []
    },
    {
      "cell_type": "code",
      "metadata": {
        "id": "oABpK4jSywbq",
        "colab_type": "code",
        "colab": {
          "base_uri": "https://localhost:8080/",
          "height": 51
        },
        "outputId": "c57e3104-9933-4504-8294-e1e37f00122f"
      },
      "source": [
        "print(\"Number of elements in Pi: \", len(Pi))\n",
        "non_zero_Pi_elements = [zi for zi in Pi if zi != 0]\n",
        "number_of_non_zero_Pi_elements = len(non_zero_Pi_elements)\n",
        "print(\"Number of non-zero elements in Pi: \", number_of_non_zero_Pi_elements)\n",
        "\n",
        "# Could also have used: number_of_non_zero_Pi_elements = np.count_nonzero(Pi)\n"
      ],
      "execution_count": 47,
      "outputs": [
        {
          "output_type": "stream",
          "text": [
            "Number of elements in Pi:  1500\n",
            "Number of non-zero elements in Pi:  152\n"
          ],
          "name": "stdout"
        }
      ]
    },
    {
      "cell_type": "markdown",
      "metadata": {
        "id": "x6bt67SHiQej",
        "colab_type": "text"
      },
      "source": [
        "> **Ex. 6.1.4:** The _ideal_ instrument for $d_i$ is exactly the $z_i$'s which have non-zero coefficients, multiplies by the corresponding true simulated parameters in $\\delta_0$. Having simulated the data ourselves, an easy way to compute this is to simply calculate\n",
        "> $$\n",
        "\\hat{d}^* = z \\cdot \\delta_0\n",
        "$$\n",
        "> where $\\cdot$ is the dot product, written as `@` in numpy. In reality we cannot get this ideal instrument, because it would require regressing $d_i$ on all 500 variables with only 100 observations.  \n",
        ">\n",
        "> In a for loop over 1000 iterations, simulate new data, compute the ideal instrument $\\hat{d_i}$ and regress the second stage regression $y_i \\sim \\pi_0 + \\pi_1\\hat{d_i}$. Store the true $\\alpha_0$ and the estimate $\\hat{\\pi}_1$ in two lists. Finally draw a histogram of the differences $\\alpha_0 - \\hat{\\pi}_1$. How does your histogram look this time, is this expected?"
      ]
    },
    {
      "cell_type": "code",
      "metadata": {
        "id": "JgnHjMnHiQek",
        "colab_type": "code",
        "colab": {
          "base_uri": "https://localhost:8080/",
          "height": 68
        },
        "outputId": "ab791b78-b2e3-4b4f-95c6-97d0f1cc3e54"
      },
      "source": [
        "# [Your solution here]\n",
        "param1List, param2List, alphaList = [], [], []\n",
        "for i in range(1000):\n",
        "  if i in [250, 500, 750]:\n",
        "    print(\"Iteration\", i)\n",
        "  z, x, d, y, Pi, gamma, alpha, delta, nu, u  = simulate(n = 1000, m = 1500, k = 10, plot=False)\n",
        "  \n",
        "  delta_hat = z @ Pi # Only taking the ideal instruments into the regressions..\n",
        "\n",
        "  model_constant  = add_constant(delta_hat) # <-- Here\n",
        "  ols_model = OLS(y,model_constant)\n",
        "  ols_model_fitted = ols_model.fit()\n",
        "  param_1, param_2 = ols_model_fitted.params[0], ols_model_fitted.params[1]\n",
        "\n",
        "  param1List.append(param_1)\n",
        "  param2List.append(param_2)\n",
        "  alphaList.append(alpha)\n",
        "\n"
      ],
      "execution_count": 48,
      "outputs": [
        {
          "output_type": "stream",
          "text": [
            "Iteration 250\n",
            "Iteration 500\n",
            "Iteration 750\n"
          ],
          "name": "stdout"
        }
      ]
    },
    {
      "cell_type": "code",
      "metadata": {
        "id": "og9oxIm32Ooh",
        "colab_type": "code",
        "colab": {
          "base_uri": "https://localhost:8080/",
          "height": 401
        },
        "outputId": "3f2c87fe-0ba4-48c9-bb97-53a045e3e500"
      },
      "source": [
        "new_diff = np.array(alphaList) - np.array(param2List)\n",
        "import matplotlib.pyplot as plt\n",
        "plt.hist(new_diff, bins = 20)\n",
        "# From the new plot, we see that by only including the ideal instruments in the regression we get an average difference of 0\n",
        "# This indicates we are now better at estimating the true alphas, which would expect for knowning the true DGP"
      ],
      "execution_count": 49,
      "outputs": [
        {
          "output_type": "execute_result",
          "data": {
            "text/plain": [
              "(array([  1.,   2.,   6.,   6.,  16.,  30.,  52.,  79., 103., 116., 131.,\n",
              "        137., 111.,  91.,  61.,  26.,  19.,   6.,   5.,   2.]),\n",
              " array([-0.05084581, -0.04600388, -0.04116195, -0.03632002, -0.03147808,\n",
              "        -0.02663615, -0.02179422, -0.01695229, -0.01211035, -0.00726842,\n",
              "        -0.00242649,  0.00241544,  0.00725737,  0.01209931,  0.01694124,\n",
              "         0.02178317,  0.0266251 ,  0.03146704,  0.03630897,  0.0411509 ,\n",
              "         0.04599283]),\n",
              " <a list of 20 Patch objects>)"
            ]
          },
          "metadata": {
            "tags": []
          },
          "execution_count": 49
        },
        {
          "output_type": "display_data",
          "data": {
            "image/png": "[encoded data removed]",
            "text/plain": [
              "<Figure size 432x288 with 1 Axes>"
            ]
          },
          "metadata": {
            "tags": []
          }
        }
      ]
    },
    {
      "cell_type": "markdown",
      "metadata": {
        "id": "ya8vjRl5iQen",
        "colab_type": "text"
      },
      "source": [
        "> **Ex. 6.1.5:** The below class implements post-lasso. A two step procedure where first a lasso model is used to identify relevant parameters, and then OLS is used to estimate parameter values on the remaining variables. Study the code, and understand as well as possible what is going on. \n",
        ">\n",
        "> What is stored in `relevant_x`?\n",
        "> \n",
        "> Why is the `predict` method so complicated?"
      ]
    },
    {
      "cell_type": "code",
      "metadata": {
        "id": "pSFz8-ZYiQeo",
        "colab_type": "code",
        "colab": {
          "base_uri": "https://localhost:8080/",
          "height": 71
        },
        "outputId": "22d8cd3f-7deb-4402-abcd-7491c03d9339"
      },
      "source": [
        "from sklearn.linear_model import LassoCV, Lasso\n",
        "from sklearn.utils.testing import ignore_warnings\n",
        "from sklearn.exceptions import ConvergenceWarning"
      ],
      "execution_count": 66,
      "outputs": [
        {
          "output_type": "stream",
          "text": [
            "/usr/local/lib/python3.6/dist-packages/sklearn/utils/deprecation.py:144: FutureWarning: The sklearn.utils.testing module is  deprecated in version 0.22 and will be removed in version 0.24. The corresponding classes / functions should instead be imported from sklearn.utils. Anything that cannot be imported from sklearn.utils is now part of the private API.\n",
            "  warnings.warn(message, FutureWarning)\n"
          ],
          "name": "stderr"
        }
      ]
    },
    {
      "cell_type": "code",
      "metadata": {
        "id": "mt4f_yBwiQew",
        "colab_type": "code",
        "colab": {}
      },
      "source": [
        "class PostLasso:\n",
        "    def __init__(self, formula = None):\n",
        "        self.lasso_model = Lasso()\n",
        "        self.ols_model = None\n",
        "        self.relevant_x = None\n",
        "        self.subset_cols = None\n",
        "        self.coefs = None\n",
        "        self.formula = formula\n",
        "    \n",
        "    def __repr__(self):\n",
        "        return f'PostLasso({self.formula})'\n",
        "    \n",
        "    @ignore_warnings(category=ConvergenceWarning)\n",
        "    def fit(self, X, y, force_include_idx = None):\n",
        "        ''' Estimate a model using Post-Lasso\n",
        "        \n",
        "        X: X matrix (without intercept)\n",
        "        y: y vector\n",
        "        force_include_idx: column indexes that ALWAYS is\n",
        "            included in the OLS model, regardless of their\n",
        "            status in the lasso stage.\n",
        "        '''\n",
        "        self.lasso_model = self.lasso_model.fit(X,y)\n",
        "        self.coefs = np.insert(self.lasso_model.coef_, 0, self.lasso_model.intercept_)\n",
        "        self.subset_cols = np.where(self.coefs != 0)[0]\n",
        "        if force_include_idx is not None:\n",
        "            self.subset_cols = np.union1d(self.subset_cols, force_include_idx)\n",
        "        self.relevant_x = add_constant(X)[:,self.subset_cols]\n",
        "        self.ols_model = OLS(y, self.relevant_x).fit()\n",
        "        return self\n",
        "\n",
        "    def predict(self, X = None):\n",
        "        ''' Predict using a fitted post-lasso model.\n",
        "        '''\n",
        "        if X is None:\n",
        "            return self.ols_model.predict(self.relevant_x)\n",
        "        if X.shape == self.relevant_x.shape:\n",
        "            return self.ols_model.predict(X)\n",
        "        return self.ols_model.predict(X[:,self.subset_cols])"
      ],
      "execution_count": 0,
      "outputs": []
    },
    {
      "cell_type": "code",
      "metadata": {
        "id": "cF3ZXd0Q5qxP",
        "colab_type": "code",
        "colab": {}
      },
      "source": [
        "# Answer 6.1.5\n",
        "# relevant_x stores all the covariates with coefficients different from zero with an added constant. \n",
        "# It can furthermore handle a \"forced inclusion\" of certain covariates/columns even if \n",
        "# these covariates had coefficients equal to zero from the LASSO procedure.\n",
        "\n",
        "# predict() is a general purpose function that always predicts using the covariates deemed relevant..."
      ],
      "execution_count": 0,
      "outputs": []
    },
    {
      "cell_type": "markdown",
      "metadata": {
        "id": "clS3BYCxiQez",
        "colab_type": "text"
      },
      "source": [
        "> **Ex. 6.1.6:** In this problem we will try to run through the post-lasso steps required to obtain an estimate of $\\alpha_0$. Since we are doing this in python we will not be able to set the lasso hyperparameter optimally for this kind of post-selection usage. There is a R package, developed especially to handle inference after lasso-selection, which you should use in practise. \n",
        ">\n",
        "> For now, do the following steps 1000 times, storing the true $\\alpha_0$ and estimate $\\hat{\\alpha_0}$:\n",
        ">\n",
        "> * 0. Simulate a new dataset.\n",
        "> * 1. Run a post-lasso regression of d on x and z, $d_i \\sim x_i'\\gamma + z_i' \\delta$, forcing the inclusion of $x_i$ in the OLS stage.\n",
        "> * 2. Run the second stage regression $y_i \\sim \\hat{d}_i + x_i' \\beta$ to recover $\\hat{\\alpha_0}$.\n",
        ">\n",
        "> How does this histogram compare to the naive one? How does it compare to the ideal one?\n",
        ">\n",
        "> _Hint:_ We follow the description given on page 19 [here](https://cran.r-project.org/web/packages/hdm/vignettes/hdm.pdf)."
      ]
    },
    {
      "cell_type": "code",
      "metadata": {
        "id": "QUGpf8wCiQe0",
        "colab_type": "code",
        "colab": {
          "base_uri": "https://localhost:8080/",
          "height": 68
        },
        "outputId": "c241fe09-68bf-4b6d-e902-84e759bf91be"
      },
      "source": [
        "# [Your solution here]\n",
        "\n",
        "param1List, param2List, alphaList = [], [], []\n",
        "for i in range(1000):\n",
        "  if i in [250, 500, 750]:\n",
        "    print(\"Iteration\", i)\n",
        "  z, x, d, y, Pi, gamma, alpha, delta, nu, u  = simulate(n = 1000, m = 1500, k = 10, plot=False)\n",
        "  big_Fat_x = np.hstack((x,z))\n",
        "  # Forcing the inclusion of the ten x_i covariates here:\n",
        "  forced_idxes_from_x = [0, 1, 2, 3, 4, 5, 6, 7, 8, 9]\n",
        "  postLasso = PostLasso()\n",
        "  postLasso.fit(X = big_Fat_x, y = d, force_include_idx = forced_idxes_from_x)\n",
        "  delta_hat = postLasso.predict()\n",
        "\n",
        "  # Adding the column of predictions to our x matrix:\n",
        "  delta_hat_col = [ [di] for di in delta_hat ]\n",
        "  delta_hat_col = np.array(delta_hat_col)\n",
        "  new_x = np.hstack((delta_hat_col, x)) \n",
        "\n",
        "  new_OLS = OLS(y,new_x).fit()\n",
        "  param_1, param_2 = new_OLS.params[0], new_OLS.params[1]\n",
        "  param1List.append(param_1)\n",
        "  param2List.append(param_2)\n",
        "  alphaList.append(alpha)\n"
      ],
      "execution_count": 109,
      "outputs": [
        {
          "output_type": "stream",
          "text": [
            "Iteration 250\n",
            "Iteration 500\n",
            "Iteration 750\n"
          ],
          "name": "stdout"
        }
      ]
    },
    {
      "cell_type": "code",
      "metadata": {
        "id": "5OFWBjGW_JGP",
        "colab_type": "code",
        "colab": {
          "base_uri": "https://localhost:8080/",
          "height": 418
        },
        "outputId": "108a19d0-51d8-4cf2-bd2e-231b4419716a"
      },
      "source": [
        "new_diff = np.array(alphaList) - np.array(param1List) # Need the first param from this OLS:\n",
        "import matplotlib.pyplot as plt\n",
        "plt.hist(new_diff, bins = 20)\n",
        "# This procedure is better at estimating the true alpha, as compared to the naive procedure. \n",
        "# We note that there is greater variation in this procedure as compared to the ideal procedure.\n",
        "# This procedure remains feasible, without knowing the actual DGP.  "
      ],
      "execution_count": 110,
      "outputs": [
        {
          "output_type": "execute_result",
          "data": {
            "text/plain": [
              "(array([  3.,   3.,  10.,  20.,  24.,  37.,  68., 104., 111., 126., 133.,\n",
              "        119.,  88.,  66.,  43.,  25.,  14.,   2.,   2.,   2.]),\n",
              " array([-8.38215148e-03, -7.62591191e-03, -6.86967234e-03, -6.11343277e-03,\n",
              "        -5.35719320e-03, -4.60095363e-03, -3.84471406e-03, -3.08847449e-03,\n",
              "        -2.33223492e-03, -1.57599535e-03, -8.19755779e-04, -6.35162094e-05,\n",
              "         6.92723360e-04,  1.44896293e-03,  2.20520250e-03,  2.96144207e-03,\n",
              "         3.71768164e-03,  4.47392121e-03,  5.23016078e-03,  5.98640035e-03,\n",
              "         6.74263992e-03]),\n",
              " <a list of 20 Patch objects>)"
            ]
          },
          "metadata": {
            "tags": []
          },
          "execution_count": 110
        },
        {
          "output_type": "display_data",
          "data": {
            "image/png": "[encoded data removed]",
            "text/plain": [
              "<Figure size 432x288 with 1 Axes>"
            ]
          },
          "metadata": {
            "tags": []
          }
        }
      ]
    }
  ]
}