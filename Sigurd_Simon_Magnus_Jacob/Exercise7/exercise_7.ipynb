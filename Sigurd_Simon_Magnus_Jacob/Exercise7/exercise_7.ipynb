{
 "cells": [
  {
   "cell_type": "markdown",
   "metadata": {
    "colab_type": "text",
    "id": "kjAoqrxIoXPs"
   },
   "source": [
    "# Exercise set 7: Spatial data\n",
    "\n",
    "In this exercise set you will be working with structuring and plotting spatial data. \n",
    "- Exercise 9.1: basic shapes\n",
    "- Exercise 9.2: working with Geopandas and interpolation\n",
    "- Exercise 9.3: interactive plotting with folium\n",
    "\n",
    "We begin with loading the standard packages:\n"
   ]
  },
  {
   "cell_type": "code",
   "execution_count": 23,
   "metadata": {
    "colab": {
     "base_uri": "https://localhost:8080/",
     "height": 462
    },
    "colab_type": "code",
    "id": "VsxpixQjoXPu",
    "outputId": "4dff24aa-d2c7-4c8e-d6d3-872f30a4ec84"
   },
   "outputs": [
    {
     "name": "stdout",
     "output_type": "stream",
     "text": [
      "Requirement already satisfied: geopandas in c:\\users\\sigurd\\anaconda3\\lib\\site-packages (0.6.1)\n",
      "Requirement already satisfied: fiona in c:\\users\\sigurd\\anaconda3\\lib\\site-packages (from geopandas) (1.8.4)\n",
      "Requirement already satisfied: shapely in c:\\users\\sigurd\\anaconda3\\lib\\site-packages (from geopandas) (1.7.0)\n",
      "Requirement already satisfied: pandas>=0.23.0 in c:\\users\\sigurd\\anaconda3\\lib\\site-packages (from geopandas) (0.24.2)\n",
      "Requirement already satisfied: pyproj in c:\\users\\sigurd\\anaconda3\\lib\\site-packages (from geopandas) (1.9.6)\n",
      "Requirement already satisfied: attrs>=17 in c:\\users\\sigurd\\anaconda3\\lib\\site-packages (from fiona->geopandas) (19.1.0)\n",
      "Requirement already satisfied: click<8,>=4.0 in c:\\users\\sigurd\\anaconda3\\lib\\site-packages (from fiona->geopandas) (7.0)\n",
      "Requirement already satisfied: cligj>=0.5 in c:\\users\\sigurd\\anaconda3\\lib\\site-packages (from fiona->geopandas) (0.5.0)\n",
      "Requirement already satisfied: click-plugins>=1.0 in c:\\users\\sigurd\\anaconda3\\lib\\site-packages (from fiona->geopandas) (1.1.1)\n",
      "Requirement already satisfied: six>=1.7 in c:\\users\\sigurd\\anaconda3\\lib\\site-packages (from fiona->geopandas) (1.12.0)\n",
      "Requirement already satisfied: munch in c:\\users\\sigurd\\anaconda3\\lib\\site-packages (from fiona->geopandas) (2.5.0)\n",
      "Requirement already satisfied: numpy>=1.12.0 in c:\\users\\sigurd\\anaconda3\\lib\\site-packages (from pandas>=0.23.0->geopandas) (1.16.3)\n",
      "Requirement already satisfied: python-dateutil>=2.5.0 in c:\\users\\sigurd\\anaconda3\\lib\\site-packages (from pandas>=0.23.0->geopandas) (2.8.0)\n",
      "Requirement already satisfied: pytz>=2011k in c:\\users\\sigurd\\anaconda3\\lib\\site-packages (from pandas>=0.23.0->geopandas) (2019.1)\n"
     ]
    }
   ],
   "source": [
    "import os\n",
    "import requests\n",
    "\n",
    "import numpy as np\n",
    "import pandas as pd\n",
    "import seaborn as sns\n",
    "\n",
    "!pip install geopandas\n",
    "import folium\n",
    "import geopandas as gpd\n",
    "import fiona\n",
    "import shapely\n",
    "\n",
    "%matplotlib inline"
   ]
  },
  {
   "cell_type": "markdown",
   "metadata": {
    "colab_type": "text",
    "id": "7DjUV7L1oXP6"
   },
   "source": [
    "## Exercises"
   ]
  },
  {
   "cell_type": "markdown",
   "metadata": {
    "colab_type": "text",
    "id": "s8uIJ6wZoXP7"
   },
   "source": [
    "### Part 9.1: Working with spatial objects \n",
    "\n",
    "This exercise will serve as a brief tutorial on spatial data. We will learn how to make spatial shape and use their basic operations."
   ]
  },
  {
   "cell_type": "markdown",
   "metadata": {
    "colab_type": "text",
    "id": "XgTCiH7IoXP9"
   },
   "source": [
    "> **Ex. 9.1.1** Make a polygon which is square that has left,lower corner in 2,2 and right,upper in 5,5. Make a triangle passing through (0,0), (4,0) and (2,4). What do they look like? Store the two polygons respectively as `square` and `triangle`\n",
    "\n",
    "> *Hint*: the submodule shapely.geometry has methods such as `Point`, `Polygon` and `Multipolygon`"
   ]
  },
  {
   "cell_type": "code",
   "execution_count": 24,
   "metadata": {
    "colab": {},
    "colab_type": "code",
    "id": "-UInhd9GoXP-"
   },
   "outputs": [],
   "source": [
    "from shapely.geometry import Polygon, Point, MultiPolygon"
   ]
  },
  {
   "cell_type": "code",
   "execution_count": 25,
   "metadata": {
    "colab": {
     "base_uri": "https://localhost:8080/",
     "height": 299
    },
    "colab_type": "code",
    "id": "uYj3eAIZoXQG",
    "outputId": "3d92a621-6221-4f0d-8042-e6641d2ce4b0"
   },
   "outputs": [
    {
     "name": "stdout",
     "output_type": "stream",
     "text": [
      "POLYGON ((2 2, 5 2, 5 5, 2 5, 2 2))\n"
     ]
    },
    {
     "data": {
      "text/plain": [
       "[<matplotlib.lines.Line2D at 0x19d7ce78898>]"
      ]
     },
     "execution_count": 25,
     "metadata": {},
     "output_type": "execute_result"
    },
    {
     "data": {
      "image/png": "[encoded data removed]",
      "text/plain": [
       "<Figure size 432x288 with 1 Axes>"
      ]
     },
     "metadata": {
      "needs_background": "light"
     },
     "output_type": "display_data"
    }
   ],
   "source": [
    "# [Your answer here]\n",
    "p1 = Point((2,2))\n",
    "p2 = Point((5,2))\n",
    "p3 = Point((5,5))\n",
    "p4 = Point((2,5))\n",
    "pointList = [p1, p2, p3, p4]\n",
    "\n",
    "square = Polygon([[p.x, p.y] for p in pointList])\n",
    "\n",
    "\n",
    "print(square.wkt)\n",
    "import matplotlib.pyplot as plt\n",
    "x,y = square.exterior.xy\n",
    "plt.plot(x,y)\n"
   ]
  },
  {
   "cell_type": "code",
   "execution_count": 26,
   "metadata": {
    "colab": {
     "base_uri": "https://localhost:8080/",
     "height": 282
    },
    "colab_type": "code",
    "id": "3DB-S4jevUsx",
    "outputId": "ef110731-db26-4aeb-c6b5-96b40c9a9945"
   },
   "outputs": [
    {
     "data": {
      "text/plain": [
       "[<matplotlib.lines.Line2D at 0x19d7cee31d0>]"
      ]
     },
     "execution_count": 26,
     "metadata": {},
     "output_type": "execute_result"
    },
    {
     "data": {
      "image/png": "[encoded data removed]",
      "text/plain": [
       "<Figure size 432x288 with 1 Axes>"
      ]
     },
     "metadata": {
      "needs_background": "light"
     },
     "output_type": "display_data"
    }
   ],
   "source": [
    "\n",
    "tri = [Point((0,0)), Point((4,0)), Point((2,4))]\n",
    "triangle = Polygon([[p.x, p.y] for p in tri])\n",
    "x,y = triangle.exterior.xy\n",
    "plt.plot(x,y)\n"
   ]
  },
  {
   "cell_type": "markdown",
   "metadata": {
    "colab_type": "text",
    "id": "Z09vX0ZnoXQM"
   },
   "source": [
    "> **Ex. 6.1.2** Compute and show the spatial difference of square subtracted triangle, also show the hat is the union of `square` and `triangle`?"
   ]
  },
  {
   "cell_type": "code",
   "execution_count": 27,
   "metadata": {
    "colab": {
     "base_uri": "https://localhost:8080/",
     "height": 282
    },
    "colab_type": "code",
    "id": "pwPDvKt1oXQN",
    "outputId": "dbfa788b-e3aa-4d58-e725-4120863f827f"
   },
   "outputs": [
    {
     "data": {
      "text/plain": [
       "[<matplotlib.lines.Line2D at 0x19d7cfacac8>]"
      ]
     },
     "execution_count": 27,
     "metadata": {},
     "output_type": "execute_result"
    },
    {
     "data": {
      "image/png": "[encoded data removed]",
      "text/plain": [
       "<Figure size 432x288 with 1 Axes>"
      ]
     },
     "metadata": {
      "needs_background": "light"
     },
     "output_type": "display_data"
    }
   ],
   "source": [
    "# Difference\n",
    "diff = square - triangle\n",
    "x,y = diff.exterior.xy\n",
    "plt.plot(x,y)"
   ]
  },
  {
   "cell_type": "code",
   "execution_count": 28,
   "metadata": {
    "colab": {
     "base_uri": "https://localhost:8080/",
     "height": 282
    },
    "colab_type": "code",
    "id": "LvWKGBKTwP8z",
    "outputId": "f795e08c-e70f-44dd-b8b7-97f509971ddb"
   },
   "outputs": [
    {
     "data": {
      "text/plain": [
       "[<matplotlib.lines.Line2D at 0x19d7d02b6a0>]"
      ]
     },
     "execution_count": 28,
     "metadata": {},
     "output_type": "execute_result"
    },
    {
     "data": {
      "image/png": "[encoded data removed]",
      "text/plain": [
       "<Figure size 432x288 with 1 Axes>"
      ]
     },
     "metadata": {
      "needs_background": "light"
     },
     "output_type": "display_data"
    }
   ],
   "source": [
    "# Union\n",
    "union = square.union(triangle)\n",
    "union\n",
    "x,y = union.exterior.xy\n",
    "plt.plot(x,y)"
   ]
  },
  {
   "cell_type": "markdown",
   "metadata": {
    "colab_type": "text",
    "id": "5s948fDDoXQV"
   },
   "source": [
    "> **Ex. 6.1.3** Make a GeoSeries out of `square`, `triangle`. Plot the geoseries."
   ]
  },
  {
   "cell_type": "code",
   "execution_count": 29,
   "metadata": {
    "colab": {
     "base_uri": "https://localhost:8080/",
     "height": 282
    },
    "colab_type": "code",
    "id": "uzigCFIZoXQV",
    "outputId": "94c7c469-4625-439d-a89b-5456f0726649"
   },
   "outputs": [
    {
     "data": {
      "text/plain": [
       "<matplotlib.axes._subplots.AxesSubplot at 0x19d7d06b5f8>"
      ]
     },
     "execution_count": 29,
     "metadata": {},
     "output_type": "execute_result"
    },
    {
     "data": {
      "image/png": "[encoded data removed]",
      "text/plain": [
       "<Figure size 432x288 with 1 Axes>"
      ]
     },
     "metadata": {
      "needs_background": "light"
     },
     "output_type": "display_data"
    }
   ],
   "source": [
    "# [Your answer here]\n",
    "s = gpd.GeoSeries([square, triangle])\n",
    "s.plot()"
   ]
  },
  {
   "cell_type": "markdown",
   "metadata": {
    "colab_type": "text",
    "id": "bJF-ieJRoXQc"
   },
   "source": [
    "### Part 9.2: Working with house sale prices\n",
    "\n",
    "Data on danish municipalities are available [here](https://raw.githubusercontent.com/ok-dk/dagi/master/geojson/kommuner.geojson) from Open Knowledge Denmark."
   ]
  },
  {
   "cell_type": "markdown",
   "metadata": {
    "colab_type": "text",
    "id": "pfEONwrOoXQd"
   },
   "source": [
    "#### Basic operations with Geopandas\n",
    "\n",
    "> **Ex. 9.2.1** Load the municipalities data using `gpd.read_file()`, \n",
    "- What is the CRS of the dataframe - what projection does it correspond to? Turn the CRS into a meter based system.\n",
    "- Which three munipalities have the largest area?\n",
    "\n",
    "> Note: to find the entire area of a municipality which consists of multiple shapes (e.g. municipalities covering islands). you can use the `unary_union` method for GeoSeries."
   ]
  },
  {
   "cell_type": "code",
   "execution_count": 30,
   "metadata": {
    "colab": {},
    "colab_type": "code",
    "id": "nYXvytztoXQg"
   },
   "outputs": [],
   "source": [
    "url = \"https://raw.githubusercontent.com/ok-dk/dagi/master/geojson/kommuner.geojson\""
   ]
  },
  {
   "cell_type": "code",
   "execution_count": 31,
   "metadata": {
    "colab": {
     "base_uri": "https://localhost:8080/",
     "height": 419
    },
    "colab_type": "code",
    "id": "jvgyT3AVoXQu",
    "outputId": "8ad0e4a5-74f6-4402-f915-4adb2b436420"
   },
   "outputs": [
    {
     "data": {
      "text/html": [
       "<div>\n",
       "<style scoped>\n",
       "    .dataframe tbody tr th:only-of-type {\n",
       "        vertical-align: middle;\n",
       "    }\n",
       "\n",
       "    .dataframe tbody tr th {\n",
       "        vertical-align: top;\n",
       "    }\n",
       "\n",
       "    .dataframe thead th {\n",
       "        text-align: right;\n",
       "    }\n",
       "</style>\n",
       "<table border=\"1\" class=\"dataframe\">\n",
       "  <thead>\n",
       "    <tr style=\"text-align: right;\">\n",
       "      <th></th>\n",
       "      <th>KOMKODE</th>\n",
       "      <th>KOMNAVN</th>\n",
       "      <th>geometry</th>\n",
       "    </tr>\n",
       "  </thead>\n",
       "  <tbody>\n",
       "    <tr>\n",
       "      <th>0</th>\n",
       "      <td>0766</td>\n",
       "      <td>Hedensted</td>\n",
       "      <td>POLYGON Z ((9.44919 55.86046 -999.00000, 9.460...</td>\n",
       "    </tr>\n",
       "    <tr>\n",
       "      <th>1</th>\n",
       "      <td>0766</td>\n",
       "      <td>Hedensted</td>\n",
       "      <td>POLYGON Z ((10.06198 55.83301 -999.00000, 10.0...</td>\n",
       "    </tr>\n",
       "    <tr>\n",
       "      <th>2</th>\n",
       "      <td>0561</td>\n",
       "      <td>Esbjerg</td>\n",
       "      <td>POLYGON Z ((8.59656 55.53506 -999.00000, 8.601...</td>\n",
       "    </tr>\n",
       "    <tr>\n",
       "      <th>3</th>\n",
       "      <td>0849</td>\n",
       "      <td>Jammerbugt</td>\n",
       "      <td>POLYGON Z ((9.78314 57.07319 -999.00000, 9.781...</td>\n",
       "    </tr>\n",
       "    <tr>\n",
       "      <th>4</th>\n",
       "      <td>0849</td>\n",
       "      <td>Jammerbugt</td>\n",
       "      <td>POLYGON Z ((9.19738 57.13868 -999.00000, 9.207...</td>\n",
       "    </tr>\n",
       "  </tbody>\n",
       "</table>\n",
       "</div>"
      ],
      "text/plain": [
       "  KOMKODE     KOMNAVN                                           geometry\n",
       "0    0766   Hedensted  POLYGON Z ((9.44919 55.86046 -999.00000, 9.460...\n",
       "1    0766   Hedensted  POLYGON Z ((10.06198 55.83301 -999.00000, 10.0...\n",
       "2    0561     Esbjerg  POLYGON Z ((8.59656 55.53506 -999.00000, 8.601...\n",
       "3    0849  Jammerbugt  POLYGON Z ((9.78314 57.07319 -999.00000, 9.781...\n",
       "4    0849  Jammerbugt  POLYGON Z ((9.19738 57.13868 -999.00000, 9.207..."
      ]
     },
     "execution_count": 31,
     "metadata": {},
     "output_type": "execute_result"
    }
   ],
   "source": [
    "# [Your answer here]\n",
    "kommuner = gpd.read_file(url)\n",
    "kommuner.head()"
   ]
  },
  {
   "cell_type": "code",
   "execution_count": 32,
   "metadata": {
    "colab": {},
    "colab_type": "code",
    "id": "a6zQLy4bvuVB"
   },
   "outputs": [
    {
     "data": {
      "text/plain": [
       "pyproj.Proj('+units=m +init=epsg:25832', preserve_units=True)"
      ]
     },
     "execution_count": 32,
     "metadata": {},
     "output_type": "execute_result"
    }
   ],
   "source": [
    "import pyproj\n",
    "pyproj.Proj(\"+init=epsg:25832\")\n"
   ]
  },
  {
   "cell_type": "code",
   "execution_count": 33,
   "metadata": {
    "colab": {
     "base_uri": "https://localhost:8080/",
     "height": 68
    },
    "colab_type": "code",
    "id": "zVAgBGP1nhhT",
    "outputId": "96a9a74e-3d9c-43f6-8692-ba19deb6ce6b"
   },
   "outputs": [
    {
     "name": "stdout",
     "output_type": "stream",
     "text": [
      "Old CRS:  {'init': 'epsg:4326'}\n",
      "New CRS: \n",
      "{'init': 'epsg:25832'}\n"
     ]
    },
    {
     "data": {
      "text/html": [
       "<div>\n",
       "<style scoped>\n",
       "    .dataframe tbody tr th:only-of-type {\n",
       "        vertical-align: middle;\n",
       "    }\n",
       "\n",
       "    .dataframe tbody tr th {\n",
       "        vertical-align: top;\n",
       "    }\n",
       "\n",
       "    .dataframe thead th {\n",
       "        text-align: right;\n",
       "    }\n",
       "</style>\n",
       "<table border=\"1\" class=\"dataframe\">\n",
       "  <thead>\n",
       "    <tr style=\"text-align: right;\">\n",
       "      <th></th>\n",
       "      <th>KOMKODE</th>\n",
       "      <th>KOMNAVN</th>\n",
       "      <th>geometry</th>\n",
       "    </tr>\n",
       "  </thead>\n",
       "  <tbody>\n",
       "    <tr>\n",
       "      <th>0</th>\n",
       "      <td>0766</td>\n",
       "      <td>Hedensted</td>\n",
       "      <td>POLYGON Z ((528116.000 6190641.000 -999.000, 5...</td>\n",
       "    </tr>\n",
       "    <tr>\n",
       "      <th>1</th>\n",
       "      <td>0766</td>\n",
       "      <td>Hedensted</td>\n",
       "      <td>POLYGON Z ((566517.000 6188004.430 -999.000, 5...</td>\n",
       "    </tr>\n",
       "    <tr>\n",
       "      <th>2</th>\n",
       "      <td>0561</td>\n",
       "      <td>Esbjerg</td>\n",
       "      <td>POLYGON Z ((474537.000 6154409.000 -999.000, 4...</td>\n",
       "    </tr>\n",
       "    <tr>\n",
       "      <th>3</th>\n",
       "      <td>0849</td>\n",
       "      <td>Jammerbugt</td>\n",
       "      <td>POLYGON Z ((547480.000 6325805.000 -999.000, 5...</td>\n",
       "    </tr>\n",
       "    <tr>\n",
       "      <th>4</th>\n",
       "      <td>0849</td>\n",
       "      <td>Jammerbugt</td>\n",
       "      <td>POLYGON Z ((511946.000 6332841.000 -999.000, 5...</td>\n",
       "    </tr>\n",
       "  </tbody>\n",
       "</table>\n",
       "</div>"
      ],
      "text/plain": [
       "  KOMKODE     KOMNAVN                                           geometry\n",
       "0    0766   Hedensted  POLYGON Z ((528116.000 6190641.000 -999.000, 5...\n",
       "1    0766   Hedensted  POLYGON Z ((566517.000 6188004.430 -999.000, 5...\n",
       "2    0561     Esbjerg  POLYGON Z ((474537.000 6154409.000 -999.000, 4...\n",
       "3    0849  Jammerbugt  POLYGON Z ((547480.000 6325805.000 -999.000, 5...\n",
       "4    0849  Jammerbugt  POLYGON Z ((511946.000 6332841.000 -999.000, 5..."
      ]
     },
     "execution_count": 33,
     "metadata": {},
     "output_type": "execute_result"
    }
   ],
   "source": [
    "print('Old CRS: ', kommuner.crs)\n",
    "print('New CRS: ')\n",
    "kommuner = kommuner.to_crs({'init': 'epsg:25832'})\n",
    "# Danish mapping reference. Coordinates in meters and euclidean distance can be used. From session_7/lecture7_mini_lecture_slides.ipynb\n",
    "print(kommuner.crs)\n",
    "kommuner.head()"
   ]
  },
  {
   "cell_type": "code",
   "execution_count": 34,
   "metadata": {
    "colab": {
     "base_uri": "https://localhost:8080/",
     "height": 142
    },
    "colab_type": "code",
    "id": "LYTUtZhRs50a",
    "outputId": "7d353e2d-891f-4033-88e5-0051e4d2233a"
   },
   "outputs": [
    {
     "data": {
      "text/html": [
       "<div>\n",
       "<style scoped>\n",
       "    .dataframe tbody tr th:only-of-type {\n",
       "        vertical-align: middle;\n",
       "    }\n",
       "\n",
       "    .dataframe tbody tr th {\n",
       "        vertical-align: top;\n",
       "    }\n",
       "\n",
       "    .dataframe thead th {\n",
       "        text-align: right;\n",
       "    }\n",
       "</style>\n",
       "<table border=\"1\" class=\"dataframe\">\n",
       "  <thead>\n",
       "    <tr style=\"text-align: right;\">\n",
       "      <th></th>\n",
       "      <th>KOMKODE</th>\n",
       "      <th>KOMNAVN</th>\n",
       "      <th>geometry</th>\n",
       "      <th>Area</th>\n",
       "    </tr>\n",
       "  </thead>\n",
       "  <tbody>\n",
       "    <tr>\n",
       "      <th>207</th>\n",
       "      <td>0760</td>\n",
       "      <td>Ringkøbing-Skjern</td>\n",
       "      <td>POLYGON Z ((456868.000 6207703.000 -999.000, 4...</td>\n",
       "      <td>1.465134e+09</td>\n",
       "    </tr>\n",
       "    <tr>\n",
       "      <th>98</th>\n",
       "      <td>0791</td>\n",
       "      <td>Viborg</td>\n",
       "      <td>POLYGON Z ((518116.060 6272161.120 -999.000, 5...</td>\n",
       "      <td>1.419631e+09</td>\n",
       "    </tr>\n",
       "    <tr>\n",
       "      <th>228</th>\n",
       "      <td>0657</td>\n",
       "      <td>Herning</td>\n",
       "      <td>POLYGON Z ((488502.000 6241863.000 -999.000, 4...</td>\n",
       "      <td>1.323127e+09</td>\n",
       "    </tr>\n",
       "  </tbody>\n",
       "</table>\n",
       "</div>"
      ],
      "text/plain": [
       "    KOMKODE            KOMNAVN  \\\n",
       "207    0760  Ringkøbing-Skjern   \n",
       "98     0791             Viborg   \n",
       "228    0657            Herning   \n",
       "\n",
       "                                              geometry          Area  \n",
       "207  POLYGON Z ((456868.000 6207703.000 -999.000, 4...  1.465134e+09  \n",
       "98   POLYGON Z ((518116.060 6272161.120 -999.000, 5...  1.419631e+09  \n",
       "228  POLYGON Z ((488502.000 6241863.000 -999.000, 4...  1.323127e+09  "
      ]
     },
     "execution_count": 34,
     "metadata": {},
     "output_type": "execute_result"
    }
   ],
   "source": [
    "# Three largest municipalities\n",
    "kommuner['Area'] = kommuner.area\n",
    "kommuner = kommuner.sort_values('Area', axis=0, ascending=False)\n",
    "kommuner.head(3)"
   ]
  },
  {
   "cell_type": "markdown",
   "metadata": {
    "colab_type": "text",
    "id": "WC0yux5RoXQz"
   },
   "source": [
    "Use the script below to add regional information for municipalities. This code block assumes that your geodataframe is names `kommuner`."
   ]
  },
  {
   "cell_type": "code",
   "execution_count": 35,
   "metadata": {
    "colab": {},
    "colab_type": "code",
    "id": "ZusfzOS2oXQ1"
   },
   "outputs": [],
   "source": [
    "kommuner.columns = kommuner.columns.str.lower()\n",
    "    \n",
    "# information for municipality\n",
    "kommune_info = pd.read_json('https://dawa.aws.dk/kommuner')\\\n",
    "                .pipe(lambda df: \\\n",
    "                        df.assign(komkode=df.kode.astype(str).str.zfill(4)))\\\n",
    "                .loc[:,['komkode','regionskode']]\\\n",
    "                \n",
    "\n",
    "region_info = pd.read_json('https://dawa.aws.dk/regioner/')\\\n",
    "                .loc[:,['kode','navn']]\\\n",
    "                .add_prefix('regions')\n",
    "\n",
    "kommuner = kommuner\\\n",
    "                .merge(kommune_info,how='left')\\\n",
    "                .merge(region_info,how='left')"
   ]
  },
  {
   "cell_type": "code",
   "execution_count": 36,
   "metadata": {
    "colab": {
     "base_uri": "https://localhost:8080/",
     "height": 419
    },
    "colab_type": "code",
    "id": "p-aECFPhx0f0",
    "outputId": "643a1008-9a29-4727-9aca-1df0ce2e4eb4"
   },
   "outputs": [
    {
     "data": {
      "text/html": [
       "<div>\n",
       "<style scoped>\n",
       "    .dataframe tbody tr th:only-of-type {\n",
       "        vertical-align: middle;\n",
       "    }\n",
       "\n",
       "    .dataframe tbody tr th {\n",
       "        vertical-align: top;\n",
       "    }\n",
       "\n",
       "    .dataframe thead th {\n",
       "        text-align: right;\n",
       "    }\n",
       "</style>\n",
       "<table border=\"1\" class=\"dataframe\">\n",
       "  <thead>\n",
       "    <tr style=\"text-align: right;\">\n",
       "      <th></th>\n",
       "      <th>komkode</th>\n",
       "      <th>komnavn</th>\n",
       "      <th>geometry</th>\n",
       "      <th>area</th>\n",
       "      <th>regionskode</th>\n",
       "      <th>regionsnavn</th>\n",
       "    </tr>\n",
       "  </thead>\n",
       "  <tbody>\n",
       "    <tr>\n",
       "      <th>0</th>\n",
       "      <td>0760</td>\n",
       "      <td>Ringkøbing-Skjern</td>\n",
       "      <td>POLYGON Z ((456868.000 6207703.000 -999.000, 4...</td>\n",
       "      <td>1.465134e+09</td>\n",
       "      <td>1082</td>\n",
       "      <td>Region Midtjylland</td>\n",
       "    </tr>\n",
       "    <tr>\n",
       "      <th>1</th>\n",
       "      <td>0791</td>\n",
       "      <td>Viborg</td>\n",
       "      <td>POLYGON Z ((518116.060 6272161.120 -999.000, 5...</td>\n",
       "      <td>1.419631e+09</td>\n",
       "      <td>1082</td>\n",
       "      <td>Region Midtjylland</td>\n",
       "    </tr>\n",
       "    <tr>\n",
       "      <th>2</th>\n",
       "      <td>0657</td>\n",
       "      <td>Herning</td>\n",
       "      <td>POLYGON Z ((488502.000 6241863.000 -999.000, 4...</td>\n",
       "      <td>1.323127e+09</td>\n",
       "      <td>1082</td>\n",
       "      <td>Region Midtjylland</td>\n",
       "    </tr>\n",
       "    <tr>\n",
       "      <th>3</th>\n",
       "      <td>0573</td>\n",
       "      <td>Varde</td>\n",
       "      <td>POLYGON Z ((444498.000 6165643.000 -999.000, 4...</td>\n",
       "      <td>1.237186e+09</td>\n",
       "      <td>1083</td>\n",
       "      <td>Region Syddanmark</td>\n",
       "    </tr>\n",
       "    <tr>\n",
       "      <th>4</th>\n",
       "      <td>0550</td>\n",
       "      <td>Tønder</td>\n",
       "      <td>POLYGON Z ((479159.000 6116664.000 -999.000, 4...</td>\n",
       "      <td>1.181184e+09</td>\n",
       "      <td>1083</td>\n",
       "      <td>Region Syddanmark</td>\n",
       "    </tr>\n",
       "  </tbody>\n",
       "</table>\n",
       "</div>"
      ],
      "text/plain": [
       "  komkode            komnavn  \\\n",
       "0    0760  Ringkøbing-Skjern   \n",
       "1    0791             Viborg   \n",
       "2    0657            Herning   \n",
       "3    0573              Varde   \n",
       "4    0550             Tønder   \n",
       "\n",
       "                                            geometry          area  \\\n",
       "0  POLYGON Z ((456868.000 6207703.000 -999.000, 4...  1.465134e+09   \n",
       "1  POLYGON Z ((518116.060 6272161.120 -999.000, 5...  1.419631e+09   \n",
       "2  POLYGON Z ((488502.000 6241863.000 -999.000, 4...  1.323127e+09   \n",
       "3  POLYGON Z ((444498.000 6165643.000 -999.000, 4...  1.237186e+09   \n",
       "4  POLYGON Z ((479159.000 6116664.000 -999.000, 4...  1.181184e+09   \n",
       "\n",
       "   regionskode         regionsnavn  \n",
       "0         1082  Region Midtjylland  \n",
       "1         1082  Region Midtjylland  \n",
       "2         1082  Region Midtjylland  \n",
       "3         1083   Region Syddanmark  \n",
       "4         1083   Region Syddanmark  "
      ]
     },
     "execution_count": 36,
     "metadata": {},
     "output_type": "execute_result"
    }
   ],
   "source": [
    "kommuner.head()"
   ]
  },
  {
   "cell_type": "markdown",
   "metadata": {
    "colab_type": "text",
    "id": "8WsbPzleoXRA"
   },
   "source": [
    "> **Ex. 9.2.2** Make two boolean series as follows. \n",
    "> - first: row is True if corresponding the row shape is in the Capital Region or Sealand Region (i.e. `'Region Hovedstaden', 'Region Sjælland'`) \n",
    "> - second: row is True if the  the row geometry is ***not*** in Bornholm or nearby (i.e. `'Bornholm', 'Christiansø'`)\n",
    "\n",
    "> Finally make a combined series which takes the value True if both holds, otherwise False and use this series to create a new geodataframe containing only mainland Sealand. \n",
    "\n",
    "\n",
    "> *Hint*: recall that we can check if a series elements are elements in a series using the `isin` method\n"
   ]
  },
  {
   "cell_type": "code",
   "execution_count": 37,
   "metadata": {},
   "outputs": [
    {
     "name": "stderr",
     "output_type": "stream",
     "text": [
      "C:\\Users\\Sigurd\\Anaconda3\\lib\\site-packages\\ipykernel_launcher.py:7: DeprecationWarning: \n",
      ".ix is deprecated. Please use\n",
      ".loc for label based indexing or\n",
      ".iloc for positional indexing\n",
      "\n",
      "See the documentation here:\n",
      "http://pandas.pydata.org/pandas-docs/stable/indexing.html#ix-indexer-is-deprecated\n",
      "  import sys\n"
     ]
    },
    {
     "data": {
      "text/html": [
       "<div>\n",
       "<style scoped>\n",
       "    .dataframe tbody tr th:only-of-type {\n",
       "        vertical-align: middle;\n",
       "    }\n",
       "\n",
       "    .dataframe tbody tr th {\n",
       "        vertical-align: top;\n",
       "    }\n",
       "\n",
       "    .dataframe thead th {\n",
       "        text-align: right;\n",
       "    }\n",
       "</style>\n",
       "<table border=\"1\" class=\"dataframe\">\n",
       "  <thead>\n",
       "    <tr style=\"text-align: right;\">\n",
       "      <th></th>\n",
       "      <th>komkode</th>\n",
       "      <th>komnavn</th>\n",
       "      <th>geometry</th>\n",
       "      <th>area</th>\n",
       "      <th>regionskode</th>\n",
       "      <th>regionsnavn</th>\n",
       "    </tr>\n",
       "  </thead>\n",
       "  <tbody>\n",
       "    <tr>\n",
       "      <th>11</th>\n",
       "      <td>0360</td>\n",
       "      <td>Lolland</td>\n",
       "      <td>POLYGON Z ((642765.820 6092443.960 -999.000, 6...</td>\n",
       "      <td>8.560960e+08</td>\n",
       "      <td>1085</td>\n",
       "      <td>Region Sjælland</td>\n",
       "    </tr>\n",
       "    <tr>\n",
       "      <th>23</th>\n",
       "      <td>0370</td>\n",
       "      <td>Næstved</td>\n",
       "      <td>POLYGON Z ((656260.000 6129842.000 -999.000, 6...</td>\n",
       "      <td>6.745882e+08</td>\n",
       "      <td>1085</td>\n",
       "      <td>Region Sjælland</td>\n",
       "    </tr>\n",
       "    <tr>\n",
       "      <th>30</th>\n",
       "      <td>0326</td>\n",
       "      <td>Kalundborg</td>\n",
       "      <td>POLYGON Z ((629229.000 6172944.000 -999.000, 6...</td>\n",
       "      <td>5.916791e+08</td>\n",
       "      <td>1085</td>\n",
       "      <td>Region Sjælland</td>\n",
       "    </tr>\n",
       "    <tr>\n",
       "      <th>32</th>\n",
       "      <td>0316</td>\n",
       "      <td>Holbæk</td>\n",
       "      <td>POLYGON Z ((648011.000 6168746.000 -999.000, 6...</td>\n",
       "      <td>5.640076e+08</td>\n",
       "      <td>1085</td>\n",
       "      <td>Region Sjælland</td>\n",
       "    </tr>\n",
       "    <tr>\n",
       "      <th>33</th>\n",
       "      <td>0330</td>\n",
       "      <td>Slagelse</td>\n",
       "      <td>POLYGON Z ((639338.000 6139525.000 -999.000, 6...</td>\n",
       "      <td>5.551663e+08</td>\n",
       "      <td>1085</td>\n",
       "      <td>Region Sjælland</td>\n",
       "    </tr>\n",
       "  </tbody>\n",
       "</table>\n",
       "</div>"
      ],
      "text/plain": [
       "   komkode     komnavn                                           geometry  \\\n",
       "11    0360     Lolland  POLYGON Z ((642765.820 6092443.960 -999.000, 6...   \n",
       "23    0370     Næstved  POLYGON Z ((656260.000 6129842.000 -999.000, 6...   \n",
       "30    0326  Kalundborg  POLYGON Z ((629229.000 6172944.000 -999.000, 6...   \n",
       "32    0316      Holbæk  POLYGON Z ((648011.000 6168746.000 -999.000, 6...   \n",
       "33    0330    Slagelse  POLYGON Z ((639338.000 6139525.000 -999.000, 6...   \n",
       "\n",
       "            area  regionskode      regionsnavn  \n",
       "11  8.560960e+08         1085  Region Sjælland  \n",
       "23  6.745882e+08         1085  Region Sjælland  \n",
       "30  5.916791e+08         1085  Region Sjælland  \n",
       "32  5.640076e+08         1085  Region Sjælland  \n",
       "33  5.551663e+08         1085  Region Sjælland  "
      ]
     },
     "execution_count": 37,
     "metadata": {},
     "output_type": "execute_result"
    }
   ],
   "source": [
    "kommuner['Sealand'] = kommuner.regionskode.isin([1084, 1085])\n",
    "kommuner['Skip_island'] = ~kommuner.komnavn.isin(['Bornholm', 'Christiansø'])\n",
    "\n",
    "kommuner.head()\n",
    "\n",
    "# New dataframe\n",
    "zealand = kommuner.ix[(kommuner['Sealand'] == True) &\n",
    "                      (kommuner['Skip_island'] == True), ['komkode', 'komnavn', 'geometry', 'area', 'regionskode', 'regionsnavn']]\n",
    "zealand.head()"
   ]
  },
  {
   "cell_type": "markdown",
   "metadata": {
    "colab_type": "text",
    "id": "hPLZ_IN_oXRJ"
   },
   "source": [
    "> **Ex. 9.2.3** Explain what is the CRS of the GeoDataFrame. How is distance measured using this coordinate system. Extract the extremum values (min,max) in all dimensions of the sealand geodataframe. That is identify the coordinates of the corners in the smallest square covering the entire island.\n",
    "\n",
    "> *Hint*: extreme values, i.e. bounds, can be found using `.bounds` on a GeoDataFrame (also works on shapes, GeoSeries)"
   ]
  },
  {
   "cell_type": "code",
   "execution_count": 38,
   "metadata": {
    "colab": {
     "base_uri": "https://localhost:8080/",
     "height": 255
    },
    "colab_type": "code",
    "id": "apl-XUrBoXRM",
    "outputId": "8d08d2ff-c7f0-4a6e-ee85-c759f42a9463"
   },
   "outputs": [
    {
     "data": {
      "text/plain": [
       "{'init': 'epsg:25832'}"
      ]
     },
     "execution_count": 38,
     "metadata": {},
     "output_type": "execute_result"
    }
   ],
   "source": [
    "# [Your answer here]\n",
    "zealand.crs\n",
    "# We read that the Danish CRS... \n",
    "# The distance measure is the Euclidean distance. The metric system is used as distance units. "
   ]
  },
  {
   "cell_type": "code",
   "execution_count": 39,
   "metadata": {
    "colab": {
     "base_uri": "https://localhost:8080/",
     "height": 344
    },
    "colab_type": "code",
    "id": "93p6UUHJfltw",
    "outputId": "31d56214-2330-4901-838f-63bfeb3e68fc"
   },
   "outputs": [
    {
     "name": "stdout",
     "output_type": "stream",
     "text": [
      "Extremum x values:  [617288.0000000043, 739259.9999965408]\n",
      "Extremum y values:  [6049781.999990508, 6231607.999993474]\n",
      "Plotting the smallest square covering Zealand...\n"
     ]
    },
    {
     "data": {
      "text/plain": [
       "[<matplotlib.lines.Line2D at 0x19d764aecc0>]"
      ]
     },
     "execution_count": 39,
     "metadata": {},
     "output_type": "execute_result"
    },
    {
     "data": {
      "image/png": "[encoded data removed]",
      "text/plain": [
       "<Figure size 432x288 with 1 Axes>"
      ]
     },
     "metadata": {
      "needs_background": "light"
     },
     "output_type": "display_data"
    }
   ],
   "source": [
    "#print(zealand.bounds)\n",
    "extremum_values_x = [np.min(zealand.bounds['minx']), np.max(zealand.bounds['maxx'])]\n",
    "extremum_values_y = [np.min(zealand.bounds['miny']), np.max(zealand.bounds['maxy'])]\n",
    "\n",
    "print('Extremum x values: ' , extremum_values_x)\n",
    "print('Extremum y values: ' , extremum_values_y)\n",
    "\n",
    "print('Plotting the smallest square covering Zealand...')\n",
    "# Extracting extremum values to draw the smallest square around Zealand:\n",
    "p1 = Point(np.min(zealand.bounds['minx']), np.min(zealand.bounds['miny']))\n",
    "p2 = Point(np.max(zealand.bounds['maxx']), np.min(zealand.bounds['miny']))\n",
    "p3 = Point(np.max(zealand.bounds['maxx']), np.max(zealand.bounds['maxy']))\n",
    "p4 = Point(np.min(zealand.bounds['minx']), np.max(zealand.bounds['maxy']))\n",
    "\n",
    "zealand.plot()\n",
    "zealand_square = [p1, p2, p3, p4]\n",
    "zealand_square = Polygon([[p.x, p.y] for p in zealand_square])\n",
    "x,y = zealand_square.exterior.xy\n",
    "plt.plot(x,y)\n",
    "\n",
    "#Hesselø is included in the sea of the North part of the box below, as it belongs to Region Hovedstaden.."
   ]
  },
  {
   "cell_type": "markdown",
   "metadata": {
    "colab_type": "text",
    "id": "SLjsQsY6oXRR"
   },
   "source": [
    "#### Interpolation of house prices\n",
    "\n",
    "\n",
    "In the following two exercises we aim to compute local spatial neighborhood measures of house prices in Sealand and around. We do this by making make a grid of Sealand houseprice data and using a neighborregressor to fill in data in squares that dont have any house sales. Thus the exercise will illustrate how to make a interpolation of data which is useful for feature engineering and get a good understanding of the data."
   ]
  },
  {
   "cell_type": "markdown",
   "metadata": {
    "colab_type": "text",
    "id": "kOBz3cYnoXRS"
   },
   "source": [
    "> **Ex. 9.2.4** Construct a 500mx500m grid for Sealand:\n",
    ">- Make a grid of points 500m apart in horizontal and vertical directions that are within the extremum values of Sealand's shape. Each pair $(e,n)$ in this grid should be the coordinates of the lower left corner in a 500x500 square.\n",
    ">- For each of these points construct a square polygon assuming that the point is the south west corner of the square. Do this using `cell_coords_to_polygons`.\n",
    ">- Use `gpd.sjoin` to take the intersection of the municipalities in sealand and the square grid you have constructed. Plot the resulting geodataframe.\n",
    ">\n",
    "> *Hint 1:* Once you have created the grid the following function below may be useful for converting into a GeoDataFrame. You need to specify the column names for your x and y coordinates.\n",
    ">\n",
    "> *Hint 2:* We can select the points that intersect by using a spatial join between the house locations and municipalities."
   ]
  },
  {
   "cell_type": "code",
   "execution_count": 40,
   "metadata": {
    "colab": {},
    "colab_type": "code",
    "id": "GuNmoaoRoXRT"
   },
   "outputs": [],
   "source": [
    "dk_crs = {'ellps': 'GRS80', 'no_defs': True, 'proj': 'utm', 'units': 'm', 'zone': 32}\n",
    "\n",
    "def cell_coords_to_polygons(square_df, x='e', y='n', dist=500, crs=dk_crs):\n",
    "    '''\n",
    "    Convert coordinates to squares in a GeoDataFrame.\n",
    "       \n",
    "    Parameters\n",
    "    ----------\n",
    "    x : str\n",
    "        Name of the horizontal coordinate (~longitude)            \n",
    "    y : str\n",
    "        Name of the vertical coordinate (~latitude)                        \n",
    "    dist : int or float\n",
    "        Size of polygons\n",
    "    crs : dict\n",
    "        Coordinate Reference System\n",
    "\n",
    "\n",
    "    Returns\n",
    "    ----------\n",
    "    squares_gdf: geopandas.GeoDataFrame\n",
    "        This table contains squares as geometry\n",
    "        and the original data.\n",
    "    '''\n",
    "    \n",
    "    def _to_square_polygon(row):\n",
    "        '''\n",
    "        This auxiliary function convert a square's lower,left \n",
    "        coordinates to a polygon. \n",
    "        \n",
    "        Parameters\n",
    "        ----------\n",
    "        row : pandas.Series\n",
    "            This is a DataFrame row.            \n",
    "        \n",
    "        Returns\n",
    "        ----------\n",
    "        poly: shapely.Polygon        \n",
    "        \n",
    "        '''\n",
    "        \n",
    "        square_coords = ((row[x], row[y]), \n",
    "                         (row[x]+dist, row[y]), \n",
    "                         (row[x]+dist, row[y]+dist), \n",
    "                         (row[x], row[y]+dist))\n",
    "        \n",
    "        poly = shapely.geometry.Polygon(square_coords)\n",
    "        \n",
    "        return poly\n",
    "    \n",
    "    # convert to polygons\n",
    "    square_geoms = gpd.GeoSeries(square_df.apply(_to_square_polygon, axis=1), crs=crs)\n",
    "    \n",
    "    # make GeoDataFrame\n",
    "    square_gdf = gpd.GeoDataFrame(data=square_df, geometry=square_geoms)\n",
    "    \n",
    "    return square_gdf"
   ]
  },
  {
   "cell_type": "code",
   "execution_count": 41,
   "metadata": {
    "colab": {
     "base_uri": "https://localhost:8080/",
     "height": 88
    },
    "colab_type": "code",
    "id": "Ym3Idj-XoXRY",
    "outputId": "26bf39e6-2e70-4506-b6f4-27a5b8ca03af"
   },
   "outputs": [
    {
     "data": {
      "text/plain": [
       "<matplotlib.axes._subplots.AxesSubplot at 0x19d7ab9c128>"
      ]
     },
     "execution_count": 41,
     "metadata": {},
     "output_type": "execute_result"
    },
    {
     "data": {
      "image/png": "[encoded data removed]",
      "text/plain": [
       "<Figure size 432x288 with 1 Axes>"
      ]
     },
     "metadata": {
      "needs_background": "light"
     },
     "output_type": "display_data"
    }
   ],
   "source": [
    "# [Your answer here]\n",
    "zealand =  zealand.to_crs({'ellps': 'GRS80', 'no_defs': True, 'proj': 'utm', 'units': 'm', 'zone': 32})\n",
    "\n",
    "e = []\n",
    "n = []\n",
    "for x in np.arange(np.min(zealand.bounds['minx']), np.max(zealand.bounds['maxx']), 500):\n",
    "    for y in np.arange(np.min(zealand.bounds['miny']), np.max(zealand.bounds['maxy']), 500):\n",
    "        e.append(x)\n",
    "        n.append(y)\n",
    "                \n",
    "e_n_list = list(zip(e, n))\n",
    "df_en_list = pd.DataFrame(e_n_list, columns =['e', 'n'])\n",
    "square_df = cell_coords_to_polygons(df_en_list)\n",
    "square_df = gpd.sjoin(square_df,zealand)\n",
    "square_df.plot()"
   ]
  },
  {
   "cell_type": "code",
   "execution_count": 42,
   "metadata": {},
   "outputs": [
    {
     "data": {
      "text/plain": [
       "{'ellps': 'GRS80', 'no_defs': True, 'proj': 'utm', 'units': 'm', 'zone': 32}"
      ]
     },
     "execution_count": 42,
     "metadata": {},
     "output_type": "execute_result"
    }
   ],
   "source": [
    "square_df.crs"
   ]
  },
  {
   "cell_type": "markdown",
   "metadata": {
    "colab_type": "text",
    "id": "QJUKc95hoXRe"
   },
   "source": [
    "> **Ex. 9.2.5**  Load the pre-structured data with house sales prices for Sealand. These data are available on Absalon as a .GeoJSON file. Construct a loop that for each year in the `sale_year` column \n",
    "> - extracts the house sales sold in this year, with a square meter price (`price_area`) between between 1000 and 120000. \n",
    "> - Selects the four columns `['sale_year', 'e', 'n', 'price_area']` and drops any rows with missing data. \n",
    "> - After preparing the data fit a `KNeighborsRegressor` with the coordinate columns `e` and `n` as features and the square-meter price as labels.\n",
    "> - Computes predictions `preds` where `e`, `n` are taken from the square grid geodataframe you constructed above. Add 250 to each value to predict at the midpoint of the square!\n",
    "> - creates a new column `p_{year}` in the square-grid geodataframe, containing `np.log10(preds)`\n",
    ">\n",
    "> Plot the grid data, coloring the grids by their predicted square meter price in 2012."
   ]
  },
  {
   "cell_type": "code",
   "execution_count": 43,
   "metadata": {
    "colab": {},
    "colab_type": "code",
    "id": "6Y66cQyxoXRg"
   },
   "outputs": [
    {
     "name": "stderr",
     "output_type": "stream",
     "text": [
      "C:\\Users\\Sigurd\\Anaconda3\\lib\\site-packages\\geopandas\\geodataframe.py:546: UserWarning: Boolean Series key will be reindexed to match DataFrame index.\n",
      "  result = super(GeoDataFrame, self).__getitem__(key)\n",
      "C:\\Users\\Sigurd\\Anaconda3\\lib\\site-packages\\ipykernel_launcher.py:12: FutureWarning: Method .as_matrix will be removed in a future version. Use .values instead.\n",
      "  if sys.path[0] == '':\n",
      "C:\\Users\\Sigurd\\Anaconda3\\lib\\site-packages\\ipykernel_launcher.py:13: FutureWarning: Method .as_matrix will be removed in a future version. Use .values instead.\n",
      "  del sys.path[0]\n",
      "C:\\Users\\Sigurd\\Anaconda3\\lib\\site-packages\\ipykernel_launcher.py:20: FutureWarning: Method .as_matrix will be removed in a future version. Use .values instead.\n",
      "C:\\Users\\Sigurd\\Anaconda3\\lib\\site-packages\\geopandas\\geodataframe.py:546: UserWarning: Boolean Series key will be reindexed to match DataFrame index.\n",
      "  result = super(GeoDataFrame, self).__getitem__(key)\n",
      "C:\\Users\\Sigurd\\Anaconda3\\lib\\site-packages\\ipykernel_launcher.py:12: FutureWarning: Method .as_matrix will be removed in a future version. Use .values instead.\n",
      "  if sys.path[0] == '':\n",
      "C:\\Users\\Sigurd\\Anaconda3\\lib\\site-packages\\ipykernel_launcher.py:13: FutureWarning: Method .as_matrix will be removed in a future version. Use .values instead.\n",
      "  del sys.path[0]\n",
      "C:\\Users\\Sigurd\\Anaconda3\\lib\\site-packages\\ipykernel_launcher.py:20: FutureWarning: Method .as_matrix will be removed in a future version. Use .values instead.\n"
     ]
    }
   ],
   "source": [
    "from sklearn.neighbors import KNeighborsRegressor\n",
    "price_gdf = gpd.read_file('houseprices.GeoJSON')\n",
    "years = price_gdf.sale_year.unique()\n",
    "for i in years:\n",
    "    price_gdf_yearly = price_gdf.loc[price_gdf.sale_year==i,['sale_year', 'e', 'n', 'price_area']] \n",
    "    # Assert price area\n",
    "    price_gdf_yearly = price_gdf_yearly[(price_gdf_yearly['price_area'] >= 1000) & (price_gdf['price_area'] <= 120000)]\n",
    "    # Drop potential NA's \n",
    "    price_gdf_yearly = price_gdf_yearly.dropna()\n",
    "    \n",
    "    # KNN Prebs\n",
    "    X = price_gdf_yearly.as_matrix(columns = ['e', 'n'])\n",
    "    Y = price_gdf_yearly.as_matrix(columns = ['price_area'])\n",
    "   \n",
    "    # Fit the model \n",
    "    model = KNeighborsRegressor()\n",
    "    model.fit(X,Y)\n",
    "  \n",
    "    # Predictions\n",
    "    X_pred = square_df.as_matrix(columns = ['e', 'n']) # Earlier e and n values\n",
    "    preds = model.predict(X_pred)\n",
    "    \n",
    "    # store results \n",
    "    square_df[f'price_area_{i}']= preds \n",
    "    square_df[f'p_{i}']= np.log10(preds)"
   ]
  },
  {
   "cell_type": "code",
   "execution_count": 163,
   "metadata": {},
   "outputs": [
    {
     "data": {
      "text/html": [
       "<div>\n",
       "<style scoped>\n",
       "    .dataframe tbody tr th:only-of-type {\n",
       "        vertical-align: middle;\n",
       "    }\n",
       "\n",
       "    .dataframe tbody tr th {\n",
       "        vertical-align: top;\n",
       "    }\n",
       "\n",
       "    .dataframe thead th {\n",
       "        text-align: right;\n",
       "    }\n",
       "</style>\n",
       "<table border=\"1\" class=\"dataframe\">\n",
       "  <thead>\n",
       "    <tr style=\"text-align: right;\">\n",
       "      <th></th>\n",
       "      <th>e</th>\n",
       "      <th>n</th>\n",
       "      <th>geometry</th>\n",
       "      <th>index_right</th>\n",
       "      <th>komkode</th>\n",
       "      <th>komnavn</th>\n",
       "      <th>area</th>\n",
       "      <th>regionskode</th>\n",
       "      <th>regionsnavn</th>\n",
       "      <th>Capital_Or_Zealand</th>\n",
       "      <th>Not_Bornholm</th>\n",
       "      <th>Kombineret</th>\n",
       "      <th>price_area_2012</th>\n",
       "      <th>p_2012</th>\n",
       "      <th>price_area_2013</th>\n",
       "      <th>p_2013</th>\n",
       "    </tr>\n",
       "  </thead>\n",
       "  <tbody>\n",
       "    <tr>\n",
       "      <th>258</th>\n",
       "      <td>617288.0</td>\n",
       "      <td>6.178782e+06</td>\n",
       "      <td>POLYGON ((617288.000 6178782.000, 617788.000 6...</td>\n",
       "      <td>30</td>\n",
       "      <td>0326</td>\n",
       "      <td>Kalundborg</td>\n",
       "      <td>5.916791e+08</td>\n",
       "      <td>1085</td>\n",
       "      <td>Region Sjælland</td>\n",
       "      <td>True</td>\n",
       "      <td>True</td>\n",
       "      <td>True</td>\n",
       "      <td>12786.143466</td>\n",
       "      <td>4.10674</td>\n",
       "      <td>17535.736551</td>\n",
       "      <td>4.243924</td>\n",
       "    </tr>\n",
       "    <tr>\n",
       "      <th>621</th>\n",
       "      <td>617788.0</td>\n",
       "      <td>6.178282e+06</td>\n",
       "      <td>POLYGON ((617788.000 6178282.000, 618288.000 6...</td>\n",
       "      <td>30</td>\n",
       "      <td>0326</td>\n",
       "      <td>Kalundborg</td>\n",
       "      <td>5.916791e+08</td>\n",
       "      <td>1085</td>\n",
       "      <td>Region Sjælland</td>\n",
       "      <td>True</td>\n",
       "      <td>True</td>\n",
       "      <td>True</td>\n",
       "      <td>12786.143466</td>\n",
       "      <td>4.10674</td>\n",
       "      <td>17535.736551</td>\n",
       "      <td>4.243924</td>\n",
       "    </tr>\n",
       "    <tr>\n",
       "      <th>622</th>\n",
       "      <td>617788.0</td>\n",
       "      <td>6.178782e+06</td>\n",
       "      <td>POLYGON ((617788.000 6178782.000, 618288.000 6...</td>\n",
       "      <td>30</td>\n",
       "      <td>0326</td>\n",
       "      <td>Kalundborg</td>\n",
       "      <td>5.916791e+08</td>\n",
       "      <td>1085</td>\n",
       "      <td>Region Sjælland</td>\n",
       "      <td>True</td>\n",
       "      <td>True</td>\n",
       "      <td>True</td>\n",
       "      <td>12786.143466</td>\n",
       "      <td>4.10674</td>\n",
       "      <td>17535.736551</td>\n",
       "      <td>4.243924</td>\n",
       "    </tr>\n",
       "    <tr>\n",
       "      <th>984</th>\n",
       "      <td>618288.0</td>\n",
       "      <td>6.177782e+06</td>\n",
       "      <td>POLYGON ((618288.000 6177782.000, 618788.000 6...</td>\n",
       "      <td>30</td>\n",
       "      <td>0326</td>\n",
       "      <td>Kalundborg</td>\n",
       "      <td>5.916791e+08</td>\n",
       "      <td>1085</td>\n",
       "      <td>Region Sjælland</td>\n",
       "      <td>True</td>\n",
       "      <td>True</td>\n",
       "      <td>True</td>\n",
       "      <td>12786.143466</td>\n",
       "      <td>4.10674</td>\n",
       "      <td>16394.769485</td>\n",
       "      <td>4.214705</td>\n",
       "    </tr>\n",
       "    <tr>\n",
       "      <th>985</th>\n",
       "      <td>618288.0</td>\n",
       "      <td>6.178282e+06</td>\n",
       "      <td>POLYGON ((618288.000 6178282.000, 618788.000 6...</td>\n",
       "      <td>30</td>\n",
       "      <td>0326</td>\n",
       "      <td>Kalundborg</td>\n",
       "      <td>5.916791e+08</td>\n",
       "      <td>1085</td>\n",
       "      <td>Region Sjælland</td>\n",
       "      <td>True</td>\n",
       "      <td>True</td>\n",
       "      <td>True</td>\n",
       "      <td>12786.143466</td>\n",
       "      <td>4.10674</td>\n",
       "      <td>17535.736551</td>\n",
       "      <td>4.243924</td>\n",
       "    </tr>\n",
       "  </tbody>\n",
       "</table>\n",
       "</div>"
      ],
      "text/plain": [
       "            e             n  \\\n",
       "258  617288.0  6.178782e+06   \n",
       "621  617788.0  6.178282e+06   \n",
       "622  617788.0  6.178782e+06   \n",
       "984  618288.0  6.177782e+06   \n",
       "985  618288.0  6.178282e+06   \n",
       "\n",
       "                                              geometry  index_right komkode  \\\n",
       "258  POLYGON ((617288.000 6178782.000, 617788.000 6...           30    0326   \n",
       "621  POLYGON ((617788.000 6178282.000, 618288.000 6...           30    0326   \n",
       "622  POLYGON ((617788.000 6178782.000, 618288.000 6...           30    0326   \n",
       "984  POLYGON ((618288.000 6177782.000, 618788.000 6...           30    0326   \n",
       "985  POLYGON ((618288.000 6178282.000, 618788.000 6...           30    0326   \n",
       "\n",
       "        komnavn          area  regionskode      regionsnavn  \\\n",
       "258  Kalundborg  5.916791e+08         1085  Region Sjælland   \n",
       "621  Kalundborg  5.916791e+08         1085  Region Sjælland   \n",
       "622  Kalundborg  5.916791e+08         1085  Region Sjælland   \n",
       "984  Kalundborg  5.916791e+08         1085  Region Sjælland   \n",
       "985  Kalundborg  5.916791e+08         1085  Region Sjælland   \n",
       "\n",
       "    Capital_Or_Zealand Not_Bornholm Kombineret  price_area_2012   p_2012  \\\n",
       "258               True         True       True     12786.143466  4.10674   \n",
       "621               True         True       True     12786.143466  4.10674   \n",
       "622               True         True       True     12786.143466  4.10674   \n",
       "984               True         True       True     12786.143466  4.10674   \n",
       "985               True         True       True     12786.143466  4.10674   \n",
       "\n",
       "     price_area_2013    p_2013  \n",
       "258     17535.736551  4.243924  \n",
       "621     17535.736551  4.243924  \n",
       "622     17535.736551  4.243924  \n",
       "984     16394.769485  4.214705  \n",
       "985     17535.736551  4.243924  "
      ]
     },
     "execution_count": 163,
     "metadata": {},
     "output_type": "execute_result"
    }
   ],
   "source": [
    "square_df.head()"
   ]
  },
  {
   "cell_type": "code",
   "execution_count": 65,
   "metadata": {},
   "outputs": [
    {
     "data": {
      "text/plain": [
       "Text(0.5, 1, '2013 - Prices')"
      ]
     },
     "execution_count": 65,
     "metadata": {},
     "output_type": "execute_result"
    },
    {
     "data": {
      "image/png": "[encoded data removed]",
      "text/plain": [
       "<Figure size 432x288 with 4 Axes>"
      ]
     },
     "metadata": {
      "needs_background": "light"
     },
     "output_type": "display_data"
    },
    {
     "data": {
      "image/png": "[encoded data removed]",
      "text/plain": [
       "<Figure size 432x288 with 1 Axes>"
      ]
     },
     "metadata": {
      "needs_background": "light"
     },
     "output_type": "display_data"
    },
    {
     "data": {
      "image/png": "[encoded data removed]",
      "text/plain": [
       "<Figure size 432x288 with 1 Axes>"
      ]
     },
     "metadata": {
      "needs_background": "light"
     },
     "output_type": "display_data"
    },
    {
     "data": {
      "image/png": "[encoded data removed]",
      "text/plain": [
       "<Figure size 432x288 with 1 Axes>"
      ]
     },
     "metadata": {
      "needs_background": "light"
     },
     "output_type": "display_data"
    },
    {
     "data": {
      "image/png": "[encoded data removed]",
      "text/plain": [
       "<Figure size 432x288 with 1 Axes>"
      ]
     },
     "metadata": {
      "needs_background": "light"
     },
     "output_type": "display_data"
    }
   ],
   "source": [
    "# Making subplots \n",
    "fig, ax= plt.subplots(2,2, constrained_layout=True)    \n",
    "ax[0,0] = square_df.plot(column='p_2012')\n",
    "ax[0,0].set_title('2012 - Prices\\n (log 10)')\n",
    "ax[0,1] = square_df.plot(column='price_area_2012')\n",
    "ax[0,1].set_title('2012 - Prices')\n",
    "ax[1,0] = square_df.plot(column='p_2013')\n",
    "ax[1,0].set_title('2013 - Prices\\n (log 10)')\n",
    "ax[1,1] = square_df.plot(column='price_area_2013')\n",
    "ax[1,1].set_title('2013 - Prices')\n"
   ]
  },
  {
   "cell_type": "code",
   "execution_count": null,
   "metadata": {},
   "outputs": [],
   "source": []
  }
 ],
 "metadata": {
  "colab": {
   "collapsed_sections": [],
   "name": "exercise_7.ipynb",
   "provenance": []
  },
  "kernelspec": {
   "display_name": "Python 3",
   "language": "python",
   "name": "python3"
  },
  "language_info": {
   "codemirror_mode": {
    "name": "ipython",
    "version": 3
   },
   "file_extension": ".py",
   "mimetype": "text/x-python",
   "name": "python",
   "nbconvert_exporter": "python",
   "pygments_lexer": "ipython3",
   "version": "3.7.3"
  }
 },
 "nbformat": 4,
 "nbformat_minor": 1
}
