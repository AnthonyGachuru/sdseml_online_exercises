{
 "cells": [
  {
   "cell_type": "code",
   "execution_count": 1,
   "metadata": {},
   "outputs": [],
   "source": [
    "# Create class\n",
    "class Clock:\n",
    "    \n",
    "    def __init__(self, time=0, hours = 24, cycle = 0):\n",
    "        self.t = time\n",
    "        self.h = hours\n",
    "        self.c = cycle\n",
    "        \n",
    "    def tick(self):\n",
    "        self.t += 1\n",
    "        self.c += 1\n",
    "        if self.t >= self.h: #sets the clock to 0, as soon it turns 24\n",
    "            self.t = 0\n",
    "\n",
    "    def __eq__(self, other):\n",
    "        return self.t == other\n",
    "# check        \n",
    "#x = Clock()\n",
    "#y = Clock(2)\n",
    "#x.t, x.h, x.c            \n",
    "#x.tick()\n",
    "#x.t, x.h, x.c\n",
    "            \n",
    "#print( x == y)"
   ]
  },
  {
   "cell_type": "code",
   "execution_count": 2,
   "metadata": {},
   "outputs": [
    {
     "name": "stdout",
     "output_type": "stream",
     "text": [
      "False\n"
     ]
    }
   ],
   "source": [
    "# create two clocks with different hours\n",
    "clock1 = Clock(1)\n",
    "clock2 = Clock(2)\n",
    "\n",
    "# test __eq__ (not equal)\n",
    "print(clock1 == clock2)"
   ]
  },
  {
   "cell_type": "code",
   "execution_count": 3,
   "metadata": {},
   "outputs": [
    {
     "name": "stdout",
     "output_type": "stream",
     "text": [
      "True\n"
     ]
    }
   ],
   "source": [
    "# make equal\n",
    "clock1.tick()\n",
    "\n",
    "# test __eq__ (equal)\n",
    "print(clock1 == clock2)"
   ]
  },
  {
   "cell_type": "code",
   "execution_count": 4,
   "metadata": {},
   "outputs": [
    {
     "name": "stdout",
     "output_type": "stream",
     "text": [
      "Cycles ran so far:  0\n",
      "Initially time:  3\n",
      "Number of cycles ran: 23\n",
      "Time after the number of cycles ran 2\n"
     ]
    }
   ],
   "source": [
    "# does the cycle work? create clock with time three\n",
    "clock3 = Clock(time=3)\n",
    "\n",
    "print(f'Cycles ran so far: ', clock3.c)\n",
    "print(f'Initially time: ', clock3.t)\n",
    "\n",
    "i = 0\n",
    "while i != 23:\n",
    "    clock3.tick()\n",
    "    i += 1\n",
    "    \n",
    "print(f'Number of cycles ran:', clock3.c)\n",
    "print(f'Time after the number of cycles ran', clock3.t)"
   ]
  },
  {
   "cell_type": "code",
   "execution_count": null,
   "metadata": {},
   "outputs": [],
   "source": []
  }
 ],
 "metadata": {
  "kernelspec": {
   "display_name": "Python 3",
   "language": "python",
   "name": "python3"
  },
  "language_info": {
   "codemirror_mode": {
    "name": "ipython",
    "version": 3
   },
   "file_extension": ".py",
   "mimetype": "text/x-python",
   "name": "python",
   "nbconvert_exporter": "python",
   "pygments_lexer": "ipython3",
   "version": "3.7.1"
  }
 },
 "nbformat": 4,
 "nbformat_minor": 2
}
