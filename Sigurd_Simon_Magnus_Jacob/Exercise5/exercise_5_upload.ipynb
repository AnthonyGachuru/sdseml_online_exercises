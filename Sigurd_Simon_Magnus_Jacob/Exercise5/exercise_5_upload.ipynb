{
  "nbformat": 4,
  "nbformat_minor": 0,
  "metadata": {
    "kernelspec": {
      "display_name": "Python 3",
      "language": "python",
      "name": "python3"
    },
    "language_info": {
      "codemirror_mode": {
        "name": "ipython",
        "version": 3
      },
      "file_extension": ".py",
      "mimetype": "text/x-python",
      "name": "python",
      "nbconvert_exporter": "python",
      "pygments_lexer": "ipython3",
      "version": "3.7.3"
    },
    "colab": {
      "name": "exercise_5_upload.ipynb",
      "provenance": []
    }
  },
  "cells": [
    {
      "cell_type": "markdown",
      "metadata": {
        "id": "dNqWvhAHXBuV",
        "colab_type": "text"
      },
      "source": [
        "## Exercise set 4: the generalized random forest\n",
        "\n",
        "In this exercise set we will be working with the [generalized random forest](https://github.com/grf-labs/grf) by Athey et al. The package is written for the R programming language, and while there is a R-to-python interface in [rpy2](https://rpy2.bitbucket.io/) it can be tricky to get working. If you run into trouble, you can consider saving your data to a csv file and work directly in [R](https://www.r-project.org/) through [Rstudio](https://rstudio.com/products/rstudio/download/). "
      ]
    },
    {
      "cell_type": "code",
      "metadata": {
        "id": "8OEZuK91XBuY",
        "colab_type": "code",
        "colab": {}
      },
      "source": [
        "import requests\n",
        "import pandas as pd \n",
        "import numpy as np \n",
        "import matplotlib.pyplot as plt\n",
        "from sklearn.datasets import make_classification"
      ],
      "execution_count": 0,
      "outputs": []
    },
    {
      "cell_type": "markdown",
      "metadata": {
        "id": "4E0BnTrlXBug",
        "colab_type": "text"
      },
      "source": [
        "To highlight the usefulness of GRF we will be working with synthetic data in this exercise. In particular we will synthetically add a treatment effect to a dataset in which there otherwise is none. Furthermore we will make this effect heterogeneous by adding noise, and by making it depend on a single continuous variable as well as a categorical variable. \n",
        "\n",
        ">**Ex. 4.1.1:** Complete the code below to simulate data according to\n",
        "$$\n",
        "T = U(0,1) > 0.5 \\\\ \n",
        "Y(T=0) = X\\beta + \\epsilon \\\\ \n",
        "\\tau(X) =  \\begin{cases}\n",
        "        \\frac{10}{1 + e^{-\\gamma X_0}} + \\nu & D = 0\\\\ \n",
        "        \\nu & D = 1\n",
        "        \\end{cases}\\\\ \n",
        "Y(T=1) = Y(0) + \\tau(X) \\\\ \n",
        "$$\n",
        "where $\\epsilon, \\nu$ are simply noise terms distributed according to $\\mathcal{N}(0,1)$ and $\\beta$ is an `N_FEATURES` vector of random parameters. $\\gamma$ is a scalar parameter.\n"
      ]
    },
    {
      "cell_type": "code",
      "metadata": {
        "id": "NisvdChUXBuk",
        "colab_type": "code",
        "colab": {}
      },
      "source": [
        "# Set seed for recreation of data \n",
        "np.random.seed(5)\n",
        "# Scalar specified \n",
        "GAMMA = 3\n",
        "\n",
        "# Feature and sample size \n",
        "N_SAMPLES = 10000\n",
        "N_FEATURES = 5\n",
        "\n",
        "# Draw uniformly beta coefficients and assign treatment \n",
        "BETA = np.random.uniform(0,1, size = N_FEATURES)\n",
        "T = np.random.uniform(0,1, size = N_SAMPLES) > 0.5\n",
        "\n",
        "# Draw features and realizations for D - treatment effect \n",
        "X = np.random.normal(size = (N_SAMPLES, N_FEATURES))\n",
        "D = np.random.choice([0,1], size = N_SAMPLES)\n",
        "\n",
        "# Assign values for outome variable for treatment Y(T=1) and non-treatment Y(T=0)\n",
        "Y0 = X @ BETA + np.random.normal()\n",
        "Tau = (1-D)*(10/(1+np.exp(-GAMMA*X[:,0]))) + np.random.normal()\n",
        "Y1 = Y0 + Tau \n",
        "\n",
        "# Outcome variable can be described as - See lecture notes\n",
        "y = Y0 + T * (Y1 - Y0) \n"
      ],
      "execution_count": 0,
      "outputs": []
    },
    {
      "cell_type": "markdown",
      "metadata": {
        "id": "WpgRIaI5XBup",
        "colab_type": "text"
      },
      "source": [
        "**Ex. 4.1.2:** Create a two-subplot figure, and plot $Y(0)$ and $Y(1)$ in one subplot against $X_0$. Plot $\\tau(x)$ against $X_0$ in the other subplot. What do you see? Why do we observe $\\tau=0$ in many cases?"
      ]
    },
    {
      "cell_type": "code",
      "metadata": {
        "id": "UiJnDEb5XBur",
        "colab_type": "code",
        "colab": {
          "base_uri": "https://localhost:8080/",
          "height": 458
        },
        "outputId": "4681d5c9-26d1-4972-b6fe-3d2b76560d5e"
      },
      "source": [
        "import seaborn as sns\n",
        "%matplotlib inline\n",
        "sns.jointplot(X[:,0], Tau)\n"
      ],
      "execution_count": 3,
      "outputs": [
        {
          "output_type": "execute_result",
          "data": {
            "text/plain": [
              "<seaborn.axisgrid.JointGrid at 0x7f23e3f85860>"
            ]
          },
          "metadata": {
            "tags": []
          },
          "execution_count": 3
        },
        {
          "output_type": "display_data",
          "data": {
            "image/png": "[encoded data removed]",
            "text/plain": [
              "<Figure size 432x432 with 3 Axes>"
            ]
          },
          "metadata": {
            "tags": []
          }
        }
      ]
    },
    {
      "cell_type": "code",
      "metadata": {
        "id": "YNs8hp35XBux",
        "colab_type": "code",
        "colab": {
          "base_uri": "https://localhost:8080/",
          "height": 391
        },
        "outputId": "6ab842ad-c02a-4480-de04-315bf7385df5"
      },
      "source": [
        "# Your answer here\n",
        "fig = plt.figure(figsize=(12,6))\n",
        "ax = fig.add_subplot(1,2,1)\n",
        "ax.scatter(X[:,0],Y1)\n",
        "ax.scatter(X[:,0],Y0)\n",
        "\n",
        "ax = fig.add_subplot(1,2,2)\n",
        "ax.scatter(X[:,0],Tau)"
      ],
      "execution_count": 4,
      "outputs": [
        {
          "output_type": "execute_result",
          "data": {
            "text/plain": [
              "<matplotlib.collections.PathCollection at 0x7f23e0486198>"
            ]
          },
          "metadata": {
            "tags": []
          },
          "execution_count": 4
        },
        {
          "output_type": "display_data",
          "data": {
            "image/png": "[encoded data removed]",
            "text/plain": [
              "<Figure size 864x432 with 2 Axes>"
            ]
          },
          "metadata": {
            "tags": []
          }
        }
      ]
    },
    {
      "cell_type": "code",
      "metadata": {
        "id": "7OglAok9j2sD",
        "colab_type": "code",
        "colab": {}
      },
      "source": [
        "# Comments: \n",
        "# Above we see the difference in the treatment effects.\n",
        "# Notice we get tau = 0 in many cases, when nu (v) = 0\n",
        "# This is because nu is a standard normally distribution random variable N(0,1)"
      ],
      "execution_count": 0,
      "outputs": []
    },
    {
      "cell_type": "markdown",
      "metadata": {
        "id": "JVP0YhAfXBu4",
        "colab_type": "text"
      },
      "source": [
        ">**Ex 4.1.3.** Import `statsmodels` and estimate a simple linear regression\n",
        "$$\n",
        "y = \\alpha + \\delta_0 T + \\sum_k \\beta_k X_k + \\epsilon\n",
        "$$\n",
        ">What is your estimate of $\\hat{\\delta}_0$? How does this number fit with the figures you drew in the previous exercise? Do you have any suggestions for improving the estimate of the model, comment on whether your improvements would provide unbiased estimates of $\\tau$? \n",
        ">\n",
        "> **Bonus:** fit your improved model, and relate the parameters you estimate to the figure you plotted in the previous question."
      ]
    },
    {
      "cell_type": "code",
      "metadata": {
        "id": "YD7fOYVZXBu5",
        "colab_type": "code",
        "colab": {
          "base_uri": "https://localhost:8080/",
          "height": 238
        },
        "outputId": "b8c0dbd4-2034-4860-93c0-6493adf41d9a"
      },
      "source": [
        "# Your answer here\n",
        "import statsmodels.api as sm\n",
        "from patsy import dmatrices\n",
        "\n",
        "y, X_cons = dmatrices('y ~ + T + X')\n",
        "print(X_cons)"
      ],
      "execution_count": 38,
      "outputs": [
        {
          "output_type": "stream",
          "text": [
            "[[ 1.          1.         -0.23967382 ...  0.29824426  0.38728735\n",
            "   2.27139476]\n",
            " [ 1.          1.          1.20550271 ... -0.06580057  0.96874037\n",
            "  -2.08261995]\n",
            " [ 1.          1.         -0.29915526 ...  0.32775133  0.97091645\n",
            "   1.2270708 ]\n",
            " ...\n",
            " [ 1.          0.         -2.64923719 ... -0.29770504 -0.05833215\n",
            "  -0.88578658]\n",
            " [ 1.          0.          0.47486621 ... -1.61158276 -0.23039479\n",
            "  -0.79418852]\n",
            " [ 1.          0.         -1.17228683 ... -0.25691137 -0.72180495\n",
            "   0.6947227 ]]\n"
          ],
          "name": "stdout"
        }
      ]
    },
    {
      "cell_type": "code",
      "metadata": {
        "id": "E5-D101cXBvC",
        "colab_type": "code",
        "colab": {
          "base_uri": "https://localhost:8080/",
          "height": 578
        },
        "outputId": "ec042207-795c-44fd-fe69-9949c5fe658d"
      },
      "source": [
        "model = sm.OLS(y,X_cons)\n",
        "results = model.fit()\n",
        "results.params\n",
        "print(results.summary())"
      ],
      "execution_count": 40,
      "outputs": [
        {
          "output_type": "stream",
          "text": [
            "                            OLS Regression Results                            \n",
            "==============================================================================\n",
            "Dep. Variable:                      y   R-squared:                       0.569\n",
            "Model:                            OLS   Adj. R-squared:                  0.569\n",
            "Method:                 Least Squares   F-statistic:                     2197.\n",
            "Date:                Mon, 16 Mar 2020   Prob (F-statistic):               0.00\n",
            "Time:                        13:42:37   Log-Likelihood:                -22997.\n",
            "No. Observations:               10000   AIC:                         4.601e+04\n",
            "Df Residuals:                    9993   BIC:                         4.606e+04\n",
            "Df Model:                           6                                         \n",
            "Covariance Type:            nonrobust                                         \n",
            "==============================================================================\n",
            "                 coef    std err          t      P>|t|      [0.025      0.975]\n",
            "------------------------------------------------------------------------------\n",
            "Intercept      0.7265      0.034     21.276      0.000       0.660       0.793\n",
            "T[T.True]      4.3533      0.048     90.177      0.000       4.259       4.448\n",
            "X[0]           1.0209      0.024     42.521      0.000       0.974       1.068\n",
            "X[1]           0.8629      0.024     35.656      0.000       0.815       0.910\n",
            "X[2]           0.1636      0.024      6.765      0.000       0.116       0.211\n",
            "X[3]           0.9467      0.024     39.361      0.000       0.900       0.994\n",
            "X[4]           0.4950      0.024     20.766      0.000       0.448       0.542\n",
            "==============================================================================\n",
            "Omnibus:                     1581.196   Durbin-Watson:                   2.010\n",
            "Prob(Omnibus):                  0.000   Jarque-Bera (JB):             2490.327\n",
            "Skew:                           1.106   Prob(JB):                         0.00\n",
            "Kurtosis:                       4.040   Cond. No.                         2.62\n",
            "==============================================================================\n",
            "\n",
            "Warnings:\n",
            "[1] Standard Errors assume that the covariance matrix of the errors is correctly specified.\n",
            "Unnamed: 0     5000.500000\n",
            "predictions       4.394257\n",
            "dtype: float64\n"
          ],
          "name": "stdout"
        }
      ]
    },
    {
      "cell_type": "code",
      "metadata": {
        "id": "mzL83B9ElW6M",
        "colab_type": "code",
        "colab": {
          "base_uri": "https://localhost:8080/",
          "height": 34
        },
        "outputId": "ffa85d33-ce3e-4797-9ec6-31858d37c800"
      },
      "source": [
        "# From reading the model T[T.True] gives us 4.3533 as an estimate.\n",
        "\n",
        "# This estimate fit nicely the estimate from the figures before:\n",
        "np.mean(Tau)[1]"
      ],
      "execution_count": 46,
      "outputs": [
        {
          "output_type": "execute_result",
          "data": {
            "text/plain": [
              "4.394256783224497"
            ]
          },
          "metadata": {
            "tags": []
          },
          "execution_count": 46
        }
      ]
    },
    {
      "cell_type": "markdown",
      "metadata": {
        "id": "HI4D0sxKXBvH",
        "colab_type": "text"
      },
      "source": [
        ">**Ex. 4.1.4:** For this question we will need to move into R (or use rpy2). If you are working in python you can skip this step, otherwise do the following. \n",
        ">\n",
        "> Save a dataframe, containing $X$, $y$, $T$, and $D$ as a csv file on your computer."
      ]
    },
    {
      "cell_type": "code",
      "metadata": {
        "id": "5lgGjG_YXBvI",
        "colab_type": "code",
        "colab": {}
      },
      "source": [
        "# Dataframe for storing variables\n",
        "data=pd.DataFrame(X, columns=['X0', 'X1', 'X2', 'X3', 'X4']) \n",
        "#data = pd.DataFrame(X)\n",
        "data['y'] = y\n",
        "data['D'] = D\n",
        "data['T'] = T\n",
        "data.head()\n",
        "# Export to csv-file for use in R \n",
        "\n",
        "from google.colab import files\n",
        "data.to_csv('data.csv') \n",
        "files.download('data.csv')"
      ],
      "execution_count": 0,
      "outputs": []
    },
    {
      "cell_type": "markdown",
      "metadata": {
        "id": "Zpi3T0L2XBvN",
        "colab_type": "text"
      },
      "source": [
        ">**Ex. 4.1.5:** Open up R and read the data you just saved into a dataframe(or work in rpy2). Install and load the two libraries `tidyverse` and `grf`.\n",
        ">\n",
        "> _Hint:_ to install the required packages. run this:\n",
        "> ```R\n",
        "> install.packages(\"tidyverse\")\n",
        "> install.packages(\"grf\")\n",
        "> ```"
      ]
    },
    {
      "cell_type": "code",
      "metadata": {
        "id": "ctv2nGExXBvP",
        "colab_type": "code",
        "colab": {}
      },
      "source": [
        "# Your answer either here, or in R\n",
        "\n",
        "# COPY THIS CODE BELOW IN R: \n",
        "\n",
        "setwd(dirname(rstudioapi::getActiveDocumentContext()$path))\n",
        "# install.packages(\"rstudioapi\")\n",
        "\n",
        "# Ex. 4.1.5\n",
        "install.packages(\"tidyverse\")\n",
        "install.packages(\"grf\")\n",
        "library(magrittr)\n",
        "library(dplyr)\n",
        "library(grf)\n",
        "\n",
        "df <- read.csv(file = 'data.csv')\n",
        "\n",
        "X <- df %>%\n",
        "  select(X0, X1, X2, X3, X4, D) %>% \n",
        "  as.matrix()\n",
        "\n",
        "y <- df %>%\n",
        "  select(y) %>% \n",
        "  as.matrix()\n",
        "\n",
        "W <- df %>%\n",
        "  select(T) %>% \n",
        "  as.matrix()\n",
        "\n",
        "for (i in 1:length(W)){\n",
        "  if( W[i]==\"True\"){\n",
        "    W[i] = 1\n",
        "  }\n",
        "  else if (W[i] == \"False\"){\n",
        "    W[i] = 0\n",
        "  }\n",
        "}\n",
        "\n",
        "W = as.numeric(W)\n",
        "\n",
        "# Estimating the GRF model in R:\n",
        "tau.forest <- causal_forest(X, y, W)\n",
        "tau <- predict(tau.forest, X)\n",
        "\n",
        "write.csv(tau, \"individual_treatment_effects.csv\")"
      ],
      "execution_count": 0,
      "outputs": []
    },
    {
      "cell_type": "markdown",
      "metadata": {
        "id": "4boC6TKMXBvY",
        "colab_type": "text"
      },
      "source": [
        ">**Ex. 4.1.5:** Copy the following code into R to split your dataframe into two matrices, `X`, and `y`. Implement the exact same procedure to create a third matrix `W` which contains the treatment indicator (**Note** `T` is a reserved name in R, so name your third matrix `W`).\n",
        ">```R\n",
        ">X <- df %>%\n",
        "  select(X0, X1, X2, X3, X4, D) %>% \n",
        "  as.matrix()\n",
        ">\n",
        ">y <- df %>%\n",
        "  select(y) %>% \n",
        "  as.matrix()\n",
        ">```\n",
        "> Finally spend some time poking around the [GRF documentation](https://github.com/grf-labs/grf). See if you can figure out how to estimate a GRF model, once you have the three matrices you need (this is way simpler than you might expect)."
      ]
    },
    {
      "cell_type": "code",
      "metadata": {
        "id": "EambMZ7zXBvZ",
        "colab_type": "code",
        "colab": {}
      },
      "source": [
        "# Your answer either here, or in R"
      ],
      "execution_count": 0,
      "outputs": []
    },
    {
      "cell_type": "markdown",
      "metadata": {
        "id": "OLU-4xTMXBvc",
        "colab_type": "text"
      },
      "source": [
        ">**Ex.4.1.6:** Estimate a causal forest model using the GRF package, and store the result in a new variable `cf`. Then use the following line to create a dataframe of predicted treatment effects on the same data that you trained the model on. \n",
        ">```R\n",
        ">cf <- # Estimate a generalized RF model aimed at treatment effects.\n",
        ">tau <- predict(cf, X)\n",
        ">```\n",
        "> Once you have your individual treatment effects, run the following line, to save them in a csv file. \n",
        "> ```R\n",
        "> write.csv(tau, \"individual_treatment_effects.csv\")\n",
        "> ```"
      ]
    },
    {
      "cell_type": "code",
      "metadata": {
        "id": "_jCu8CD7XBvd",
        "colab_type": "code",
        "colab": {}
      },
      "source": [
        "# Your answer either here, or in R"
      ],
      "execution_count": 0,
      "outputs": []
    },
    {
      "cell_type": "markdown",
      "metadata": {
        "id": "tZNO6Iq1XBvj",
        "colab_type": "text"
      },
      "source": [
        ">**Ex.4.1.6:** This concludes our venture into R. Now load the treatment effects into a pandas dataframe, and plot a scatterplot of the estimated individual treatment effects against the simulated \"true\" ITE's `Tau` that you produced in the beginning of this exercise set."
      ]
    },
    {
      "cell_type": "code",
      "metadata": {
        "id": "T29qrM5lXBvk",
        "colab_type": "code",
        "colab": {
          "base_uri": "https://localhost:8080/",
          "height": 629
        },
        "outputId": "2a979876-e993-47da-d620-96ed4016b4fc"
      },
      "source": [
        "# Your answer either here\n",
        "#url = 'https://jumpshare.com/v/7T2mZawWaS4Np35Ef0UE'\n",
        "#url = 'https://jmp.sh/BfPjt9G'\n",
        "url = 'https://raw.githubusercontent.com/jacobshein/uploads/master/individual_treatment_effects.csv'\n",
        "\n",
        "Tau = pd.read_csv(url)\n",
        "#preds = pd.read_csv(url, error_bad_lines=False)\n",
        "#df = pd.read_csv(url, sep='delimiter', header=None)\n",
        "\n",
        "print(preds)\n",
        "\n",
        "fig = plt.figure(figsize=(12,6))\n",
        "ax = fig.add_subplot(1,2,2)\n",
        "ax.scatter(preds,Tau)\n",
        "\n",
        "# Our predictions lie exactly ontop of the actual/simulated DGP."
      ],
      "execution_count": 35,
      "outputs": [
        {
          "output_type": "stream",
          "text": [
            "      Unnamed: 0  predictions\n",
            "0              1     4.700523\n",
            "1              2    11.144478\n",
            "2              3     1.869538\n",
            "3              4     8.479717\n",
            "4              5     1.931558\n",
            "...          ...          ...\n",
            "9995        9996    11.780341\n",
            "9996        9997     1.907769\n",
            "9997        9998     2.092843\n",
            "9998        9999     9.879901\n",
            "9999       10000     2.278354\n",
            "\n",
            "[10000 rows x 2 columns]\n"
          ],
          "name": "stdout"
        },
        {
          "output_type": "execute_result",
          "data": {
            "text/plain": [
              "<matplotlib.collections.PathCollection at 0x7f23d37e6668>"
            ]
          },
          "metadata": {
            "tags": []
          },
          "execution_count": 35
        },
        {
          "output_type": "display_data",
          "data": {
            "image/png": "[encoded data removed]",
            "text/plain": [
              "<Figure size 864x432 with 1 Axes>"
            ]
          },
          "metadata": {
            "tags": []
          }
        }
      ]
    }
  ]
}