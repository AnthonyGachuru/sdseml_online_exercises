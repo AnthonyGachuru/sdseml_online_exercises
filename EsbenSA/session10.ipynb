{
 "cells": [
  {
   "cell_type": "code",
   "execution_count": 68,
   "metadata": {},
   "outputs": [],
   "source": [
    "%matplotlib inline\n",
    "import matplotlib.pylab as plt\n",
    "import networkx as nx           # 'pip install networkx'\n",
    "import json\n",
    "from collections import Counter\n",
    "import community                # 'pip install python-louvain' or 'conda install -c auto python-louvain'\n",
    "import pandas as pd\n",
    "import numpy as np"
   ]
  },
  {
   "cell_type": "code",
   "execution_count": null,
   "metadata": {},
   "outputs": [],
   "source": [
    "# Ex. 10.1.1: The method described above works for anything you might want to measure in a network. Let's say, instead of \n",
    "# measuring the number of triangles, you measured the network diameter. Explain in your own words how to assess the statistical \n",
    "# significance (the p-value) of such a measurement, using the same null model.\n",
    "\n",
    "# to assess wheter the observed network diameter is statistical significant different from a null model, where the links where\n",
    "# randomly distributed we apply the described simulation procedure. For each simulation we obtain a random network and \n",
    "# calculate the diameter of each network. Given the simulated diameters we can calculate the probability of realizing the\n",
    "# the observed diameter given our null hypothesis of random network. This probability is given by the fraction of simulated\n",
    "# diameters that are equal to or greater than the observed diameter."
   ]
  },
  {
   "cell_type": "code",
   "execution_count": null,
   "metadata": {},
   "outputs": [],
   "source": [
    "# Ex. 10.1.2: The null model described above rewires a network while preserving the degree distribution. Here is implementation \n",
    "# of it in NetworkX. In your own words, describe:\n",
    "\n",
    "# 1. How it works and why it achieves randomness without changing the degree distribution.\n",
    "# 2. Also describe what can sometimes happen and why the desired number of swaps nswaps is only an upper-bound on the number of \n",
    "# swaps.\n",
    "\n",
    "# the double_edge_swap procedure changes nswap*2 links randomely. Since the new links are randomely set there is a positive \n",
    "# probability that some of the new links are identical to some of the links in the original network."
   ]
  },
  {
   "cell_type": "code",
   "execution_count": 96,
   "metadata": {},
   "outputs": [],
   "source": [
    "# Ex. 10.1.3: Load the Facebook wall-post network from last week, into a networkx.Graph object called G.\n",
    "\n",
    "data = pd.read_csv(\n",
    "    'facebook-wall.txt.gz', \n",
    "    compression='gzip',\n",
    "    delimiter=\"\\t\",\n",
    "    header=None,\n",
    "    names=['user1', 'user2', 'timestamp'], \n",
    "    sep=' ', quotechar='\"', error_bad_lines=False)\n",
    "\n",
    "\n",
    "\n",
    "def SliceDiGraph(data,t0,t1):\n",
    "    # Subset of the pandas dataframe\n",
    "    data_t = data.loc[data.timestamp.between(t0, t1)]\n",
    "\n",
    "    # Count the number of times each link occurs and store that in a new 'weight' column\n",
    "    data_t = data_t.groupby(['user1', 'user2']).size().reset_index(name='weight')\n",
    "\n",
    "    # Create a `nx.DiGraph` from this dataframe\n",
    "    G_t = nx.from_pandas_edgelist(data_t, 'user1', 'user2', 'weight', create_using=nx.DiGraph)\n",
    "    return G_t\n",
    "\n",
    "t0 = data.timestamp.min() # Lower bound of time-slice (here: 365 days before last wall post)\n",
    "t1 = data.timestamp.max() # Lower bound of time-slice\n",
    "\n",
    "G0 = SliceDiGraph(data,t0,t1)\n",
    "\n",
    "# double_edge_swap can only handle undirected network. Hence, I transform network from directed network to undirected network:\n",
    "G = G0.to_undirected() \n",
    "# Note that this is major change of the original data and changes the interpretation of the network."
   ]
  },
  {
   "cell_type": "code",
   "execution_count": 97,
   "metadata": {},
   "outputs": [
    {
     "name": "stdout",
     "output_type": "stream",
     "text": [
      "1. ALCC = 0.10796398386235195\n",
      "2. Average mean ALCC = 0.0043701560697643645\n"
     ]
    }
   ],
   "source": [
    "# 1. Measure the average local clustering coefficient (ALCC) of G. Print it.\n",
    "# 2. Over 1000 iterations, measure the ALCC for G where, in each iteration, you have made 1000 edge swaps using double_edge_swap. \n",
    "# Append the measured ALCC values to a list. Print the average of this list. *Note: this will obviously take some time**.\n",
    "# 3. Report the p-value of your result, the ALCC of the real data.\n",
    "# 4. Make a histogram that displays the distribution of ALCC values in the null models as a histogram as well as the ALCC of the \n",
    "# real data as a vertical line. Comment on this result. Does it make sense?\n",
    "\n",
    "ALCC_G = nx.average_clustering(G, nodes=None, weight=None, count_zeros=True)\n",
    "print('1. ALCC =',ALCC_G)\n",
    "\n",
    "N=1000\n",
    "ALCC_H = np.zeros(N)\n",
    "\n",
    "for i in range(0, N):\n",
    "    H = nx.double_edge_swap(G, nswap=1000, max_tries=10000)\n",
    "    ALCC_H[i] = nx.average_clustering(H, nodes=None, weight=None, count_zeros=True)\n",
    "    \n",
    "A = np.mean(ALCC_H)\n",
    "print('2. Average mean ALCC =', A)\n"
   ]
  },
  {
   "cell_type": "code",
   "execution_count": 112,
   "metadata": {},
   "outputs": [
    {
     "name": "stdout",
     "output_type": "stream",
     "text": [
      "p-value = pr(ALCC>=0.1079|H_0) = 0.0\n",
      "number of simulated networks with ALCC>=0.1079:  0\n",
      "max simulated ALCC:  0.10451280521997783\n"
     ]
    },
    {
     "data": {
      "text/plain": [
       "<matplotlib.lines.Line2D at 0x17712495408>"
      ]
     },
     "execution_count": 112,
     "metadata": {},
     "output_type": "execute_result"
    },
    {
     "data": {
      "image/png": "[encoded data removed]",
      "text/plain": [
       "<Figure size 432x288 with 1 Axes>"
      ]
     },
     "metadata": {
      "needs_background": "light"
     },
     "output_type": "display_data"
    }
   ],
   "source": [
    "dum = (ALCC_H>=ALCC_G) \n",
    "pval = np.sum(dum)/N\n",
    "print('p-value = pr(ALCC>=0.1079|H_0) =',pval)\n",
    "print('number of simulated networks with ALCC>=0.1079: ',np.sum(dum))\n",
    "print('max simulated ALCC: ',np.max(ALCC_H))\n",
    "# None of the simulated networks results in an ALCC greater or equal to 0.1079. Hence, the resulting p-value is 0.0\n",
    "\n",
    "plt.plot()\n",
    "\n",
    "plt.title(\"Histogram: Clustering coefficient\")\n",
    "plt.ylabel(\"Count\")\n",
    "plt.xlabel(\"Clustering coefficient\")\n",
    "\n",
    "plt.hist(ALCC_H,bins=100)\n",
    "plt.axvline(x=ALCC_G, color='r', linestyle='dashed', linewidth=2)\n",
    "# The simulated networks have all an ALCC close to zero."
   ]
  },
  {
   "cell_type": "code",
   "execution_count": null,
   "metadata": {},
   "outputs": [],
   "source": [
    "# Ex. 10.2.1:\n",
    "\n",
    "# 1.: i and j refers to column and row of the adjacency matrix, A, respectively. Hence, i and j refers to two nodes of the\n",
    "# network.\n",
    "\n",
    "# 2.: the delta function tells us whether node i and node j belongs to the same modules. Hence, the delta function is\n",
    "# just an identicator function that equals one if i and j belongs to the same modules.\n",
    "\n",
    "# 3.: k_i*k_j/(2m) is the expected number of links between node i and node j if the nodes are randomely linked. Hence, the\n",
    "# the null model is that the links are randomely set.\n",
    "\n",
    "# 4.: by including the delta function we implicitly count how many links fall within a given group and not just how many links\n",
    "# there exists between any nodes.\n",
    "\n",
    "# 5.: if we sum over the degree for each node this equal to two time the total number of links (2*m). Hence, this normalization \n",
    "# ensures that Q<=1.\n",
    "\n",
    "# 6.: Modularity is the fraction of the links that fall within the given group minus the expected fraction if the links\n",
    "# were distributed at random. It is positive if the number of links within groups exceeds the number of expected on the basis  \n",
    "# of chance."
   ]
  },
  {
   "cell_type": "code",
   "execution_count": 138,
   "metadata": {},
   "outputs": [],
   "source": [
    "A = np.array([\n",
    "    [0, 1, 1, 0, 0, 0],\n",
    "    [1, 0, 1, 0, 0, 0],\n",
    "    [1, 1, 0, 1, 0, 0],\n",
    "    [0, 0, 1, 0, 1, 1],\n",
    "    [0, 0, 0, 1, 0, 1],\n",
    "    [0, 0, 0, 1, 1, 0],\n",
    "])\n",
    "\n",
    "c = [0, 0, 0, 0, 1, 1]"
   ]
  },
  {
   "cell_type": "code",
   "execution_count": 139,
   "metadata": {},
   "outputs": [],
   "source": [
    "def modularity(A, c):\n",
    "    \"\"\"Compute modularity for a labeled network.\n",
    "    \n",
    "    Input\n",
    "    -----\n",
    "        A : numpy.array\n",
    "            Adjacency matrix. (N, N) square matrix.\n",
    "        c : list of ints\n",
    "            Community labels. Length N.\n",
    "    \n",
    "    Output\n",
    "    ------\n",
    "        out : float\n",
    "    \"\"\"\n",
    "    [N, M] = A.shape # Dimensions of A (N=M)\n",
    "\n",
    "    u1 = np.ones(N) # unit row vector\n",
    "    u2 = np.ones((N,1)) # unit column vector\n",
    "\n",
    "    k = u1.dot(A) # Vector containing the degree of each node\n",
    "    m = k.dot(u2) # Number of links\n",
    "    \n",
    "    L = 0\n",
    "    for i in range(0, N):\n",
    "        for j in range(0, N):\n",
    "            delta = (c[i]==c[j]) # delta function\n",
    "            L = (A[i,j] - (k[i]*k[j])/(2*m)) * delta + L\n",
    "        \n",
    "        \n",
    "    Q = (1/(2*m)) * L  # modularity of the graph      \n",
    "    return Q"
   ]
  },
  {
   "cell_type": "code",
   "execution_count": 140,
   "metadata": {},
   "outputs": [
    {
     "name": "stdout",
     "output_type": "stream",
     "text": [
      "[0.20918367]\n"
     ]
    }
   ],
   "source": [
    "Q = modularity(A, c)\n",
    "print(Q)"
   ]
  },
  {
   "cell_type": "code",
   "execution_count": 141,
   "metadata": {},
   "outputs": [
    {
     "name": "stdout",
     "output_type": "stream",
     "text": [
      "[0.30357143]\n"
     ]
    }
   ],
   "source": [
    "c_opt = [0, 0, 0, 1, 1, 1]\n",
    "Q_opt = modularity(A, c_opt)\n",
    "print(Q_opt)"
   ]
  },
  {
   "cell_type": "code",
   "execution_count": null,
   "metadata": {},
   "outputs": [],
   "source": []
  }
 ],
 "metadata": {
  "kernelspec": {
   "display_name": "Python 3",
   "language": "python",
   "name": "python3"
  },
  "language_info": {
   "codemirror_mode": {
    "name": "ipython",
    "version": 3
   },
   "file_extension": ".py",
   "mimetype": "text/x-python",
   "name": "python",
   "nbconvert_exporter": "python",
   "pygments_lexer": "ipython3",
   "version": "3.7.4"
  }
 },
 "nbformat": 4,
 "nbformat_minor": 2
}
