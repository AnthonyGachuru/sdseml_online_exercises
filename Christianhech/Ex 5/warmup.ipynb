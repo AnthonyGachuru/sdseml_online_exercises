{
 "cells": [
  {
   "cell_type": "code",
   "execution_count": 29,
   "metadata": {},
   "outputs": [
    {
     "name": "stdout",
     "output_type": "stream",
     "text": [
      " __eq__ called\n",
      "True\n"
     ]
    }
   ],
   "source": [
    "\n",
    "\n",
    "class Clock:\n",
    "    def __init__(self, hour):\n",
    "        self.hour = hour\n",
    "        self.cycle = 0\n",
    "        self.time = 0\n",
    "\n",
    "    def tick(self):\n",
    "        self.time = self.time + 1\n",
    "        if self.time == self.hour:\n",
    "        \tself.time = 0\n",
    "        \tself.cycle = self.cycle + 1\n",
    "\n",
    "    def __eq__(self, other):\n",
    "        print(\" __eq__ called\")\n",
    "        clock_1 = self.time + self.cycle*self.hour \n",
    "        clock_2 = other.time + other.cycle*other.hour\n",
    "        return clock_1 == clock_2 \n",
    "\n",
    "# Test if it works:\n",
    "c1 = Clock(1)\n",
    "c2 = Clock(2)\n",
    "\n",
    "c1.tick()\n",
    "c1.tick()    \t\n",
    "\n",
    "c2.tick()\n",
    "c2.tick()\n",
    "c2.tick()\n",
    "    \n",
    "print(c1 == c2)\n"
   ]
  },
  {
   "cell_type": "code",
   "execution_count": 12,
   "metadata": {},
   "outputs": [
    {
     "name": "stdout",
     "output_type": "stream",
     "text": [
      "None\n"
     ]
    }
   ],
   "source": []
  }
 ],
 "metadata": {
  "kernelspec": {
   "display_name": "Python 3",
   "language": "python",
   "name": "python3"
  },
  "language_info": {
   "codemirror_mode": {
    "name": "ipython",
    "version": 3
   },
   "file_extension": ".py",
   "mimetype": "text/x-python",
   "name": "python",
   "nbconvert_exporter": "python",
   "pygments_lexer": "ipython3",
   "version": "3.7.3"
  }
 },
 "nbformat": 4,
 "nbformat_minor": 4
}
