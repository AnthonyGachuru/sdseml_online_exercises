{
 "cells": [
  {
   "cell_type": "code",
   "execution_count": 41,
   "metadata": {},
   "outputs": [
    {
     "name": "stdout",
     "output_type": "stream",
     "text": [
      "1\n",
      "4\n",
      "30\n"
     ]
    }
   ],
   "source": [
    "def add(*argv, n=0):\n",
    "    for arg in argv:\n",
    "        n += arg\n",
    "    return n\n",
    "\n",
    "# Test\n",
    "print(add(1))\n",
    "print(add(1,1,1,1))\n",
    "print(add(1,1,1,1,1,1,1,1,1,1,1,1,1,1,1,1,1,1,1,1,1,1,1,1,1,1,1,1,1,1))"
   ]
  },
  {
   "cell_type": "code",
   "execution_count": 168,
   "metadata": {},
   "outputs": [
    {
     "name": "stdout",
     "output_type": "stream",
     "text": [
      "hello Kristian and hi Peter "
     ]
    }
   ],
   "source": [
    "def greet(**kwargs): \n",
    "    l = []\n",
    "    for key, value in kwargs.items(): \n",
    "        l.append(key+\" \"+value)\n",
    "        l.append(\"and\")\n",
    "    l = l[:-1]\n",
    "    for element in l:\n",
    "        print(element, end=\" \", flush=True)\n",
    "\n",
    "# Test\n",
    "greet(hello ='Kristian', hi ='Peter')"
   ]
  },
  {
   "cell_type": "code",
   "execution_count": null,
   "metadata": {},
   "outputs": [],
   "source": []
  }
 ],
 "metadata": {
  "kernelspec": {
   "display_name": "Python 3",
   "language": "python",
   "name": "python3"
  },
  "language_info": {
   "codemirror_mode": {
    "name": "ipython",
    "version": 3
   },
   "file_extension": ".py",
   "mimetype": "text/x-python",
   "name": "python",
   "nbconvert_exporter": "python",
   "pygments_lexer": "ipython3",
   "version": "3.7.3"
  }
 },
 "nbformat": 4,
 "nbformat_minor": 4
}
