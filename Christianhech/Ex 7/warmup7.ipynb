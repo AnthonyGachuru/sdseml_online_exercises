{
 "cells": [
  {
   "cell_type": "code",
   "execution_count": 29,
   "metadata": {},
   "outputs": [
    {
     "name": "stdout",
     "output_type": "stream",
     "text": [
      "Try number: 0\n",
      "Lets try again\n",
      "Try number: 1\n",
      "Lets try again\n",
      "Try number: 2\n",
      "Lets try again\n",
      "Try number: 3\n"
     ]
    },
    {
     "data": {
      "text/plain": [
       "'Success'"
      ]
     },
     "execution_count": 29,
     "metadata": {},
     "output_type": "execute_result"
    }
   ],
   "source": [
    "from random import uniform\n",
    "\n",
    "# Define the funciton (given in this warmup)\n",
    "def this_might_fail():\n",
    "    c = uniform(0,1) > 0.8\n",
    "    if c: return 'Success'\n",
    "    raise ValueError('c to small')\n",
    "    \n",
    "\n",
    "# Defining the decorator \"retry\"\n",
    "def retry(n):\n",
    "    def _decorator(fnc):\n",
    "        def _wrapped():\n",
    "            for i in range(n):\n",
    "                print('Try number: %s' % (i))\n",
    "                try:\n",
    "                    fnc()\n",
    "                    return fnc()\n",
    "                    break\n",
    "                except ValueError:\n",
    "                    print('Lets try again')\n",
    "        return _wrapped\n",
    "    return _decorator\n",
    "        \n",
    "        \n",
    "        \n",
    "# Testing the decorator \n",
    "decorator = retry(30) # This returns the decorator with k = 30\n",
    "loop_function = decorator(this_might_fail) # returns the wrapped\n",
    "loop_function() # Executes the wrapped which tries the function 30 times in a loop  "
   ]
  }
 ],
 "metadata": {
  "kernelspec": {
   "display_name": "Python 3",
   "language": "python",
   "name": "python3"
  },
  "language_info": {
   "codemirror_mode": {
    "name": "ipython",
    "version": 3
   },
   "file_extension": ".py",
   "mimetype": "text/x-python",
   "name": "python",
   "nbconvert_exporter": "python",
   "pygments_lexer": "ipython3",
   "version": "3.8.2"
  }
 },
 "nbformat": 4,
 "nbformat_minor": 4
}
