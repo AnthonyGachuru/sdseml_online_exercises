{
 "cells": [
  {
   "cell_type": "markdown",
   "metadata": {},
   "source": [
    "# Exercise set 7: Spatial data\n",
    "\n",
    "In this exercise set you will be working with structuring and plotting spatial data. \n",
    "- Exercise 9.1: basic shapes\n",
    "- Exercise 9.2: working with Geopandas and interpolation\n",
    "- Exercise 9.3: interactive plotting with folium\n",
    "\n",
    "We begin with loading the standard packages:\n"
   ]
  },
  {
   "cell_type": "code",
   "execution_count": 1,
   "metadata": {},
   "outputs": [],
   "source": [
    "import os\n",
    "import requests\n",
    "\n",
    "import numpy as np\n",
    "import pandas as pd\n",
    "import seaborn as sns\n",
    "\n",
    "import folium\n",
    "import geopandas as gpd\n",
    "import fiona\n",
    "import shapely\n",
    "\n",
    "%matplotlib inline"
   ]
  },
  {
   "cell_type": "code",
   "execution_count": 11,
   "metadata": {},
   "outputs": [],
   "source": [
    "from pyproj import _datadir, datadir"
   ]
  },
  {
   "cell_type": "markdown",
   "metadata": {},
   "source": [
    "## Exercises"
   ]
  },
  {
   "cell_type": "markdown",
   "metadata": {},
   "source": [
    "### Part 9.1: Working with spatial objects \n",
    "\n",
    "This exercise will serve as a brief tutorial on spatial data. We will learn how to make spatial shape and use their basic operations."
   ]
  },
  {
   "cell_type": "markdown",
   "metadata": {},
   "source": [
    "> **Ex. 9.1.1** Make a polygon which is square that has left,lower corner in 2,2 and right,upper in 5,5. Make a triangle passing through (0,0), (4,0) and (2,4). What do they look like? Store the two polygons respectively as `square` and `triangle`\n",
    "\n",
    "> *Hint*: the submodule shapely.geometry has methods such as `Point`, `Polygon` and `Multipolygon`"
   ]
  },
  {
   "cell_type": "code",
   "execution_count": 3,
   "metadata": {},
   "outputs": [],
   "source": [
    "from shapely.geometry import Polygon"
   ]
  },
  {
   "cell_type": "code",
   "execution_count": 4,
   "metadata": {},
   "outputs": [
    {
     "data": {
      "image/png": "[encoded data removed]",
      "text/plain": [
       "<Figure size 432x288 with 1 Axes>"
      ]
     },
     "metadata": {
      "needs_background": "light"
     },
     "output_type": "display_data"
    },
    {
     "data": {
      "image/png": "[encoded data removed]",
      "text/plain": [
       "<Figure size 432x288 with 1 Axes>"
      ]
     },
     "metadata": {
      "needs_background": "light"
     },
     "output_type": "display_data"
    }
   ],
   "source": [
    "import matplotlib.pyplot as plt\n",
    "square = Polygon([(2,2), (2,5), (5,5), (5,2)])\n",
    "triangle = Polygon([(0,0), (4,0), (2,4)])\n",
    "\n",
    "from shapely.geometry.polygon import LinearRing, Polygon\n",
    "\n",
    "x,y = square.exterior.xy\n",
    "x1,y1 = triangle.exterior.xy\n",
    "\n",
    "# Plot Square\n",
    "plt.plot(x,y, color='red')\n",
    "plt.title('Square')\n",
    "plt.show()\n",
    "# Plot Triangle\n",
    "plt.plot(x1,y1, color='red')\n",
    "plt.title('Triangle')\n",
    "plt.show()\n"
   ]
  },
  {
   "cell_type": "markdown",
   "metadata": {},
   "source": [
    "> **Ex. 6.1.2** Compute and show the spatial difference of square subtracted triangle, also show the hat is the union of `square` and `triangle`?"
   ]
  },
  {
   "cell_type": "code",
   "execution_count": 5,
   "metadata": {},
   "outputs": [
    {
     "data": {
      "image/svg+xml": [
       "<svg xmlns=\"http://www.w3.org/2000/svg\" xmlns:xlink=\"http://www.w3.org/1999/xlink\" width=\"100.0\" height=\"100.0\" viewBox=\"-0.2 -0.2 5.4 5.4\" preserveAspectRatio=\"xMinYMin meet\"><g transform=\"matrix(1,0,0,-1,0,5.0)\"><path fill-rule=\"evenodd\" fill=\"#66cc99\" stroke=\"#555555\" stroke-width=\"0.10800000000000001\" opacity=\"0.6\" d=\"M 2.0,4.0 L 2.0,5.0 L 5.0,5.0 L 5.0,2.0 L 3.0,2.0 L 4.0,0.0 L 0.0,0.0 L 2.0,4.0 z\" /></g></svg>"
      ],
      "text/plain": [
       "<shapely.geometry.polygon.Polygon at 0x21b80278f10>"
      ]
     },
     "execution_count": 5,
     "metadata": {},
     "output_type": "execute_result"
    }
   ],
   "source": [
    "# Spatial difference of square substracted triangle\n",
    "square.difference(triangle)\n",
    "\n",
    "# The union of square and triangle\n",
    "square.union(triangle)"
   ]
  },
  {
   "cell_type": "markdown",
   "metadata": {},
   "source": [
    "> **Ex. 6.1.3** Make a GeoSeries out of `square`, `triangle`. Plot the geoseries."
   ]
  },
  {
   "cell_type": "code",
   "execution_count": 15,
   "metadata": {},
   "outputs": [
    {
     "data": {
      "text/plain": [
       "<matplotlib.axes._subplots.AxesSubplot at 0x21b86057fa0>"
      ]
     },
     "execution_count": 15,
     "metadata": {},
     "output_type": "execute_result"
    },
    {
     "data": {
      "image/png": "[encoded data removed]",
      "text/plain": [
       "<Figure size 432x288 with 1 Axes>"
      ]
     },
     "metadata": {
      "needs_background": "light"
     },
     "output_type": "display_data"
    }
   ],
   "source": [
    "from geopandas import GeoSeries\n",
    "\n",
    "s = gpd.GeoSeries([square, triangle])\n",
    "s.plot()"
   ]
  },
  {
   "cell_type": "markdown",
   "metadata": {},
   "source": [
    "### Part 9.2: Working with house sale prices\n",
    "\n",
    "Data on danish municipalities are available [here](https://raw.githubusercontent.com/ok-dk/dagi/master/geojson/kommuner.geojson) from Open Knowledge Denmark."
   ]
  },
  {
   "cell_type": "markdown",
   "metadata": {},
   "source": [
    "#### Basic operations with Geopandas\n",
    "\n",
    "> **Ex. 9.2.1** Load the municipalities data using `gpd.read_file()`, \n",
    "- What is the CRS of the dataframe - what projection does it correspond to? Turn the CRS into a meter based system.\n",
    "- Which three munipalities have the largest area?\n",
    "\n",
    "> Note: to find the entire area of a municipality which consists of multiple shapes (e.g. municipalities covering islands). you can use the `unary_union` method for GeoSeries."
   ]
  },
  {
   "cell_type": "code",
   "execution_count": 183,
   "metadata": {},
   "outputs": [
    {
     "name": "stdout",
     "output_type": "stream",
     "text": [
      "  KOMKODE     KOMNAVN                                           geometry\n",
      "0    0766   Hedensted  POLYGON Z ((9.44919 55.86046 -999.00000, 9.460...\n",
      "1    0766   Hedensted  POLYGON Z ((10.06198 55.83301 -999.00000, 10.0...\n",
      "2    0561     Esbjerg  POLYGON Z ((8.59656 55.53506 -999.00000, 8.601...\n",
      "3    0849  Jammerbugt  POLYGON Z ((9.78314 57.07319 -999.00000, 9.781...\n",
      "4    0849  Jammerbugt  POLYGON Z ((9.19738 57.13868 -999.00000, 9.207...\n"
     ]
    },
    {
     "data": {
      "text/plain": [
       "<Geographic 2D CRS: EPSG:4326>\n",
       "Name: WGS 84\n",
       "Axis Info [ellipsoidal]:\n",
       "- Lat[north]: Geodetic latitude (degree)\n",
       "- Lon[east]: Geodetic longitude (degree)\n",
       "Area of Use:\n",
       "- name: World\n",
       "- bounds: (-180.0, -90.0, 180.0, 90.0)\n",
       "Datum: World Geodetic System 1984\n",
       "- Ellipsoid: WGS 84\n",
       "- Prime Meridian: Greenwich"
      ]
     },
     "execution_count": 183,
     "metadata": {},
     "output_type": "execute_result"
    }
   ],
   "source": [
    "url = \"https://raw.githubusercontent.com/ok-dk/dagi/master/geojson/kommuner.geojson\"\n",
    "\n",
    "# Loading the municipalities data \n",
    "kommuner = gpd.read_file(url)\n",
    "print(kommuner.head())\n",
    "\n",
    "#Finding the current CRS:\n",
    "# : Geographic 2D CRS: EPSG:4326\n",
    "# Area of use: name: World\n",
    "# Axis info [ellipsoidal]:  Lat[north]: Geodetic latitude (degree), Lon[east]: Geodetic longitude (degree)\n",
    "kommuner.crs"
   ]
  },
  {
   "cell_type": "code",
   "execution_count": 184,
   "metadata": {},
   "outputs": [
    {
     "name": "stderr",
     "output_type": "stream",
     "text": [
      "C:\\Users\\Christian\\Anaconda3\\envs\\geo_env\\lib\\site-packages\\pyproj\\crs\\crs.py:280: FutureWarning: '+init=<authority>:<code>' syntax is deprecated. '<authority>:<code>' is the preferred initialization method. When making the change, be mindful of axis order changes: https://pyproj4.github.io/pyproj/stable/gotchas.html#axis-order-changes-in-proj-6\n",
      "  projstring = _prepare_from_string(projparams)\n"
     ]
    },
    {
     "data": {
      "text/plain": [
       "Proj('+proj=utm +zone=32 +ellps=GRS80 +units=m +no_defs', preserve_units=True)"
      ]
     },
     "execution_count": 184,
     "metadata": {},
     "output_type": "execute_result"
    }
   ],
   "source": [
    "import pyproj\n",
    "pyproj.Proj(\"+init=epsg:25832\")"
   ]
  },
  {
   "cell_type": "code",
   "execution_count": 185,
   "metadata": {
    "scrolled": false
   },
   "outputs": [
    {
     "name": "stderr",
     "output_type": "stream",
     "text": [
      "C:\\Users\\Christian\\Anaconda3\\envs\\geo_env\\lib\\site-packages\\pyproj\\crs\\crs.py:53: FutureWarning: '+init=<authority>:<code>' syntax is deprecated. '<authority>:<code>' is the preferred initialization method. When making the change, be mindful of axis order changes: https://pyproj4.github.io/pyproj/stable/gotchas.html#axis-order-changes-in-proj-6\n",
      "  return _prepare_from_string(\" \".join(pjargs))\n"
     ]
    },
    {
     "name": "stdout",
     "output_type": "stream",
     "text": [
      "+init=epsg:25832 +type=crs\n",
      " \n",
      "KOMNAVN\n",
      "Ringkøbing-Skjern    1.494151e+09\n",
      "Viborg               1.419631e+09\n",
      "Herning              1.323127e+09\n",
      "Name: geometry, dtype: float64\n"
     ]
    }
   ],
   "source": [
    "# Creating the geoseries\n",
    "s_921 = gpd.GeoSeries(kommuner['geometry'])\n",
    "\n",
    "# Changing the CRS to meter based system\n",
    "kommuner.to_crs({'init':'epsg:25832'}, inplace=True)\n",
    "# New CRS: ETRS89 / UTM zone 32N, Area of use: Europe - 6°E to 12°E and ETRS89 by country\n",
    "# Axis info: E[east]: Easting (metre), N[north]: Northing (metre)\n",
    "print(kommuner.crs)\n",
    "\n",
    "# Finding the largest Danish municipalities\n",
    "sizes = kommuner.groupby('KOMNAVN').geometry.apply(lambda d: d.unary_union.area)\n",
    "print(\" \")\n",
    "print(sizes.nlargest(3))"
   ]
  },
  {
   "cell_type": "code",
   "execution_count": 186,
   "metadata": {},
   "outputs": [
    {
     "data": {
      "text/plain": [
       "(419120.45001907204, 915342.5495994855, 6032160.249990183, 6419838.749997308)"
      ]
     },
     "execution_count": 186,
     "metadata": {},
     "output_type": "execute_result"
    },
    {
     "data": {
      "image/png": "[encoded data removed]",
      "text/plain": [
       "<Figure size 1008x576 with 1 Axes>"
      ]
     },
     "metadata": {
      "needs_background": "light"
     },
     "output_type": "display_data"
    }
   ],
   "source": [
    "# Plotting the entire map\n",
    "import matplotlib.pyplot as plt\n",
    "kommuner.plot(figsize=(14,8))\n",
    "plt.axis('off')"
   ]
  },
  {
   "cell_type": "markdown",
   "metadata": {},
   "source": [
    "Use the script below to add regional information for municipalities. This code block assumes that your geodataframe is names `kommuner`."
   ]
  },
  {
   "cell_type": "code",
   "execution_count": 188,
   "metadata": {},
   "outputs": [
    {
     "data": {
      "text/html": [
       "<div>\n",
       "<style scoped>\n",
       "    .dataframe tbody tr th:only-of-type {\n",
       "        vertical-align: middle;\n",
       "    }\n",
       "\n",
       "    .dataframe tbody tr th {\n",
       "        vertical-align: top;\n",
       "    }\n",
       "\n",
       "    .dataframe thead th {\n",
       "        text-align: right;\n",
       "    }\n",
       "</style>\n",
       "<table border=\"1\" class=\"dataframe\">\n",
       "  <thead>\n",
       "    <tr style=\"text-align: right;\">\n",
       "      <th></th>\n",
       "      <th>komkode</th>\n",
       "      <th>komnavn</th>\n",
       "      <th>geometry</th>\n",
       "      <th>regionskode</th>\n",
       "      <th>regionsnavn</th>\n",
       "    </tr>\n",
       "  </thead>\n",
       "  <tbody>\n",
       "    <tr>\n",
       "      <th>0</th>\n",
       "      <td>0766</td>\n",
       "      <td>Hedensted</td>\n",
       "      <td>POLYGON Z ((528116.000 6190641.000 -999.000, 5...</td>\n",
       "      <td>1082</td>\n",
       "      <td>Region Midtjylland</td>\n",
       "    </tr>\n",
       "    <tr>\n",
       "      <th>1</th>\n",
       "      <td>0766</td>\n",
       "      <td>Hedensted</td>\n",
       "      <td>POLYGON Z ((566517.000 6188004.430 -999.000, 5...</td>\n",
       "      <td>1082</td>\n",
       "      <td>Region Midtjylland</td>\n",
       "    </tr>\n",
       "    <tr>\n",
       "      <th>2</th>\n",
       "      <td>0561</td>\n",
       "      <td>Esbjerg</td>\n",
       "      <td>POLYGON Z ((474537.000 6154409.000 -999.000, 4...</td>\n",
       "      <td>1083</td>\n",
       "      <td>Region Syddanmark</td>\n",
       "    </tr>\n",
       "    <tr>\n",
       "      <th>3</th>\n",
       "      <td>0849</td>\n",
       "      <td>Jammerbugt</td>\n",
       "      <td>POLYGON Z ((547480.000 6325805.000 -999.000, 5...</td>\n",
       "      <td>1081</td>\n",
       "      <td>Region Nordjylland</td>\n",
       "    </tr>\n",
       "    <tr>\n",
       "      <th>4</th>\n",
       "      <td>0849</td>\n",
       "      <td>Jammerbugt</td>\n",
       "      <td>POLYGON Z ((511946.000 6332841.000 -999.000, 5...</td>\n",
       "      <td>1081</td>\n",
       "      <td>Region Nordjylland</td>\n",
       "    </tr>\n",
       "  </tbody>\n",
       "</table>\n",
       "</div>"
      ],
      "text/plain": [
       "  komkode     komnavn                                           geometry  \\\n",
       "0    0766   Hedensted  POLYGON Z ((528116.000 6190641.000 -999.000, 5...   \n",
       "1    0766   Hedensted  POLYGON Z ((566517.000 6188004.430 -999.000, 5...   \n",
       "2    0561     Esbjerg  POLYGON Z ((474537.000 6154409.000 -999.000, 4...   \n",
       "3    0849  Jammerbugt  POLYGON Z ((547480.000 6325805.000 -999.000, 5...   \n",
       "4    0849  Jammerbugt  POLYGON Z ((511946.000 6332841.000 -999.000, 5...   \n",
       "\n",
       "   regionskode         regionsnavn  \n",
       "0         1082  Region Midtjylland  \n",
       "1         1082  Region Midtjylland  \n",
       "2         1083   Region Syddanmark  \n",
       "3         1081  Region Nordjylland  \n",
       "4         1081  Region Nordjylland  "
      ]
     },
     "execution_count": 188,
     "metadata": {},
     "output_type": "execute_result"
    }
   ],
   "source": [
    "kommuner.columns = kommuner.columns.str.lower()\n",
    "    \n",
    "# information for municipality\n",
    "kommune_info = pd.read_json('https://dawa.aws.dk/kommuner')\\\n",
    "                .pipe(lambda df: \\\n",
    "                        df.assign(komkode=df.kode.astype(str).str.zfill(4)))\\\n",
    "                .loc[:,['komkode','regionskode']]\\\n",
    "                \n",
    "\n",
    "region_info = pd.read_json('https://dawa.aws.dk/regioner/')\\\n",
    "                .loc[:,['kode','navn']]\\\n",
    "                .add_prefix('regions')\n",
    "\n",
    "kommuner = kommuner\\\n",
    "                .merge(kommune_info,how='left')\\\n",
    "                .merge(region_info,how='left')\n",
    "\n",
    "# Visualizing the changes\n",
    "kommuner.head()"
   ]
  },
  {
   "cell_type": "markdown",
   "metadata": {},
   "source": [
    "> **Ex. 9.2.2** Make two boolean series as follows. \n",
    "> - first: row is True if corresponding the row shape is in the Capital Region or Sealand Region (i.e. `'Region Hovedstaden', 'Region Sjælland'`) \n",
    "> - second: row is True if the  the row geometry is ***not*** in Bornholm or nearby (i.e. `'Bornholm', 'Christiansø'`)\n",
    "\n",
    "> Finally make a combined series which takes the value True if both holds, otherwise False and use this series to create a new geodataframe containing only mainland Sealand. \n",
    "\n",
    "\n",
    "> *Hint*: recall that we can check if a series elements are elements in a series using the `isin` method\n"
   ]
  },
  {
   "cell_type": "code",
   "execution_count": 189,
   "metadata": {},
   "outputs": [
    {
     "data": {
      "text/html": [
       "<div>\n",
       "<style scoped>\n",
       "    .dataframe tbody tr th:only-of-type {\n",
       "        vertical-align: middle;\n",
       "    }\n",
       "\n",
       "    .dataframe tbody tr th {\n",
       "        vertical-align: top;\n",
       "    }\n",
       "\n",
       "    .dataframe thead th {\n",
       "        text-align: right;\n",
       "    }\n",
       "</style>\n",
       "<table border=\"1\" class=\"dataframe\">\n",
       "  <thead>\n",
       "    <tr style=\"text-align: right;\">\n",
       "      <th></th>\n",
       "      <th>komkode</th>\n",
       "      <th>komnavn</th>\n",
       "      <th>geometry</th>\n",
       "      <th>regionskode</th>\n",
       "      <th>regionsnavn</th>\n",
       "    </tr>\n",
       "  </thead>\n",
       "  <tbody>\n",
       "    <tr>\n",
       "      <th>12</th>\n",
       "      <td>0159</td>\n",
       "      <td>Gladsaxe</td>\n",
       "      <td>POLYGON Z ((716689.000 6181565.000 -999.000, 7...</td>\n",
       "      <td>1084</td>\n",
       "      <td>Region Hovedstaden</td>\n",
       "    </tr>\n",
       "    <tr>\n",
       "      <th>16</th>\n",
       "      <td>0260</td>\n",
       "      <td>Halsnæs</td>\n",
       "      <td>POLYGON Z ((685760.650 6206386.190 -999.000, 6...</td>\n",
       "      <td>1084</td>\n",
       "      <td>Region Hovedstaden</td>\n",
       "    </tr>\n",
       "    <tr>\n",
       "      <th>17</th>\n",
       "      <td>0260</td>\n",
       "      <td>Halsnæs</td>\n",
       "      <td>POLYGON Z ((667293.000 6231338.000 -999.000, 6...</td>\n",
       "      <td>1084</td>\n",
       "      <td>Region Hovedstaden</td>\n",
       "    </tr>\n",
       "    <tr>\n",
       "      <th>18</th>\n",
       "      <td>0187</td>\n",
       "      <td>Vallensbæk</td>\n",
       "      <td>POLYGON Z ((713579.000 6168252.000 -999.000, 7...</td>\n",
       "      <td>1084</td>\n",
       "      <td>Region Hovedstaden</td>\n",
       "    </tr>\n",
       "    <tr>\n",
       "      <th>19</th>\n",
       "      <td>0187</td>\n",
       "      <td>Vallensbæk</td>\n",
       "      <td>POLYGON Z ((714395.930 6168389.980 -999.000, 7...</td>\n",
       "      <td>1084</td>\n",
       "      <td>Region Hovedstaden</td>\n",
       "    </tr>\n",
       "  </tbody>\n",
       "</table>\n",
       "</div>"
      ],
      "text/plain": [
       "   komkode     komnavn                                           geometry  \\\n",
       "12    0159    Gladsaxe  POLYGON Z ((716689.000 6181565.000 -999.000, 7...   \n",
       "16    0260     Halsnæs  POLYGON Z ((685760.650 6206386.190 -999.000, 6...   \n",
       "17    0260     Halsnæs  POLYGON Z ((667293.000 6231338.000 -999.000, 6...   \n",
       "18    0187  Vallensbæk  POLYGON Z ((713579.000 6168252.000 -999.000, 7...   \n",
       "19    0187  Vallensbæk  POLYGON Z ((714395.930 6168389.980 -999.000, 7...   \n",
       "\n",
       "    regionskode         regionsnavn  \n",
       "12         1084  Region Hovedstaden  \n",
       "16         1084  Region Hovedstaden  \n",
       "17         1084  Region Hovedstaden  \n",
       "18         1084  Region Hovedstaden  \n",
       "19         1084  Region Hovedstaden  "
      ]
     },
     "execution_count": 189,
     "metadata": {},
     "output_type": "execute_result"
    }
   ],
   "source": [
    "# Sealand\n",
    "sealand = kommuner['regionsnavn'].isin(['Region Hovedstaden', 'Region Sjælland']) \n",
    "\n",
    "# Not in Bornholm\n",
    "not_bornholm = ~kommuner['komnavn'].isin(['Bornholm', 'Christiansø'])\n",
    "\n",
    "# Combined boolean series\n",
    "combined = sealand & not_bornholm\n",
    "\n",
    "sealand_dataframe = kommuner[combined]\n",
    "sealand_dataframe.head()"
   ]
  },
  {
   "cell_type": "markdown",
   "metadata": {},
   "source": [
    "> **Ex. 9.2.3** Explain what is the CRS of the GeoDataFrame. How is distance measured using this coordinate system. Extract the extremum values (min,max) in all dimensions of the sealand geodataframe. That is identify the coordinates of the corners in the smallest square covering the entire island.\n",
    "\n",
    "> *Hint*: extreme values, i.e. bounds, can be found using `.bounds` on a GeoDataFrame (also works on shapes, GeoSeries)"
   ]
  },
  {
   "cell_type": "code",
   "execution_count": 190,
   "metadata": {},
   "outputs": [
    {
     "data": {
      "text/plain": [
       "<Projected CRS: EPSG:25832>\n",
       "Name: ETRS89 / UTM zone 32N\n",
       "Axis Info [cartesian]:\n",
       "- E[east]: Easting (metre)\n",
       "- N[north]: Northing (metre)\n",
       "Area of Use:\n",
       "- name: Europe - 6°E to 12°E and ETRS89 by country\n",
       "- bounds: (6.0, 38.76, 12.0, 83.92)\n",
       "Coordinate Operation:\n",
       "- name: UTM zone 32N\n",
       "- method: Transverse Mercator\n",
       "Datum: European Terrestrial Reference System 1989\n",
       "- Ellipsoid: GRS 1980\n",
       "- Prime Meridian: Greenwich"
      ]
     },
     "execution_count": 190,
     "metadata": {},
     "output_type": "execute_result"
    }
   ],
   "source": [
    "# Commented on above\n",
    "\n",
    "# Information presented here:\n",
    "kommuner.crs"
   ]
  },
  {
   "cell_type": "markdown",
   "metadata": {},
   "source": [
    "#### Interpolation of house prices\n",
    "\n",
    "\n",
    "In the following two exercises we aim to compute local spatial neighborhood measures of house prices in Sealand and around. We do this by making make a grid of Sealand houseprice data and using a neighborregressor to fill in data in squares that dont have any house sales. Thus the exercise will illustrate how to make a interpolation of data which is useful for feature engineering and get a good understanding of the data."
   ]
  },
  {
   "cell_type": "markdown",
   "metadata": {},
   "source": [
    "> **Ex. 9.2.4** Construct a 500mx500m grid for Sealand:\n",
    ">- Make a grid of points 500m apart in horizontal and vertical directions that are within the extremum values of Sealand's shape. Each pair $(e,n)$ in this grid should be the coordinates of the lower left corner in a 500x500 square.\n",
    ">- For each of these points construct a square polygon assuming that the point is the south west corner of the square. Do this using `cell_coords_to_polygons`.\n",
    ">- Use `gpd.sjoin` to take the intersection of the municipalities in sealand and the square grid you have constructed. Plot the resulting geodataframe.\n",
    ">\n",
    "> *Hint 1:* Once you have created the grid the following function below may be useful for converting into a GeoDataFrame. You need to specify the column names for your x and y coordinates.\n",
    ">\n",
    "> *Hint 2:* We can select the points that intersect by using a spatial join between the house locations and municipalities."
   ]
  },
  {
   "cell_type": "code",
   "execution_count": 108,
   "metadata": {},
   "outputs": [],
   "source": [
    "dk_crs = {'ellps': 'GRS80', 'no_defs': True, 'proj': 'utm', 'units': 'm', 'zone': 32}\n",
    "\n",
    "def cell_coords_to_polygons(square_df, x='e', y='n', dist=500, crs=dk_crs):\n",
    "    '''\n",
    "    Convert coordinates to squares in a GeoDataFrame.\n",
    "       \n",
    "    Parameters\n",
    "    ----------\n",
    "    x : str\n",
    "        Name of the horizontal coordinate (~longitude)            \n",
    "    y : str\n",
    "        Name of the vertical coordinate (~latitude)                        \n",
    "    dist : int or float\n",
    "        Size of polygons\n",
    "    crs : dict\n",
    "        Coordinate Reference System\n",
    "\n",
    "\n",
    "    Returns\n",
    "    ----------\n",
    "    squares_gdf: geopandas.GeoDataFrame\n",
    "        This table contains squares as geometry\n",
    "        and the original data.\n",
    "    '''\n",
    "    \n",
    "    def _to_square_polygon(row):\n",
    "        '''\n",
    "        This auxiliary function convert a square's lower,left \n",
    "        coordinates to a polygon. \n",
    "        \n",
    "        Parameters\n",
    "        ----------\n",
    "        row : pandas.Series\n",
    "            This is a DataFrame row.            \n",
    "        \n",
    "        Returns\n",
    "        ----------\n",
    "        poly: shapely.Polygon        \n",
    "        \n",
    "        '''\n",
    "        \n",
    "        square_coords = ((row[x], row[y]), \n",
    "                         (row[x]+dist, row[y]), \n",
    "                         (row[x]+dist, row[y]+dist), \n",
    "                         (row[x], row[y]+dist))\n",
    "        \n",
    "        poly = shapely.geometry.Polygon(square_coords)\n",
    "        \n",
    "        return poly\n",
    "    \n",
    "    # convert to polygons\n",
    "    square_geoms = gpd.GeoSeries(square_df.apply(_to_square_polygon, axis=1), crs=crs)\n",
    "    \n",
    "    # make GeoDataFrame\n",
    "    square_gdf = gpd.GeoDataFrame(data=square_df, geometry=square_geoms)\n",
    "    \n",
    "    return square_gdf"
   ]
  },
  {
   "cell_type": "code",
   "execution_count": 191,
   "metadata": {},
   "outputs": [
    {
     "data": {
      "image/png": "[encoded data removed]",
      "text/plain": [
       "<Figure size 432x288 with 1 Axes>"
      ]
     },
     "metadata": {
      "needs_background": "light"
     },
     "output_type": "display_data"
    },
    {
     "data": {
      "text/html": [
       "<div>\n",
       "<style scoped>\n",
       "    .dataframe tbody tr th:only-of-type {\n",
       "        vertical-align: middle;\n",
       "    }\n",
       "\n",
       "    .dataframe tbody tr th {\n",
       "        vertical-align: top;\n",
       "    }\n",
       "\n",
       "    .dataframe thead th {\n",
       "        text-align: right;\n",
       "    }\n",
       "</style>\n",
       "<table border=\"1\" class=\"dataframe\">\n",
       "  <thead>\n",
       "    <tr style=\"text-align: right;\">\n",
       "      <th></th>\n",
       "      <th>komkode</th>\n",
       "      <th>komnavn</th>\n",
       "      <th>geometry</th>\n",
       "      <th>regionskode</th>\n",
       "      <th>regionsnavn</th>\n",
       "    </tr>\n",
       "  </thead>\n",
       "  <tbody>\n",
       "    <tr>\n",
       "      <th>12</th>\n",
       "      <td>0159</td>\n",
       "      <td>Gladsaxe</td>\n",
       "      <td>POLYGON Z ((716689.000 6181565.000 -999.000, 7...</td>\n",
       "      <td>1084</td>\n",
       "      <td>Region Hovedstaden</td>\n",
       "    </tr>\n",
       "    <tr>\n",
       "      <th>16</th>\n",
       "      <td>0260</td>\n",
       "      <td>Halsnæs</td>\n",
       "      <td>POLYGON Z ((685760.650 6206386.190 -999.000, 6...</td>\n",
       "      <td>1084</td>\n",
       "      <td>Region Hovedstaden</td>\n",
       "    </tr>\n",
       "    <tr>\n",
       "      <th>17</th>\n",
       "      <td>0260</td>\n",
       "      <td>Halsnæs</td>\n",
       "      <td>POLYGON Z ((667293.000 6231338.000 -999.000, 6...</td>\n",
       "      <td>1084</td>\n",
       "      <td>Region Hovedstaden</td>\n",
       "    </tr>\n",
       "    <tr>\n",
       "      <th>18</th>\n",
       "      <td>0187</td>\n",
       "      <td>Vallensbæk</td>\n",
       "      <td>POLYGON Z ((713579.000 6168252.000 -999.000, 7...</td>\n",
       "      <td>1084</td>\n",
       "      <td>Region Hovedstaden</td>\n",
       "    </tr>\n",
       "    <tr>\n",
       "      <th>19</th>\n",
       "      <td>0187</td>\n",
       "      <td>Vallensbæk</td>\n",
       "      <td>POLYGON Z ((714395.930 6168389.980 -999.000, 7...</td>\n",
       "      <td>1084</td>\n",
       "      <td>Region Hovedstaden</td>\n",
       "    </tr>\n",
       "    <tr>\n",
       "      <th>...</th>\n",
       "      <td>...</td>\n",
       "      <td>...</td>\n",
       "      <td>...</td>\n",
       "      <td>...</td>\n",
       "      <td>...</td>\n",
       "    </tr>\n",
       "    <tr>\n",
       "      <th>302</th>\n",
       "      <td>0370</td>\n",
       "      <td>Næstved</td>\n",
       "      <td>POLYGON Z ((672808.000 6113856.000 -999.000, 6...</td>\n",
       "      <td>1085</td>\n",
       "      <td>Region Sjælland</td>\n",
       "    </tr>\n",
       "    <tr>\n",
       "      <th>303</th>\n",
       "      <td>0370</td>\n",
       "      <td>Næstved</td>\n",
       "      <td>POLYGON Z ((673235.000 6111921.000 -999.000, 6...</td>\n",
       "      <td>1085</td>\n",
       "      <td>Region Sjælland</td>\n",
       "    </tr>\n",
       "    <tr>\n",
       "      <th>304</th>\n",
       "      <td>0370</td>\n",
       "      <td>Næstved</td>\n",
       "      <td>POLYGON Z ((670440.000 6118920.000 -999.000, 6...</td>\n",
       "      <td>1085</td>\n",
       "      <td>Region Sjælland</td>\n",
       "    </tr>\n",
       "    <tr>\n",
       "      <th>305</th>\n",
       "      <td>0370</td>\n",
       "      <td>Næstved</td>\n",
       "      <td>POLYGON Z ((669456.000 6117697.000 -999.000, 6...</td>\n",
       "      <td>1085</td>\n",
       "      <td>Region Sjælland</td>\n",
       "    </tr>\n",
       "    <tr>\n",
       "      <th>310</th>\n",
       "      <td>0173</td>\n",
       "      <td>Lyngby-Taarbæk</td>\n",
       "      <td>POLYGON Z ((718173.000 6189190.000 -999.000, 7...</td>\n",
       "      <td>1084</td>\n",
       "      <td>Region Hovedstaden</td>\n",
       "    </tr>\n",
       "  </tbody>\n",
       "</table>\n",
       "<p>116 rows × 5 columns</p>\n",
       "</div>"
      ],
      "text/plain": [
       "    komkode         komnavn  \\\n",
       "12     0159        Gladsaxe   \n",
       "16     0260         Halsnæs   \n",
       "17     0260         Halsnæs   \n",
       "18     0187      Vallensbæk   \n",
       "19     0187      Vallensbæk   \n",
       "..      ...             ...   \n",
       "302    0370         Næstved   \n",
       "303    0370         Næstved   \n",
       "304    0370         Næstved   \n",
       "305    0370         Næstved   \n",
       "310    0173  Lyngby-Taarbæk   \n",
       "\n",
       "                                              geometry  regionskode  \\\n",
       "12   POLYGON Z ((716689.000 6181565.000 -999.000, 7...         1084   \n",
       "16   POLYGON Z ((685760.650 6206386.190 -999.000, 6...         1084   \n",
       "17   POLYGON Z ((667293.000 6231338.000 -999.000, 6...         1084   \n",
       "18   POLYGON Z ((713579.000 6168252.000 -999.000, 7...         1084   \n",
       "19   POLYGON Z ((714395.930 6168389.980 -999.000, 7...         1084   \n",
       "..                                                 ...          ...   \n",
       "302  POLYGON Z ((672808.000 6113856.000 -999.000, 6...         1085   \n",
       "303  POLYGON Z ((673235.000 6111921.000 -999.000, 6...         1085   \n",
       "304  POLYGON Z ((670440.000 6118920.000 -999.000, 6...         1085   \n",
       "305  POLYGON Z ((669456.000 6117697.000 -999.000, 6...         1085   \n",
       "310  POLYGON Z ((718173.000 6189190.000 -999.000, 7...         1084   \n",
       "\n",
       "            regionsnavn  \n",
       "12   Region Hovedstaden  \n",
       "16   Region Hovedstaden  \n",
       "17   Region Hovedstaden  \n",
       "18   Region Hovedstaden  \n",
       "19   Region Hovedstaden  \n",
       "..                  ...  \n",
       "302     Region Sjælland  \n",
       "303     Region Sjælland  \n",
       "304     Region Sjælland  \n",
       "305     Region Sjælland  \n",
       "310  Region Hovedstaden  \n",
       "\n",
       "[116 rows x 5 columns]"
      ]
     },
     "execution_count": 191,
     "metadata": {},
     "output_type": "execute_result"
    }
   ],
   "source": [
    "# Extra : plotting a square around sealand in order to understand df.bounds\n",
    "\n",
    "# sealand_dataframe.bounds\n",
    "\n",
    "from shapely.geometry import Point, Polygon\n",
    "\n",
    "# Points for smallest square around zealand\n",
    "p1 = Point(min(sealand_dataframe.bounds['minx']), min(sealand_dataframe.bounds['miny']))\n",
    "p2 = Point(min(sealand_dataframe.bounds['minx']), max(sealand_dataframe.bounds['maxy']))\n",
    "p3 = Point(max(sealand_dataframe.bounds['maxx']), max(sealand_dataframe.bounds['maxy']))\n",
    "p4 = Point(max(sealand_dataframe.bounds['maxx']), min(sealand_dataframe.bounds['miny']))\n",
    "\n",
    "s_square = Polygon([p1,p2,p3,p4])\n",
    "s_x,s_y = s_square.exterior.xy\n",
    "\n",
    "# Plot Square around Sealand\n",
    "sealand_dataframe.plot()\n",
    "plt.plot(s_x,s_y, color='red')\n",
    "plt.title('Sealand')\n",
    "plt.show()\n"
   ]
  },
  {
   "cell_type": "code",
   "execution_count": 245,
   "metadata": {
    "scrolled": true
   },
   "outputs": [
    {
     "name": "stdout",
     "output_type": "stream",
     "text": [
      "+proj=utm +ellps=GRS80 +no_defs +units=m +zone=32 +type=crs\n"
     ]
    },
    {
     "data": {
      "image/png": "[encoded data removed]",
      "text/plain": [
       "<Figure size 432x288 with 1 Axes>"
      ]
     },
     "metadata": {
      "needs_background": "light"
     },
     "output_type": "display_data"
    }
   ],
   "source": [
    "import pandas as pd\n",
    "sealand_dataframe = sealand_dataframe.to_crs({'ellps': 'GRS80', 'no_defs': True, 'proj': 'utm', 'units': 'm', 'zone': 32})\n",
    "print(sealand_dataframe.crs)\n",
    "\n",
    "# extracting the extreme values\n",
    "min_x = min(sealand_dataframe.bounds['minx'])\n",
    "max_x = max(sealand_dataframe.bounds['maxx'])\n",
    "min_y = min(sealand_dataframe.bounds['miny'])\n",
    "max_y = max(sealand_dataframe.bounds['maxy'])\n",
    "\n",
    "# create thhe pairs\n",
    "e = []\n",
    "n = []\n",
    "\n",
    "# Computing the coordinates (where the step size is 500)\n",
    "for x in np.arange(min_x, max_x, 500):\n",
    "    for y in np.arange(min_y, max_y, 500):\n",
    "        e.append(x)\n",
    "        n.append(y)\n",
    "        \n",
    "# Creating the pais of pairs (𝑒,𝑛) of the lower left corner in a 500x500 square\n",
    "e_n = zip(e,n)\n",
    "e_n = list(e_n)\n",
    "e_n = pd.DataFrame(e_n, columns=['e', 'n'])\n",
    "square_df = cell_coords_to_polygons(e_n, x='e', y='n', dist=500, crs=dk_crs)\n",
    "square_df = gpd.sjoin(sealand_dataframe, square_df)\n",
    "\n",
    "# Plotting:\n",
    "square_df.plot()\n",
    "plt.show()"
   ]
  },
  {
   "cell_type": "markdown",
   "metadata": {},
   "source": [
    "> **Ex. 9.2.5**  Load the pre-structured data with house sales prices for Sealand. These data are available on Absalon as a .GeoJSON file. Construct a loop that for each year in the `sale_year` column \n",
    "> - extracts the house sales sold in this year, with a square meter price (`price_area`) between between 1000 and 120000. \n",
    "> - Selects the four columns `['sale_year', 'e', 'n', 'price_area']` and drops any rows with missing data. \n",
    "> - After preparing the data fit a `KNeighborsRegressor` with the coordinate columns `e` and `n` as features and the square-meter price as labels.\n",
    "> - Computes predictions `preds` where `e`, `n` are taken from the square grid geodataframe you constructed above. Add 250 to each value to predict at the midpoint of the square!\n",
    "> - creates a new column `p_{year}` in the square-grid geodataframe, containing `np.log10(preds)`\n",
    ">\n",
    "> Plot the grid data, coloring the grids by their predicted square meter price in 2012."
   ]
  },
  {
   "cell_type": "code",
   "execution_count": 194,
   "metadata": {},
   "outputs": [],
   "source": [
    "from sklearn.neighbors import KNeighborsRegressor\n",
    "price_gdf = gpd.read_file('houseprices.GeoJSON')"
   ]
  },
  {
   "cell_type": "code",
   "execution_count": 251,
   "metadata": {},
   "outputs": [],
   "source": [
    "for year in np.unique(price_gdf.sale_year):\n",
    "    # Slicing in terms of extracting the relevant year, and the avg_price range\n",
    "    price_gdf_year = price_gdf[(price_gdf['sale_year']==i) & (price_gdf['price_area'] >= 1000)\\\n",
    "                                      & (price_gdf['price_area'] <= 120000)]\n",
    "    # Extracting the relevant columns\n",
    "    price_gdf_year = price_gdf_year.loc[:,['sale_year', 'e', 'n', 'price_area']]\n",
    "    \n",
    "    # drop rows with missing data\n",
    "    price_gdf_year.dropna()\n",
    "    \n",
    "    # Fitting an K-Nearest neighbors algorithm\n",
    "    features = price_gdf_year.loc[:,['e', 'n']]\n",
    "    y = price_gdf_year.loc[:,['price_area']]\n",
    "    knn = KNeighborsRegressor()\n",
    "    knn.fit(features, y)\n",
    "    \n",
    "    # Make predictions and store results\n",
    "    en = square_df.loc[:,['e','n']]\n",
    "    preds = knn.predict(en)\n",
    "    preds = preds + 250\n",
    "    square_df[f'p_{year}'] = np.log10(preds)\n",
    "   "
   ]
  },
  {
   "cell_type": "code",
   "execution_count": 256,
   "metadata": {},
   "outputs": [
    {
     "data": {
      "image/png": "[encoded data removed]",
      "text/plain": [
       "<Figure size 432x288 with 2 Axes>"
      ]
     },
     "metadata": {
      "needs_background": "light"
     },
     "output_type": "display_data"
    }
   ],
   "source": [
    "# Plotting the grid data coloring the grids by their predicted square meter price in 2012\n",
    "fig, ax = plt.subplots(1, 1)\n",
    "square_df.plot(column='p_2012', ax=ax, legend=True)\n",
    "plt.show()"
   ]
  }
 ],
 "metadata": {
  "kernelspec": {
   "display_name": "Python 3",
   "language": "python",
   "name": "python3"
  },
  "language_info": {
   "codemirror_mode": {
    "name": "ipython",
    "version": 3
   },
   "file_extension": ".py",
   "mimetype": "text/x-python",
   "name": "python",
   "nbconvert_exporter": "python",
   "pygments_lexer": "ipython3",
   "version": "3.8.2"
  }
 },
 "nbformat": 4,
 "nbformat_minor": 4
}
