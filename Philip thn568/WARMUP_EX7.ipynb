{
 "cells": [
  {
   "cell_type": "code",
   "execution_count": 7,
   "metadata": {},
   "outputs": [],
   "source": [
    "from random import uniform\n",
    "\n",
    "def retry(n): \n",
    "    def wrapper(function):\n",
    "        i = 0\n",
    "        while i < n:\n",
    "            try:\n",
    "                print(function())\n",
    "                break;\n",
    "            except:\n",
    "                pass\n",
    "            print(i,\". forsøg\")\n",
    "            i = i + 1\n",
    "        return function\n",
    "    return wrapper\n",
    "  "
   ]
  },
  {
   "cell_type": "code",
   "execution_count": 8,
   "metadata": {},
   "outputs": [
    {
     "name": "stdout",
     "output_type": "stream",
     "text": [
      "0 . forsøg\n",
      "1 . forsøg\n",
      "2 . forsøg\n",
      "Success\n"
     ]
    }
   ],
   "source": [
    "@retry(n = 5) \n",
    "def this_might_fail():\n",
    "    c = uniform(0,1) > 0.8\n",
    "    if c: return 'Success'\n",
    "    raise ValueError('c too small')"
   ]
  },
  {
   "cell_type": "code",
   "execution_count": null,
   "metadata": {},
   "outputs": [],
   "source": []
  }
 ],
 "metadata": {
  "kernelspec": {
   "display_name": "Python 3",
   "language": "python",
   "name": "python3"
  },
  "language_info": {
   "codemirror_mode": {
    "name": "ipython",
    "version": 3
   },
   "file_extension": ".py",
   "mimetype": "text/x-python",
   "name": "python",
   "nbconvert_exporter": "python",
   "pygments_lexer": "ipython3",
   "version": "3.7.3"
  }
 },
 "nbformat": 4,
 "nbformat_minor": 4
}
