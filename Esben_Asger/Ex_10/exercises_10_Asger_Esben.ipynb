{
 "cells": [
  {
   "cell_type": "markdown",
   "metadata": {},
   "source": [
    "# Week 10: Networks 2\n"
   ]
  },
  {
   "cell_type": "markdown",
   "metadata": {
    "ExecuteTime": {
     "end_time": "2017-08-23T15:30:03.634114Z",
     "start_time": "2017-08-23T15:30:03.629294Z"
    }
   },
   "source": [
    "Networks are mathematical representations of complex systems. We can use networks to gain various statistical insight about the system we're representing, and we can look for patterns at the meso-scale by employing *community detection* algorithms. This week we will explore the following:\n",
    "\n",
    "* Network null models\n",
    "* How to use a null model to infer the p-value of a result\n",
    "* How a popular community detection algorithm works (and fails)"
   ]
  },
  {
   "cell_type": "markdown",
   "metadata": {},
   "source": [
    "**Questions**: Outside of class, use [issue on GitHub](https://github.com/abjer/tsds/issues) for asking questions."
   ]
  },
  {
   "cell_type": "markdown",
   "metadata": {},
   "source": [
    "## Imports"
   ]
  },
  {
   "cell_type": "code",
   "execution_count": 2,
   "metadata": {
    "ExecuteTime": {
     "end_time": "2019-03-12T10:56:27.700322Z",
     "start_time": "2019-03-12T10:56:27.695950Z"
    }
   },
   "outputs": [],
   "source": [
    "%matplotlib inline\n",
    "import matplotlib.pylab as plt\n",
    "import networkx as nx           # `pip install networkx`\n",
    "import json\n",
    "from collections import Counter\n",
    "import community                # `pip install python-louvain` or `conda install -c auto python-louvain\n",
    "import pandas as pd\n",
    "import seaborn as sns\n",
    "plt.style.use('ggplot')"
   ]
  },
  {
   "cell_type": "markdown",
   "metadata": {},
   "source": [
    "## Exercises"
   ]
  },
  {
   "cell_type": "markdown",
   "metadata": {},
   "source": [
    "### Part 1: Network null models"
   ]
  },
  {
   "cell_type": "markdown",
   "metadata": {},
   "source": [
    "**What is a null model?** Null models are alternative instances of data, that are used to assess the amount of signal that is due to pure randomness. For example, you might have\n",
    "measured some signal in your data, like a large number of triangles (high average local clustering coefficient)\n",
    "in your network, but before you go and report that to your boss you need to answer one crucial question: how does\n",
    "this result compare with a *random* one? In other words, how can you be so sure that this high number of triangles\n",
    "measured is not perfectly normal even in a random network of similar origin and therefore not very special after all? The answer: **you\n",
    "create a null model to compare your result with!**\n",
    "\n",
    "> Note: null models are a concept from the general field of statistics and therefore not just specific to\n",
    "networks. You can use this statistical tool anytime you need to assess how likely it is that your result is random.\n",
    "\n",
    "The most common type of null model is one where you shuffle links in your network, while preserving the degree\n",
    "sequence. *(Recall, that the degree sequence is a list that stores the degree of each node. So if we shuffle and\n",
    "preserve the degree sequence at the same time, it means that after all the link-shuffling is done, nodes will\n",
    "have new neighbors, but the same number of neighbors)*. In this shuffled network (the null model), if you find that\n",
    "there are far fewer triangles than in your real data then you can start to argue that your result is significant.\n",
    "\n",
    "> Note: the term *null model* is a slight misnomer, as it is not a model per se, but rather an instance of the\n",
    "data that is permuted in some way (usually under constraints, such as preservation of degree sequence), so it can\n",
    "be taken to represent *randomness*. As such, there is no *model*, but rather an *instance* or simply *data*.\n",
    "\n",
    "But that is just one comparison. What if the number of triangles in the random data–the null model–is smaller, but\n",
    "not that much smaller? Can you still say your result is significant? Well, the trick (although computationally expensive\n",
    "as you will come to learn) is to do MANY comparisons. 1000 is not a bad start. For each comparison, you check if\n",
    "the number of triangles in your real data is bigger. After you have compared one thousand times you compute **the\n",
    "fraction of times** your number of triangles in the real data was bigger than in the random data. Guess what that\n",
    "number (between 0 and 1) is called? **The p-value**. And what does it communicate? **The probability that your result\n",
    "is random!**\n",
    "\n",
    "^ That's some useful statistics right there!\n",
    "\n",
    "Please make sure you have **READ AND UNDERSTOOD** the above, as you will otherwise have a very hard time completing the\n",
    "following exercises."
   ]
  },
  {
   "cell_type": "markdown",
   "metadata": {},
   "source": [
    "**Ex. 10.1.1**: The method described above works for anything you might want to measure in a network. Let's say,\n",
    "instead of measuring the number of triangles, you measured the network diameter. Explain in your own words how to\n",
    "assess the statistical significance (the p-value) of such a measurement, using the same null model."
   ]
  },
  {
   "cell_type": "markdown",
   "metadata": {},
   "source": [
    "**Answer 10.1.1**: As with the assessment of the number of triangles (The Average Local Cluster Coefficient), you would have to compare the original network to the average of a large number of random network. If the diameter of the real network is statistically different from the diameters of randomly constructed null models, we assess that the real network is non-random, as it seem to have a non-random diameter."
   ]
  },
  {
   "cell_type": "markdown",
   "metadata": {},
   "source": [
    "**Ex. 10.1.2**: The null model described above rewires a network while preserving the degree distribution. [Here](https://networkx.github.io/documentation/stable/reference/algorithms/generated/networkx.algorithms.swap.double_edge_swap.html#networkx.algorithms.swap.double_edge_swap) is\n",
    "implementation of it in NetworkX. In your own words, describe:\n",
    "1. how it works and why it achieves randomness\n",
    "without changing the degree distribution.\n",
    "2. Also describe what can sometimes happen and why the desired number of swaps `nswaps` is only an upper-bound on\n",
    "the number of swaps."
   ]
  },
  {
   "cell_type": "markdown",
   "metadata": {},
   "source": [
    "***Answer 10.1.2.1***:\n",
    "nx.double_edge_swap() takes a network (G) as input and returns a \"random\" network (G_rand) in which the links have been randomly swapped while the degree sequence has been preserved (each node has the same degree in G_rand as in G, but (probably) with different neighbours). It randomly chooses 2 edges and rearranges them (e.g. x-y and u-v will become x-u and y-v) unless the new edges already exists (that is if e.g. x and u (or y and v) were already linked before the swap). It achieves randomness while preserving the degree distribution by randomly choosing the edges to swap, though with the constraint that if one of the new edges already exists, none of the two new edges will be created. \n",
    "\n",
    "It also allow for 3 arguments\n",
    "- `nswap`: How many swaps to perform (default=1, so if not specified, only a single edge pair will potentially get swapped)\n",
    "- `max_tries`: Since it randomly chooses which edge pairs to swap, it might try to create new edges, which already exists. In that case, no swap is performed. `max_tries` is the upper-bound for how many times it is allowed to attempt to choose valid edge-pairs to swap until `nswap` is reached. Therefore `max_tries` > `nswap`.\n",
    "- `seed`: the random number generator state - allows one to reconstruct the \"random\"\n",
    "proces/outcome\n",
    "\n",
    "***Answer 10.1.2.2***:\n",
    "As mentioned aboved, it is not garanteed that `nswap`-swaps are actuallized by the algorithm due to the randomness of the selection process and the constraint on the new edge pairs. The algorithm will attempt to carry out `nswap`-swaps, but only for `max_tries`-attempts. Thus `nswap` is not garanteed, but merely the upper-bound/potential maximum swaps."
   ]
  },
  {
   "cell_type": "markdown",
   "metadata": {},
   "source": [
    "**Ex. 10.1.3**: Load the Facebook wall-post network from last week, into a `networkx.Graph` object called `G`.\n",
    "1. Measure the average local clustering coefficient (ALCC) of `G`. Print it.\n",
    "2. Over 1000 iterations, measure the ALCC for `G` where, in each iteration, you have made 1000 edge swaps using \n",
    "`double_edge_swap`. Append the measured ALCC values to a list. Print the average of this list. *Note: this will\n",
    "obviously take some time**.\n",
    "3. Report the p-value of your result, the ALCC of the real data.\n",
    "4. Make a histogram that displays the distribution of ALCC values in the null models as a histogram as well as\n",
    "the ALCC of the real data as a vertical line. Comment on this result. Does it make sense?"
   ]
  },
  {
   "cell_type": "code",
   "execution_count": 5,
   "metadata": {},
   "outputs": [
    {
     "name": "stdout",
     "output_type": "stream",
     "text": [
      "Average clustering coefficient: 0.10796398386235195\n"
     ]
    }
   ],
   "source": [
    "## 10.1.3.1\n",
    "################################ LOAD AND SPECIFY THE FACEBOOK DATA #############################\n",
    "data = pd.read_csv(\n",
    "    \"Ex_10/facebook-wall.txt\",\n",
    "    delimiter=\"\\t\",\n",
    "    header=None,\n",
    "    names=['user1', 'user2', 'timestamp']\n",
    ")\n",
    "\n",
    "## Full network (all data)\n",
    "data_t = data.groupby(['user1', 'user2']).size().reset_index(name='weight')\n",
    "G = nx.from_pandas_edgelist(data_t, 'user1', 'user2', 'weight', create_using=nx.Graph)\n",
    "\n",
    "#Print average clustering coefficient (average of the fraction of realised triangles over potential triangles for each node.)\n",
    "ALCC_real = nx.average_clustering(G)\n",
    "print('Average clustering coefficient:', nx.average_clustering(G))"
   ]
  },
  {
   "cell_type": "code",
   "execution_count": 6,
   "metadata": {},
   "outputs": [
    {
     "name": "stdout",
     "output_type": "stream",
     "text": [
      "Loop #: 0\n",
      "Loop #: 200\n",
      "Loop #: 400\n",
      "Loop #: 600\n",
      "Loop #: 800\n",
      "Average ALCC of null models: 0.10455414981084332\n"
     ]
    }
   ],
   "source": [
    "## 10.1.3.2 --> WITHOUT INPLACE\n",
    "#Construct container\n",
    "container_new = []\n",
    "# Construct original network each time.\n",
    "G = nx.from_pandas_edgelist(data_t, 'user1', 'user2', 'weight', create_using=nx.Graph)\n",
    "\n",
    "for count, _ in enumerate(range(1000)):\n",
    "    if (count % 200) == 0:\n",
    "        print('Loop #:', count)\n",
    "    # Reset G_loop each time --> double_edge_swap is inplace. \n",
    "    G_loop = G.copy()\n",
    "    #G = nx.from_pandas_edgelist(data_t, 'user1', 'user2', 'weight', create_using=nx.Graph)\n",
    "    #shuffle edge (seed==None as the process should be random/different each time)\n",
    "    #max_tries is set to an abitrary number greater than nswap. \n",
    "    nx.double_edge_swap(G_loop, nswap = 1000, max_tries = 2000, seed = None)\n",
    "    #Append ALCC to container\n",
    "    container_new.append(nx.average_clustering(G_loop))\n",
    "print('Average ALCC of null models:', sum(container_new)/len(container_new))"
   ]
  },
  {
   "cell_type": "code",
   "execution_count": 7,
   "metadata": {},
   "outputs": [
    {
     "name": "stdout",
     "output_type": "stream",
     "text": [
      "p_value: 0.0\n"
     ]
    },
    {
     "data": {
      "image/png": "[encoded data removed]",
      "text/plain": [
       "<Figure size 720x720 with 1 Axes>"
      ]
     },
     "metadata": {},
     "output_type": "display_data"
    }
   ],
   "source": [
    "#List of ALCC_random < ALCC_real\n",
    "smaller_ALCC_new = [ALCC_random for ALCC_random in container_new if ALCC_real < ALCC_random]\n",
    "\n",
    "#p_value = fraction of times the ALCC of the real data is bigger than for the random data. \n",
    "p_value_new = len(smaller_ALCC_new)/len(container_new)\n",
    "print('p_value:', p_value_new)\n",
    "#Shouldn't it be 1 minus p_value which is the probability that the network is random? \n",
    "#Otherwise we get 100% probability that it IS random now...\n",
    "\n",
    "#plot-histogram\n",
    "fig, ax = plt.subplots(1,1, figsize = (10,10))\n",
    "ax.hist(container_new)\n",
    "ax.set_title('Distribution of ALCC in null model - Real ALCC as dotted line')\n",
    "ax.set_xlabel('ALCC of null models')\n",
    "ax.set_ylabel('Count')\n",
    "#plt.xlim(left = min(container_new), right = (ALCC_real+ALCC_real*0.1))\n",
    "ax.axvline(x=ALCC_real, color='r', linestyle='dashed', linewidth=2)\n",
    "plt.show()"
   ]
  },
  {
   "cell_type": "markdown",
   "metadata": {},
   "source": [
    "Judging by the histrogram and the p-value, it would appear as if the network is definintly ***not random***. The ALCC of the random networks were always smaller then the ALCC of the real network."
   ]
  },
  {
   "cell_type": "markdown",
   "metadata": {},
   "source": [
    "### Part 2: Community detection"
   ]
  },
  {
   "cell_type": "markdown",
   "metadata": {},
   "source": [
    "Communities are little lumps of nodes in a network that are unusually strongly connected. Your family is a community, and your friend group from work or university is another community. While there is no one true definition of what a community is, there are many many different methods and algorithms for finding them. Here we will work with one of the most popular ones: [Louvain Modularity](https://en.wikipedia.org/wiki/Louvain_Modularity). The following exercises will walk you through the fundamentals of this method, and finally have you apply it to the network you used last week."
   ]
  },
  {
   "cell_type": "markdown",
   "metadata": {},
   "source": [
    "#### The modularity function"
   ]
  },
  {
   "cell_type": "markdown",
   "metadata": {},
   "source": [
    "> **Ex. 10.2.1**: Assume you have a network where nodes and links tend to form lumps here and there. Imagine you now reach for your pen, and start labeling these nodes with group names (or ids) that feel appropriate according to how they are lumped together. If your partition is \"good\", nodes that are connected in groups should intuitively have the same label, while nodes that are distant and disconnected should have different labels. Modularity is a function that can be used to measure, by this logic, *how good* your partition is. It is in technical terms a *utility function*, and it looks like this:\n",
    "> <br><br>\n",
    "> $$ Q = \\dfrac{1}{2m}\\sum_{ij}{\\left[A_{ij}-\\dfrac{k_ik_j}{2m}\\right]\\delta(c_i, c_j)}.$$\n",
    "> <br>\n",
    "> Your job in this problem is to explain this equation. When I look at daunting math I find it calming to try and read it as if it were code. Since all math can be implemented in code, all math can be broken into parts, where each part does a seperate thing. Answer each question below seperately:\n",
    "1. In code, a sum, $\\sum$, is like a `for` loop, where in every iteration you increment a variable. In the equation for modularity the little $ij$ subscript tells is what the sum is looping over (like `for ij in sumloop`). But what is $ij$?\n",
    "2. In each iteration of the sum, the delta function $\\delta(c_i, c_j)$ is used, where $c_i$ is the community label of node $i$. The delta function is a very simple program that returns 0 if the two input values are different and 1 if they are they same. How would you implement the delta function in code? What is it used for in the modularity equation?\n",
    "3. Inside the sum we use the term $\\frac{k_ik_j}{2m}$ as our *null model*. $k$ is the degree sequence (so $k_i$ is the degree of node $i$) and $m$ is the sum of all link weights. Explain what this null model measures. Could we have used other null models?\n",
    "4. The sum subtracts the null model from $A_{ij}$ and adds the result to its final value if the delta function evaluates to 1. What is the point of only summing over this difference when the delta function is 1?\n",
    "5. The sum term is normalized by $2m$. Why exactly $2m$?\n",
    "6. Summarize your insight gained from answering the above questions. In your own words, explain how the modularity function works. Use 1-3 sentences.\n"
   ]
  },
  {
   "cell_type": "markdown",
   "metadata": {},
   "source": [
    "Answer:\n",
    "\n",
    "**1)**: *ij* indicates a node pair, $node_i$ and $node_j$. So the sum is looping over all node pairs in the data.\n",
    "\n",
    "**2)**: For each iteration over the node pairs *ij*, the component $\\left[A_{ij}-\\dfrac{k_ik_j}{2m}\\right]$ only counts towards the modularity (which we want to maximize) if the two nodes are in the same community. We have coded the $\\delta$ function below:\n"
   ]
  },
  {
   "cell_type": "code",
   "execution_count": 5,
   "metadata": {},
   "outputs": [],
   "source": [
    "def delt(a,b):\n",
    "    return int(a==b)\n",
    "# Return either 1 (= True) or 0 (= False), dependent on whether node i and j are in the same counnity."
   ]
  },
  {
   "cell_type": "markdown",
   "metadata": {},
   "source": [
    "**3)**: $k_i$ and $k_j$ are the sum of the weights of the edges attached to nodes $i$ and $j$, respectively. $\\dfrac{k_ik_j}{2m}$ ($p_{ij}$ in the book) is the expected weight of the link between nodes i, j under random degree-preserving. It is the expected number of connections (if the network is random/ under the null) divided by the total number of possible connections.\n",
    "\n",
    "\n",
    "**4**): $\\left[A_{ij}-\\dfrac{k_ik_j}{2m}\\right]$ measure the difference between the network’s real wiring diagram ($A_{ij}$) and the expected number of links between i and j if the network is randomly wired ($\\dfrac{k_ik_j}{2m}$). \n",
    "\n",
    "\n",
    "**5**): $2m$ is the number of stubs available for connectivity in the network. The modularity is standardized by taking the size of the networks / it's degree sequence into account. \n",
    "\n",
    "\n",
    "\n",
    "**6)**: We don't really know - we found it difficult from here"
   ]
  },
  {
   "cell_type": "markdown",
   "metadata": {},
   "source": [
    "> **Ex. 10.2.2**: Implement the modularity function. Write a Python function that takes as input an adjacency matrix and a label vector, and returns the modularity. Compute and print the modularity for the ones given below. The correct result is 0.122."
   ]
  },
  {
   "cell_type": "code",
   "execution_count": 11,
   "metadata": {
    "ExecuteTime": {
     "end_time": "2019-03-12T10:27:43.909671Z",
     "start_time": "2019-03-12T10:27:43.900257Z"
    }
   },
   "outputs": [
    {
     "name": "stdout",
     "output_type": "stream",
     "text": [
      "Modularity of partition = 0.12244897959183675\n"
     ]
    }
   ],
   "source": [
    "import numpy as np\n",
    "\n",
    "A = np.array([\n",
    "    [0, 1, 1, 0, 0, 0],\n",
    "    [1, 0, 1, 0, 0, 0],\n",
    "    [1, 1, 0, 1, 0, 0],\n",
    "    [0, 0, 1, 0, 1, 1],\n",
    "    [0, 0, 0, 1, 0, 1],\n",
    "    [0, 0, 0, 1, 1, 0],\n",
    "])\n",
    "\n",
    "c = [0, 0, 0, 0, 1, 1]\n",
    "\n",
    "def modularity(A, c):\n",
    "    n = A.shape[0] # Matrix is symmetric\n",
    "    Q = 0 # Set initial Q to 0\n",
    "    m = A.sum() / 2 # Divide by 2 since we want the # of edges (A counts the # of stubs)\n",
    "    for i in range(n): # Loop through all nodes - node_i\n",
    "        ki = A[i,:].sum() # count degree (k_i) for node i.\n",
    "        for j in range(n): # loop over all nodes --> node_j\n",
    "            kj = A[:,j].sum() # count degress (k_j for node j\n",
    "            Q += (A[i,j] - ki*kj/(2*m)) * delt(c[i], c[j]) #Add to total Q for nodepair i,j\n",
    "    return Q/(2*m) # Standardize with 2*m and return final Q. \n",
    "\n",
    "print('Modularity of partition =', modularity(A,c))"
   ]
  },
  {
   "cell_type": "markdown",
   "metadata": {},
   "source": [
    "> **Ex. 10.2.3**: The example labeling, `c`, was not optimal. Find the optimal one and print its modularity score.\n",
    "\n",
    ">*Hint: Either just try a bunch of different label combinations or visualize the network so you can see what is optimal. Using pen and paper here is no shame.*"
   ]
  },
  {
   "cell_type": "code",
   "execution_count": 27,
   "metadata": {},
   "outputs": [],
   "source": [
    "#Define helper function which assign new values without overwriting the original data\n",
    "def put(array, index, value):\n",
    "    _arr = array.copy() # set copy of input element\n",
    "    _arr[index] = value # assign new value at a given index position\n",
    "    return _arr # return the manipulated data\n",
    "\n",
    "#Define louvain funtion\n",
    "def louvain(A, max_iter = 50, k = 10):\n",
    "    c = np.arange(A.shape[0]) # Assign each node to its own community\n",
    "    Q = modularity(A,c) # Calculate modularity of the single-comminuty partition\n",
    "    noimp = 0 # Used for check later.\n",
    "    for _ in range(max_iter): # Loop that governs the maximum number of iterations\n",
    "        if noimp > k: # if Q doesn't improve between iteration: noimp += 1.\n",
    "                      # k is thus a threshold for how many iterations is allowed\n",
    "                      # without an improvement in Q, before the loop/alogithm breaks.\n",
    "            break # Break if no improvement to Q\n",
    "        i = np.random.randint(A.shape[0]) # Choose random node\n",
    "        js = np.where(A[i, :] == 1)[0] # extract each node (all the j's) that node i is linked to.\n",
    "        \n",
    "        #Compute the change in modularity when moving node i into the community of\n",
    "        # each of it's neighbours -- Store the change in modularity in a list.\n",
    "        # Loop through the neighbours (j's):\n",
    "        delta_Qs = [modularity(A, put(c, i, c[j])) - Q for j in js]\n",
    "        ###modularity(A, put(c, i, c[j])): use the put() function to reassign node i, to the \n",
    "        #community of node j, and then calculate the modularity. \n",
    "        ### - Q: subtract the modularity of the previous partition.\n",
    "        \n",
    "        \n",
    "        #If the maximum change in modularity is <= 0, add 1 to noimp, and\n",
    "        # continue to the next iteration of the loop.\n",
    "        if max(delta_Qs) <= 0:\n",
    "            noimp += 1\n",
    "            continue\n",
    "        # If the max change in modularity is > 0\n",
    "        else:\n",
    "            noimp = 0 # Reset noimp to 0\n",
    "            j_star = js[np.argmax(delta_Qs)] # Take the neighbour, whose community yielded the greatest \n",
    "                                             # difference in modularity, when i was assigned to it. \n",
    "                \n",
    "            c = put(c, i, c[j_star]) # Assign node i to the 'best' community\n",
    "            old_Q = Q # Save the old Q, before overwriting (why?)\n",
    "            Q = modularity(A, c) # Calculate new modularity, and proceed to next iteration.      \n",
    "    return Q, c # return new class-labels"
   ]
  },
  {
   "cell_type": "code",
   "execution_count": 31,
   "metadata": {},
   "outputs": [
    {
     "name": "stdout",
     "output_type": "stream",
     "text": [
      "Modularity of best split: 0.3571428571428571\n",
      "Class labels of best split: [1 1 1 4 4 4]\n"
     ]
    }
   ],
   "source": [
    "# Test how to best split A.\n",
    "best_mod, best_class = louvain(A)\n",
    "\n",
    "print('Modularity of best split:', best_mod)\n",
    "print('Class labels of best split:', best_class)"
   ]
  },
  {
   "cell_type": "markdown",
   "metadata": {},
   "source": [
    "#### Finding the best communities"
   ]
  },
  {
   "cell_type": "markdown",
   "metadata": {},
   "source": [
    "OK, so we are now able to evaluate the quality of a partition. But how do we find the best partition? Modularity gives us a way to measure *how good* our partition is, but it does not tell of how to find the best one. For that we need some sort of algorithm. The *Louvain method* is that algorithm.\n",
    "\n",
    "It works in the following steps:\n",
    "1. Set every node to be its own community (initiate `c = [0, 1, 2, 3, 4, 5]`).\n",
    "2. Compute the modularity.\n",
    "3. Now pick a random node.\n",
    "    1. For every neighbor it has, try giving it the neighbor's label, and compute the change in modularity.\n",
    "    2. If any of those relabelings led to an increase in modularity, choose the relabeling with the greatest increase.\n",
    "4. Repeat 2-3 until modularity ceases to increase for any relabelings."
   ]
  },
  {
   "cell_type": "markdown",
   "metadata": {},
   "source": [
    "***See Above (answer to 10.2.3)***"
   ]
  },
  {
   "cell_type": "markdown",
   "metadata": {},
   "source": [
    "> **Ex. 10.2.BONUS**: Implement the Louvain method, and show that it gives the labeling for `A`. A cool portfolio project for your Github account here!"
   ]
  },
  {
   "cell_type": "markdown",
   "metadata": {},
   "source": [
    "#### Communication communities on Facebook"
   ]
  },
  {
   "cell_type": "markdown",
   "metadata": {},
   "source": [
    "Now let's work with some real data. Whip out the network you created **last week**, we will be using that again. Apply again the **threshold** you created in **Ex. 9.2.4**."
   ]
  },
  {
   "cell_type": "code",
   "execution_count": 4,
   "metadata": {},
   "outputs": [
    {
     "name": "stdout",
     "output_type": "stream",
     "text": [
      "Loop nr: 5\n",
      "Loop nr: 10\n",
      "Loop nr: 15\n",
      "Loop nr: 20\n",
      "19625 edges remain in the network\n",
      "2824 nodes remain in the network\n"
     ]
    }
   ],
   "source": [
    "data = pd.read_csv(\n",
    "    \"facebook-wall.txt\",\n",
    "    delimiter=\"\\t\",\n",
    "    header=None,\n",
    "    names=['user1', 'user2', 'timestamp']\n",
    ")\n",
    "\n",
    "#Function to slice data - set how many days before last post for both upper and lower bound\n",
    "def slice_data(t0_in=7, t1_in=0):\n",
    "    t0 = data.timestamp.max() - 86400 * t0_in  # Lower bound of time-slice (t0_in days before last wall post)\n",
    "    t1 = data.timestamp.max() - 86400 * t1_in   # Upper bound of time-slice (t1_in days before last wall post)\n",
    "\n",
    "    # Subset of the pandas dataframe\n",
    "    data_t = data.loc[data.timestamp.between(t0, t1)]\n",
    "\n",
    "    # Count the number of times each link occurs and store that in a new 'weight' column\n",
    "    data_t = data_t.groupby(['user1', 'user2']).size().reset_index(name='weight')\n",
    "\n",
    "    # Create a `nx.DiGraph` from this dataframe\n",
    "    G_t = nx.from_pandas_edgelist(data_t, 'user1', 'user2', 'weight', create_using=nx.Graph)\n",
    "    return G_t\n",
    "\n",
    "# Network of last 365 days\n",
    "G_365 = slice_data(t0_in=365)\n",
    "\n",
    "threshold = 1 \n",
    "\n",
    "#Find threshold now that the graph is no longer directed\n",
    "while (len(G_365.edges()) >= 20000 or len(G_365.nodes()) >= 5000):\n",
    "    G_365 = slice_data(t0_in=365) # create the network\n",
    "    if threshold % 5 == 0: # Keep track of loop\n",
    "        print('Loop nr:', threshold)\n",
    "    #set nodes to remove\n",
    "    to_remove = [node for node,degree in G_365.degree() if degree < threshold]\n",
    "    #Remove from network\n",
    "    G_365.remove_nodes_from(to_remove)\n",
    "    #Set new threshold\n",
    "    threshold += 1 \n",
    "\n",
    "#Create network\n",
    "G_365 = slice_data(t0_in=365)\n",
    "\n",
    "#Use threshold\n",
    "to_remove = [node for node,degree in G_365.degree() if degree < threshold-1]\n",
    "#Remove from network\n",
    "G_365.remove_nodes_from(to_remove)\n",
    "print(len(G_365.edges()), 'edges remain in the network')\n",
    "print(len(G_365.nodes()), 'nodes remain in the network')"
   ]
  },
  {
   "cell_type": "markdown",
   "metadata": {},
   "source": [
    "> **Ex. 10.2.4**: Find the communities in this networks. Print the number of communities and plot the distribution of community sizes. See something interesting? Comment on this distribution.\n",
    "\n",
    ">*Hint: You're welcome to use your own implementation of the Louvain algorithm (pretty badass if you can), but there's also a widely used Python implementation that you can take off the shelf. Go ahead and install `python-louvain` by running `conda install -c auto python-louvain` in a terminal. After installation, import it with `import community`, and use `community.best_partition` to get a node-community dictionary.*"
   ]
  },
  {
   "cell_type": "code",
   "execution_count": 12,
   "metadata": {},
   "outputs": [
    {
     "name": "stdout",
     "output_type": "stream",
     "text": [
      "There are 41 communities in the network\n"
     ]
    },
    {
     "data": {
      "image/png": "[encoded data removed]",
      "text/plain": [
       "<Figure size 1080x504 with 1 Axes>"
      ]
     },
     "metadata": {
      "needs_background": "light"
     },
     "output_type": "display_data"
    }
   ],
   "source": [
    "#Find communities/ partition network based on Louvain Modularity.\n",
    "# Output = Dict with nodes as keys and community as values\n",
    "partitions = community.best_partition(G_365)\n",
    "#Extract the community of each node into list\n",
    "community_list = [community for node,community in partitions.items()]\n",
    "#Count how many nodes there are in the communities --> dict with community as key and count as value\n",
    "com_count = Counter(community_list)\n",
    "print('There are', len(com_count), 'communities in the network')\n",
    "\n",
    "#Plot distribution of community size\n",
    "fig, ax = plt.subplots(figsize = (15,7))\n",
    "#Distribution plot of the size of the communities\n",
    "ax.set_title(\"Community Size Distribution\")\n",
    "ax.set_ylabel(\"Count\")\n",
    "ax.set_xlabel(\"Community Size\")\n",
    "ax.set_xlim(left = 0, right = max(count))\n",
    "plt.hist(com_count.values(), bins = len(com_count))\n",
    "plt.show()"
   ]
  },
  {
   "cell_type": "code",
   "execution_count": 13,
   "metadata": {},
   "outputs": [
    {
     "data": {
      "text/plain": [
       "Counter({164: 1,\n",
       "         422: 1,\n",
       "         309: 1,\n",
       "         256: 1,\n",
       "         195: 1,\n",
       "         184: 1,\n",
       "         162: 1,\n",
       "         33: 1,\n",
       "         150: 1,\n",
       "         180: 1,\n",
       "         293: 1,\n",
       "         57: 1,\n",
       "         58: 1,\n",
       "         9: 2,\n",
       "         95: 1,\n",
       "         81: 1,\n",
       "         43: 1,\n",
       "         94: 1,\n",
       "         8: 1,\n",
       "         1: 20,\n",
       "         2: 1})"
      ]
     },
     "execution_count": 13,
     "metadata": {},
     "output_type": "execute_result"
    }
   ],
   "source": [
    "#Community size as key and count as value\n",
    "Counter(count)"
   ]
  },
  {
   "cell_type": "markdown",
   "metadata": {},
   "source": [
    "**Answer 10.2.4**: We see that some quite large communities have been constructed, with the largest one consisting of 422 nodes. Some nodes have not been put into a community (20 of the communities consists of merely 1 node), though most of the nodes have been placed in medium to large communities (considering that the network consists of 2824 nodes)."
   ]
  },
  {
   "cell_type": "markdown",
   "metadata": {},
   "source": [
    "> **Ex. 10.2.5**: Visualize the network, similarly to how you did it last week but this time coloring the nodes by their labels.\n",
    ">\n",
    "> *Hint: [Here](https://netwulf.readthedocs.io/) are the `netwulf` docs. Fiddle around with the layout a little it always makes the network look nicer.*"
   ]
  },
  {
   "cell_type": "code",
   "execution_count": null,
   "metadata": {},
   "outputs": [],
   "source": [
    "from netwulf import visualize \n",
    "#Implement the constructed communities in the network\n",
    "nx.set_node_attributes(G_365, partitions, 'group')\n",
    "visualize(G_365)"
   ]
  },
  {
   "cell_type": "markdown",
   "metadata": {},
   "source": [
    "<img src=\"network.png\">"
   ]
  },
  {
   "cell_type": "markdown",
   "metadata": {},
   "source": [
    "> **Ex. 10.2.6:** Maybe the communities you observed in the previous exercise were not as pretty as you were hoping.\n",
    "Admittedly, the Facebook wallpost network is not the most modular network anyway, but still it examplifies a serious\n",
    "problem with the Modularity score as a utility function for community detection. Can you explain what this problem is,\n",
    "and why it becomes increasingly severe as the network grows larger?\n",
    ">\n",
    "> *Hint: it has something to do with the null model that Modularity uses*."
   ]
  },
  {
   "cell_type": "markdown",
   "metadata": {},
   "source": [
    "**Answer 10.2.6:** It kind of looks like a hairball. We don't know what the problem is. "
   ]
  },
  {
   "cell_type": "markdown",
   "metadata": {},
   "source": [
    "> *Final note: there are many other community detection algorithms out there. Check out the [NetworkX docs](https://networkx.github.io/documentation/stable/reference/algorithms/community.html)\n",
    "for some easy-to-use alternatives to Modularity. Also you may want to have a look at [Infomap](https://mapequation.github.io/infomap/python/)\n",
    "especially if you are working with networks where links represent flow (like transactions, exchange, citations, hyperlinks, etc). It usually gives amazing results.*"
   ]
  }
 ],
 "metadata": {
  "kernelspec": {
   "display_name": "Python 3",
   "language": "python",
   "name": "python3"
  },
  "language_info": {
   "codemirror_mode": {
    "name": "ipython",
    "version": 3
   },
   "file_extension": ".py",
   "mimetype": "text/x-python",
   "name": "python",
   "nbconvert_exporter": "python",
   "pygments_lexer": "ipython3",
   "version": "3.7.4"
  },
  "nav_menu": {},
  "toc": {
   "base_numbering": 1,
   "nav_menu": {},
   "number_sections": false,
   "sideBar": true,
   "skip_h1_title": false,
   "title_cell": "Table of Contents",
   "title_sidebar": "Contents",
   "toc_cell": false,
   "toc_position": {},
   "toc_section_display": "block",
   "toc_window_display": true
  },
  "varInspector": {
   "cols": {
    "lenName": 16,
    "lenType": 16,
    "lenVar": 40
   },
   "kernels_config": {
    "python": {
     "delete_cmd_postfix": "",
     "delete_cmd_prefix": "del ",
     "library": "var_list.py",
     "varRefreshCmd": "print(var_dic_list())"
    },
    "r": {
     "delete_cmd_postfix": ") ",
     "delete_cmd_prefix": "rm(",
     "library": "var_list.r",
     "varRefreshCmd": "cat(var_dic_list()) "
    }
   },
   "types_to_exclude": [
    "module",
    "function",
    "builtin_function_or_method",
    "instance",
    "_Feature"
   ],
   "window_display": false
  }
 },
 "nbformat": 4,
 "nbformat_minor": 2
}
