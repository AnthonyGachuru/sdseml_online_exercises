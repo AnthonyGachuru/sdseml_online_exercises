{
 "cells": [
  {
   "cell_type": "markdown",
   "metadata": {},
   "source": [
    "### Warmup exercise 7 ###"
   ]
  },
  {
   "cell_type": "markdown",
   "metadata": {},
   "source": [
    "Write a decorator retry(n) that when applied to a function (e.g. a scraper) it retries a failed function call up to n times apply the decorator to the following function"
   ]
  },
  {
   "cell_type": "code",
   "execution_count": 3,
   "metadata": {},
   "outputs": [],
   "source": [
    "def retry(n):\n",
    "    def try_again(fnc):\n",
    "        def wrapper():\n",
    "            for i in range(0,n):\n",
    "                try:\n",
    "                    call = fnc\n",
    "                    return call\n",
    "                except:\n",
    "                    print(f'number of retries: {i}')\n",
    "        return wrapper\n",
    "    return try_again"
   ]
  },
  {
   "cell_type": "code",
   "execution_count": 4,
   "metadata": {},
   "outputs": [],
   "source": [
    "from random import uniform\n",
    "\n",
    "@retry(n=100)\n",
    "def this_might_fail():\n",
    "    c=uniform(0,1) > 0.8\n",
    "    if c: return 'Sucess'\n",
    "    raise ValueError('c to small')"
   ]
  }
 ],
 "metadata": {
  "kernelspec": {
   "display_name": "Python 3",
   "language": "python",
   "name": "python3"
  },
  "language_info": {
   "codemirror_mode": {
    "name": "ipython",
    "version": 3
   },
   "file_extension": ".py",
   "mimetype": "text/x-python",
   "name": "python",
   "nbconvert_exporter": "python",
   "pygments_lexer": "ipython3",
   "version": "3.7.3"
  }
 },
 "nbformat": 4,
 "nbformat_minor": 2
}
