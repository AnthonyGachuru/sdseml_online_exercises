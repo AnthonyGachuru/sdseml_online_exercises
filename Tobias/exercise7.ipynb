{
 "cells": [
  {
   "cell_type": "markdown",
   "metadata": {},
   "source": [
    "# Warmup"
   ]
  },
  {
   "cell_type": "code",
   "execution_count": 57,
   "metadata": {},
   "outputs": [
    {
     "data": {
      "image/png": "[encoded data removed]",
      "text/plain": [
       "<Figure size 432x288 with 1 Axes>"
      ]
     },
     "metadata": {
      "needs_background": "light"
     },
     "output_type": "display_data"
    }
   ],
   "source": [
    "from scipy import integrate\n",
    "from numpy import log, linspace\n",
    "import matplotlib.pyplot as plt\n",
    "\n",
    "%matplotlib inline\n",
    "\n",
    "def Integrate(f, a, b):\n",
    "    return integrate.quad(f, a, b)\n",
    "\n",
    "def li(n):\n",
    "    # only return the value which is the zeroth index from quad\n",
    "    return Integrate(lambda t: 1/log(t), 2, n)[0]\n",
    "\n",
    "# iterate over generator\n",
    "x = linspace(10, 10**10, 100)\n",
    "y = [ li(n) for n in x ]\n",
    "\n",
    "plt.style.use(\"seaborn-pastel\")\n",
    "fig, ax = plt.subplots()\n",
    "ax.plot(x, y)\n",
    "\n",
    "ax.set(xlabel='n', \n",
    "       ylabel='$\\pi$',\n",
    "       title='Number of primes, $\\pi$, smaller than n')\n",
    "\n",
    "plt.show()"
   ]
  },
  {
   "cell_type": "markdown",
   "metadata": {},
   "source": [
    "# Exercise set 7: Spatial data\n",
    "\n",
    "In this exercise set you will be working with structuring and plotting spatial data. \n",
    "- Exercise 9.1: basic shapes\n",
    "- Exercise 9.2: working with Geopandas and interpolation\n",
    "- Exercise 9.3: interactive plotting with folium\n",
    "\n",
    "We begin with loading the standard packages:\n"
   ]
  },
  {
   "cell_type": "code",
   "execution_count": 1,
   "metadata": {},
   "outputs": [
    {
     "name": "stdout",
     "output_type": "stream",
     "text": [
      "\n",
      "SYSTEM INFO\n",
      "-----------\n",
      "python     : 3.8.2 | packaged by conda-forge | (default, Mar 23 2020, 17:32:17) [MSC v.1916 64 bit (AMD64)]\n",
      "executable : C:\\Users\\Tobias\\Miniconda3\\envs\\geo\\python.exe\n",
      "machine    : Windows-10-10.0.18362-SP0\n",
      "\n",
      "GEOS, GDAL, PROJ INFO\n",
      "---------------------\n",
      "GEOS       : None\n",
      "GEOS lib   : None\n",
      "GDAL       : 3.0.4\n",
      "GDAL data dir: None\n",
      "PROJ       : 6.3.1\n",
      "PROJ data dir: C:\\Users\\Tobias\\Miniconda3\\envs\\geo\\Library\\share\\proj\n",
      "\n",
      "PYTHON DEPENDENCIES\n",
      "-------------------\n",
      "geopandas  : 0.7.0\n",
      "pandas     : 1.0.3\n",
      "fiona      : 1.8.13\n",
      "numpy      : 1.18.1\n",
      "shapely    : 1.7.0\n",
      "rtree      : 0.9.4\n",
      "pyproj     : 2.6.0\n",
      "matplotlib : 3.2.1\n",
      "mapclassify: None\n",
      "pysal      : None\n",
      "geopy      : None\n",
      "psycopg2   : None\n",
      "None\n"
     ]
    }
   ],
   "source": [
    "import os\n",
    "import requests\n",
    "\n",
    "import numpy as np\n",
    "import pandas as pd\n",
    "import seaborn as sns\n",
    "\n",
    "import folium\n",
    "import geopandas as gpd\n",
    "import fiona\n",
    "import shapely\n",
    "\n",
    "print(gpd.show_versions())"
   ]
  },
  {
   "cell_type": "markdown",
   "metadata": {},
   "source": [
    "## Exercises"
   ]
  },
  {
   "cell_type": "markdown",
   "metadata": {},
   "source": [
    "### Part 9.1: Working with spatial objects \n",
    "\n",
    "This exercise will serve as a brief tutorial on spatial data. We will learn how to make spatial shape and use their basic operations."
   ]
  },
  {
   "cell_type": "markdown",
   "metadata": {},
   "source": [
    "> **Ex. 9.1.1** Make a polygon which is square that has left,lower corner in 2,2 and right,upper in 5,5. Make a triangle passing through (0,0), (4,0) and (2,4). What do they look like? Store the two polygons respectively as `square` and `triangle`\n",
    "\n",
    "> *Hint*: the submodule shapely.geometry has methods such as `Point`, `Polygon` and `Multipolygon`"
   ]
  },
  {
   "cell_type": "code",
   "execution_count": 14,
   "metadata": {},
   "outputs": [],
   "source": [
    "from shapely.geometry import Polygon"
   ]
  },
  {
   "cell_type": "code",
   "execution_count": 3,
   "metadata": {},
   "outputs": [],
   "source": [
    "# [Your answer here]\n",
    "square = Polygon([(2,2), (2,5), (5,5), (5,2)])\n",
    "triangle = Polygon([(0,0), (4,0), (2,4)])"
   ]
  },
  {
   "cell_type": "code",
   "execution_count": 4,
   "metadata": {},
   "outputs": [
    {
     "data": {
      "image/svg+xml": [
       "<svg xmlns=\"http://www.w3.org/2000/svg\" xmlns:xlink=\"http://www.w3.org/1999/xlink\" width=\"100.0\" height=\"100.0\" viewBox=\"1.88 1.88 3.24 3.24\" preserveAspectRatio=\"xMinYMin meet\"><g transform=\"matrix(1,0,0,-1,0,7.0)\"><path fill-rule=\"evenodd\" fill=\"#66cc99\" stroke=\"#555555\" stroke-width=\"0.06480000000000001\" opacity=\"0.6\" d=\"M 2.0,2.0 L 2.0,5.0 L 5.0,5.0 L 5.0,2.0 L 2.0,2.0 z\" /></g></svg>"
      ],
      "text/plain": [
       "<shapely.geometry.polygon.Polygon at 0x238eee4f7f0>"
      ]
     },
     "execution_count": 4,
     "metadata": {},
     "output_type": "execute_result"
    }
   ],
   "source": [
    "square"
   ]
  },
  {
   "cell_type": "code",
   "execution_count": 5,
   "metadata": {},
   "outputs": [
    {
     "data": {
      "image/svg+xml": [
       "<svg xmlns=\"http://www.w3.org/2000/svg\" xmlns:xlink=\"http://www.w3.org/1999/xlink\" width=\"100.0\" height=\"100.0\" viewBox=\"-0.16 -0.16 4.32 4.32\" preserveAspectRatio=\"xMinYMin meet\"><g transform=\"matrix(1,0,0,-1,0,4.0)\"><path fill-rule=\"evenodd\" fill=\"#66cc99\" stroke=\"#555555\" stroke-width=\"0.0864\" opacity=\"0.6\" d=\"M 0.0,0.0 L 4.0,0.0 L 2.0,4.0 L 0.0,0.0 z\" /></g></svg>"
      ],
      "text/plain": [
       "<shapely.geometry.polygon.Polygon at 0x238eee4f850>"
      ]
     },
     "execution_count": 5,
     "metadata": {},
     "output_type": "execute_result"
    }
   ],
   "source": [
    "triangle"
   ]
  },
  {
   "cell_type": "markdown",
   "metadata": {},
   "source": [
    "> **Ex. 6.1.2** Compute and show the spatial difference of square subtracted triangle, also show the hat is the union of `square` and `triangle`?"
   ]
  },
  {
   "cell_type": "code",
   "execution_count": 7,
   "metadata": {},
   "outputs": [
    {
     "name": "stdout",
     "output_type": "stream",
     "text": [
      "The difference in area is : 1.0\n"
     ]
    }
   ],
   "source": [
    "# [Your answer here]\n",
    "print(\"The difference in area is :\", square.area - triangle.area)"
   ]
  },
  {
   "cell_type": "code",
   "execution_count": 8,
   "metadata": {},
   "outputs": [
    {
     "data": {
      "image/svg+xml": [
       "<svg xmlns=\"http://www.w3.org/2000/svg\" xmlns:xlink=\"http://www.w3.org/1999/xlink\" width=\"100.0\" height=\"100.0\" viewBox=\"-0.16 -0.16 4.32 4.32\" preserveAspectRatio=\"xMinYMin meet\"><g transform=\"matrix(1,0,0,-1,0,4.0)\"><path fill-rule=\"evenodd\" fill=\"#66cc99\" stroke=\"#555555\" stroke-width=\"0.0864\" opacity=\"0.6\" d=\"M 3.0,2.0 L 4.0,0.0 L 0.0,0.0 L 2.0,4.0 L 2.0,2.0 L 3.0,2.0 z\" /></g></svg>"
      ],
      "text/plain": [
       "<shapely.geometry.polygon.Polygon at 0x238e97536d0>"
      ]
     },
     "execution_count": 8,
     "metadata": {},
     "output_type": "execute_result"
    }
   ],
   "source": [
    "# this looks very wrong, but then again the specification says \n",
    "#that the triangle should be located nearer origon than the square\n",
    "triangle.difference(square)"
   ]
  },
  {
   "cell_type": "markdown",
   "metadata": {},
   "source": [
    "> **Ex. 6.1.3** Make a GeoSeries out of `square`, `triangle`. Plot the geoseries."
   ]
  },
  {
   "cell_type": "code",
   "execution_count": 9,
   "metadata": {},
   "outputs": [
    {
     "data": {
      "text/plain": [
       "<matplotlib.axes._subplots.AxesSubplot at 0x238eee4f9d0>"
      ]
     },
     "execution_count": 9,
     "metadata": {},
     "output_type": "execute_result"
    },
    {
     "data": {
      "image/png": "[encoded data removed]",
      "text/plain": [
       "<Figure size 432x288 with 1 Axes>"
      ]
     },
     "metadata": {
      "needs_background": "light"
     },
     "output_type": "display_data"
    }
   ],
   "source": [
    "# [Your answer here]\n",
    "gs = gpd.GeoSeries([square, triangle])\n",
    "gs.plot()"
   ]
  },
  {
   "cell_type": "markdown",
   "metadata": {},
   "source": [
    "### Part 9.2: Working with house sale prices\n",
    "\n",
    "Data on danish municipalities are available [here](https://raw.githubusercontent.com/ok-dk/dagi/master/geojson/kommuner.geojson) from Open Knowledge Denmark."
   ]
  },
  {
   "cell_type": "markdown",
   "metadata": {},
   "source": [
    "#### Basic operations with Geopandas\n",
    "\n",
    "> **Ex. 9.2.1** Load the municipalities data using `gpd.read_file()`, \n",
    "- What is the CRS of the dataframe - what projection does it correspond to? Turn the CRS into a meter based system.\n",
    "- Which three munipalities have the largest area?\n",
    "\n",
    "> Note: to find the entire area of a municipality which consists of multiple shapes (e.g. municipalities covering islands). you can use the `unary_union` method for GeoSeries."
   ]
  },
  {
   "cell_type": "code",
   "execution_count": 2,
   "metadata": {},
   "outputs": [],
   "source": [
    "url = \"https://raw.githubusercontent.com/ok-dk/dagi/master/geojson/kommuner.geojson\""
   ]
  },
  {
   "cell_type": "code",
   "execution_count": 3,
   "metadata": {},
   "outputs": [],
   "source": [
    "# [Your answer here]\n",
    "kommuner = gpd.read_file(url)"
   ]
  },
  {
   "cell_type": "code",
   "execution_count": 4,
   "metadata": {},
   "outputs": [
    {
     "data": {
      "text/html": [
       "<div>\n",
       "<style scoped>\n",
       "    .dataframe tbody tr th:only-of-type {\n",
       "        vertical-align: middle;\n",
       "    }\n",
       "\n",
       "    .dataframe tbody tr th {\n",
       "        vertical-align: top;\n",
       "    }\n",
       "\n",
       "    .dataframe thead th {\n",
       "        text-align: right;\n",
       "    }\n",
       "</style>\n",
       "<table border=\"1\" class=\"dataframe\">\n",
       "  <thead>\n",
       "    <tr style=\"text-align: right;\">\n",
       "      <th></th>\n",
       "      <th>KOMKODE</th>\n",
       "      <th>KOMNAVN</th>\n",
       "      <th>geometry</th>\n",
       "    </tr>\n",
       "  </thead>\n",
       "  <tbody>\n",
       "    <tr>\n",
       "      <th>0</th>\n",
       "      <td>0766</td>\n",
       "      <td>Hedensted</td>\n",
       "      <td>POLYGON Z ((9.44919 55.86046 -999.00000, 9.460...</td>\n",
       "    </tr>\n",
       "    <tr>\n",
       "      <th>1</th>\n",
       "      <td>0766</td>\n",
       "      <td>Hedensted</td>\n",
       "      <td>POLYGON Z ((10.06198 55.83301 -999.00000, 10.0...</td>\n",
       "    </tr>\n",
       "    <tr>\n",
       "      <th>2</th>\n",
       "      <td>0561</td>\n",
       "      <td>Esbjerg</td>\n",
       "      <td>POLYGON Z ((8.59656 55.53506 -999.00000, 8.601...</td>\n",
       "    </tr>\n",
       "    <tr>\n",
       "      <th>3</th>\n",
       "      <td>0849</td>\n",
       "      <td>Jammerbugt</td>\n",
       "      <td>POLYGON Z ((9.78314 57.07319 -999.00000, 9.781...</td>\n",
       "    </tr>\n",
       "    <tr>\n",
       "      <th>4</th>\n",
       "      <td>0849</td>\n",
       "      <td>Jammerbugt</td>\n",
       "      <td>POLYGON Z ((9.19738 57.13868 -999.00000, 9.207...</td>\n",
       "    </tr>\n",
       "  </tbody>\n",
       "</table>\n",
       "</div>"
      ],
      "text/plain": [
       "  KOMKODE     KOMNAVN                                           geometry\n",
       "0    0766   Hedensted  POLYGON Z ((9.44919 55.86046 -999.00000, 9.460...\n",
       "1    0766   Hedensted  POLYGON Z ((10.06198 55.83301 -999.00000, 10.0...\n",
       "2    0561     Esbjerg  POLYGON Z ((8.59656 55.53506 -999.00000, 8.601...\n",
       "3    0849  Jammerbugt  POLYGON Z ((9.78314 57.07319 -999.00000, 9.781...\n",
       "4    0849  Jammerbugt  POLYGON Z ((9.19738 57.13868 -999.00000, 9.207..."
      ]
     },
     "execution_count": 4,
     "metadata": {},
     "output_type": "execute_result"
    }
   ],
   "source": [
    "kommuner.head()\n",
    "#kommuner.plot()"
   ]
  },
  {
   "cell_type": "code",
   "execution_count": 5,
   "metadata": {},
   "outputs": [
    {
     "name": "stdout",
     "output_type": "stream",
     "text": [
      "The crs is: epsg:4326 which is a lat/long projection\n",
      "The crs is: epsg:3045 which is now a metric projection\n"
     ]
    }
   ],
   "source": [
    "print(f\"The crs is: {kommuner.crs} which is a lat/long projection\")\n",
    "kommuner_meter = kommuner.to_crs(epsg=3045)\n",
    "print(f\"The crs is: {kommuner_meter.crs} which is now a metric projection\")"
   ]
  },
  {
   "cell_type": "code",
   "execution_count": 6,
   "metadata": {},
   "outputs": [
    {
     "data": {
      "text/html": [
       "<div>\n",
       "<style scoped>\n",
       "    .dataframe tbody tr th:only-of-type {\n",
       "        vertical-align: middle;\n",
       "    }\n",
       "\n",
       "    .dataframe tbody tr th {\n",
       "        vertical-align: top;\n",
       "    }\n",
       "\n",
       "    .dataframe thead th {\n",
       "        text-align: right;\n",
       "    }\n",
       "</style>\n",
       "<table border=\"1\" class=\"dataframe\">\n",
       "  <thead>\n",
       "    <tr style=\"text-align: right;\">\n",
       "      <th></th>\n",
       "      <th>geometry</th>\n",
       "      <th>KOMKODE</th>\n",
       "      <th>areal</th>\n",
       "    </tr>\n",
       "    <tr>\n",
       "      <th>KOMNAVN</th>\n",
       "      <th></th>\n",
       "      <th></th>\n",
       "      <th></th>\n",
       "    </tr>\n",
       "  </thead>\n",
       "  <tbody>\n",
       "    <tr>\n",
       "      <th>Ringkøbing-Skjern</th>\n",
       "      <td>MULTIPOLYGON Z (((85750.032 6215458.239 -999.0...</td>\n",
       "      <td>0760</td>\n",
       "      <td>1500.181025</td>\n",
       "    </tr>\n",
       "    <tr>\n",
       "      <th>Viborg</th>\n",
       "      <td>POLYGON Z ((149891.119 6286692.131 -999.000, 1...</td>\n",
       "      <td>0791</td>\n",
       "      <td>1423.751246</td>\n",
       "    </tr>\n",
       "    <tr>\n",
       "      <th>Herning</th>\n",
       "      <td>POLYGON Z ((117693.143 6259048.470 -999.000, 1...</td>\n",
       "      <td>0657</td>\n",
       "      <td>1327.820781</td>\n",
       "    </tr>\n",
       "  </tbody>\n",
       "</table>\n",
       "</div>"
      ],
      "text/plain": [
       "                                                            geometry KOMKODE  \\\n",
       "KOMNAVN                                                                        \n",
       "Ringkøbing-Skjern  MULTIPOLYGON Z (((85750.032 6215458.239 -999.0...    0760   \n",
       "Viborg             POLYGON Z ((149891.119 6286692.131 -999.000, 1...    0791   \n",
       "Herning            POLYGON Z ((117693.143 6259048.470 -999.000, 1...    0657   \n",
       "\n",
       "                         areal  \n",
       "KOMNAVN                         \n",
       "Ringkøbing-Skjern  1500.181025  \n",
       "Viborg             1423.751246  \n",
       "Herning            1327.820781  "
      ]
     },
     "execution_count": 6,
     "metadata": {},
     "output_type": "execute_result"
    }
   ],
   "source": [
    "# 3 largest mun seems to check out with google so should be ok :)\n",
    "kom_areas = kommuner_meter.dissolve(by='KOMNAVN')\n",
    "kom_areas[\"areal\"] = kom_areas.area/1e6     # to sqkm from meter since crs is in meter projection\n",
    "kom_areas.nlargest(3, \"areal\")"
   ]
  },
  {
   "cell_type": "markdown",
   "metadata": {},
   "source": [
    "Use the script below to add regional information for municipalities. This code block assumes that your geodataframe is names `kommuner`."
   ]
  },
  {
   "cell_type": "code",
   "execution_count": 7,
   "metadata": {},
   "outputs": [],
   "source": [
    "kommuner.columns = kommuner.columns.str.lower()\n",
    "    \n",
    "# information for municipality\n",
    "kommune_info = pd.read_json('https://dawa.aws.dk/kommuner')\\\n",
    "                .pipe(lambda df: \\\n",
    "                        df.assign(komkode=df.kode.astype(str).str.zfill(4)))\\\n",
    "                .loc[:,['komkode','regionskode']]\\\n",
    "                \n",
    "\n",
    "region_info = pd.read_json('https://dawa.aws.dk/regioner/')\\\n",
    "                .loc[:,['kode','navn']]\\\n",
    "                .add_prefix('regions')\n",
    "\n",
    "kommuner = kommuner\\\n",
    "                .merge(kommune_info,how='left')\\\n",
    "                .merge(region_info,how='left')"
   ]
  },
  {
   "cell_type": "markdown",
   "metadata": {},
   "source": [
    "> **Ex. 9.2.2** Make two boolean series as follows. \n",
    "> - first: row is True if corresponding the row shape is in the Capital Region or Sealand Region (i.e. `'Region Hovedstaden', 'Region Sjælland'`) \n",
    "> - second: row is True if the  the row geometry is ***not*** in Bornholm or nearby (i.e. `'Bornholm', 'Christiansø'`)\n",
    "\n",
    "> Finally make a combined series which takes the value True if both holds, otherwise False and use this series to create a new geodataframe containing only mainland Sealand. \n",
    "\n",
    "\n",
    "> *Hint*: recall that we can check if a series elements are elements in a series using the `isin` method\n"
   ]
  },
  {
   "cell_type": "code",
   "execution_count": 8,
   "metadata": {},
   "outputs": [
    {
     "data": {
      "text/plain": [
       "<matplotlib.axes._subplots.AxesSubplot at 0x19aa5966ac0>"
      ]
     },
     "execution_count": 8,
     "metadata": {},
     "output_type": "execute_result"
    },
    {
     "data": {
      "image/png": "[encoded data removed]",
      "text/plain": [
       "<Figure size 432x288 with 1 Axes>"
      ]
     },
     "metadata": {
      "needs_background": "light"
     },
     "output_type": "display_data"
    }
   ],
   "source": [
    "# [Your answer here]\n",
    "captainSea = kommuner[\"regionsnavn\"].isin(['Region Hovedstaden','Region Sjælland'])\n",
    "notBorn = ~kommuner[\"komnavn\"].isin(['Bornholm', 'Christiansø'])\n",
    "mainlandSealand = kommuner[captainSea & notBorn]\n",
    "mainlandSealand.plot()"
   ]
  },
  {
   "cell_type": "markdown",
   "metadata": {},
   "source": [
    "> **Ex. 9.2.3** Explain what is the CRS of the GeoDataFrame. How is distance measured using this coordinate system. Extract the extremum values (min,max) in all dimensions of the sealand geodataframe. That is identify the coordinates of the corners in the smallest square covering the entire island.\n",
    "\n",
    "> *Hint*: extreme values, i.e. bounds, can be found using `.bounds` on a GeoDataFrame (also works on shapes, GeoSeries)"
   ]
  },
  {
   "cell_type": "code",
   "execution_count": 10,
   "metadata": {},
   "outputs": [
    {
     "data": {
      "text/plain": [
       "array([10.86834755, 54.55905586, 12.79875987, 56.19991972])"
      ]
     },
     "execution_count": 10,
     "metadata": {},
     "output_type": "execute_result"
    }
   ],
   "source": [
    "# [Your answer here]\n",
    "# transform back to lat-long take bounds of all shapes and then most extreme of bouds\n",
    "mainlandSealand.total_bounds"
   ]
  },
  {
   "cell_type": "markdown",
   "metadata": {},
   "source": [
    "The smallest square surounding sealand should therefore be with the corners(10.868348), (56.19992) in lat/long"
   ]
  },
  {
   "cell_type": "markdown",
   "metadata": {},
   "source": [
    "#### Interpolation of house prices\n",
    "\n",
    "\n",
    "In the following two exercises we aim to compute local spatial neighborhood measures of house prices in Sealand and around. We do this by making make a grid of Sealand houseprice data and using a neighborregressor to fill in data in squares that dont have any house sales. Thus the exercise will illustrate how to make a interpolation of data which is useful for feature engineering and get a good understanding of the data."
   ]
  },
  {
   "cell_type": "markdown",
   "metadata": {},
   "source": [
    "> **Ex. 9.2.4** Construct a 500mx500m grid for Sealand:\n",
    ">- Make a grid of points 500m apart in horizontal and vertical directions that are within the extremum values of Sealand's shape. Each pair $(e,n)$ in this grid should be the coordinates of the lower left corner in a 500x500 square.\n",
    ">- For each of these points construct a square polygon assuming that the point is the south west corner of the square. Do this using `cell_coords_to_polygons`.\n",
    ">- Use `gpd.sjoin` to take the intersection of the municipalities in sealand and the square grid you have constructed. Plot the resulting geodataframe.\n",
    ">\n",
    "> *Hint 1:* Once you have created the grid the following function below may be useful for converting into a GeoDataFrame. You need to specify the column names for your x and y coordinates.\n",
    ">\n",
    "> *Hint 2:* We can select the points that intersect by using a spatial join between the house locations and municipalities."
   ]
  },
  {
   "cell_type": "code",
   "execution_count": 12,
   "metadata": {},
   "outputs": [],
   "source": [
    "dk_crs = {'ellps': 'GRS80', 'no_defs': True, 'proj': 'utm', 'units': 'm', 'zone': 32}\n",
    "\n",
    "def cell_coords_to_polygons(square_df, x='e', y='n', dist=500, crs=dk_crs):\n",
    "    '''\n",
    "    Convert coordinates to squares in a GeoDataFrame.\n",
    "       \n",
    "    Parameters\n",
    "    ----------\n",
    "    x : str\n",
    "        Name of the horizontal coordinate (~longitude)            \n",
    "    y : str\n",
    "        Name of the vertical coordinate (~latitude)                        \n",
    "    dist : int or float\n",
    "        Size of polygons\n",
    "    crs : dict\n",
    "        Coordinate Reference System\n",
    "\n",
    "\n",
    "    Returns\n",
    "    ----------\n",
    "    squares_gdf: geopandas.GeoDataFrame\n",
    "        This table contains squares as geometry\n",
    "        and the original data.\n",
    "    '''\n",
    "    \n",
    "    def _to_square_polygon(row):\n",
    "        '''\n",
    "        This auxiliary function convert a square's lower,left \n",
    "        coordinates to a polygon. \n",
    "        \n",
    "        Parameters\n",
    "        ----------\n",
    "        row : pandas.Series\n",
    "            This is a DataFrame row.            \n",
    "        \n",
    "        Returns\n",
    "        ----------\n",
    "        poly: shapely.Polygon        \n",
    "        \n",
    "        '''\n",
    "        \n",
    "        square_coords = ((row[x], row[y]), \n",
    "                         (row[x]+dist, row[y]), \n",
    "                         (row[x]+dist, row[y]+dist), \n",
    "                         (row[x], row[y]+dist))\n",
    "        \n",
    "        poly = shapely.geometry.Polygon(square_coords)\n",
    "        \n",
    "        return poly\n",
    "    \n",
    "    # convert to polygons\n",
    "    square_geoms = gpd.GeoSeries(square_df.apply(_to_square_polygon, axis=1), crs=crs)\n",
    "    \n",
    "    # make GeoDataFrame\n",
    "    square_gdf = gpd.GeoDataFrame(data=square_df, geometry=square_geoms)\n",
    "    \n",
    "    return square_gdf"
   ]
  },
  {
   "cell_type": "code",
   "execution_count": 60,
   "metadata": {},
   "outputs": [],
   "source": [
    "# [Your answer here]\n",
    "# didnt really understnad the input \"suareDf\" to the supplied function so made my own stuff\n",
    "\n",
    "# create points \n",
    "xmin,ymin,xmax,ymax = mainlandSealand.to_crs(epsg=3045).total_bounds\n",
    "\n",
    "#Crs is in meters so grid is simply 500x500 units\n",
    "size = 500\n",
    "\n",
    "xs = list(range(int(np.floor(xmin)), int(np.ceil(xmax)), size))\n",
    "ys = list(range(int(np.floor(ymin)), int(np.ceil(ymax)), size))\n",
    "ys.reverse()\n",
    "\n",
    "# greaty polygons\n",
    "polygons = []\n",
    "coords = []\n",
    "\n",
    "for x in xs:\n",
    "    for y in ys:\n",
    "        polygons.append( Polygon([(x,y), (x+size, y), (x+size, y-size), (x, y-size)]) )\n",
    "        coords.append((x, y))\n",
    "        \n",
    "square_geoms = gpd.GeoSeries(polygons, crs=\"epsg:3045\").to_crs(epsg=4326)"
   ]
  },
  {
   "cell_type": "code",
   "execution_count": 61,
   "metadata": {},
   "outputs": [],
   "source": [
    "# join\n",
    "gridDf = gpd.sjoin(mainlandSealand, gpd.GeoDataFrame(data=pd.DataFrame.from_records(coords, columns=['x', 'y']) ,geometry=square_geoms))"
   ]
  },
  {
   "cell_type": "code",
   "execution_count": 67,
   "metadata": {},
   "outputs": [
    {
     "data": {
      "text/html": [
       "<div>\n",
       "<style scoped>\n",
       "    .dataframe tbody tr th:only-of-type {\n",
       "        vertical-align: middle;\n",
       "    }\n",
       "\n",
       "    .dataframe tbody tr th {\n",
       "        vertical-align: top;\n",
       "    }\n",
       "\n",
       "    .dataframe thead th {\n",
       "        text-align: right;\n",
       "    }\n",
       "</style>\n",
       "<table border=\"1\" class=\"dataframe\">\n",
       "  <thead>\n",
       "    <tr style=\"text-align: right;\">\n",
       "      <th></th>\n",
       "      <th>komkode</th>\n",
       "      <th>komnavn</th>\n",
       "      <th>geometry</th>\n",
       "      <th>regionskode</th>\n",
       "      <th>regionsnavn</th>\n",
       "      <th>index_right</th>\n",
       "      <th>x</th>\n",
       "      <th>y</th>\n",
       "      <th>e</th>\n",
       "      <th>n</th>\n",
       "    </tr>\n",
       "  </thead>\n",
       "  <tbody>\n",
       "    <tr>\n",
       "      <th>12</th>\n",
       "      <td>0159</td>\n",
       "      <td>Gladsaxe</td>\n",
       "      <td>POLYGON Z ((12.45123 55.73125 -999.00000, 12.4...</td>\n",
       "      <td>1084</td>\n",
       "      <td>Region Hovedstaden</td>\n",
       "      <td>71663</td>\n",
       "      <td>337709</td>\n",
       "      <td>6183947</td>\n",
       "      <td>337709</td>\n",
       "      <td>6183947</td>\n",
       "    </tr>\n",
       "    <tr>\n",
       "      <th>36</th>\n",
       "      <td>0190</td>\n",
       "      <td>Furesø</td>\n",
       "      <td>POLYGON Z ((12.33664 55.80225 -999.00000, 12.3...</td>\n",
       "      <td>1084</td>\n",
       "      <td>Region Hovedstaden</td>\n",
       "      <td>71663</td>\n",
       "      <td>337709</td>\n",
       "      <td>6183947</td>\n",
       "      <td>337709</td>\n",
       "      <td>6183947</td>\n",
       "    </tr>\n",
       "    <tr>\n",
       "      <th>12</th>\n",
       "      <td>0159</td>\n",
       "      <td>Gladsaxe</td>\n",
       "      <td>POLYGON Z ((12.45123 55.73125 -999.00000, 12.4...</td>\n",
       "      <td>1084</td>\n",
       "      <td>Region Hovedstaden</td>\n",
       "      <td>71664</td>\n",
       "      <td>337709</td>\n",
       "      <td>6183447</td>\n",
       "      <td>337709</td>\n",
       "      <td>6183447</td>\n",
       "    </tr>\n",
       "    <tr>\n",
       "      <th>36</th>\n",
       "      <td>0190</td>\n",
       "      <td>Furesø</td>\n",
       "      <td>POLYGON Z ((12.33664 55.80225 -999.00000, 12.3...</td>\n",
       "      <td>1084</td>\n",
       "      <td>Region Hovedstaden</td>\n",
       "      <td>71664</td>\n",
       "      <td>337709</td>\n",
       "      <td>6183447</td>\n",
       "      <td>337709</td>\n",
       "      <td>6183447</td>\n",
       "    </tr>\n",
       "    <tr>\n",
       "      <th>12</th>\n",
       "      <td>0159</td>\n",
       "      <td>Gladsaxe</td>\n",
       "      <td>POLYGON Z ((12.45123 55.73125 -999.00000, 12.4...</td>\n",
       "      <td>1084</td>\n",
       "      <td>Region Hovedstaden</td>\n",
       "      <td>71665</td>\n",
       "      <td>337709</td>\n",
       "      <td>6182947</td>\n",
       "      <td>337709</td>\n",
       "      <td>6182947</td>\n",
       "    </tr>\n",
       "  </tbody>\n",
       "</table>\n",
       "</div>"
      ],
      "text/plain": [
       "   komkode   komnavn                                           geometry  \\\n",
       "12    0159  Gladsaxe  POLYGON Z ((12.45123 55.73125 -999.00000, 12.4...   \n",
       "36    0190    Furesø  POLYGON Z ((12.33664 55.80225 -999.00000, 12.3...   \n",
       "12    0159  Gladsaxe  POLYGON Z ((12.45123 55.73125 -999.00000, 12.4...   \n",
       "36    0190    Furesø  POLYGON Z ((12.33664 55.80225 -999.00000, 12.3...   \n",
       "12    0159  Gladsaxe  POLYGON Z ((12.45123 55.73125 -999.00000, 12.4...   \n",
       "\n",
       "    regionskode         regionsnavn  index_right       x        y       e  \\\n",
       "12         1084  Region Hovedstaden        71663  337709  6183947  337709   \n",
       "36         1084  Region Hovedstaden        71663  337709  6183947  337709   \n",
       "12         1084  Region Hovedstaden        71664  337709  6183447  337709   \n",
       "36         1084  Region Hovedstaden        71664  337709  6183447  337709   \n",
       "12         1084  Region Hovedstaden        71665  337709  6182947  337709   \n",
       "\n",
       "          n  \n",
       "12  6183947  \n",
       "36  6183947  \n",
       "12  6183447  \n",
       "36  6183447  \n",
       "12  6182947  "
      ]
     },
     "execution_count": 67,
     "metadata": {},
     "output_type": "execute_result"
    }
   ],
   "source": [
    "gridDf[\"e\"] = gridDf[\"x\"]\n",
    "gridDf[\"n\"] = gridDf[\"y\"]\n",
    "gridDf.head()"
   ]
  },
  {
   "cell_type": "markdown",
   "metadata": {},
   "source": [
    "> **Ex. 9.2.5**  Load the pre-structured data with house sales prices for Sealand. These data are available on Absalon as a .GeoJSON file. Construct a loop that for each year in the `sale_year` column \n",
    "> - extracts the house sales sold in this year, with a square meter price (`price_area`) between between 1000 and 120000. \n",
    "> - Selects the four columns `['sale_year', 'e', 'n', 'price_area']` and drops any rows with missing data. \n",
    "> - After preparing the data fit a `KNeighborsRegressor` with the coordinate columns `e` and `n` as features and the square-meter price as labels.\n",
    "> - Computes predictions `preds` where `e`, `n` are taken from the square grid geodataframe you constructed above. Add 250 to each value to predict at the midpoint of the square!\n",
    "> - creates a new column `p_{year}` in the square-grid geodataframe, containing `np.log10(preds)`\n",
    ">\n",
    "> Plot the grid data, coloring the grids by their predicted square meter price in 2012."
   ]
  },
  {
   "cell_type": "code",
   "execution_count": 64,
   "metadata": {},
   "outputs": [],
   "source": [
    "from sklearn.neighbors import KNeighborsRegressor\n",
    "price_gdf = gpd.read_file('houseprices.GeoJSON')"
   ]
  },
  {
   "cell_type": "code",
   "execution_count": 65,
   "metadata": {
    "scrolled": true
   },
   "outputs": [
    {
     "data": {
      "text/html": [
       "<div>\n",
       "<style scoped>\n",
       "    .dataframe tbody tr th:only-of-type {\n",
       "        vertical-align: middle;\n",
       "    }\n",
       "\n",
       "    .dataframe tbody tr th {\n",
       "        vertical-align: top;\n",
       "    }\n",
       "\n",
       "    .dataframe thead th {\n",
       "        text-align: right;\n",
       "    }\n",
       "</style>\n",
       "<table border=\"1\" class=\"dataframe\">\n",
       "  <thead>\n",
       "    <tr style=\"text-align: right;\">\n",
       "      <th></th>\n",
       "      <th>address</th>\n",
       "      <th>buildYear</th>\n",
       "      <th>salesPeriodTotal</th>\n",
       "      <th>numberOfRooms</th>\n",
       "      <th>paymentCash</th>\n",
       "      <th>residentialArea</th>\n",
       "      <th>areaWeighted</th>\n",
       "      <th>postal</th>\n",
       "      <th>dateRemoved</th>\n",
       "      <th>city</th>\n",
       "      <th>lat</th>\n",
       "      <th>lon</th>\n",
       "      <th>price_area</th>\n",
       "      <th>price_area_log</th>\n",
       "      <th>sale_year</th>\n",
       "      <th>e</th>\n",
       "      <th>n</th>\n",
       "      <th>index_right</th>\n",
       "      <th>mun_name</th>\n",
       "      <th>geometry</th>\n",
       "    </tr>\n",
       "  </thead>\n",
       "  <tbody>\n",
       "    <tr>\n",
       "      <th>0</th>\n",
       "      <td>Topperne 11, 1. 12</td>\n",
       "      <td>1972</td>\n",
       "      <td>NaN</td>\n",
       "      <td>2</td>\n",
       "      <td>645000.0</td>\n",
       "      <td>49.0</td>\n",
       "      <td>49.0</td>\n",
       "      <td>2620</td>\n",
       "      <td>19-01-2012</td>\n",
       "      <td>Albertslund</td>\n",
       "      <td>55.672423</td>\n",
       "      <td>12.343027</td>\n",
       "      <td>13163.265306</td>\n",
       "      <td>9.485185</td>\n",
       "      <td>2012</td>\n",
       "      <td>710214.000597</td>\n",
       "      <td>6.174689e+06</td>\n",
       "      <td>250</td>\n",
       "      <td>Albertslund</td>\n",
       "      <td>POINT (710214.001 6174689.003)</td>\n",
       "    </tr>\n",
       "    <tr>\n",
       "      <th>1</th>\n",
       "      <td>Topperne 11, 1. 12</td>\n",
       "      <td>1972</td>\n",
       "      <td>NaN</td>\n",
       "      <td>2</td>\n",
       "      <td>575000.0</td>\n",
       "      <td>49.0</td>\n",
       "      <td>49.0</td>\n",
       "      <td>2620</td>\n",
       "      <td>19-07-2012</td>\n",
       "      <td>Albertslund</td>\n",
       "      <td>55.672423</td>\n",
       "      <td>12.343027</td>\n",
       "      <td>11734.693878</td>\n",
       "      <td>9.370305</td>\n",
       "      <td>2012</td>\n",
       "      <td>710214.000597</td>\n",
       "      <td>6.174689e+06</td>\n",
       "      <td>250</td>\n",
       "      <td>Albertslund</td>\n",
       "      <td>POINT (710214.001 6174689.003)</td>\n",
       "    </tr>\n",
       "    <tr>\n",
       "      <th>2</th>\n",
       "      <td>Skyttehusene 37</td>\n",
       "      <td>1968</td>\n",
       "      <td>NaN</td>\n",
       "      <td>4</td>\n",
       "      <td>1695000.0</td>\n",
       "      <td>108.0</td>\n",
       "      <td>131.0</td>\n",
       "      <td>2620</td>\n",
       "      <td>12-03-2012</td>\n",
       "      <td>Albertslund</td>\n",
       "      <td>55.672528</td>\n",
       "      <td>12.356639</td>\n",
       "      <td>12938.931298</td>\n",
       "      <td>9.467996</td>\n",
       "      <td>2012</td>\n",
       "      <td>711069.000619</td>\n",
       "      <td>6.174742e+06</td>\n",
       "      <td>250</td>\n",
       "      <td>Albertslund</td>\n",
       "      <td>POINT (711069.001 6174742.003)</td>\n",
       "    </tr>\n",
       "    <tr>\n",
       "      <th>3</th>\n",
       "      <td>Rytterhusene 75</td>\n",
       "      <td>1968</td>\n",
       "      <td>NaN</td>\n",
       "      <td>4</td>\n",
       "      <td>1995000.0</td>\n",
       "      <td>108.0</td>\n",
       "      <td>131.0</td>\n",
       "      <td>2620</td>\n",
       "      <td>04-07-2012</td>\n",
       "      <td>Albertslund</td>\n",
       "      <td>55.673089</td>\n",
       "      <td>12.359137</td>\n",
       "      <td>15229.007634</td>\n",
       "      <td>9.630957</td>\n",
       "      <td>2012</td>\n",
       "      <td>711223.000623</td>\n",
       "      <td>6.174812e+06</td>\n",
       "      <td>250</td>\n",
       "      <td>Albertslund</td>\n",
       "      <td>POINT (711223.001 6174812.003)</td>\n",
       "    </tr>\n",
       "    <tr>\n",
       "      <th>4</th>\n",
       "      <td>Rytterhusene 75</td>\n",
       "      <td>1968</td>\n",
       "      <td>NaN</td>\n",
       "      <td>4</td>\n",
       "      <td>1795000.0</td>\n",
       "      <td>108.0</td>\n",
       "      <td>131.0</td>\n",
       "      <td>2620</td>\n",
       "      <td>16-08-2012</td>\n",
       "      <td>Albertslund</td>\n",
       "      <td>55.673089</td>\n",
       "      <td>12.359137</td>\n",
       "      <td>13702.290076</td>\n",
       "      <td>9.525318</td>\n",
       "      <td>2012</td>\n",
       "      <td>711223.000623</td>\n",
       "      <td>6.174812e+06</td>\n",
       "      <td>250</td>\n",
       "      <td>Albertslund</td>\n",
       "      <td>POINT (711223.001 6174812.003)</td>\n",
       "    </tr>\n",
       "    <tr>\n",
       "      <th>...</th>\n",
       "      <td>...</td>\n",
       "      <td>...</td>\n",
       "      <td>...</td>\n",
       "      <td>...</td>\n",
       "      <td>...</td>\n",
       "      <td>...</td>\n",
       "      <td>...</td>\n",
       "      <td>...</td>\n",
       "      <td>...</td>\n",
       "      <td>...</td>\n",
       "      <td>...</td>\n",
       "      <td>...</td>\n",
       "      <td>...</td>\n",
       "      <td>...</td>\n",
       "      <td>...</td>\n",
       "      <td>...</td>\n",
       "      <td>...</td>\n",
       "      <td>...</td>\n",
       "      <td>...</td>\n",
       "      <td>...</td>\n",
       "    </tr>\n",
       "    <tr>\n",
       "      <th>18604</th>\n",
       "      <td>Strandskadevej 2</td>\n",
       "      <td>2009</td>\n",
       "      <td>NaN</td>\n",
       "      <td>4</td>\n",
       "      <td>1985000.0</td>\n",
       "      <td>96.0</td>\n",
       "      <td>106.0</td>\n",
       "      <td>4760</td>\n",
       "      <td>04-07-2012</td>\n",
       "      <td>Vordingborg</td>\n",
       "      <td>55.055054</td>\n",
       "      <td>11.829503</td>\n",
       "      <td>18726.415094</td>\n",
       "      <td>9.837690</td>\n",
       "      <td>2012</td>\n",
       "      <td>680726.000085</td>\n",
       "      <td>6.104577e+06</td>\n",
       "      <td>177</td>\n",
       "      <td>Vordingborg</td>\n",
       "      <td>POINT (680726.000 6104577.003)</td>\n",
       "    </tr>\n",
       "    <tr>\n",
       "      <th>18634</th>\n",
       "      <td>Strandskadevej 30</td>\n",
       "      <td>1982</td>\n",
       "      <td>NaN</td>\n",
       "      <td>3</td>\n",
       "      <td>495000.0</td>\n",
       "      <td>50.0</td>\n",
       "      <td>50.0</td>\n",
       "      <td>4760</td>\n",
       "      <td>27-07-2012</td>\n",
       "      <td>Vordingborg</td>\n",
       "      <td>55.053183</td>\n",
       "      <td>11.832252</td>\n",
       "      <td>9900.000000</td>\n",
       "      <td>9.200290</td>\n",
       "      <td>2012</td>\n",
       "      <td>680910.000086</td>\n",
       "      <td>6.104376e+06</td>\n",
       "      <td>177</td>\n",
       "      <td>Vordingborg</td>\n",
       "      <td>POINT (680910.000 6104376.003)</td>\n",
       "    </tr>\n",
       "    <tr>\n",
       "      <th>18645</th>\n",
       "      <td>Søndergade 5A</td>\n",
       "      <td>1900</td>\n",
       "      <td>NaN</td>\n",
       "      <td>4</td>\n",
       "      <td>995000.0</td>\n",
       "      <td>65.0</td>\n",
       "      <td>75.0</td>\n",
       "      <td>4780</td>\n",
       "      <td>01-11-2012</td>\n",
       "      <td>Stege</td>\n",
       "      <td>55.040995</td>\n",
       "      <td>12.195693</td>\n",
       "      <td>13266.666667</td>\n",
       "      <td>9.493010</td>\n",
       "      <td>2012</td>\n",
       "      <td>704179.000391</td>\n",
       "      <td>6.104022e+06</td>\n",
       "      <td>28</td>\n",
       "      <td>Vordingborg</td>\n",
       "      <td>POINT (704179.000 6104022.003)</td>\n",
       "    </tr>\n",
       "    <tr>\n",
       "      <th>18647</th>\n",
       "      <td>Søndergade 14</td>\n",
       "      <td>1906</td>\n",
       "      <td>NaN</td>\n",
       "      <td>4</td>\n",
       "      <td>1650000.0</td>\n",
       "      <td>130.0</td>\n",
       "      <td>128.0</td>\n",
       "      <td>4780</td>\n",
       "      <td>03-05-2012</td>\n",
       "      <td>Stege</td>\n",
       "      <td>55.041166</td>\n",
       "      <td>12.193985</td>\n",
       "      <td>12890.625000</td>\n",
       "      <td>9.464256</td>\n",
       "      <td>2012</td>\n",
       "      <td>704069.000389</td>\n",
       "      <td>6.104036e+06</td>\n",
       "      <td>28</td>\n",
       "      <td>Vordingborg</td>\n",
       "      <td>POINT (704069.000 6104036.003)</td>\n",
       "    </tr>\n",
       "    <tr>\n",
       "      <th>18648</th>\n",
       "      <td>Søndergade 6</td>\n",
       "      <td>1897</td>\n",
       "      <td>NaN</td>\n",
       "      <td>4</td>\n",
       "      <td>1295000.0</td>\n",
       "      <td>119.0</td>\n",
       "      <td>117.0</td>\n",
       "      <td>4780</td>\n",
       "      <td>23-04-2012</td>\n",
       "      <td>Stege</td>\n",
       "      <td>55.041373</td>\n",
       "      <td>12.193281</td>\n",
       "      <td>11068.376068</td>\n",
       "      <td>9.311847</td>\n",
       "      <td>2012</td>\n",
       "      <td>704023.000388</td>\n",
       "      <td>6.104057e+06</td>\n",
       "      <td>28</td>\n",
       "      <td>Vordingborg</td>\n",
       "      <td>POINT (704023.000 6104057.003)</td>\n",
       "    </tr>\n",
       "  </tbody>\n",
       "</table>\n",
       "<p>9007 rows × 20 columns</p>\n",
       "</div>"
      ],
      "text/plain": [
       "                  address  buildYear  salesPeriodTotal  numberOfRooms  \\\n",
       "0      Topperne 11, 1. 12       1972               NaN              2   \n",
       "1      Topperne 11, 1. 12       1972               NaN              2   \n",
       "2         Skyttehusene 37       1968               NaN              4   \n",
       "3         Rytterhusene 75       1968               NaN              4   \n",
       "4         Rytterhusene 75       1968               NaN              4   \n",
       "...                   ...        ...               ...            ...   \n",
       "18604    Strandskadevej 2       2009               NaN              4   \n",
       "18634   Strandskadevej 30       1982               NaN              3   \n",
       "18645       Søndergade 5A       1900               NaN              4   \n",
       "18647       Søndergade 14       1906               NaN              4   \n",
       "18648        Søndergade 6       1897               NaN              4   \n",
       "\n",
       "       paymentCash  residentialArea  areaWeighted  postal dateRemoved  \\\n",
       "0         645000.0             49.0          49.0    2620  19-01-2012   \n",
       "1         575000.0             49.0          49.0    2620  19-07-2012   \n",
       "2        1695000.0            108.0         131.0    2620  12-03-2012   \n",
       "3        1995000.0            108.0         131.0    2620  04-07-2012   \n",
       "4        1795000.0            108.0         131.0    2620  16-08-2012   \n",
       "...            ...              ...           ...     ...         ...   \n",
       "18604    1985000.0             96.0         106.0    4760  04-07-2012   \n",
       "18634     495000.0             50.0          50.0    4760  27-07-2012   \n",
       "18645     995000.0             65.0          75.0    4780  01-11-2012   \n",
       "18647    1650000.0            130.0         128.0    4780  03-05-2012   \n",
       "18648    1295000.0            119.0         117.0    4780  23-04-2012   \n",
       "\n",
       "              city        lat        lon    price_area  price_area_log  \\\n",
       "0      Albertslund  55.672423  12.343027  13163.265306        9.485185   \n",
       "1      Albertslund  55.672423  12.343027  11734.693878        9.370305   \n",
       "2      Albertslund  55.672528  12.356639  12938.931298        9.467996   \n",
       "3      Albertslund  55.673089  12.359137  15229.007634        9.630957   \n",
       "4      Albertslund  55.673089  12.359137  13702.290076        9.525318   \n",
       "...            ...        ...        ...           ...             ...   \n",
       "18604  Vordingborg  55.055054  11.829503  18726.415094        9.837690   \n",
       "18634  Vordingborg  55.053183  11.832252   9900.000000        9.200290   \n",
       "18645        Stege  55.040995  12.195693  13266.666667        9.493010   \n",
       "18647        Stege  55.041166  12.193985  12890.625000        9.464256   \n",
       "18648        Stege  55.041373  12.193281  11068.376068        9.311847   \n",
       "\n",
       "       sale_year              e             n  index_right     mun_name  \\\n",
       "0           2012  710214.000597  6.174689e+06          250  Albertslund   \n",
       "1           2012  710214.000597  6.174689e+06          250  Albertslund   \n",
       "2           2012  711069.000619  6.174742e+06          250  Albertslund   \n",
       "3           2012  711223.000623  6.174812e+06          250  Albertslund   \n",
       "4           2012  711223.000623  6.174812e+06          250  Albertslund   \n",
       "...          ...            ...           ...          ...          ...   \n",
       "18604       2012  680726.000085  6.104577e+06          177  Vordingborg   \n",
       "18634       2012  680910.000086  6.104376e+06          177  Vordingborg   \n",
       "18645       2012  704179.000391  6.104022e+06           28  Vordingborg   \n",
       "18647       2012  704069.000389  6.104036e+06           28  Vordingborg   \n",
       "18648       2012  704023.000388  6.104057e+06           28  Vordingborg   \n",
       "\n",
       "                             geometry  \n",
       "0      POINT (710214.001 6174689.003)  \n",
       "1      POINT (710214.001 6174689.003)  \n",
       "2      POINT (711069.001 6174742.003)  \n",
       "3      POINT (711223.001 6174812.003)  \n",
       "4      POINT (711223.001 6174812.003)  \n",
       "...                               ...  \n",
       "18604  POINT (680726.000 6104577.003)  \n",
       "18634  POINT (680910.000 6104376.003)  \n",
       "18645  POINT (704179.000 6104022.003)  \n",
       "18647  POINT (704069.000 6104036.003)  \n",
       "18648  POINT (704023.000 6104057.003)  \n",
       "\n",
       "[9007 rows x 20 columns]"
      ]
     },
     "execution_count": 65,
     "metadata": {},
     "output_type": "execute_result"
    }
   ],
   "source": [
    "# select test\n",
    "price_gdf.loc[(price_gdf[\"sale_year\"]==2012) & (price_gdf[\"price_area\"].between(1000,120000))]"
   ]
  },
  {
   "cell_type": "code",
   "execution_count": 68,
   "metadata": {},
   "outputs": [],
   "source": [
    "# [Your answer here]\n",
    "for y in price_gdf[\"sale_year\"].unique():\n",
    "    # prep:\n",
    "    year_dat = price_gdf.loc[(price_gdf[\"sale_year\"]==y) & (price_gdf[\"price_area\"].between(1000,120000))]\n",
    "    year_dat = year_dat[['sale_year', 'e', 'n', 'price_area']].dropna()\n",
    "    mod = KNeighborsRegressor()\n",
    "    mod.fit(year_dat[['e', 'n']], year_dat['price_area'])\n",
    "    gridDf[f\"p_{y}\"] = np.log10(mod.predict(gridDf[[\"e\", \"n\"]]))"
   ]
  },
  {
   "cell_type": "code",
   "execution_count": 69,
   "metadata": {},
   "outputs": [
    {
     "data": {
      "text/html": [
       "<div>\n",
       "<style scoped>\n",
       "    .dataframe tbody tr th:only-of-type {\n",
       "        vertical-align: middle;\n",
       "    }\n",
       "\n",
       "    .dataframe tbody tr th {\n",
       "        vertical-align: top;\n",
       "    }\n",
       "\n",
       "    .dataframe thead th {\n",
       "        text-align: right;\n",
       "    }\n",
       "</style>\n",
       "<table border=\"1\" class=\"dataframe\">\n",
       "  <thead>\n",
       "    <tr style=\"text-align: right;\">\n",
       "      <th></th>\n",
       "      <th>komkode</th>\n",
       "      <th>komnavn</th>\n",
       "      <th>geometry</th>\n",
       "      <th>regionskode</th>\n",
       "      <th>regionsnavn</th>\n",
       "      <th>index_right</th>\n",
       "      <th>x</th>\n",
       "      <th>y</th>\n",
       "      <th>e</th>\n",
       "      <th>n</th>\n",
       "      <th>p_2012</th>\n",
       "      <th>p_2013</th>\n",
       "    </tr>\n",
       "  </thead>\n",
       "  <tbody>\n",
       "    <tr>\n",
       "      <th>12</th>\n",
       "      <td>0159</td>\n",
       "      <td>Gladsaxe</td>\n",
       "      <td>POLYGON Z ((12.45123 55.73125 -999.00000, 12.4...</td>\n",
       "      <td>1084</td>\n",
       "      <td>Region Hovedstaden</td>\n",
       "      <td>71663</td>\n",
       "      <td>337709</td>\n",
       "      <td>6183947</td>\n",
       "      <td>337709</td>\n",
       "      <td>6183947</td>\n",
       "      <td>4.10674</td>\n",
       "      <td>4.243924</td>\n",
       "    </tr>\n",
       "    <tr>\n",
       "      <th>36</th>\n",
       "      <td>0190</td>\n",
       "      <td>Furesø</td>\n",
       "      <td>POLYGON Z ((12.33664 55.80225 -999.00000, 12.3...</td>\n",
       "      <td>1084</td>\n",
       "      <td>Region Hovedstaden</td>\n",
       "      <td>71663</td>\n",
       "      <td>337709</td>\n",
       "      <td>6183947</td>\n",
       "      <td>337709</td>\n",
       "      <td>6183947</td>\n",
       "      <td>4.10674</td>\n",
       "      <td>4.243924</td>\n",
       "    </tr>\n",
       "    <tr>\n",
       "      <th>12</th>\n",
       "      <td>0159</td>\n",
       "      <td>Gladsaxe</td>\n",
       "      <td>POLYGON Z ((12.45123 55.73125 -999.00000, 12.4...</td>\n",
       "      <td>1084</td>\n",
       "      <td>Region Hovedstaden</td>\n",
       "      <td>71664</td>\n",
       "      <td>337709</td>\n",
       "      <td>6183447</td>\n",
       "      <td>337709</td>\n",
       "      <td>6183447</td>\n",
       "      <td>4.10674</td>\n",
       "      <td>4.243924</td>\n",
       "    </tr>\n",
       "    <tr>\n",
       "      <th>36</th>\n",
       "      <td>0190</td>\n",
       "      <td>Furesø</td>\n",
       "      <td>POLYGON Z ((12.33664 55.80225 -999.00000, 12.3...</td>\n",
       "      <td>1084</td>\n",
       "      <td>Region Hovedstaden</td>\n",
       "      <td>71664</td>\n",
       "      <td>337709</td>\n",
       "      <td>6183447</td>\n",
       "      <td>337709</td>\n",
       "      <td>6183447</td>\n",
       "      <td>4.10674</td>\n",
       "      <td>4.243924</td>\n",
       "    </tr>\n",
       "    <tr>\n",
       "      <th>12</th>\n",
       "      <td>0159</td>\n",
       "      <td>Gladsaxe</td>\n",
       "      <td>POLYGON Z ((12.45123 55.73125 -999.00000, 12.4...</td>\n",
       "      <td>1084</td>\n",
       "      <td>Region Hovedstaden</td>\n",
       "      <td>71665</td>\n",
       "      <td>337709</td>\n",
       "      <td>6182947</td>\n",
       "      <td>337709</td>\n",
       "      <td>6182947</td>\n",
       "      <td>4.10674</td>\n",
       "      <td>4.243924</td>\n",
       "    </tr>\n",
       "  </tbody>\n",
       "</table>\n",
       "</div>"
      ],
      "text/plain": [
       "   komkode   komnavn                                           geometry  \\\n",
       "12    0159  Gladsaxe  POLYGON Z ((12.45123 55.73125 -999.00000, 12.4...   \n",
       "36    0190    Furesø  POLYGON Z ((12.33664 55.80225 -999.00000, 12.3...   \n",
       "12    0159  Gladsaxe  POLYGON Z ((12.45123 55.73125 -999.00000, 12.4...   \n",
       "36    0190    Furesø  POLYGON Z ((12.33664 55.80225 -999.00000, 12.3...   \n",
       "12    0159  Gladsaxe  POLYGON Z ((12.45123 55.73125 -999.00000, 12.4...   \n",
       "\n",
       "    regionskode         regionsnavn  index_right       x        y       e  \\\n",
       "12         1084  Region Hovedstaden        71663  337709  6183947  337709   \n",
       "36         1084  Region Hovedstaden        71663  337709  6183947  337709   \n",
       "12         1084  Region Hovedstaden        71664  337709  6183447  337709   \n",
       "36         1084  Region Hovedstaden        71664  337709  6183447  337709   \n",
       "12         1084  Region Hovedstaden        71665  337709  6182947  337709   \n",
       "\n",
       "          n   p_2012    p_2013  \n",
       "12  6183947  4.10674  4.243924  \n",
       "36  6183947  4.10674  4.243924  \n",
       "12  6183447  4.10674  4.243924  \n",
       "36  6183447  4.10674  4.243924  \n",
       "12  6182947  4.10674  4.243924  "
      ]
     },
     "execution_count": 69,
     "metadata": {},
     "output_type": "execute_result"
    }
   ],
   "source": [
    "gridDf.head()"
   ]
  },
  {
   "cell_type": "markdown",
   "metadata": {},
   "source": [
    "Ran out of time. The trasformation of the squares are wrong."
   ]
  }
 ],
 "metadata": {
  "kernelspec": {
   "display_name": "Python 3",
   "language": "python",
   "name": "python3"
  },
  "language_info": {
   "codemirror_mode": {
    "name": "ipython",
    "version": 3
   },
   "file_extension": ".py",
   "mimetype": "text/x-python",
   "name": "python",
   "nbconvert_exporter": "python",
   "pygments_lexer": "ipython3",
   "version": "3.7.6"
  }
 },
 "nbformat": 4,
 "nbformat_minor": 4
}
