{
 "cells": [
  {
   "cell_type": "markdown",
   "metadata": {},
   "source": [
    "Q: Write a decorator retry(n) that when applied to a function (e.g. a scraper) retries a failed function call up to n times."
   ]
  },
  {
   "cell_type": "code",
   "execution_count": 10,
   "metadata": {},
   "outputs": [],
   "source": [
    "import itertools\n",
    "import requests\n",
    "\n",
    "#Attempt on function which retries with delays\n",
    "def retry(delays=(0, 1, 5, 30, 180, 600, 3600), # entering delay time, n = (0,1,5,30,180,600,3600)\n",
    "#First retry of connection is immediate delay=0, then it will try after 1 sec, 5 sec etc.\n",
    "          exception=Exception, #Adding exception\n",
    "          report=lambda *args: None): \n",
    "    def wrapper(function):\n",
    "        def wrapped(*args, **kwargs):\n",
    "            problems = [] #Empty list with problems\n",
    "            for delay in itertools.chain(delays, [ None ]):\n",
    "                try:\n",
    "                    return function(*args, **kwargs)\n",
    "                except exception as problem: #exceptions are defined as problems?\n",
    "                    problems.append(problem) #Appending problems to the empty list\n",
    "                    if delay is None: #If a delay doesn't make a difference, stop and report the following\n",
    "                        report(\"retryable failed definitely:\", problems)\n",
    "                        raise\n",
    "                    else:\n",
    "                        report(\"retryable failed:\", problem,\n",
    "                            \"-- delaying for %ds\" % delay)\n",
    "                        time.sleep(delay)\n",
    "        return wrapped\n",
    "    return wrapper"
   ]
  },
  {
   "cell_type": "code",
   "execution_count": 11,
   "metadata": {},
   "outputs": [],
   "source": [
    "#Sending a HTTP request to an internet server\n",
    "def send_data(data):\n",
    "  response = requests.post(URL, data=data)\n",
    "  return response.content\n",
    "#if you don't get an immediate response, the decorator function with\n",
    "#delays can attempt after some time automatically."
   ]
  },
  {
   "cell_type": "code",
   "execution_count": 12,
   "metadata": {},
   "outputs": [],
   "source": [
    "def send_data(data):\n",
    "\n",
    "  @retry()\n",
    "  def send_post():\n",
    "    return requests.post(URL, data=data)\n",
    "\n",
    "  response = send_post()\n",
    "  return response.content"
   ]
  },
  {
   "cell_type": "code",
   "execution_count": 13,
   "metadata": {},
   "outputs": [
    {
     "ename": "SyntaxError",
     "evalue": "unexpected EOF while parsing (<ipython-input-13-b725df7a2250>, line 1)",
     "output_type": "error",
     "traceback": [
      "\u001b[1;36m  File \u001b[1;32m\"<ipython-input-13-b725df7a2250>\"\u001b[1;36m, line \u001b[1;32m1\u001b[0m\n\u001b[1;33m    @retry(delays=itertools.cycle([ 20 ]))\u001b[0m\n\u001b[1;37m                                          ^\u001b[0m\n\u001b[1;31mSyntaxError\u001b[0m\u001b[1;31m:\u001b[0m unexpected EOF while parsing\n"
     ]
    }
   ],
   "source": [
    "@retry(delays=itertools.cycle([ 20 ]))"
   ]
  },
  {
   "cell_type": "markdown",
   "metadata": {},
   "source": [
    "Inspired by \"http://code.activestate.com/recipes/580745-retry-decorator-in-python/\""
   ]
  }
 ],
 "metadata": {
  "kernelspec": {
   "display_name": "Python 3",
   "language": "python",
   "name": "python3"
  },
  "language_info": {
   "codemirror_mode": {
    "name": "ipython",
    "version": 3
   },
   "file_extension": ".py",
   "mimetype": "text/x-python",
   "name": "python",
   "nbconvert_exporter": "python",
   "pygments_lexer": "ipython3",
   "version": "3.7.4"
  }
 },
 "nbformat": 4,
 "nbformat_minor": 4
}
