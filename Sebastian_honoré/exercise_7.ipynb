{
 "cells": [
  {
   "cell_type": "markdown",
   "metadata": {},
   "source": [
    "# Exercise set 7: Spatial data\n",
    "\n",
    "In this exercise set you will be working with structuring and plotting spatial data. \n",
    "- Exercise 9.1: basic shapes\n",
    "- Exercise 9.2: working with Geopandas and interpolation\n",
    "- Exercise 9.3: interactive plotting with folium\n",
    "\n",
    "We begin with loading the standard packages:\n"
   ]
  },
  {
   "cell_type": "code",
   "execution_count": 2,
   "metadata": {},
   "outputs": [],
   "source": [
    "import os\n",
    "import requests\n",
    "\n",
    "import numpy as np\n",
    "import pandas as pd\n",
    "import seaborn as sns\n",
    "\n",
    "import folium\n",
    "import geopandas as gpd\n",
    "import fiona\n",
    "import shapely\n",
    "\n",
    "%matplotlib inline"
   ]
  },
  {
   "cell_type": "markdown",
   "metadata": {},
   "source": [
    "## Exercises"
   ]
  },
  {
   "cell_type": "markdown",
   "metadata": {},
   "source": [
    "### Part 9.1: Working with spatial objects \n",
    "\n",
    "This exercise will serve as a brief tutorial on spatial data. We will learn how to make spatial shape and use their basic operations."
   ]
  },
  {
   "cell_type": "markdown",
   "metadata": {},
   "source": [
    "> **Ex. 9.1.1** Make a polygon which is square that has left,lower corner in 2,2 and right,upper in 5,5. Make a triangle passing through (0,0), (4,0) and (2,4). What do they look like? Store the two polygons respectively as `square` and `triangle`\n",
    "\n",
    "> *Hint*: the submodule shapely.geometry has methods such as `Point`, `Polygon` and `Multipolygon`"
   ]
  },
  {
   "cell_type": "code",
   "execution_count": 7,
   "metadata": {},
   "outputs": [],
   "source": [
    "from shapely.geometry import Polygon"
   ]
  },
  {
   "cell_type": "code",
   "execution_count": 10,
   "metadata": {},
   "outputs": [
    {
     "data": {
      "image/svg+xml": [
       "<svg xmlns=\"http://www.w3.org/2000/svg\" xmlns:xlink=\"http://www.w3.org/1999/xlink\" width=\"100.0\" height=\"100.0\" viewBox=\"1.88 1.88 3.24 3.24\" preserveAspectRatio=\"xMinYMin meet\"><g transform=\"matrix(1,0,0,-1,0,7.0)\"><path fill-rule=\"evenodd\" fill=\"#66cc99\" stroke=\"#555555\" stroke-width=\"0.06480000000000001\" opacity=\"0.6\" d=\"M 2.0,2.0 L 2.0,5.0 L 5.0,5.0 L 5.0,2.0 L 2.0,2.0 z\" /></g></svg>"
      ],
      "text/plain": [
       "<shapely.geometry.polygon.Polygon at 0x129816a10>"
      ]
     },
     "execution_count": 10,
     "metadata": {},
     "output_type": "execute_result"
    }
   ],
   "source": [
    "square = Polygon([(2, 2), (2, 5), (5,5) , (5, 2)])\n",
    "square"
   ]
  },
  {
   "cell_type": "code",
   "execution_count": 12,
   "metadata": {},
   "outputs": [
    {
     "data": {
      "image/svg+xml": [
       "<svg xmlns=\"http://www.w3.org/2000/svg\" xmlns:xlink=\"http://www.w3.org/1999/xlink\" width=\"100.0\" height=\"100.0\" viewBox=\"-0.16 -0.16 4.32 4.32\" preserveAspectRatio=\"xMinYMin meet\"><g transform=\"matrix(1,0,0,-1,0,4.0)\"><path fill-rule=\"evenodd\" fill=\"#66cc99\" stroke=\"#555555\" stroke-width=\"0.0864\" opacity=\"0.6\" d=\"M 0.0,0.0 L 4.0,0.0 L 2.0,4.0 L 0.0,0.0 z\" /></g></svg>"
      ],
      "text/plain": [
       "<shapely.geometry.polygon.Polygon at 0x1298244d0>"
      ]
     },
     "execution_count": 12,
     "metadata": {},
     "output_type": "execute_result"
    }
   ],
   "source": [
    "triangle = Polygon([(0, 0), (4, 0), (2, 4)])\n",
    "triangle"
   ]
  },
  {
   "cell_type": "markdown",
   "metadata": {},
   "source": [
    "> **Ex. 6.1.2** Compute and show the spatial difference of square subtracted triangle, also show the hat is the union of `square` and `triangle`?"
   ]
  },
  {
   "cell_type": "code",
   "execution_count": 16,
   "metadata": {},
   "outputs": [
    {
     "name": "stdout",
     "output_type": "stream",
     "text": [
      "1.0\n"
     ]
    },
    {
     "data": {
      "image/svg+xml": [
       "<svg xmlns=\"http://www.w3.org/2000/svg\" xmlns:xlink=\"http://www.w3.org/1999/xlink\" width=\"100.0\" height=\"100.0\" viewBox=\"1.88 1.88 3.24 3.24\" preserveAspectRatio=\"xMinYMin meet\"><g transform=\"matrix(1,0,0,-1,0,7.0)\"><path fill-rule=\"evenodd\" fill=\"#66cc99\" stroke=\"#555555\" stroke-width=\"0.06480000000000001\" opacity=\"0.6\" d=\"M 2.0,4.0 L 2.0,5.0 L 5.0,5.0 L 5.0,2.0 L 3.0,2.0 L 2.0,4.0 z\" /></g></svg>"
      ],
      "text/plain": [
       "<shapely.geometry.polygon.Polygon at 0x12982cc90>"
      ]
     },
     "execution_count": 16,
     "metadata": {},
     "output_type": "execute_result"
    }
   ],
   "source": [
    "diff=square.area-triangle.area\n",
    "print(diff)\n",
    "square.difference(triangle)"
   ]
  },
  {
   "cell_type": "markdown",
   "metadata": {},
   "source": [
    "> **Ex. 6.1.3** Make a GeoSeries out of `square`, `triangle`. Plot the geoseries."
   ]
  },
  {
   "cell_type": "code",
   "execution_count": 21,
   "metadata": {},
   "outputs": [
    {
     "data": {
      "text/plain": [
       "<matplotlib.axes._subplots.AxesSubplot at 0x12bb0c450>"
      ]
     },
     "execution_count": 21,
     "metadata": {},
     "output_type": "execute_result"
    },
    {
     "data": {
      "image/png": "[encoded data removed]",
      "text/plain": [
       "<Figure size 432x288 with 1 Axes>"
      ]
     },
     "metadata": {
      "needs_background": "light"
     },
     "output_type": "display_data"
    }
   ],
   "source": [
    "gs = gpd.GeoSeries([square, triangle])\n",
    "gs.plot()"
   ]
  },
  {
   "cell_type": "markdown",
   "metadata": {},
   "source": [
    "### Part 9.2: Working with house sale prices\n",
    "\n",
    "Data on danish municipalities are available [here](https://raw.githubusercontent.com/ok-dk/dagi/master/geojson/kommuner.geojson) from Open Knowledge Denmark."
   ]
  },
  {
   "cell_type": "markdown",
   "metadata": {},
   "source": [
    "#### Basic operations with Geopandas\n",
    "\n",
    "> **Ex. 9.2.1** Load the municipalities data using `gpd.read_file()`, \n",
    "- What is the CRS of the dataframe - what projection does it correspond to? Turn the CRS into a meter based system.\n",
    "- Which three munipalities have the largest area?\n",
    "\n",
    "> Note: to find the entire area of a municipality which consists of multiple shapes (e.g. municipalities covering islands). you can use the `unary_union` method for GeoSeries."
   ]
  },
  {
   "cell_type": "code",
   "execution_count": 1,
   "metadata": {},
   "outputs": [],
   "source": [
    "url = \"https://raw.githubusercontent.com/ok-dk/dagi/master/geojson/kommuner.geojson\""
   ]
  },
  {
   "cell_type": "code",
   "execution_count": 18,
   "metadata": {},
   "outputs": [],
   "source": [
    "kommuner = gpd.read_file(url)"
   ]
  },
  {
   "cell_type": "markdown",
   "metadata": {},
   "source": [
    "The CRS of the dataframe is 'epsg:4326' corresponding to a latitude-longitude projection. In order to change the projection to a meter based system the danish epsg code 25832 has to be used:"
   ]
  },
  {
   "cell_type": "code",
   "execution_count": 22,
   "metadata": {},
   "outputs": [],
   "source": [
    "#converting CRS to meter based system\n",
    "kommuner.to_crs({'init':\"epsg:25832\"}, inplace=True)"
   ]
  },
  {
   "cell_type": "code",
   "execution_count": 24,
   "metadata": {},
   "outputs": [
    {
     "data": {
      "text/plain": [
       "KOMNAVN\n",
       "Ringkøbing-Skjern    1.494151e+09\n",
       "Viborg               1.419631e+09\n",
       "Herning              1.323127e+09\n",
       "Varde                1.238113e+09\n",
       "Tønder               1.181459e+09\n",
       "                         ...     \n",
       "Herlev               1.207131e+07\n",
       "Rødovre              1.207116e+07\n",
       "Vallensbæk           8.785550e+06\n",
       "Frederiksberg        8.713531e+06\n",
       "Christiansø          3.655055e+05\n",
       "Length: 99, dtype: float64"
      ]
     },
     "execution_count": 24,
     "metadata": {},
     "output_type": "execute_result"
    }
   ],
   "source": [
    "# three largest municipalities\n",
    "kommuner_tmp = kommuner[['KOMNAVN', 'geometry']]\n",
    "kommuner_tmp = kommuner_tmp.dissolve(by='KOMNAVN')\n",
    "kommuner_tmp.area.sort_values(ascending=False)"
   ]
  },
  {
   "cell_type": "markdown",
   "metadata": {},
   "source": [
    "Use the script below to add regional information for municipalities. This code block assumes that your geodataframe is names `kommuner`."
   ]
  },
  {
   "cell_type": "code",
   "execution_count": 25,
   "metadata": {},
   "outputs": [],
   "source": [
    "kommuner.columns = kommuner.columns.str.lower()\n",
    "    \n",
    "# information for municipality\n",
    "kommune_info = pd.read_json('https://dawa.aws.dk/kommuner')\\\n",
    "                .pipe(lambda df: \\\n",
    "                        df.assign(komkode=df.kode.astype(str).str.zfill(4)))\\\n",
    "                .loc[:,['komkode','regionskode']]\\\n",
    "                \n",
    "\n",
    "region_info = pd.read_json('https://dawa.aws.dk/regioner/')\\\n",
    "                .loc[:,['kode','navn']]\\\n",
    "                .add_prefix('regions')\n",
    "\n",
    "kommuner = kommuner\\\n",
    "                .merge(kommune_info,how='left')\\\n",
    "                .merge(region_info,how='left')"
   ]
  },
  {
   "cell_type": "code",
   "execution_count": 26,
   "metadata": {},
   "outputs": [
    {
     "data": {
      "text/html": [
       "<div>\n",
       "<style scoped>\n",
       "    .dataframe tbody tr th:only-of-type {\n",
       "        vertical-align: middle;\n",
       "    }\n",
       "\n",
       "    .dataframe tbody tr th {\n",
       "        vertical-align: top;\n",
       "    }\n",
       "\n",
       "    .dataframe thead th {\n",
       "        text-align: right;\n",
       "    }\n",
       "</style>\n",
       "<table border=\"1\" class=\"dataframe\">\n",
       "  <thead>\n",
       "    <tr style=\"text-align: right;\">\n",
       "      <th></th>\n",
       "      <th>komkode</th>\n",
       "      <th>komnavn</th>\n",
       "      <th>geometry</th>\n",
       "      <th>regionskode</th>\n",
       "      <th>regionsnavn</th>\n",
       "    </tr>\n",
       "  </thead>\n",
       "  <tbody>\n",
       "    <tr>\n",
       "      <th>0</th>\n",
       "      <td>0766</td>\n",
       "      <td>Hedensted</td>\n",
       "      <td>POLYGON Z ((528116.000 6190641.000 -999.000, 5...</td>\n",
       "      <td>1082</td>\n",
       "      <td>Region Midtjylland</td>\n",
       "    </tr>\n",
       "    <tr>\n",
       "      <th>1</th>\n",
       "      <td>0766</td>\n",
       "      <td>Hedensted</td>\n",
       "      <td>POLYGON Z ((566517.000 6188004.430 -999.000, 5...</td>\n",
       "      <td>1082</td>\n",
       "      <td>Region Midtjylland</td>\n",
       "    </tr>\n",
       "    <tr>\n",
       "      <th>2</th>\n",
       "      <td>0561</td>\n",
       "      <td>Esbjerg</td>\n",
       "      <td>POLYGON Z ((474537.000 6154409.000 -999.000, 4...</td>\n",
       "      <td>1083</td>\n",
       "      <td>Region Syddanmark</td>\n",
       "    </tr>\n",
       "    <tr>\n",
       "      <th>3</th>\n",
       "      <td>0849</td>\n",
       "      <td>Jammerbugt</td>\n",
       "      <td>POLYGON Z ((547480.000 6325805.000 -999.000, 5...</td>\n",
       "      <td>1081</td>\n",
       "      <td>Region Nordjylland</td>\n",
       "    </tr>\n",
       "    <tr>\n",
       "      <th>4</th>\n",
       "      <td>0849</td>\n",
       "      <td>Jammerbugt</td>\n",
       "      <td>POLYGON Z ((511946.000 6332841.000 -999.000, 5...</td>\n",
       "      <td>1081</td>\n",
       "      <td>Region Nordjylland</td>\n",
       "    </tr>\n",
       "  </tbody>\n",
       "</table>\n",
       "</div>"
      ],
      "text/plain": [
       "  komkode     komnavn                                           geometry  \\\n",
       "0    0766   Hedensted  POLYGON Z ((528116.000 6190641.000 -999.000, 5...   \n",
       "1    0766   Hedensted  POLYGON Z ((566517.000 6188004.430 -999.000, 5...   \n",
       "2    0561     Esbjerg  POLYGON Z ((474537.000 6154409.000 -999.000, 4...   \n",
       "3    0849  Jammerbugt  POLYGON Z ((547480.000 6325805.000 -999.000, 5...   \n",
       "4    0849  Jammerbugt  POLYGON Z ((511946.000 6332841.000 -999.000, 5...   \n",
       "\n",
       "   regionskode         regionsnavn  \n",
       "0         1082  Region Midtjylland  \n",
       "1         1082  Region Midtjylland  \n",
       "2         1083   Region Syddanmark  \n",
       "3         1081  Region Nordjylland  \n",
       "4         1081  Region Nordjylland  "
      ]
     },
     "execution_count": 26,
     "metadata": {},
     "output_type": "execute_result"
    }
   ],
   "source": [
    "kommuner.head()"
   ]
  },
  {
   "cell_type": "markdown",
   "metadata": {},
   "source": [
    "> **Ex. 9.2.2** Make two boolean series as follows. \n",
    "> - first: row is True if corresponding the row shape is in the Capital Region or Sealand Region (i.e. `'Region Hovedstaden', 'Region Sjælland'`) \n",
    "> - second: row is True if the  the row geometry is ***not*** in Bornholm or nearby (i.e. `'Bornholm', 'Christiansø'`)\n",
    "\n",
    "> Finally make a combined series which takes the value True if both holds, otherwise False and use this series to create a new geodataframe containing only mainland Sealand. \n",
    "\n",
    "\n",
    "> *Hint*: recall that we can check if a series elements are elements in a series using the `isin` method\n"
   ]
  },
  {
   "cell_type": "code",
   "execution_count": 64,
   "metadata": {},
   "outputs": [
    {
     "data": {
      "text/plain": [
       "(611189.4000001774, 745358.5999963677, 6040690.699990358, 6240699.29999362)"
      ]
     },
     "execution_count": 64,
     "metadata": {},
     "output_type": "execute_result"
    },
    {
     "data": {
      "image/png": "[encoded data removed]",
      "text/plain": [
       "<Figure size 432x288 with 1 Axes>"
      ]
     },
     "metadata": {
      "needs_background": "light"
     },
     "output_type": "display_data"
    }
   ],
   "source": [
    "import matplotlib.pyplot as plt\n",
    "kommuner[\"sealand\"] = kommuner.regionsnavn.isin([\"Region Hovedstaden\",\"Region Sjælland\"])\n",
    "kommuner[\"not_bornholm\"] = ~ kommuner.komnavn.isin(['Bornholm', 'Christiansø'])\n",
    "\n",
    "kommuner[\"not_bornholm_sealand_reg\"]= np.logical_and(kommuner.sealand,kommuner.not_bornholm)\n",
    "sealand = kommuner[kommuner[\"not_bornholm_sealand_reg\"]==True]\n",
    "sealand.plot().axis('off')"
   ]
  },
  {
   "cell_type": "markdown",
   "metadata": {},
   "source": [
    "> **Ex. 9.2.3** Explain what is the CRS of the GeoDataFrame. How is distance measured using this coordinate system. Extract the extremum values (min,max) in all dimensions of the sealand geodataframe. That is identify the coordinates of the corners in the smallest square covering the entire island.\n",
    "\n",
    "> *Hint*: extreme values, i.e. bounds, can be found using `.bounds` on a GeoDataFrame (also works on shapes, GeoSeries)"
   ]
  },
  {
   "cell_type": "code",
   "execution_count": 70,
   "metadata": {},
   "outputs": [
    {
     "data": {
      "text/plain": [
       "<matplotlib.collections.PathCollection at 0x129dc4e90>"
      ]
     },
     "execution_count": 70,
     "metadata": {},
     "output_type": "execute_result"
    },
    {
     "data": {
      "image/png": "[encoded data removed]",
      "text/plain": [
       "<Figure size 432x288 with 1 Axes>"
      ]
     },
     "metadata": {
      "needs_background": "light"
     },
     "output_type": "display_data"
    }
   ],
   "source": [
    "minx,miny,_,_ = sealand.bounds.min(axis=0)\n",
    "_,_,maxx,maxy = sealand.bounds.max(axis=0)\n",
    "x = [minx,minx,maxx,maxx]\n",
    "y = [miny,maxy,maxy,miny]\n",
    "\n",
    "sealand.plot().axis('off')\n",
    "plt.scatter(x,y)"
   ]
  },
  {
   "cell_type": "markdown",
   "metadata": {},
   "source": [
    "#### Interpolation of house prices\n",
    "\n",
    "\n",
    "In the following two exercises we aim to compute local spatial neighborhood measures of house prices in Sealand and around. We do this by making make a grid of Sealand houseprice data and using a neighborregressor to fill in data in squares that dont have any house sales. Thus the exercise will illustrate how to make a interpolation of data which is useful for feature engineering and get a good understanding of the data."
   ]
  },
  {
   "cell_type": "markdown",
   "metadata": {},
   "source": [
    "> **Ex. 9.2.4** Construct a 500mx500m grid for Sealand:\n",
    ">- Make a grid of points 500m apart in horizontal and vertical directions that are within the extremum values of Sealand's shape. Each pair $(e,n)$ in this grid should be the coordinates of the lower left corner in a 500x500 square.\n",
    ">- For each of these points construct a square polygon assuming that the point is the south west corner of the square. Do this using `cell_coords_to_polygons`.\n",
    ">- Use `gpd.sjoin` to take the intersection of the municipalities in sealand and the square grid you have constructed. Plot the resulting geodataframe.\n",
    ">\n",
    "> *Hint 1:* Once you have created the grid the following function below may be useful for converting into a GeoDataFrame. You need to specify the column names for your x and y coordinates.\n",
    ">\n",
    "> *Hint 2:* We can select the points that intersect by using a spatial join between the house locations and municipalities."
   ]
  },
  {
   "cell_type": "code",
   "execution_count": 71,
   "metadata": {},
   "outputs": [],
   "source": [
    "dk_crs = {'ellps': 'GRS80', 'no_defs': True, 'proj': 'utm', 'units': 'm', 'zone': 32}\n",
    "\n",
    "def cell_coords_to_polygons(square_df, x='e', y='n', dist=500, crs=dk_crs):\n",
    "    '''\n",
    "    Convert coordinates to squares in a GeoDataFrame.\n",
    "       \n",
    "    Parameters\n",
    "    ----------\n",
    "    x : str\n",
    "        Name of the horizontal coordinate (~longitude)            \n",
    "    y : str\n",
    "        Name of the vertical coordinate (~latitude)                        \n",
    "    dist : int or float\n",
    "        Size of polygons\n",
    "    crs : dict\n",
    "        Coordinate Reference System\n",
    "\n",
    "\n",
    "    Returns\n",
    "    ----------\n",
    "    squares_gdf: geopandas.GeoDataFrame\n",
    "        This table contains squares as geometry\n",
    "        and the original data.\n",
    "    '''\n",
    "    \n",
    "    def _to_square_polygon(row):\n",
    "        '''\n",
    "        This auxiliary function convert a square's lower,left \n",
    "        coordinates to a polygon. \n",
    "        \n",
    "        Parameters\n",
    "        ----------\n",
    "        row : pandas.Series\n",
    "            This is a DataFrame row.            \n",
    "        \n",
    "        Returns\n",
    "        ----------\n",
    "        poly: shapely.Polygon        \n",
    "        \n",
    "        '''\n",
    "        \n",
    "        square_coords = ((row[x], row[y]), \n",
    "                         (row[x]+dist, row[y]), \n",
    "                         (row[x]+dist, row[y]+dist), \n",
    "                         (row[x], row[y]+dist))\n",
    "        \n",
    "        poly = shapely.geometry.Polygon(square_coords)\n",
    "        \n",
    "        return poly\n",
    "    \n",
    "    # convert to polygons\n",
    "    square_geoms = gpd.GeoSeries(square_df.apply(_to_square_polygon, axis=1), crs=crs)\n",
    "    \n",
    "    # make GeoDataFrame\n",
    "    square_gdf = gpd.GeoDataFrame(data=square_df, geometry=square_geoms)\n",
    "    \n",
    "    return square_gdf"
   ]
  },
  {
   "cell_type": "code",
   "execution_count": 82,
   "metadata": {},
   "outputs": [
    {
     "name": "stderr",
     "output_type": "stream",
     "text": [
      "/Users/smeden/opt/anaconda3/lib/python3.7/site-packages/geopandas/tools/sjoin.py:61: UserWarning: CRS of frames being joined does not match!({'ellps': 'GRS80', 'no_defs': True, 'proj': 'utm', 'units': 'm', 'zone': 32} != {'init': 'epsg:25832'})\n",
      "  \"(%s != %s)\" % (left_df.crs, right_df.crs)\n"
     ]
    },
    {
     "data": {
      "text/plain": [
       "{'ellps': 'GRS80', 'no_defs': True, 'proj': 'utm', 'units': 'm', 'zone': 32}"
      ]
     },
     "execution_count": 82,
     "metadata": {},
     "output_type": "execute_result"
    }
   ],
   "source": [
    "squares = [(x,y) for x in np.arange(minx,maxx,500)\n",
    "                 for y in np.arange(miny,maxy,500)]\n",
    "\n",
    "df = pd.DataFrame(squares,columns=['e','n'])\n",
    "df = cell_coords_to_polygons(df)\n",
    "df = gpd.sjoin(df,sealand)"
   ]
  },
  {
   "cell_type": "markdown",
   "metadata": {},
   "source": [
    "> **Ex. 9.2.5**  Load the pre-structured data with house sales prices for Sealand. These data are available on Absalon as a .GeoJSON file. Construct a loop that for each year in the `sale_year` column \n",
    "> - extracts the house sales sold in this year, with a square meter price (`price_area`) between between 1000 and 120000. \n",
    "> - Selects the four columns `['sale_year', 'e', 'n', 'price_area']` and drops any rows with missing data. \n",
    "> - After preparing the data fit a `KNeighborsRegressor` with the coordinate columns `e` and `n` as features and the square-meter price as labels.\n",
    "> - Computes predictions `preds` where `e`, `n` are taken from the square grid geodataframe you constructed above. Add 250 to each value to predict at the midpoint of the square!\n",
    "> - creates a new column `p_{year}` in the square-grid geodataframe, containing `np.log10(preds)`\n",
    ">\n",
    "> Plot the grid data, coloring the grids by their predicted square meter price in 2012."
   ]
  },
  {
   "cell_type": "code",
   "execution_count": 80,
   "metadata": {},
   "outputs": [
    {
     "data": {
      "text/html": [
       "<div>\n",
       "<style scoped>\n",
       "    .dataframe tbody tr th:only-of-type {\n",
       "        vertical-align: middle;\n",
       "    }\n",
       "\n",
       "    .dataframe tbody tr th {\n",
       "        vertical-align: top;\n",
       "    }\n",
       "\n",
       "    .dataframe thead th {\n",
       "        text-align: right;\n",
       "    }\n",
       "</style>\n",
       "<table border=\"1\" class=\"dataframe\">\n",
       "  <thead>\n",
       "    <tr style=\"text-align: right;\">\n",
       "      <th></th>\n",
       "      <th>address</th>\n",
       "      <th>buildYear</th>\n",
       "      <th>salesPeriodTotal</th>\n",
       "      <th>numberOfRooms</th>\n",
       "      <th>paymentCash</th>\n",
       "      <th>residentialArea</th>\n",
       "      <th>areaWeighted</th>\n",
       "      <th>postal</th>\n",
       "      <th>dateRemoved</th>\n",
       "      <th>city</th>\n",
       "      <th>lat</th>\n",
       "      <th>lon</th>\n",
       "      <th>price_area</th>\n",
       "      <th>price_area_log</th>\n",
       "      <th>sale_year</th>\n",
       "      <th>e</th>\n",
       "      <th>n</th>\n",
       "      <th>index_right</th>\n",
       "      <th>mun_name</th>\n",
       "      <th>geometry</th>\n",
       "    </tr>\n",
       "  </thead>\n",
       "  <tbody>\n",
       "    <tr>\n",
       "      <th>0</th>\n",
       "      <td>Topperne 11, 1. 12</td>\n",
       "      <td>1972</td>\n",
       "      <td>NaN</td>\n",
       "      <td>2</td>\n",
       "      <td>645000.0</td>\n",
       "      <td>49.0</td>\n",
       "      <td>49.0</td>\n",
       "      <td>2620</td>\n",
       "      <td>19-01-2012</td>\n",
       "      <td>Albertslund</td>\n",
       "      <td>55.672423</td>\n",
       "      <td>12.343027</td>\n",
       "      <td>13163.265306</td>\n",
       "      <td>9.485185</td>\n",
       "      <td>2012</td>\n",
       "      <td>710214.000597</td>\n",
       "      <td>6.174689e+06</td>\n",
       "      <td>250</td>\n",
       "      <td>Albertslund</td>\n",
       "      <td>POINT (710214.001 6174689.003)</td>\n",
       "    </tr>\n",
       "    <tr>\n",
       "      <th>1</th>\n",
       "      <td>Topperne 11, 1. 12</td>\n",
       "      <td>1972</td>\n",
       "      <td>NaN</td>\n",
       "      <td>2</td>\n",
       "      <td>575000.0</td>\n",
       "      <td>49.0</td>\n",
       "      <td>49.0</td>\n",
       "      <td>2620</td>\n",
       "      <td>19-07-2012</td>\n",
       "      <td>Albertslund</td>\n",
       "      <td>55.672423</td>\n",
       "      <td>12.343027</td>\n",
       "      <td>11734.693878</td>\n",
       "      <td>9.370305</td>\n",
       "      <td>2012</td>\n",
       "      <td>710214.000597</td>\n",
       "      <td>6.174689e+06</td>\n",
       "      <td>250</td>\n",
       "      <td>Albertslund</td>\n",
       "      <td>POINT (710214.001 6174689.003)</td>\n",
       "    </tr>\n",
       "    <tr>\n",
       "      <th>2</th>\n",
       "      <td>Skyttehusene 37</td>\n",
       "      <td>1968</td>\n",
       "      <td>NaN</td>\n",
       "      <td>4</td>\n",
       "      <td>1695000.0</td>\n",
       "      <td>108.0</td>\n",
       "      <td>131.0</td>\n",
       "      <td>2620</td>\n",
       "      <td>12-03-2012</td>\n",
       "      <td>Albertslund</td>\n",
       "      <td>55.672528</td>\n",
       "      <td>12.356639</td>\n",
       "      <td>12938.931298</td>\n",
       "      <td>9.467996</td>\n",
       "      <td>2012</td>\n",
       "      <td>711069.000619</td>\n",
       "      <td>6.174742e+06</td>\n",
       "      <td>250</td>\n",
       "      <td>Albertslund</td>\n",
       "      <td>POINT (711069.001 6174742.003)</td>\n",
       "    </tr>\n",
       "    <tr>\n",
       "      <th>3</th>\n",
       "      <td>Rytterhusene 75</td>\n",
       "      <td>1968</td>\n",
       "      <td>NaN</td>\n",
       "      <td>4</td>\n",
       "      <td>1995000.0</td>\n",
       "      <td>108.0</td>\n",
       "      <td>131.0</td>\n",
       "      <td>2620</td>\n",
       "      <td>04-07-2012</td>\n",
       "      <td>Albertslund</td>\n",
       "      <td>55.673089</td>\n",
       "      <td>12.359137</td>\n",
       "      <td>15229.007634</td>\n",
       "      <td>9.630957</td>\n",
       "      <td>2012</td>\n",
       "      <td>711223.000623</td>\n",
       "      <td>6.174812e+06</td>\n",
       "      <td>250</td>\n",
       "      <td>Albertslund</td>\n",
       "      <td>POINT (711223.001 6174812.003)</td>\n",
       "    </tr>\n",
       "    <tr>\n",
       "      <th>4</th>\n",
       "      <td>Rytterhusene 75</td>\n",
       "      <td>1968</td>\n",
       "      <td>NaN</td>\n",
       "      <td>4</td>\n",
       "      <td>1795000.0</td>\n",
       "      <td>108.0</td>\n",
       "      <td>131.0</td>\n",
       "      <td>2620</td>\n",
       "      <td>16-08-2012</td>\n",
       "      <td>Albertslund</td>\n",
       "      <td>55.673089</td>\n",
       "      <td>12.359137</td>\n",
       "      <td>13702.290076</td>\n",
       "      <td>9.525318</td>\n",
       "      <td>2012</td>\n",
       "      <td>711223.000623</td>\n",
       "      <td>6.174812e+06</td>\n",
       "      <td>250</td>\n",
       "      <td>Albertslund</td>\n",
       "      <td>POINT (711223.001 6174812.003)</td>\n",
       "    </tr>\n",
       "  </tbody>\n",
       "</table>\n",
       "</div>"
      ],
      "text/plain": [
       "              address  buildYear  salesPeriodTotal  numberOfRooms  \\\n",
       "0  Topperne 11, 1. 12       1972               NaN              2   \n",
       "1  Topperne 11, 1. 12       1972               NaN              2   \n",
       "2     Skyttehusene 37       1968               NaN              4   \n",
       "3     Rytterhusene 75       1968               NaN              4   \n",
       "4     Rytterhusene 75       1968               NaN              4   \n",
       "\n",
       "   paymentCash  residentialArea  areaWeighted  postal dateRemoved  \\\n",
       "0     645000.0             49.0          49.0    2620  19-01-2012   \n",
       "1     575000.0             49.0          49.0    2620  19-07-2012   \n",
       "2    1695000.0            108.0         131.0    2620  12-03-2012   \n",
       "3    1995000.0            108.0         131.0    2620  04-07-2012   \n",
       "4    1795000.0            108.0         131.0    2620  16-08-2012   \n",
       "\n",
       "          city        lat        lon    price_area  price_area_log  sale_year  \\\n",
       "0  Albertslund  55.672423  12.343027  13163.265306        9.485185       2012   \n",
       "1  Albertslund  55.672423  12.343027  11734.693878        9.370305       2012   \n",
       "2  Albertslund  55.672528  12.356639  12938.931298        9.467996       2012   \n",
       "3  Albertslund  55.673089  12.359137  15229.007634        9.630957       2012   \n",
       "4  Albertslund  55.673089  12.359137  13702.290076        9.525318       2012   \n",
       "\n",
       "               e             n  index_right     mun_name  \\\n",
       "0  710214.000597  6.174689e+06          250  Albertslund   \n",
       "1  710214.000597  6.174689e+06          250  Albertslund   \n",
       "2  711069.000619  6.174742e+06          250  Albertslund   \n",
       "3  711223.000623  6.174812e+06          250  Albertslund   \n",
       "4  711223.000623  6.174812e+06          250  Albertslund   \n",
       "\n",
       "                         geometry  \n",
       "0  POINT (710214.001 6174689.003)  \n",
       "1  POINT (710214.001 6174689.003)  \n",
       "2  POINT (711069.001 6174742.003)  \n",
       "3  POINT (711223.001 6174812.003)  \n",
       "4  POINT (711223.001 6174812.003)  "
      ]
     },
     "execution_count": 80,
     "metadata": {},
     "output_type": "execute_result"
    }
   ],
   "source": [
    "from sklearn.neighbors import KNeighborsRegressor\n",
    "knn = KNeighborsRegressor()\n",
    "price_gdf = gpd.read_file('houseprices.GeoJSON')\n",
    "price_gdf.head()"
   ]
  },
  {
   "cell_type": "code",
   "execution_count": 85,
   "metadata": {},
   "outputs": [],
   "source": [
    "for year in price_gdf.sale_year.unique():\n",
    "    knn_df = price_gdf[price_gdf.sale_year==year]\n",
    "    knn_df = price_gdf[price_gdf.price_area.between(1000,120000)]\n",
    "    knn_df = knn_df.dropna(subset=[\"sale_year\",\"e\",\"n\",\"price_area\"])\n",
    "    \n",
    "    price = knn.fit(X=knn_df[[\"e\",\"n\"]].values, y=knn_df.price_area.values)\n",
    "    pred = price.predict(df[[\"e\",\"n\"]]+250)\n",
    "    df[\"p\"+str(year)] = np.log10(pred)"
   ]
  },
  {
   "cell_type": "code",
   "execution_count": 86,
   "metadata": {},
   "outputs": [
    {
     "data": {
      "text/plain": [
       "(611188.0000000043, 745388.0000000043, 6040681.999990506, 6240881.999990506)"
      ]
     },
     "execution_count": 86,
     "metadata": {},
     "output_type": "execute_result"
    },
    {
     "data": {
      "image/png": "[encoded data removed]",
      "text/plain": [
       "<Figure size 864x432 with 1 Axes>"
      ]
     },
     "metadata": {
      "needs_background": "light"
     },
     "output_type": "display_data"
    }
   ],
   "source": [
    "fig,ax = plt.subplots(figsize=(12,6))\n",
    "df.plot(column=\"p2012\",ax=ax)\n",
    "plt.axis('off')"
   ]
  },
  {
   "cell_type": "code",
   "execution_count": null,
   "metadata": {},
   "outputs": [],
   "source": []
  }
 ],
 "metadata": {
  "kernelspec": {
   "display_name": "Python 3",
   "language": "python",
   "name": "python3"
  },
  "language_info": {
   "codemirror_mode": {
    "name": "ipython",
    "version": 3
   },
   "file_extension": ".py",
   "mimetype": "text/x-python",
   "name": "python",
   "nbconvert_exporter": "python",
   "pygments_lexer": "ipython3",
   "version": "3.7.4"
  }
 },
 "nbformat": 4,
 "nbformat_minor": 4
}
