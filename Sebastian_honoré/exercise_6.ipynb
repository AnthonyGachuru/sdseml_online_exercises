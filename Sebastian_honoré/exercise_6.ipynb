{
 "cells": [
  {
   "cell_type": "markdown",
   "metadata": {},
   "source": [
    "# Exercise 6 - linear ML for econometrics. \n",
    "\n",
    "In this exercise set we will work with linear ML methods that can give unbiased estimates when the number of covariates is large. We will once again set up simulated data to clearly see any issues with the methods we apply. The exercises follow the approach laid out in [Chernozhukov et al](https://arxiv.org/pdf/1501.03185.pdf)."
   ]
  },
  {
   "cell_type": "code",
   "execution_count": 1,
   "metadata": {},
   "outputs": [
    {
     "name": "stderr",
     "output_type": "stream",
     "text": [
      "/Users/smeden/opt/anaconda3/lib/python3.7/site-packages/statsmodels/tools/_testing.py:19: FutureWarning: pandas.util.testing is deprecated. Use the functions in the public API at pandas.testing instead.\n",
      "  import pandas.util.testing as tm\n"
     ]
    }
   ],
   "source": [
    "import numpy as np \n",
    "import pandas as pd \n",
    "import matplotlib.pyplot as plt \n",
    "import seaborn as sns \n",
    "\n",
    "from sklearn.preprocessing import PolynomialFeatures"
   ]
  },
  {
   "cell_type": "markdown",
   "metadata": {},
   "source": [
    "> The following code simulates two datasets, one to use with the auxilliary regression \n",
    ">$$ \\tag{aux}\n",
    "d_i = x_i'\\gamma_0 + z_i' \\delta_0 + u_i\n",
    "$$\n",
    ">and one to use in the main equation\n",
    ">$$ \\tag{main}\n",
    "y_i = \\alpha_0 d_i + x_i' \\beta_0 + \\nu_i\n",
    "$$\n",
    "Unlike in the paper, we include covariates in the main equation. We will handle them in a later question. In this setup $u_i$ and $\\nu_i$ are correlated, meaning the relation between $d_i$ and $y_i$ is not identified via OLS. Instead we will use $z_i$ to induce exogenous variation in $d_i$, which is unrelated to the error terms. This variation can be used to identify $\\alpha_0$.\n",
    ">\n",
    "> **Ex 6.1.1.**  Rewrite the below code to define a function `simulate(n, m, k, plot)`, where plot is a boolean indicating whether the density plot should be drawn or not. Your function should return all the matrices and vectors required in the regression equations, including parameters and errors."
   ]
  },
  {
   "cell_type": "code",
   "execution_count": 2,
   "metadata": {},
   "outputs": [
    {
     "data": {
      "image/png": "[encoded data removed]",
      "text/plain": [
       "<Figure size 432x432 with 3 Axes>"
      ]
     },
     "metadata": {
      "needs_background": "light"
     },
     "output_type": "display_data"
    }
   ],
   "source": [
    "n = 1000  # Number of observations\n",
    "m = 1500    # Number of potential instruments\n",
    "k = 10    # Number of covariates\n",
    "\n",
    "cov = 5\n",
    "errors = np.random.multivariate_normal(mean = [0,0], cov = [[cov, cov], [cov, cov]], size = n)\n",
    "h = sns.jointplot(errors[:,0], errors[:,1], kind = 'kde')\n",
    "h.set_axis_labels('$\\\\nu$', '$\\epsilon$', fontsize=16)\n",
    "\n",
    "z = np.random.normal(size = (n,m))\n",
    "x = np.random.normal(size = (n,k))\n",
    "\n",
    "# Auxilliary equation\n",
    "nu = errors[:,0]\n",
    "Pi = np.array([5] + [x if np.random.uniform() > 0.9 else 0 for x in np.random.uniform(low = -2, high = 5, size = m - 1)])\n",
    "gamma = np.array([5] + [x if np.random.uniform() > 0.9 else 0 for x in np.random.uniform(low = -2, high = 5, size = k - 1)])\n",
    "\n",
    "d = z @ Pi + x @ gamma + nu\n",
    "\n",
    "# Main equation\n",
    "u = errors[:,1]\n",
    "delta = np.array([5] + [x  if np.random.uniform() > 0.9 else 0 for x in np.random.uniform(low = -2, high = 5, size = k - 1)])\n",
    "alpha = np.random.uniform(1,2)\n",
    "\n",
    "y = alpha * d  + x @ delta + u"
   ]
  },
  {
   "cell_type": "code",
   "execution_count": 3,
   "metadata": {},
   "outputs": [],
   "source": [
    "def simulate(n, m, k, plot):\n",
    "    \"\"\"\n",
    "    parameters:\n",
    "        n (int): number of observations\n",
    "        m (int): number of potential instruments\n",
    "        k (int): number of covariates\n",
    "        plot (bool): if plot == True draws the density plot\n",
    "    \n",
    "    returns:\n",
    "        z: vector of instrument variables\n",
    "        x: vector of exogenous control variables\n",
    "        nu: auxilliary regression errors\n",
    "        Pi: vector of instrument coefficients (auxilliary)\n",
    "        gamma: vector of control coefficients (auxilliary)\n",
    "        d: endogenous variable\n",
    "        u: main regression errors\n",
    "        delta: vector of control coefficients (main)\n",
    "        alpha: coefficient of interest\n",
    "        \n",
    "    \"\"\"\n",
    "    \n",
    "    cov = 5\n",
    "    errors = np.random.multivariate_normal(mean = [0,0], cov = [[cov, cov], [cov, cov]], size = n)\n",
    "    if plot == True:\n",
    "        h = sns.jointplot(errors[:,0], errors[:,1], kind = 'kde')\n",
    "        h.set_axis_labels('$\\\\nu$', '$\\epsilon$', fontsize=16)\n",
    "\n",
    "    z = np.random.normal(size = (n,m))\n",
    "    x = np.random.normal(size = (n,k))\n",
    "\n",
    "    # Auxilliary equation\n",
    "    nu = errors[:,0]\n",
    "    Pi = np.array([5] + [x if np.random.uniform() > 0.9 else 0 for x in np.random.uniform(low = -2, high = 5, size = m - 1)])\n",
    "    gamma = np.array([5] + [x if np.random.uniform() > 0.9 else 0 for x in np.random.uniform(low = -2, high = 5, size = k - 1)])\n",
    "\n",
    "    d = z @ Pi + x @ gamma + nu\n",
    "\n",
    "    # Main equation\n",
    "    u = errors[:,1]\n",
    "    delta = np.array([5] + [x  if np.random.uniform() > 0.9 else 0 for x in np.random.uniform(low = -2, high = 5, size = k - 1)])\n",
    "    alpha = np.random.uniform(1,2)\n",
    "\n",
    "    y = alpha * d  + x @ delta + u\n",
    "    \n",
    "    return z,x,nu,Pi,gamma,d,u,delta,alpha,y"
   ]
  },
  {
   "cell_type": "markdown",
   "metadata": {},
   "source": [
    "> **Ex. 6.1.2:** Use your function to simulate a new dataset and regress the following OLS regression\n",
    ">$$\n",
    "y_i \\sim \\pi_0 + \\pi_1 d_i + \\gamma_i\n",
    "$$\n",
    "> where $\\gamma_i$ is a noise term. \n",
    ">\n",
    "> Repeat this procedure 1000 times in a for loop and store the true $\\alpha_0$ as well as the estimate $\\pi_1$ in two lists. Plot a histogram of the differences $\\alpha_0 - \\pi_1$. What does this tell you about the regression you just ran?"
   ]
  },
  {
   "cell_type": "code",
   "execution_count": 4,
   "metadata": {},
   "outputs": [],
   "source": [
    "from statsmodels.api import OLS\n",
    "from statsmodels.tools import add_constant"
   ]
  },
  {
   "cell_type": "code",
   "execution_count": 17,
   "metadata": {},
   "outputs": [],
   "source": [
    "k = 1000\n",
    "pi_1 = []\n",
    "alpha = []\n",
    "\n",
    "for i in range(k):\n",
    "    data = simulate(n,m,k,False)\n",
    "\n",
    "    y = data[9]\n",
    "    d = data[5]\n",
    "    d = add_constant(d)\n",
    "\n",
    "    model = OLS(y,d)\n",
    "    res = model.fit()\n",
    "    pi_1.append(res.params[1])\n",
    "    alpha.append(data[8])"
   ]
  },
  {
   "cell_type": "code",
   "execution_count": 35,
   "metadata": {},
   "outputs": [
    {
     "data": {
      "text/plain": [
       "<matplotlib.axes._subplots.AxesSubplot at 0x1c2c382950>"
      ]
     },
     "execution_count": 35,
     "metadata": {},
     "output_type": "execute_result"
    },
    {
     "data": {
      "image/png": "[encoded data removed]",
      "text/plain": [
       "<Figure size 432x288 with 1 Axes>"
      ]
     },
     "metadata": {
      "needs_background": "light"
     },
     "output_type": "display_data"
    }
   ],
   "source": [
    "from scipy.stats import norm\n",
    "diff = np.array(alpha)-np.array(pi_1)\n",
    "sns.distplot(diff,fit=norm,kde_kws={\"color\":\"g\",\"label\":\"KDE\"})"
   ]
  },
  {
   "cell_type": "markdown",
   "metadata": {},
   "source": [
    "There is a clear upwards bias as Pi tends to be higher than the true value."
   ]
  },
  {
   "cell_type": "markdown",
   "metadata": {},
   "source": [
    "> **Ex. 6.1.3:** Knowing the DGP an obvious solution would be to run an IV regression, instrumenting $d_i$ with $z_i$. Unfortunately there are $m=1500$ columns in $z_i$ and only $n=1000$ observations. Luckily, the way we have simulated our data only a small subset of the $z_i$'s actually influence $d_i$. The tricky part will be to pick out the right $z_i$'s.\n",
    ">\n",
    "> To begin with simulate a new dataset and count the number of non-zero element in $\\Pi$ to verify that indeed only very few $z$'s matter for $d$."
   ]
  },
  {
   "cell_type": "code",
   "execution_count": 44,
   "metadata": {},
   "outputs": [
    {
     "name": "stdout",
     "output_type": "stream",
     "text": [
      "The number of non-zero elements is 157\n"
     ]
    }
   ],
   "source": [
    "data_1 = simulate(n, m, k, False)\n",
    "non_zero = np.count_nonzero(data_1[3])\n",
    "print(f\"The number of non-zero elements is {non_zero}\")"
   ]
  },
  {
   "cell_type": "markdown",
   "metadata": {},
   "source": [
    "> **Ex. 6.1.4:** The _ideal_ instrument for $d_i$ is exactly the $z_i$'s which have non-zero coefficients, multiplies by the corresponding true simulated parameters in $\\delta_0$. Having simulated the data ourselves, an easy way to compute this is to simply calculate\n",
    "> $$\n",
    "\\hat{d}^* = z \\cdot \\delta_0\n",
    "$$\n",
    "> where $\\cdot$ is the dot product, written as `@` in numpy. In reality we cannot get this ideal instrument, because it would require regressing $d_i$ on all 500 variables with only 100 observations.  \n",
    ">\n",
    "> In a for loop over 1000 iterations, simulate new data, compute the ideal instrument $\\hat{d_i}$ and regress the second stage regression $y_i \\sim \\pi_0 + \\pi_1\\hat{d_i}$. Store the true $\\alpha_0$ and the estimate $\\hat{\\pi}_1$ in two lists. Finally draw a histogram of the differences $\\alpha_0 - \\hat{\\pi}_1$. How does your histogram look this time, is this expected?"
   ]
  },
  {
   "cell_type": "code",
   "execution_count": 45,
   "metadata": {},
   "outputs": [],
   "source": [
    "k = 1000\n",
    "pi_1 = []\n",
    "alpha = []\n",
    "\n",
    "for i in range(k):\n",
    "    data = simulate(n,m,k,False)\n",
    "\n",
    "    y = data[9]\n",
    "    z = data[0]\n",
    "    Pi = data[3]\n",
    "    d_hat = z @ Pi\n",
    "    d_hat = add_constant(d_hat)\n",
    "\n",
    "    model = OLS(y,d_hat)\n",
    "    res = model.fit()\n",
    "    pi_1.append(res.params[1])\n",
    "    alpha.append(data[8])"
   ]
  },
  {
   "cell_type": "code",
   "execution_count": 46,
   "metadata": {},
   "outputs": [
    {
     "data": {
      "text/plain": [
       "<matplotlib.axes._subplots.AxesSubplot at 0x1c2d8efbd0>"
      ]
     },
     "execution_count": 46,
     "metadata": {},
     "output_type": "execute_result"
    },
    {
     "data": {
      "image/png": "[encoded data removed]",
      "text/plain": [
       "<Figure size 432x288 with 1 Axes>"
      ]
     },
     "metadata": {
      "needs_background": "light"
     },
     "output_type": "display_data"
    }
   ],
   "source": [
    "diff = np.array(alpha)-np.array(pi_1)\n",
    "sns.distplot(diff,fit=norm,kde_kws={\"color\":\"g\",\"label\":\"KDE\"})"
   ]
  },
  {
   "cell_type": "markdown",
   "metadata": {},
   "source": [
    "As expected there is no bias with ideal instruments for $d_i$"
   ]
  },
  {
   "cell_type": "markdown",
   "metadata": {},
   "source": [
    "> **Ex. 6.1.5:** The below class implements post-lasso. A two step procedure where first a lasso model is used to identify relevant parameters, and then OLS is used to estimate parameter values on the remaining variables. Study the code, and understand as well as possible what is going on. \n",
    ">\n",
    "> What is stored in `relevant_x`?\n",
    "> \n",
    "> Why is the `predict` method so complicated?"
   ]
  },
  {
   "cell_type": "code",
   "execution_count": 39,
   "metadata": {},
   "outputs": [],
   "source": [
    "from sklearn.linear_model import LassoCV, Lasso\n",
    "from sklearn.utils.testing import ignore_warnings\n",
    "from sklearn.exceptions import ConvergenceWarning"
   ]
  },
  {
   "cell_type": "code",
   "execution_count": 41,
   "metadata": {},
   "outputs": [],
   "source": [
    "class PostLasso:\n",
    "    def __init__(self, formula = None):\n",
    "        self.lasso_model = Lasso()\n",
    "        self.ols_model = None\n",
    "        self.relevant_x = None\n",
    "        self.subset_cols = None\n",
    "        self.coefs = None\n",
    "        self.formula = formula\n",
    "    \n",
    "    def __repr__(self):\n",
    "        return f'PostLasso({self.formula})'\n",
    "    \n",
    "    @ignore_warnings(category=ConvergenceWarning)\n",
    "    def fit(self, X, y, force_include_idx = None):\n",
    "        ''' Estimate a model using Post-Lasso\n",
    "        \n",
    "        X: X matrix (without intercept)\n",
    "        y: y vector\n",
    "        force_include_idx: column indexes that ALWAYS is\n",
    "            included in the OLS model, regardless of their\n",
    "            status in the lasso stage.\n",
    "        '''\n",
    "        self.lasso_model = self.lasso_model.fit(X,y)\n",
    "        self.coefs = np.insert(self.lasso_model.coef_, 0, self.lasso_model.intercept_)\n",
    "        self.subset_cols = np.where(self.coefs != 0)[0]\n",
    "        if force_include_idx is not None:\n",
    "            self.subset_cols = np.union1d(self.subset_cols, force_include_idx)\n",
    "        self.relevant_x = add_constant(X)[:,self.subset_cols]\n",
    "        self.ols_model = OLS(y, self.relevant_x).fit()\n",
    "        return self\n",
    "\n",
    "    def predict(self, X = None):\n",
    "        ''' Predict using a fitted post-lasso model.\n",
    "        '''\n",
    "        if X is None:\n",
    "            return self.ols_model.predict(self.relevant_x)\n",
    "        if X.shape == self.relevant_x.shape:\n",
    "            return self.ols_model.predict(X)\n",
    "        return self.ols_model.predict(X[:,self.subset_cols])"
   ]
  },
  {
   "cell_type": "markdown",
   "metadata": {},
   "source": [
    "> **Ex. 6.1.6:** In this problem we will try to run through the post-lasso steps required to obtain an estimate of $\\alpha_0$. Since we are doing this in python we will not be able to set the lasso hyperparameter optimally for this kind of post-selection usage. There is a R package, developed especially to handle inference after lasso-selection, which you should use in practise. \n",
    ">\n",
    "> For now, do the following steps 1000 times, storing the true $\\alpha_0$ and estimate $\\hat{\\alpha_0}$:\n",
    ">\n",
    "> * 0. Simulate a new dataset.\n",
    "> * 1. Run a post-lasso regression of d on x and z, $d_i \\sim x_i'\\gamma + z_i' \\delta$, forcing the inclusion of $x_i$ in the OLS stage.\n",
    "> * 2. Run the second stage regression $y_i \\sim \\hat{d}_i + x_i' \\beta$ to recover $\\hat{\\alpha_0}$.\n",
    ">\n",
    "> How does this histogram compare to the naive one? How does it compare to the ideal one?\n",
    ">\n",
    "> _Hint:_ We follow the description given on page 19 [here](https://cran.r-project.org/web/packages/hdm/vignettes/hdm.pdf)."
   ]
  },
  {
   "cell_type": "code",
   "execution_count": 49,
   "metadata": {},
   "outputs": [],
   "source": [
    "k = 1000\n",
    "alpha = []\n",
    "pi_1 = []\n",
    "for i in range(k):\n",
    "    data = simulate(n, m, k, False)\n",
    "    y = data[9]\n",
    "    z = data[0]\n",
    "    d = data[5]\n",
    "    x = data[1]\n",
    "\n",
    "    xz = np.column_stack((x,z))\n",
    "    x_idx = [i for i in range(0,(x.shape[1]))]\n",
    "\n",
    "    postlasso = PostLasso()\n",
    "    postlasso.fit(xz,d, force_include_idx = x_idx)\n",
    "    d_hat = postlasso.predict()\n",
    "\n",
    "    d_hatx = np.column_stack((d_hat,x))\n",
    "    d_hatx = add_constant(d_hatx)\n",
    "\n",
    "    model = OLS(y,d_hatx)\n",
    "    results = model.fit()\n",
    "    pi_1.append(results.params[1])\n",
    "    alpha.append(data[8])"
   ]
  },
  {
   "cell_type": "code",
   "execution_count": 50,
   "metadata": {},
   "outputs": [
    {
     "data": {
      "text/plain": [
       "<matplotlib.axes._subplots.AxesSubplot at 0x1c2dd721d0>"
      ]
     },
     "execution_count": 50,
     "metadata": {},
     "output_type": "execute_result"
    },
    {
     "data": {
      "image/png": "[encoded data removed]",
      "text/plain": [
       "<Figure size 432x288 with 1 Axes>"
      ]
     },
     "metadata": {
      "needs_background": "light"
     },
     "output_type": "display_data"
    }
   ],
   "source": [
    "diff = np.array(alpha)-np.array(pi_1)\n",
    "sns.distplot(diff,fit=norm,kde_kws={\"color\":\"g\",\"label\":\"KDE\"})"
   ]
  },
  {
   "cell_type": "markdown",
   "metadata": {},
   "source": [
    "compared with the naive histogram the post-lasso histogram removes bias."
   ]
  }
 ],
 "metadata": {
  "kernelspec": {
   "display_name": "Python 3",
   "language": "python",
   "name": "python3"
  },
  "language_info": {
   "codemirror_mode": {
    "name": "ipython",
    "version": 3
   },
   "file_extension": ".py",
   "mimetype": "text/x-python",
   "name": "python",
   "nbconvert_exporter": "python",
   "pygments_lexer": "ipython3",
   "version": "3.7.4"
  }
 },
 "nbformat": 4,
 "nbformat_minor": 4
}
