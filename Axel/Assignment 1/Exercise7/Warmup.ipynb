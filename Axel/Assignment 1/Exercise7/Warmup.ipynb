{
 "cells": [
  {
   "cell_type": "code",
   "execution_count": 11,
   "metadata": {},
   "outputs": [
    {
     "name": "stdout",
     "output_type": "stream",
     "text": [
      "Try number: 0\n",
      "To bad loser, try again\n",
      "Try number: 1\n",
      "To bad loser, try again\n",
      "Try number: 2\n",
      "To bad loser, try again\n",
      "Try number: 3\n",
      "To bad loser, try again\n",
      "Try number: 4\n",
      "To bad loser, try again\n",
      "Try number: 5\n",
      "To bad loser, try again\n",
      "Try number: 6\n",
      "To bad loser, try again\n",
      "Try number: 7\n",
      "To bad loser, try again\n",
      "Try number: 8\n",
      "To bad loser, try again\n",
      "Try number: 9\n",
      "To bad loser, try again\n",
      "Try number: 10\n"
     ]
    },
    {
     "data": {
      "text/plain": [
       "'Big succes - you are the winner of 1 million pesos'"
      ]
     },
     "execution_count": 11,
     "metadata": {},
     "output_type": "execute_result"
    }
   ],
   "source": [
    "from random import uniform\n",
    "\n",
    "# Define the funciton (given in this warmup)\n",
    "def tmf():\n",
    "    c = uniform(0,1) > 0.8\n",
    "    if c: return 'Big succes - you are the winner of 1 million pesos'\n",
    "    raise ValueError('c to small')\n",
    "    \n",
    "\n",
    "# Defining the decorator \"retry\"\n",
    "def retry(n):\n",
    "    def _decorator(fnc):\n",
    "        def _wrapped():\n",
    "            for i in range(n):\n",
    "                print('Try number: %s' % (i))\n",
    "                try:\n",
    "                    fnc()\n",
    "                    return fnc()\n",
    "                    break\n",
    "                except ValueError:\n",
    "                    print('To bad loser, try again')\n",
    "        return _wrapped\n",
    "    return _decorator\n",
    "        \n",
    "        \n",
    "        \n",
    "# Testing the decorator \n",
    "decorator = retry(30) # This returns the decorator with k = 30\n",
    "loop_function = decorator(tmf) # returns the wrapped\n",
    "loop_function() # Executes the wrapped which tries the function 30 times in a loop"
   ]
  },
  {
   "cell_type": "code",
   "execution_count": null,
   "metadata": {},
   "outputs": [],
   "source": []
  }
 ],
 "metadata": {
  "kernelspec": {
   "display_name": "Python 3",
   "language": "python",
   "name": "python3"
  },
  "language_info": {
   "codemirror_mode": {
    "name": "ipython",
    "version": 3
   },
   "file_extension": ".py",
   "mimetype": "text/x-python",
   "name": "python",
   "nbconvert_exporter": "python",
   "pygments_lexer": "ipython3",
   "version": "3.7.4"
  }
 },
 "nbformat": 4,
 "nbformat_minor": 4
}
