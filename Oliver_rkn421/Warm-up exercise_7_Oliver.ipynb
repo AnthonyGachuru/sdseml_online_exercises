{
 "cells": [
  {
   "cell_type": "code",
   "execution_count": 357,
   "metadata": {},
   "outputs": [],
   "source": [
    "from random import uniform\n",
    "\n",
    "def retry(n):\n",
    "    def _decorator(fnc):\n",
    "        def _wrapped():\n",
    "            for i in range(n):\n",
    "                try:\n",
    "                    print(f'{i} attempts needed')\n",
    "                    return fnc()\n",
    "                except ValueError:\n",
    "                    pass \n",
    "        return _wrapped\n",
    "    return _decorator"
   ]
  },
  {
   "cell_type": "code",
   "execution_count": 358,
   "metadata": {},
   "outputs": [],
   "source": [
    "@retry(n=10)\n",
    "def this_might_fail():\n",
    "    c = uniform(0,1) > 0.8\n",
    "    if c: return 'success'\n",
    "    raise ValueError('c too small')"
   ]
  },
  {
   "cell_type": "code",
   "execution_count": 359,
   "metadata": {},
   "outputs": [
    {
     "name": "stdout",
     "output_type": "stream",
     "text": [
      "0 attempts needed\n",
      "1 attempts needed\n",
      "2 attempts needed\n",
      "3 attempts needed\n",
      "4 attempts needed\n"
     ]
    },
    {
     "data": {
      "text/plain": [
       "'success'"
      ]
     },
     "execution_count": 359,
     "metadata": {},
     "output_type": "execute_result"
    }
   ],
   "source": [
    "this_might_fail()"
   ]
  }
 ],
 "metadata": {
  "kernelspec": {
   "display_name": "Python 3",
   "language": "python",
   "name": "python3"
  },
  "language_info": {
   "codemirror_mode": {
    "name": "ipython",
    "version": 3
   },
   "file_extension": ".py",
   "mimetype": "text/x-python",
   "name": "python",
   "nbconvert_exporter": "python",
   "pygments_lexer": "ipython3",
   "version": "3.7.3"
  }
 },
 "nbformat": 4,
 "nbformat_minor": 2
}
