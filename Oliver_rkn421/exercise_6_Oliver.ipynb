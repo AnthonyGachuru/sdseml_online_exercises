{
 "cells": [
  {
   "cell_type": "markdown",
   "metadata": {},
   "source": [
    "# Exercise 6 - linear ML for econometrics. \n",
    "\n",
    "In this exercise set we will work with linear ML methods that can give unbiased estimates when the number of covariates is large. We will once again set up simulated data to clearly see any issues with the methods we apply. The exercises follow the approach laid out in [Chernozhukov et al](https://arxiv.org/pdf/1501.03185.pdf)."
   ]
  },
  {
   "cell_type": "code",
   "execution_count": 4,
   "metadata": {},
   "outputs": [],
   "source": [
    "import numpy as np \n",
    "import pandas as pd \n",
    "import matplotlib.pyplot as plt \n",
    "import seaborn as sns \n",
    "\n",
    "from sklearn.preprocessing import PolynomialFeatures"
   ]
  },
  {
   "cell_type": "markdown",
   "metadata": {},
   "source": [
    "> The following code simulates two datasets, one to use with the auxilliary regression \n",
    ">$$ \\tag{aux}\n",
    "d_i = x_i'\\gamma_0 + z_i' \\delta_0 + u_i\n",
    "$$\n",
    ">and one to use in the main equation\n",
    ">$$ \\tag{main}\n",
    "y_i = \\alpha_0 d_i + x_i' \\beta_0 + \\nu_i\n",
    "$$\n",
    "Unlike in the paper, we include covariates in the main equation. We will handle them in a later question. In this setup $u_i$ and $\\nu_i$ are correlated, meaning the relation between $d_i$ and $y_i$ is not identified via OLS. Instead we will use $z_i$ to induce exogenous variation in $d_i$, which is unrelated to the error terms. This variation can be used to identify $\\alpha_0$.\n",
    ">\n",
    "> **Ex 6.1.1.**  Rewrite the below code to define a function `simulate(n, m, k, plot)`, where plot is a boolean indicating whether the density plot should be drawn or not. Your function should return all the matrices and vectors required in the regression equations, including parameters and errors."
   ]
  },
  {
   "cell_type": "code",
   "execution_count": 5,
   "metadata": {},
   "outputs": [],
   "source": [
    "  # Number of observations\n",
    "    # Number of potential instruments\n",
    "    # Number of covariates\n",
    "\n",
    "def simulate(n = 1000, m = 1500, k = 10, plot= False):\n",
    "    cov = 5\n",
    "    errors = np.random.multivariate_normal(mean = [0,0], cov = [[cov, cov], [cov, cov]], size = n)\n",
    "    if plot == True: \n",
    "        h = sns.jointplot(errors[:,0], errors[:,1], kind = 'kde')\n",
    "        h.set_axis_labels('$\\\\nu$', '$\\epsilon$', fontsize=16)\n",
    "        plt.show()\n",
    "    \n",
    "    z = np.random.normal(size = (n,m))\n",
    "    x = np.random.normal(size = (n,k))\n",
    "    # Auxilliary equation\n",
    "    nu = errors[:,0]\n",
    "    Pi = np.array([5] + [x if np.random.uniform() > 0.9 else 0 for x in np.random.uniform(low = -2, high = 5, size = m - 1)])\n",
    "    gamma = np.array([5] + [x if np.random.uniform() > 0.9 else 0 for x in np.random.uniform(low = -2, high = 5, size = k - 1)])\n",
    "    \n",
    "    d = z @ Pi + x @ gamma + nu\n",
    "    \n",
    "    # Main equation\n",
    "    u = errors[:,1]\n",
    "    delta = np.array([5] + [x  if np.random.uniform() > 0.9 else 0 for x in np.random.uniform(low = -2, high = 5, size = k - 1)])\n",
    "    alpha = np.random.uniform(1,2)\n",
    "    y = alpha * d  + x @ delta + u\n",
    "    return (d, z, Pi, gamma, nu), (y, z, delta, alpha, nu)"
   ]
  },
  {
   "cell_type": "markdown",
   "metadata": {},
   "source": [
    "> **Ex. 6.1.2:** Use your function to simulate a new dataset and regress the following OLS regression\n",
    ">$$\n",
    "y_i \\sim \\pi_0 + \\pi_1 d_i + \\gamma_i\n",
    "$$\n",
    "> where $\\gamma_i$ is a noise term. \n",
    ">\n",
    "> Repeat this procedure 1000 times in a for loop and store the true $\\alpha_0$ as well as the estimate $\\pi_1$ in two lists. Plot a histogram of the differences $\\alpha_0 - \\pi_1$. What does this tell you about the regression you just ran?"
   ]
  },
  {
   "cell_type": "code",
   "execution_count": 6,
   "metadata": {},
   "outputs": [],
   "source": [
    "import statsmodels.api as sm\n",
    "from statsmodels.api import OLS\n",
    "from statsmodels.tools import add_constant"
   ]
  },
  {
   "cell_type": "code",
   "execution_count": 7,
   "metadata": {},
   "outputs": [],
   "source": [
    "store1 = []\n",
    "store2 = []\n",
    "\n",
    "rep = 1000\n",
    "\n",
    "for r in range(rep):\n",
    "    aux, main = simulate()\n",
    "    d,z, Pi, gamma, nu = aux\n",
    "    y, X, delta, alpha, u = main\n",
    "    model = sm.OLS(y, sm.add_constant(d))\n",
    "    result = model.fit()\n",
    "    store1.append(alpha)\n",
    "    store2.append(result.params[1])"
   ]
  },
  {
   "cell_type": "code",
   "execution_count": 10,
   "metadata": {},
   "outputs": [
    {
     "data": {
      "text/plain": [
       "<matplotlib.lines.Line2D at 0x2914cb1dd68>"
      ]
     },
     "execution_count": 10,
     "metadata": {},
     "output_type": "execute_result"
    },
    {
     "data": {
      "image/png": "[encoded data removed]",
      "text/plain": [
       "<Figure size 432x288 with 1 Axes>"
      ]
     },
     "metadata": {
      "needs_background": "light"
     },
     "output_type": "display_data"
    }
   ],
   "source": [
    "sns.distplot([(a-b) for a,b in zip(store1, store2)])\n",
    "plt.axvline(0,color='red')"
   ]
  },
  {
   "cell_type": "markdown",
   "metadata": {},
   "source": [
    "> **Ex. 6.1.3:** Knowing the DGP an obvious solution would be to run an IV regression, instrumenting $d_i$ with $z_i$. Unfortunately there are $m=1500$ columns in $z_i$ and only $n=1000$ observations. Luckily, the way we have simulated our data only a small subset of the $z_i$'s actually influence $d_i$. The tricky part will be to pick out the right $z_i$'s.\n",
    ">\n",
    "> To begin with simulate a new dataset and count the number of non-zero element in $\\Pi$ to verify that indeed only very few $z$'s matter for $d$."
   ]
  },
  {
   "cell_type": "code",
   "execution_count": 9,
   "metadata": {},
   "outputs": [
    {
     "name": "stdout",
     "output_type": "stream",
     "text": [
      "152\n"
     ]
    }
   ],
   "source": [
    "aux, main = simulate()\n",
    "d,z, Pi, gamma, nu = aux\n",
    "print(np.count_nonzero(Pi))"
   ]
  },
  {
   "cell_type": "markdown",
   "metadata": {},
   "source": [
    "> **Ex. 6.1.4:** The _ideal_ instrument for $d_i$ is exactly the $z_i$'s which have non-zero coefficients, multiplies by the corresponding true simulated parameters in $\\delta_0$. Having simulated the data ourselves, an easy way to compute this is to simply calculate\n",
    "> $$\n",
    "\\hat{d}^* = z \\cdot \\delta_0\n",
    "$$\n",
    "> where $\\cdot$ is the dot product, written as `@` in numpy. In reality we cannot get this ideal instrument, because it would require regressing $d_i$ on all 500 variables with only 100 observations.  \n",
    ">\n",
    "> In a for loop over 1000 iterations, simulate new data, compute the ideal instrument $\\hat{d_i}$ and regress the second stage regression $y_i \\sim \\pi_0 + \\pi_1\\hat{d_i}$. Store the true $\\alpha_0$ and the estimate $\\hat{\\pi}_1$ in two lists. Finally draw a histogram of the differences $\\alpha_0 - \\hat{\\pi}_1$. How does your histogram look this time, is this expected?"
   ]
  },
  {
   "cell_type": "code",
   "execution_count": 11,
   "metadata": {},
   "outputs": [],
   "source": [
    "store3 = []\n",
    "store4 = []\n",
    "\n",
    "rep = 1000\n",
    "\n",
    "for r in range(rep):\n",
    "    aux, main = simulate()\n",
    "    d,z, Pi, gamma, nu = aux\n",
    "    y, X, delta, alpha, u = main\n",
    "    d_hat = z @ Pi\n",
    "    model = sm.OLS(y, sm.add_constant(d_hat))\n",
    "    result = model.fit()\n",
    "    store3.append(alpha)\n",
    "    store4.append(result.params[1])"
   ]
  },
  {
   "cell_type": "code",
   "execution_count": 12,
   "metadata": {},
   "outputs": [
    {
     "data": {
      "text/plain": [
       "<matplotlib.lines.Line2D at 0x2914cc6a630>"
      ]
     },
     "execution_count": 12,
     "metadata": {},
     "output_type": "execute_result"
    },
    {
     "data": {
      "image/png": "[encoded data removed]",
      "text/plain": [
       "<Figure size 432x288 with 1 Axes>"
      ]
     },
     "metadata": {
      "needs_background": "light"
     },
     "output_type": "display_data"
    }
   ],
   "source": [
    "sns.distplot([(a-b) for a,b in zip(store3, store4)])\n",
    "plt.axvline(0,color='red')"
   ]
  },
  {
   "cell_type": "markdown",
   "metadata": {},
   "source": [
    "> **Ex. 6.1.5:** The below class implements post-lasso. A two step procedure where first a lasso model is used to identify relevant parameters, and then OLS is used to estimate parameter values on the remaining variables. Study the code, and understand as well as possible what is going on. \n",
    ">\n",
    "> What is stored in `relevant_x`?\n",
    "> \n",
    "> Why is the `predict` method so complicated?"
   ]
  },
  {
   "cell_type": "code",
   "execution_count": 13,
   "metadata": {},
   "outputs": [],
   "source": [
    "from sklearn.linear_model import LassoCV, Lasso\n",
    "from sklearn.utils.testing import ignore_warnings\n",
    "from sklearn.exceptions import ConvergenceWarning"
   ]
  },
  {
   "cell_type": "code",
   "execution_count": 14,
   "metadata": {},
   "outputs": [],
   "source": [
    "class PostLasso:\n",
    "    def __init__(self, formula = None):\n",
    "        self.lasso_model = Lasso()\n",
    "        self.ols_model = None\n",
    "        self.relevant_x = None\n",
    "        self.subset_cols = None\n",
    "        self.coefs = None\n",
    "        self.formula = formula\n",
    "    \n",
    "    def __repr__(self):\n",
    "        return f'PostLasso({self.formula})'\n",
    "    \n",
    "    @ignore_warnings(category=ConvergenceWarning)\n",
    "    def fit(self, X, y, force_include_idx = None):\n",
    "        ''' Estimate a model using Post-Lasso\n",
    "        \n",
    "        X: X matrix (without intercept)\n",
    "        y: y vector\n",
    "        force_include_idx: column indexes that ALWAYS is\n",
    "            included in the OLS model, regardless of their\n",
    "            status in the lasso stage.\n",
    "        '''\n",
    "        self.lasso_model = self.lasso_model.fit(X,y)\n",
    "        self.coefs = np.insert(self.lasso_model.coef_, 0, self.lasso_model.intercept_)\n",
    "        self.subset_cols = np.where(self.coefs != 0)[0]\n",
    "        if force_include_idx is not None:\n",
    "            self.subset_cols = np.union1d(self.subset_cols, force_include_idx)\n",
    "        self.relevant_x = add_constant(X)[:,self.subset_cols]\n",
    "        self.ols_model = OLS(y, self.relevant_x).fit()\n",
    "        return self\n",
    "\n",
    "    def predict(self, X = None):\n",
    "        ''' Predict using a fitted post-lasso model.\n",
    "        '''\n",
    "        if X is None:\n",
    "            return self.ols_model.predict(self.relevant_x)\n",
    "        if X.shape == self.relevant_x.shape:\n",
    "            return self.ols_model.predict(X)\n",
    "        return self.ols_model.predict(X[:,self.subset_cols])"
   ]
  },
  {
   "cell_type": "markdown",
   "metadata": {},
   "source": [
    "> **Ex. 6.1.6:** In this problem we will try to run through the post-lasso steps required to obtain an estimate of $\\alpha_0$. Since we are doing this in python we will not be able to set the lasso hyperparameter optimally for this kind of post-selection usage. There is a R package, developed especially to handle inference after lasso-selection, which you should use in practise. \n",
    ">\n",
    "> For now, do the following steps 1000 times, storing the true $\\alpha_0$ and estimate $\\hat{\\alpha_0}$:\n",
    ">\n",
    "> * 0. Simulate a new dataset.\n",
    "> * 1. Run a post-lasso regression of d on x and z, $d_i \\sim x_i'\\gamma + z_i' \\delta$, forcing the inclusion of $x_i$ in the OLS stage.\n",
    "> * 2. Run the second stage regression $y_i \\sim \\hat{d}_i + x_i' \\beta$ to recover $\\hat{\\alpha_0}$.\n",
    ">\n",
    "> How does this histogram compare to the naive one? How does it compare to the ideal one?\n",
    ">\n",
    "> _Hint:_ We follow the description given on page 19 [here](https://cran.r-project.org/web/packages/hdm/vignettes/hdm.pdf)."
   ]
  },
  {
   "cell_type": "code",
   "execution_count": null,
   "metadata": {},
   "outputs": [],
   "source": [
    "store5 = []\n",
    "store6 = []\n",
    "\n",
    "# I have relied on the write up for this, but it seems to get stuck\n",
    "\n",
    "rep = 1000\n",
    "\n",
    "for r in range(rep):\n",
    "    aux, main = simulate()\n",
    "    d,z, Pi, gamma, nu = aux\n",
    "    y, X, delta, alpha, u = main\n",
    "    \n",
    "    \n",
    "    dxz = PostLasso('di ~ xi + zi')\n",
    "    dxz.fit(np.c_[X,z], d, force_include_idx = np.arange(X.shape[1]))\n",
    "    \n",
    "    x_dhat = np.c_[X, dxz.predict()]\n",
    "    stage_2 = sm.OLS(y, x_dhat).fit()\n",
    "    bhat = stage_2.params[-1]\n",
    "    store5.append(alpha)\n",
    "    store6.append(bhat)"
   ]
  },
  {
   "cell_type": "code",
   "execution_count": 15,
   "metadata": {},
   "outputs": [
    {
     "data": {
      "text/plain": [
       "<matplotlib.lines.Line2D at 0x2914cf67d30>"
      ]
     },
     "execution_count": 15,
     "metadata": {},
     "output_type": "execute_result"
    },
    {
     "data": {
      "image/png": "[encoded data removed]",
      "text/plain": [
       "<Figure size 432x288 with 1 Axes>"
      ]
     },
     "metadata": {
      "needs_background": "light"
     },
     "output_type": "display_data"
    }
   ],
   "source": [
    "sns.distplot([(a-b) for a,b in zip(store5, store6)])\n",
    "plt.axvline(0,color='red')"
   ]
  },
  {
   "cell_type": "code",
   "execution_count": null,
   "metadata": {},
   "outputs": [],
   "source": []
  }
 ],
 "metadata": {
  "kernelspec": {
   "display_name": "Python 3",
   "language": "python",
   "name": "python3"
  },
  "language_info": {
   "codemirror_mode": {
    "name": "ipython",
    "version": 3
   },
   "file_extension": ".py",
   "mimetype": "text/x-python",
   "name": "python",
   "nbconvert_exporter": "python",
   "pygments_lexer": "ipython3",
   "version": "3.7.3"
  }
 },
 "nbformat": 4,
 "nbformat_minor": 4
}
