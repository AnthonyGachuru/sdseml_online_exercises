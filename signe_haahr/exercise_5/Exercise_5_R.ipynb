{
 "cells": [
  {
   "cell_type": "markdown",
   "metadata": {},
   "source": [
    ">**Ex. 5.1.5:** Open up R and read the data you just saved into a dataframe (or work in rpy2). Install and load the two libraries `tidyverse` and `grf`.\n",
    ">\n",
    "> _Hint:_ to install the required packages. run this:\n",
    "> ```R\n",
    "> install.packages(\"tidyverse\")\n",
    "> install.packages(\"grf\")\n",
    "> ```"
   ]
  },
  {
   "cell_type": "code",
   "execution_count": 14,
   "metadata": {},
   "outputs": [],
   "source": [
    "df <- read.csv('C:\\\\Users\\\\sune-\\\\OneDrive - Københavns Universitet\\\\Økonomi\\\\10. semester\\\\SDS Econometrics and Machine Learning\\\\Exercises\\\\exercise_5_df.csv', row.names=1)"
   ]
  },
  {
   "cell_type": "code",
   "execution_count": 1,
   "metadata": {},
   "outputs": [
    {
     "name": "stdout",
     "output_type": "stream",
     "text": [
      "package 'tidyverse' successfully unpacked and MD5 sums checked\n",
      "\n",
      "The downloaded binary packages are in\n",
      "\tC:\\Users\\sune-\\AppData\\Local\\Temp\\Rtmpqcvc1z\\downloaded_packages\n",
      "package 'grf' successfully unpacked and MD5 sums checked\n"
     ]
    },
    {
     "name": "stderr",
     "output_type": "stream",
     "text": [
      "Warning message:\n",
      "\"cannot remove prior installation of package 'grf'\"Warning message in file.copy(savedcopy, lib, recursive = TRUE):\n",
      "\"problem copying C:\\Users\\sune-\\Anaconda3\\Lib\\R\\library\\00LOCK\\grf\\libs\\x64\\grf.dll to C:\\Users\\sune-\\Anaconda3\\Lib\\R\\library\\grf\\libs\\x64\\grf.dll: Permission denied\"Warning message:\n",
      "\"restored 'grf'\""
     ]
    },
    {
     "name": "stdout",
     "output_type": "stream",
     "text": [
      "\n",
      "The downloaded binary packages are in\n",
      "\tC:\\Users\\sune-\\AppData\\Local\\Temp\\Rtmpqcvc1z\\downloaded_packages\n"
     ]
    }
   ],
   "source": [
    "install.packages(\"tidyverse\")\n",
    "install.packages(\"grf\")"
   ]
  },
  {
   "cell_type": "markdown",
   "metadata": {},
   "source": [
    ">**Ex. 5.1.6:** Copy the following code into R to split your dataframe into two matrices, `X`, and `y`. Implement the exact same procedure to create a third matrix `W` which contains the treatment indicator (**Note** `T` is a reserved name in R, so name your third matrix `W`).\n",
    ">```R\n",
    ">X <- df %>%\n",
    "  select(X0, X1, X2, X3, X4, D) %>% \n",
    "  as.matrix()\n",
    ">\n",
    ">y <- df %>%\n",
    "  select(y) %>% \n",
    "  as.matrix()\n",
    ">```\n",
    "> Finally spend some time poking around the [GRF documentation](https://github.com/grf-labs/grf). See if you can figure out how to estimate a GRF model, once you have the three matrices you need (this is way simpler than you might expect)."
   ]
  },
  {
   "cell_type": "code",
   "execution_count": 36,
   "metadata": {},
   "outputs": [
    {
     "name": "stderr",
     "output_type": "stream",
     "text": [
      "Warning message:\n",
      "\"package 'dplyr' is in use and will not be installed\""
     ]
    }
   ],
   "source": [
    "# To be able to read %>%\n",
    "library(magrittr)\n",
    "\n",
    "# To be able to find select()\n",
    "install.packages(\"dplyr\")\n",
    "library(dplyr)\n",
    "\n",
    "# Code copied in from exercise text\n",
    "X <- df %>%\n",
    "  select(X0, X1, X2, X3, X4, D) %>% \n",
    "  as.matrix()\n",
    "\n",
    "y <- df %>%\n",
    "  select(y) %>% \n",
    "  as.matrix()\n",
    "\n",
    "# Make the T column numeric (0/1) instead of boolean (False/True)\n",
    "df$T <- as.integer(as.logical(df$T))\n",
    "\n",
    "W <- df %>%\n",
    "  select(T) %>%\n",
    "  as.matrix()\n"
   ]
  },
  {
   "cell_type": "markdown",
   "metadata": {},
   "source": [
    ">**Ex. 5.1.7:** Estimate a causal forest model using the GRF package, and store the result in a new variable `cf`. Then use the following line to create a dataframe of predicted treatment effects on the same data that you trained the model on. \n",
    ">```R\n",
    ">cf <- # Estimate a generalized RF model aimed at treatment effects.\n",
    ">tau <- predict(cf, X)\n",
    ">```\n",
    "> Once you have your individual treatment effects, run the following line, to save them in a csv file. \n",
    "> ```R\n",
    "> write.csv(tau, \"individual_treatment_effects.csv\")\n",
    "> ```"
   ]
  },
  {
   "cell_type": "markdown",
   "metadata": {},
   "source": [
    "**Answer:**\n",
    "\n",
    "Why do we not split the data into test and train??"
   ]
  },
  {
   "cell_type": "code",
   "execution_count": 49,
   "metadata": {},
   "outputs": [],
   "source": [
    "#library(grf)\n",
    "\n",
    "# Train a causal forest\n",
    "cf <- causal_forest(X, y, W)\n",
    "\n",
    "# Estimate causal effects\n",
    "tau <- predict(cf, X)$predictions\n",
    "\n",
    "# Save individual treatment effects as csv\n",
    "write.csv(tau, 'C:\\\\Users\\\\sune-\\\\OneDrive - Københavns Universitet\\\\Økonomi\\\\10. semester\\\\SDS Econometrics and Machine Learning\\\\Exercises\\\\exercise_5_tau.csv')"
   ]
  },
  {
   "cell_type": "markdown",
   "metadata": {},
   "source": [
    "**Code from the GRF documentation:**"
   ]
  },
  {
   "cell_type": "code",
   "execution_count": null,
   "metadata": {},
   "outputs": [],
   "source": [
    "# Train a causal forest.\n",
    "n = 2000; p = 10\n",
    "X = matrix(rnorm(n*p), n, p)\n",
    "W = rbinom(n, 1, 0.5)\n",
    "Y = pmax(X[,1], 0) * W + X[,2] + pmin(X[,3], 0) + rnorm(n)\n",
    "causal.forest = causal_forest(X, Y, W)\n",
    "\n",
    "# Estimate causal effects on new test data.\n",
    "X.test = matrix(0, 100, p)\n",
    "X.test[,1] = seq(-2, 2, length.out = 100)\n",
    "predictions = predict(causal.forest, X.test)$predictions\n",
    "\n",
    "# Estimate causal effects for the training data using out-of-bag prediction.\n",
    "oob.predictions = predict(causal.forest)$predictions"
   ]
  },
  {
   "cell_type": "code",
   "execution_count": null,
   "metadata": {},
   "outputs": [],
   "source": [
    "library(grf)\n",
    "\n",
    "# Generate data.\n",
    "n <- 2000\n",
    "p <- 10\n",
    "X <- matrix(rnorm(n * p), n, p)\n",
    "X.test <- matrix(0, 101, p)\n",
    "X.test[, 1] <- seq(-2, 2, length.out = 101)\n",
    "\n",
    "# Train a causal forest.\n",
    "W <- rbinom(n, 1, 0.4 + 0.2 * (X[, 1] > 0))\n",
    "Y <- pmax(X[, 1], 0) * W + X[, 2] + pmin(X[, 3], 0) + rnorm(n)\n",
    "tau.forest <- causal_forest(X, Y, W)\n",
    "\n",
    "# Estimate treatment effects for the training data using out-of-bag prediction.\n",
    "tau.hat.oob <- predict(tau.forest)\n",
    "hist(tau.hat.oob$predictions)\n",
    "\n",
    "# Estimate treatment effects for the test sample.\n",
    "tau.hat <- predict(tau.forest, X.test)\n",
    "plot(X.test[, 1], tau.hat$predictions, ylim = range(tau.hat$predictions, 0, 2), xlab = \"x\", ylab = \"tau\", type = \"l\")\n",
    "lines(X.test[, 1], pmax(0, X.test[, 1]), col = 2, lty = 2)\n",
    "\n",
    "# Estimate the conditional average treatment effect on the full sample (CATE).\n",
    "average_treatment_effect(tau.forest, target.sample = \"all\")\n",
    "\n",
    "# Estimate the conditional average treatment effect on the treated sample (CATT).\n",
    "# Here, we don't expect much difference between the CATE and the CATT, since\n",
    "# treatment assignment was randomized.\n",
    "average_treatment_effect(tau.forest, target.sample = \"treated\")\n",
    "\n",
    "# Add confidence intervals for heterogeneous treatment effects; growing more trees is now recommended.\n",
    "tau.forest <- causal_forest(X, Y, W, num.trees = 4000)\n",
    "tau.hat <- predict(tau.forest, X.test, estimate.variance = TRUE)\n",
    "sigma.hat <- sqrt(tau.hat$variance.estimates)\n",
    "plot(X.test[, 1], tau.hat$predictions, ylim = range(tau.hat$predictions + 1.96 * sigma.hat, tau.hat$predictions - 1.96 * sigma.hat, 0, 2), xlab = \"x\", ylab = \"tau\", type = \"l\")\n",
    "lines(X.test[, 1], tau.hat$predictions + 1.96 * sigma.hat, col = 1, lty = 2)\n",
    "lines(X.test[, 1], tau.hat$predictions - 1.96 * sigma.hat, col = 1, lty = 2)\n",
    "lines(X.test[, 1], pmax(0, X.test[, 1]), col = 2, lty = 1)\n",
    "\n",
    "# In some examples, pre-fitting models for Y and W separately may\n",
    "# be helpful (e.g., if different models use different covariates).\n",
    "# In some applications, one may even want to get Y.hat and W.hat\n",
    "# using a completely different method (e.g., boosting).\n",
    "\n",
    "# Generate new data.\n",
    "n <- 4000\n",
    "p <- 20\n",
    "X <- matrix(rnorm(n * p), n, p)\n",
    "TAU <- 1 / (1 + exp(-X[, 3]))\n",
    "W <- rbinom(n, 1, 1 / (1 + exp(-X[, 1] - X[, 2])))\n",
    "Y <- pmax(X[, 2] + X[, 3], 0) + rowMeans(X[, 4:6]) / 2 + W * TAU + rnorm(n)\n",
    "\n",
    "forest.W <- regression_forest(X, W, tune.parameters = \"all\")\n",
    "W.hat <- predict(forest.W)$predictions\n",
    "\n",
    "forest.Y <- regression_forest(X, Y, tune.parameters = \"all\")\n",
    "Y.hat <- predict(forest.Y)$predictions\n",
    "\n",
    "forest.Y.varimp <- variable_importance(forest.Y)\n",
    "\n",
    "# Note: Forests may have a hard time when trained on very few variables\n",
    "# (e.g., ncol(X) = 1, 2, or 3). We recommend not being too aggressive\n",
    "# in selection.\n",
    "selected.vars <- which(forest.Y.varimp / mean(forest.Y.varimp) > 0.2)\n",
    "\n",
    "tau.forest <- causal_forest(X[, selected.vars], Y, W,\n",
    "                            W.hat = W.hat, Y.hat = Y.hat,\n",
    "                            tune.parameters = \"all\")\n",
    "\n",
    "# Check whether causal forest predictions are well calibrated.\n",
    "test_calibration(tau.forest)"
   ]
  },
  {
   "cell_type": "markdown",
   "metadata": {},
   "source": [
    ">**Ex. 5.1.8:** This concludes our venture into R. Now load the treatment effects into a pandas dataframe, and plot a scatterplot of the estimated individual treatment effects against the simulated \"true\" ITE's `Tau` that you produced in the beginning of this exercise set."
   ]
  },
  {
   "cell_type": "code",
   "execution_count": null,
   "metadata": {},
   "outputs": [],
   "source": []
  }
 ],
 "metadata": {
  "kernelspec": {
   "display_name": "R",
   "language": "R",
   "name": "ir"
  },
  "language_info": {
   "codemirror_mode": "r",
   "file_extension": ".r",
   "mimetype": "text/x-r-source",
   "name": "R",
   "pygments_lexer": "r",
   "version": "3.6.1"
  }
 },
 "nbformat": 4,
 "nbformat_minor": 2
}
