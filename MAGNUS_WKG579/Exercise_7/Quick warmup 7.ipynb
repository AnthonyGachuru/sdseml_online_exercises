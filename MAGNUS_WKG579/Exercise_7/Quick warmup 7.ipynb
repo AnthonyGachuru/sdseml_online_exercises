{
 "cells": [
  {
   "cell_type": "markdown",
   "metadata": {},
   "source": [
    "# Quick Warmup 7"
   ]
  },
  {
   "cell_type": "code",
   "execution_count": 322,
   "metadata": {},
   "outputs": [],
   "source": [
    "# define decorator \n",
    "\n",
    "def retry(n):\n",
    "    \n",
    "    def try_n(func):\n",
    "        \n",
    "        def wrapper():\n",
    "            \n",
    "            # start counting\n",
    "            \n",
    "            i = 0\n",
    "            \n",
    "            # while not max \n",
    "            \n",
    "            while i < n:\n",
    "                \n",
    "                # increment\n",
    "                \n",
    "                i += 1\n",
    "                \n",
    "                # try to call function\n",
    "                \n",
    "                try: \n",
    "                    \n",
    "                    call = func()\n",
    "                    \n",
    "                    return call\n",
    "            \n",
    "                # if it didn't work, catch exception\n",
    "                \n",
    "                except Exception as err: \n",
    "                    \n",
    "                    # if max, return error\n",
    "                    \n",
    "                    if i == n:\n",
    "                        \n",
    "                        return err\n",
    "                    \n",
    "                    # else continue\n",
    "                    \n",
    "                    else: \n",
    "                        continue\n",
    "                \n",
    "        return wrapper\n",
    "    \n",
    "    return try_n"
   ]
  },
  {
   "cell_type": "code",
   "execution_count": 348,
   "metadata": {},
   "outputs": [],
   "source": [
    "from random import uniform\n",
    "\n",
    "# decorate\n",
    "\n",
    "@retry(n=10)\n",
    "\n",
    "def this_might_fail():\n",
    "    \n",
    "    c = uniform(0,1) > 0.8\n",
    "    \n",
    "    if c: return 'Success'\n",
    "    \n",
    "    raise ValueError('c too small')"
   ]
  }
 ],
 "metadata": {
  "kernelspec": {
   "display_name": "Python 3",
   "language": "python",
   "name": "python3"
  },
  "language_info": {
   "codemirror_mode": {
    "name": "ipython",
    "version": 3
   },
   "file_extension": ".py",
   "mimetype": "text/x-python",
   "name": "python",
   "nbconvert_exporter": "python",
   "pygments_lexer": "ipython3",
   "version": "3.7.3"
  }
 },
 "nbformat": 4,
 "nbformat_minor": 2
}
