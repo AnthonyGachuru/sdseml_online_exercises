{
 "cells": [
  {
   "cell_type": "markdown",
   "metadata": {},
   "source": [
    "Solution"
   ]
  },
  {
   "cell_type": "code",
   "execution_count": 1,
   "metadata": {},
   "outputs": [],
   "source": [
    "def retry(n): \n",
    "    def _outer(f): \n",
    "        def _wrapped(*args, **kwargs): \n",
    "            for i in range(n): \n",
    "                try:\n",
    "                    f()\n",
    "                    return i+1\n",
    "                except: \n",
    "                    pass \n",
    "            raise ValueError(f'No luck in {n} tries') \n",
    "        return _wrapped \n",
    "    return _outer "
   ]
  },
  {
   "cell_type": "code",
   "execution_count": 2,
   "metadata": {},
   "outputs": [],
   "source": [
    "from random import uniform, seed\n",
    "\n",
    "@retry(n=100)\n",
    "def this_might_fail(*args):\n",
    "    c=uniform(0,1) > 0.8\n",
    "    if c: return 'Sucess'\n",
    "    raise ValueError('c too small')\n",
    "    return this_might_fail"
   ]
  },
  {
   "cell_type": "code",
   "execution_count": 3,
   "metadata": {},
   "outputs": [
    {
     "data": {
      "text/plain": [
       "6"
      ]
     },
     "execution_count": 3,
     "metadata": {},
     "output_type": "execute_result"
    }
   ],
   "source": [
    "seed(1337)\n",
    "this_might_fail(1) # Reports number of attempts before success"
   ]
  },
  {
   "cell_type": "code",
   "execution_count": null,
   "metadata": {},
   "outputs": [],
   "source": []
  }
 ],
 "metadata": {
  "kernelspec": {
   "display_name": "Python 3",
   "language": "python",
   "name": "python3"
  },
  "language_info": {
   "codemirror_mode": {
    "name": "ipython",
    "version": 3
   },
   "file_extension": ".py",
   "mimetype": "text/x-python",
   "name": "python",
   "nbconvert_exporter": "python",
   "pygments_lexer": "ipython3",
   "version": "3.7.6"
  }
 },
 "nbformat": 4,
 "nbformat_minor": 4
}
