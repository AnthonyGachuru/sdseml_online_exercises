{
 "cells": [
  {
   "cell_type": "markdown",
   "metadata": {},
   "source": [
    "Q: Write a function that adds an arbitrary n numbers together. Your function should obey the signature\n",
    "add(1,1) >>> 2\n",
    "add(1,1,1,1) >>> 4\n",
    "add(1,1,1,1,1, 1,1,1,1,1, 1,1,1,1,1, 1,1,1,1,1, 1,1,1,1,1, 1,1,1,1,1) >>> 30\n",
    "\n",
    "Bonus: write a function that greets people with custom greetings, \n",
    "i.e.\n",
    "greet(hello='kristian') >>> 'hello kristian!'\n",
    "greet(hello='kristian', hi='peter') >>> 'hello kristian and hi peter!'"
   ]
  },
  {
   "cell_type": "code",
   "execution_count": 3,
   "metadata": {},
   "outputs": [
    {
     "data": {
      "text/plain": [
       "16"
      ]
     },
     "execution_count": 3,
     "metadata": {},
     "output_type": "execute_result"
    }
   ],
   "source": [
    "#warm up\n",
    "def add(*args):\n",
    "    return sum(args)\n",
    "\n",
    "add(3,5,7,1)"
   ]
  },
  {
   "cell_type": "code",
   "execution_count": 12,
   "metadata": {},
   "outputs": [
    {
     "name": "stdout",
     "output_type": "stream",
     "text": [
      "halløj mikkel and hej torsten?\n"
     ]
    }
   ],
   "source": [
    "#bonus\n",
    "def hej(**navne):\n",
    "    text = ' and '.join([f'{a} {b}' for a,b in navne.items()])\n",
    "    return (text + '?')\n",
    "\n",
    "print(hej(halløj='mikkel', hej='torsten'))"
   ]
  },
  {
   "cell_type": "code",
   "execution_count": null,
   "metadata": {},
   "outputs": [],
   "source": []
  }
 ],
 "metadata": {
  "kernelspec": {
   "display_name": "Python 3",
   "language": "python",
   "name": "python3"
  },
  "language_info": {
   "codemirror_mode": {
    "name": "ipython",
    "version": 3
   },
   "file_extension": ".py",
   "mimetype": "text/x-python",
   "name": "python",
   "nbconvert_exporter": "python",
   "pygments_lexer": "ipython3",
   "version": "3.7.7"
  }
 },
 "nbformat": 4,
 "nbformat_minor": 4
}
