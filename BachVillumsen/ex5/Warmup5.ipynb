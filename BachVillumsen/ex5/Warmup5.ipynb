{
 "cells": [
  {
   "cell_type": "markdown",
   "metadata": {},
   "source": [
    "Q: Implement a class Clock that mimicks a n-hour clock. Assume that all clocks start at hour 0. Implement a .tick() method that ticks the clock forward one hour. The clock should also store the number of cycles it has run through since initialization.\n",
    "Implement the __eq__ method, to check if the same total amount of hours have elapsed on two diﬀerent clocks."
   ]
  },
  {
   "cell_type": "code",
   "execution_count": 43,
   "metadata": {},
   "outputs": [],
   "source": [
    "class Clock:\n",
    "    def __init__(self, hour):\n",
    "        self.cycles = 0\n",
    "        self.t = 0\n",
    "        self.hour = hour\n",
    "    \n",
    "    def tick(self):\n",
    "        self.t = (self.t + 1) % self.hour\n",
    "        if self.t == 0:\n",
    "            self.cycles += 1\n",
    "    \n",
    "    def __eq__(self, other):\n",
    "        own = (self.t + self.hour*self.cycles)\n",
    "        other = (other.t + self.hour*other.cycles)\n",
    "        return own == other\n",
    "    \n",
    "    def __rep__(self):\n",
    "        return 'Clock(%s) the time is %s' % (self.hour, self.t)"
   ]
  },
  {
   "cell_type": "code",
   "execution_count": 44,
   "metadata": {},
   "outputs": [
    {
     "data": {
      "text/plain": [
       "<__main__.Clock at 0x216319ec548>"
      ]
     },
     "execution_count": 44,
     "metadata": {},
     "output_type": "execute_result"
    }
   ],
   "source": [
    "Clock(0)"
   ]
  },
  {
   "cell_type": "code",
   "execution_count": 45,
   "metadata": {},
   "outputs": [
    {
     "data": {
      "text/plain": [
       "<__main__.Clock at 0x216319b22c8>"
      ]
     },
     "execution_count": 45,
     "metadata": {},
     "output_type": "execute_result"
    }
   ],
   "source": [
    "time"
   ]
  },
  {
   "cell_type": "code",
   "execution_count": null,
   "metadata": {},
   "outputs": [],
   "source": []
  },
  {
   "cell_type": "code",
   "execution_count": null,
   "metadata": {},
   "outputs": [],
   "source": []
  }
 ],
 "metadata": {
  "kernelspec": {
   "display_name": "Python 3",
   "language": "python",
   "name": "python3"
  },
  "language_info": {
   "codemirror_mode": {
    "name": "ipython",
    "version": 3
   },
   "file_extension": ".py",
   "mimetype": "text/x-python",
   "name": "python",
   "nbconvert_exporter": "python",
   "pygments_lexer": "ipython3",
   "version": "3.7.7"
  }
 },
 "nbformat": 4,
 "nbformat_minor": 4
}
